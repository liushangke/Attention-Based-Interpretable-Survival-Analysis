{
 "cells": [
  {
   "cell_type": "markdown",
   "metadata": {
    "id": "QsNSqdFeOkBz"
   },
   "source": [
    "### Installing packages ###"
   ]
  },
  {
   "cell_type": "code",
   "execution_count": 1,
   "metadata": {
    "colab": {
     "base_uri": "https://localhost:8080/",
     "height": 419
    },
    "id": "SVQf74uYOq9d",
    "outputId": "937c4e65-e481-4a3b-f1f4-bb0ab9b012c6"
   },
   "outputs": [],
   "source": [
    "import numpy as np\n",
    "import os\n",
    "import pandas as pd\n",
    "import matplotlib.pyplot as plt\n",
    "import sys\n",
    "\n",
    "import tensorflow as tf\n",
    "from tensorflow.keras.layers import Input, Dense, Dropout, GlobalAveragePooling1D\n",
    "from tensorflow.keras.models import Model\n",
    "from sklearn.model_selection import KFold\n",
    "from sklearn.model_selection import train_test_split\n",
    "import plotly.graph_objects as go\n",
    "import plotly.subplots as sp\n",
    "\n",
    "import survivalnet2\n",
    "from survivalnet2.data.labels import stack_labels, unstack_labels\n",
    "from survivalnet2.losses import efron, cox\n",
    "from survivalnet2.metrics.concordance import HarrellsC\n",
    "from survivalnet2.visualization import km_plot\n",
    "\n",
    "# Set random seeds for reproducibility\n",
    "np.random.seed(51)\n",
    "tf.random.set_seed(51)"
   ]
  },
  {
   "cell_type": "markdown",
   "metadata": {
    "id": "wYu-N9uWtiSC"
   },
   "source": [
    "### Data preprocessing ###"
   ]
  },
  {
   "cell_type": "code",
   "execution_count": 2,
   "metadata": {
    "id": "fztuX1s9tpAa"
   },
   "outputs": [],
   "source": [
    "def binarize_columns(df):\n",
    "    # binarizr region identifier as 0 or 1\n",
    "    df[df.columns[0]] = df.iloc[:, 0].apply(lambda x: 1 if x == 'TUMOR' else 0)\n",
    "    return df\n",
    "\n",
    "def compute_median_values(data_files):\n",
    "    # Read in first file to get the columns\n",
    "    sample = pd.read_csv(data_files[0])\n",
    "    num_cols = sample.shape[1] - 2  # Exclude the first two columns\n",
    "\n",
    "    # Initialize array to store values for all files\n",
    "    values = np.empty((0, num_cols))\n",
    "\n",
    "    # Iterate over all files and extract values\n",
    "    for data_file in data_files:\n",
    "        # Read in data and skip first row (assumed to be header)\n",
    "        df = pd.read_csv(data_file, skiprows=[0], usecols=range(2, num_cols+2))\n",
    "        df = binarize_columns(df)\n",
    "        values = np.concatenate((values, df.values), axis=0)\n",
    "    \n",
    "    # Compute median values for each column\n",
    "    median_values = np.median(values, axis=0)\n",
    "    median_dict = {sample.columns[i+2]: median_values[i] for i in range(num_cols)}\n",
    "    return median_dict\n",
    "\n",
    "\n",
    "def pad_missing_values(df, median_dict):\n",
    "    # Replace missing values with median value for each column\n",
    "    for col in df.columns:\n",
    "        median_value = median_dict[col]\n",
    "        df[col].fillna(median_value, inplace=True)\n",
    "    return df\n",
    "\n",
    "\n",
    "def min_max_normalize_features(df):\n",
    "\n",
    "    for col in df.columns:\n",
    "        min_value = df[col].min()\n",
    "        max_value = df[col].max()\n",
    "        \n",
    "        # Check if values are not already in the range [0, 1]\n",
    "        if (min_value < 0 or max_value > 1):\n",
    "            df[col] = (df[col] - min_value) / (max_value - min_value)\n",
    "        \n",
    "    return df\n",
    "\n",
    "def create_label_dict(label_dir):\n",
    "    df = pd.read_csv(label_dir)\n",
    "    column_names = df.columns  # Get the column names from the first row\n",
    "    label_dict = {}\n",
    "    for i in range(1, len(df)):\n",
    "        name = df.iloc[i, 0]  # Get the sample name from the first column of the current row\n",
    "        time = df.iloc[i, column_names.get_loc('ClinicalFeats.Survival.BCSS.YearsFromDx')]  # Get the time data from the 'ClinicalFeats.Survival.BCSS.YearsFromDx' column\n",
    "        event = df.iloc[i, column_names.get_loc('ClinicalFeats.Survival.BCSS')]  # Get the event data from the 'ClinicalFeats.Survival.BCSS' column\n",
    "        label_dict[name] = (time, event)\n",
    "    return label_dict"
   ]
  },
  {
   "cell_type": "markdown",
   "metadata": {
    "id": "tcVAoYqxOtRa"
   },
   "source": [
    "### Parameters definition ###"
   ]
  },
  {
   "cell_type": "code",
   "execution_count": 3,
   "metadata": {
    "id": "9q-JFZRNO39Q"
   },
   "outputs": [
    {
     "name": "stdout",
     "output_type": "stream",
     "text": [
      "Dimensionality of each feature vector is: 49\n",
      "Number of samples with missing label data: 54\n"
     ]
    }
   ],
   "source": [
    "# define dimensionality\n",
    "D = 49\n",
    "print(f\"Dimensionality of each feature vector is: {D}\")\n",
    "\n",
    "# Define the batch size you want to use\n",
    "batch_size = 64\n",
    "\n",
    "\n",
    "data_dir = '/Users/shangke/Desktop/pathology/perSlideRegionFeatures/CPSII_40X'\n",
    "label_dir = '/Users/shangke/Desktop/pathology/FusedData_CPSII_40X.csv'\n",
    "csv_names = os.listdir(data_dir)\n",
    "null_count = 0\n",
    "label_dict = create_label_dict(label_dir)\n",
    "valid_csv_names = []\n",
    "\n",
    "for name in csv_names:\n",
    "    if name.rstrip('.csv') in list(label_dict.keys()):\n",
    "        valid_csv_names.append(name)\n",
    "\n",
    "    else:\n",
    "        null_count += 1\n",
    "\n",
    "data_files = [os.path.join(data_dir, str(csv_name)) for csv_name in valid_csv_names]\n",
    "\n",
    "print(f\"Number of samples with missing label data: {null_count}\")\n"
   ]
  },
  {
   "cell_type": "markdown",
   "metadata": {
    "id": "l4zu4JnEPAdg"
   },
   "source": [
    "### Generate dataset ###"
   ]
  },
  {
   "cell_type": "code",
   "execution_count": 15,
   "metadata": {
    "id": "E3GjSRJvPIkM"
   },
   "outputs": [
    {
     "name": "stdout",
     "output_type": "stream",
     "text": [
      "Number of samples: 1654\n",
      "Number of empty data files: 0\n"
     ]
    }
   ],
   "source": [
    "def read_data(data_files, label_dict):\n",
    "    \"\"\"\n",
    "    Reads in the data files, binarizes the columns, pads missing values, and normalizes the features.\n",
    "\n",
    "    Args:\n",
    "        data_files (list): List of file paths to the data files.\n",
    "        label_dict (dict): Dictionary mapping file names to (time, event) tuples.\n",
    "\n",
    "    Returns:\n",
    "        A tuple containing:\n",
    "            - rows_tensor (tf.RaggedTensor): A ragged tensor containing the feature vectors for each sample.\n",
    "            - labels_tensor (tuple): A tuple of two tensors, containing the time and event labels for each sample.\n",
    "    \"\"\"\n",
    "    rows_list = []\n",
    "    time_list = []\n",
    "    event_list = []\n",
    "    empty_count = 0\n",
    "\n",
    "    # Calculate median values for each feature across all data files\n",
    "    median_values = compute_median_values(data_files)\n",
    "\n",
    "    for data_file in data_files:\n",
    "        # Get the name of the file without the extension\n",
    "        name = os.path.splitext(os.path.basename(data_file))[0]\n",
    "\n",
    "        # Skip the file if it is not in the label dictionary\n",
    "        if name not in label_dict:\n",
    "            empty_count += 1\n",
    "            continue\n",
    "\n",
    "        # Read in the data file\n",
    "        df = pd.read_csv(data_file)\n",
    "        \n",
    "\n",
    "        # Skip the file if it has no rows\n",
    "        if df.shape[0] < 1:\n",
    "            empty_count += 1\n",
    "            print(name)\n",
    "            continue\n",
    "\n",
    "        # Binarize the columns and pad missing values\n",
    "        df = df.iloc[:, 2:]  # Drop the first two columns\n",
    "        df = binarize_columns(df)\n",
    "        df = pad_missing_values(df, median_values)\n",
    "\n",
    "        # Normalize the features\n",
    "        df = min_max_normalize_features(df)\n",
    "    \n",
    "        # Add the feature vector and labels to the lists\n",
    "        rows_list.append(df.values)\n",
    "        time, event = label_dict[name]\n",
    "        time_list.append(time)\n",
    "        event_list.append(event)\n",
    "    \n",
    "    # Convert the lists to tensors\n",
    "    rows_tensor = tf.ragged.constant(rows_list, ragged_rank=1, dtype=tf.float32)\n",
    "    labels_tensor = stack_labels(tf.convert_to_tensor(time_list, dtype=tf.float32),\n",
    "                                 tf.convert_to_tensor(event_list, dtype=tf.float32))\n",
    "\n",
    "    print(f\"Number of samples: {len(rows_list)}\")\n",
    "    print(f\"Number of empty data files: {empty_count}\")\n",
    "\n",
    "    return rows_tensor, labels_tensor\n",
    "\n",
    "data, labels = read_data(data_files, label_dict)\n"
   ]
  },
  {
   "cell_type": "markdown",
   "metadata": {},
   "source": [
    "### Remove subjects with persistent NaNs ###\n",
    "\n",
    "Some NaNs may remain for subjects that have a single region that also contains NaN features (median imputation doesn't work in this case)."
   ]
  },
  {
   "cell_type": "code",
   "execution_count": 16,
   "metadata": {},
   "outputs": [],
   "source": [
    "indices = []\n",
    "for i, subject in enumerate(data):\n",
    "    if not np.sum(np.isnan(subject)):\n",
    "        indices.append(i)\n",
    "data = tf.gather(data, np.array(indices), axis=0)\n",
    "labels = tf.gather(labels, np.array(indices), axis=0)"
   ]
  },
  {
   "cell_type": "markdown",
   "metadata": {
    "id": "0MnSXC5WP70r"
   },
   "source": [
    "### Attention model architecture ###"
   ]
  },
  {
   "cell_type": "code",
   "execution_count": 29,
   "metadata": {
    "id": "ymAdL_89P_9J"
   },
   "outputs": [
    {
     "name": "stdout",
     "output_type": "stream",
     "text": [
      "The input shape of model is: (None, None, 49)\n",
      "The output shape of model is: [(1, 1), (None, None, 1)]\n"
     ]
    }
   ],
   "source": [
    "def build_model(D):\n",
    "    \n",
    "    # Input layer\n",
    "    inputs = tf.keras.layers.Input(shape=(None, D), ragged=True)\n",
    "\n",
    "    # Attention weights\n",
    "    att = tf.keras.layers.Dense(units=1, activation=\"relu\", name=\"att\")(inputs)\n",
    "\n",
    "    # Normalize weights to sum to 1\n",
    "    totals = tf.reduce_sum(att, axis=1, name=\"att_total\")\n",
    "    normalized = tf.math.divide_no_nan(att, tf.expand_dims(totals, axis=1), name=\"normalized\")\n",
    "\n",
    "    # Use attention weights to calculate weighted sum of regions\n",
    "    pooled = tf.linalg.matmul(normalized, inputs, transpose_a=True)\n",
    "\n",
    "    # Remove the ragged dimension and reshape pooled tensor\n",
    "    pooled = tf.squeeze(pooled.to_tensor(), axis=1)\n",
    "\n",
    "    # Apply a linear layer to the pooled vector to generate the time and event risk values\n",
    "    risk = tf.keras.layers.Dense(units=1, activation=\"linear\", name=\"risk\")(pooled)\n",
    "\n",
    "    # Build the model\n",
    "    model = tf.keras.models.Model(inputs=inputs, outputs=[risk, normalized])\n",
    "\n",
    "    print(f\"The input shape of model is: {model.input_shape}\")\n",
    "    print(f\"The output shape of model is: {model.output_shape}\")\n",
    "\n",
    "    return model\n",
    "\n",
    "# Create and compile the model\n",
    "model = build_model(D)\n",
    "model.compile(\n",
    "    loss={\"risk\": efron},\n",
    "    metrics={\"risk\": HarrellsC()},\n",
    "    optimizer=tf.keras.optimizers.Adam(learning_rate=1e-4),\n",
    ")"
   ]
  },
  {
   "attachments": {},
   "cell_type": "markdown",
   "metadata": {},
   "source": [
    "###  Data batching ###"
   ]
  },
  {
   "cell_type": "code",
   "execution_count": 26,
   "metadata": {},
   "outputs": [],
   "source": [
    "def create_datasets(data, labels, indices, shuffle=False):\n",
    "    ds_data = tf.data.Dataset.from_tensor_slices(tf.gather(data, indices, axis=0))\n",
    "    ds_labels = tf.data.Dataset.from_tensor_slices(tf.gather(labels, indices, axis=0))\n",
    "    ds = tf.data.Dataset.zip((ds_data, ds_labels))\n",
    "    \n",
    "    if shuffle:\n",
    "        buffer_size = len(indices)\n",
    "        ds = ds.shuffle(buffer_size)\n",
    "    \n",
    "    ds = ds.batch(64)\n",
    "\n",
    "    for i, batch in enumerate(ds):\n",
    "        _, l = batch\n",
    "        events = sum(l[:,1])\n",
    "        if events < 1.:\n",
    "            print(f\"Warning, 0 events in batch {i}.\")\n",
    "            \n",
    "    return ds\n",
    "\n",
    "\n",
    "def perform_k_fold_cross_validation(data, labels, model, n_splits=5):\n",
    "    kf = KFold(n_splits=n_splits)\n",
    "\n",
    "    # Train and validate the model for each fold\n",
    "    for fold, (train_index, val_index) in enumerate(kf.split(data), start=1):\n",
    "        print(f\"\\nTraining fold {fold}\")\n",
    "\n",
    "        # Create training and validation datasets\n",
    "        ds_train = create_datasets(data, labels, train_index, shuffle=True)\n",
    "        ds_val = create_datasets(data, labels, val_index)\n",
    "\n",
    "        # Train the model for the current fold\n",
    "        history = model.fit(\n",
    "            ds_train,\n",
    "            epochs=100,\n",
    "            verbose=1,\n",
    "            shuffle=True,\n",
    "            validation_data=ds_val,\n",
    "            callbacks=[tf.keras.callbacks.ReduceLROnPlateau(patience=5, verbose=1)],\n",
    "        )\n",
    "\n",
    "        # Plot training metrics for the current fold\n",
    "        plot_training_metrics(history, fold)\n",
    "\n",
    "        # Print validation results for the current fold\n",
    "        val_loss, val_harrells_c = history.history['val_risk_loss'][-1], history.history['val_risk_harrellsc'][-1]\n",
    "        print(f\"Fold {fold} validation results - Loss: {val_loss:.4f}, Harrell's C: {val_harrells_c:.4f}\")\n",
    "\n",
    "\n",
    "def plot_training_metrics(history, fold):\n",
    "    epochs = list(range(1, len(history.history['risk_loss']) + 1))\n",
    "\n",
    "    # Create subplots\n",
    "    fig = sp.make_subplots(rows=1, cols=2, subplot_titles=(\"Loss\", \"Harrell's C\"))\n",
    "\n",
    "    # Create a trace for training loss\n",
    "    trace_train_loss = go.Scatter(x=epochs,\n",
    "                                  y=history.history['risk_loss'],\n",
    "                                  mode='lines',\n",
    "                                  name='Train Loss')\n",
    "\n",
    "    # Create a trace for validation loss\n",
    "    trace_val_loss = go.Scatter(x=epochs,\n",
    "                                y=history.history['val_risk_loss'],\n",
    "                                mode='lines',\n",
    "                                name='Validation Loss')\n",
    "\n",
    "    # Add loss traces to the subplots\n",
    "    fig.add_trace(trace_train_loss, row=1, col=1)\n",
    "    fig.add_trace(trace_val_loss, row=1, col=1)\n",
    "\n",
    "    # Create a trace for training Harrell's C\n",
    "    trace_train_harrells_c = go.Scatter(x=epochs,\n",
    "                                        y=history.history['risk_harrellsc'],\n",
    "                                        mode='lines',\n",
    "                                        name=\"Train Harrell's C\")\n",
    "\n",
    "    # Create a trace for validation Harrell's C\n",
    "    trace_val_harrells_c = go.Scatter(x=epochs,\n",
    "                                      y=history.history['val_risk_harrellsc'],\n",
    "                                      mode='lines',\n",
    "                                      name=\"Validation Harrell's C\")\n",
    "\n",
    "    # Add Harrell's C traces to the subplots\n",
    "    fig.add_trace(trace_train_harrells_c, row=1, col=2)\n",
    "    fig.add_trace(trace_val_harrells_c, row=1, col=2)\n",
    "\n",
    "    # Update xaxis and yaxis titles\n",
    "    fig.update_xaxes(title_text='Epoch', row=1, col=1)\n",
    "    fig.update_yaxes(title_text='Loss', row=1, col=1)\n",
    "    fig.update_xaxes(title_text='Epoch', row=1, col=2)\n",
    "    fig.update_yaxes(title_text=\"Harrell's C\", row=1, col=2)\n",
    "\n",
    "    # Update the layout for the plot\n",
    "    fig.update_layout(title=f'Fold {fold} Training Metrics')\n",
    "\n",
    "    # Show the plot\n",
    "    fig.show()\n",
    "\n"
   ]
  },
  {
   "attachments": {},
   "cell_type": "markdown",
   "metadata": {},
   "source": [
    "### Visualization ###"
   ]
  },
  {
   "cell_type": "code",
   "execution_count": 30,
   "metadata": {},
   "outputs": [
    {
     "name": "stdout",
     "output_type": "stream",
     "text": [
      "\n",
      "Training fold 1\n",
      "Epoch 1/100\n"
     ]
    },
    {
     "name": "stderr",
     "output_type": "stream",
     "text": [
      "/opt/anaconda3/envs/mil/lib/python3.8/site-packages/tensorflow/python/framework/indexed_slices.py:448: UserWarning:\n",
      "\n",
      "Converting sparse IndexedSlices(IndexedSlices(indices=Tensor(\"gradient_tape/model_4/input.to_tensor_4/RaggedToTensor/boolean_mask_1/GatherV2:0\", shape=(None,), dtype=int32), values=Tensor(\"gradient_tape/model_4/input.to_tensor_4/RaggedToTensor/boolean_mask/GatherV2:0\", shape=(None, 49), dtype=float32), dense_shape=Tensor(\"gradient_tape/model_4/input.to_tensor_4/RaggedToTensor/Shape:0\", shape=(2,), dtype=int32))) to a dense Tensor of unknown shape. This may consume a large amount of memory.\n",
      "\n",
      "/opt/anaconda3/envs/mil/lib/python3.8/site-packages/tensorflow/python/framework/indexed_slices.py:448: UserWarning:\n",
      "\n",
      "Converting sparse IndexedSlices(IndexedSlices(indices=Tensor(\"gradient_tape/model_4/tf.math.divide_no_nan_4/RaggedTile/Reshape_3:0\", shape=(None,), dtype=int64), values=Tensor(\"gradient_tape/model_4/tf.math.divide_no_nan_4/RaggedTile/Reshape_2:0\", shape=(None, 1), dtype=float32), dense_shape=Tensor(\"gradient_tape/model_4/tf.math.divide_no_nan_4/RaggedTile/Cast:0\", shape=(2,), dtype=int32))) to a dense Tensor of unknown shape. This may consume a large amount of memory.\n",
      "\n"
     ]
    },
    {
     "name": "stdout",
     "output_type": "stream",
     "text": [
      "17/17 [==============================] - 9s 129ms/step - loss: 26.4836 - risk_loss: 26.4836 - risk_harrellsc: 0.5978 - val_loss: 19.5110 - val_risk_loss: 19.5110 - val_risk_harrellsc: 0.5588 - lr: 1.0000e-04\n",
      "Epoch 2/100\n",
      "17/17 [==============================] - 0s 19ms/step - loss: 26.5190 - risk_loss: 26.5190 - risk_harrellsc: 0.5918 - val_loss: 19.5113 - val_risk_loss: 19.5113 - val_risk_harrellsc: 0.5578 - lr: 1.0000e-04\n",
      "Epoch 3/100\n",
      "17/17 [==============================] - 0s 17ms/step - loss: 26.3451 - risk_loss: 26.3451 - risk_harrellsc: 0.6028 - val_loss: 19.5118 - val_risk_loss: 19.5118 - val_risk_harrellsc: 0.5588 - lr: 1.0000e-04\n",
      "Epoch 4/100\n",
      "17/17 [==============================] - 0s 18ms/step - loss: 26.5434 - risk_loss: 26.5434 - risk_harrellsc: 0.6124 - val_loss: 19.5121 - val_risk_loss: 19.5121 - val_risk_harrellsc: 0.5588 - lr: 1.0000e-04\n",
      "Epoch 5/100\n",
      "17/17 [==============================] - 0s 17ms/step - loss: 26.2480 - risk_loss: 26.2480 - risk_harrellsc: 0.5857 - val_loss: 19.5119 - val_risk_loss: 19.5119 - val_risk_harrellsc: 0.5588 - lr: 1.0000e-04\n",
      "Epoch 6/100\n",
      "17/17 [==============================] - ETA: 0s - loss: 26.8381 - risk_loss: 26.8381 - risk_harrellsc: 0.5956\n",
      "Epoch 00006: ReduceLROnPlateau reducing learning rate to 9.999999747378752e-06.\n",
      "17/17 [==============================] - 0s 17ms/step - loss: 26.8381 - risk_loss: 26.8381 - risk_harrellsc: 0.5956 - val_loss: 19.5121 - val_risk_loss: 19.5121 - val_risk_harrellsc: 0.5588 - lr: 1.0000e-04\n",
      "Epoch 7/100\n",
      "17/17 [==============================] - 0s 20ms/step - loss: 26.3014 - risk_loss: 26.3014 - risk_harrellsc: 0.6094 - val_loss: 19.5121 - val_risk_loss: 19.5121 - val_risk_harrellsc: 0.5588 - lr: 1.0000e-05\n",
      "Epoch 8/100\n",
      "17/17 [==============================] - 0s 17ms/step - loss: 26.2831 - risk_loss: 26.2831 - risk_harrellsc: 0.6029 - val_loss: 19.5121 - val_risk_loss: 19.5121 - val_risk_harrellsc: 0.5588 - lr: 1.0000e-05\n",
      "Epoch 9/100\n",
      "17/17 [==============================] - 0s 17ms/step - loss: 26.3506 - risk_loss: 26.3506 - risk_harrellsc: 0.5995 - val_loss: 19.5121 - val_risk_loss: 19.5121 - val_risk_harrellsc: 0.5588 - lr: 1.0000e-05\n",
      "Epoch 10/100\n",
      "17/17 [==============================] - 0s 17ms/step - loss: 26.1975 - risk_loss: 26.1975 - risk_harrellsc: 0.5984 - val_loss: 19.5122 - val_risk_loss: 19.5122 - val_risk_harrellsc: 0.5588 - lr: 1.0000e-05\n",
      "Epoch 11/100\n",
      "17/17 [==============================] - ETA: 0s - loss: 26.0774 - risk_loss: 26.0774 - risk_harrellsc: 0.5896\n",
      "Epoch 00011: ReduceLROnPlateau reducing learning rate to 9.999999747378752e-07.\n",
      "17/17 [==============================] - 0s 17ms/step - loss: 26.0774 - risk_loss: 26.0774 - risk_harrellsc: 0.5896 - val_loss: 19.5122 - val_risk_loss: 19.5122 - val_risk_harrellsc: 0.5588 - lr: 1.0000e-05\n",
      "Epoch 12/100\n",
      "17/17 [==============================] - 0s 17ms/step - loss: 26.3741 - risk_loss: 26.3741 - risk_harrellsc: 0.5912 - val_loss: 19.5122 - val_risk_loss: 19.5122 - val_risk_harrellsc: 0.5588 - lr: 1.0000e-06\n",
      "Epoch 13/100\n",
      "17/17 [==============================] - 0s 17ms/step - loss: 26.6961 - risk_loss: 26.6961 - risk_harrellsc: 0.5889 - val_loss: 19.5122 - val_risk_loss: 19.5122 - val_risk_harrellsc: 0.5588 - lr: 1.0000e-06\n",
      "Epoch 14/100\n",
      "17/17 [==============================] - 0s 23ms/step - loss: 26.1984 - risk_loss: 26.1984 - risk_harrellsc: 0.6058 - val_loss: 19.5122 - val_risk_loss: 19.5122 - val_risk_harrellsc: 0.5588 - lr: 1.0000e-06\n",
      "Epoch 15/100\n",
      "17/17 [==============================] - 0s 20ms/step - loss: 26.4695 - risk_loss: 26.4695 - risk_harrellsc: 0.5989 - val_loss: 19.5122 - val_risk_loss: 19.5122 - val_risk_harrellsc: 0.5588 - lr: 1.0000e-06\n",
      "Epoch 16/100\n",
      "16/17 [===========================>..] - ETA: 0s - loss: 27.0748 - risk_loss: 27.0748 - risk_harrellsc: 0.6136\n",
      "Epoch 00016: ReduceLROnPlateau reducing learning rate to 9.999999974752428e-08.\n",
      "17/17 [==============================] - 0s 20ms/step - loss: 26.5038 - risk_loss: 26.5038 - risk_harrellsc: 0.6138 - val_loss: 19.5122 - val_risk_loss: 19.5122 - val_risk_harrellsc: 0.5588 - lr: 1.0000e-06\n",
      "Epoch 17/100\n",
      "17/17 [==============================] - 0s 23ms/step - loss: 26.3224 - risk_loss: 26.3224 - risk_harrellsc: 0.5991 - val_loss: 19.5122 - val_risk_loss: 19.5122 - val_risk_harrellsc: 0.5588 - lr: 1.0000e-07\n",
      "Epoch 18/100\n",
      "17/17 [==============================] - 0s 18ms/step - loss: 26.2686 - risk_loss: 26.2686 - risk_harrellsc: 0.5993 - val_loss: 19.5122 - val_risk_loss: 19.5122 - val_risk_harrellsc: 0.5588 - lr: 1.0000e-07\n",
      "Epoch 19/100\n",
      "17/17 [==============================] - 0s 17ms/step - loss: 26.3387 - risk_loss: 26.3387 - risk_harrellsc: 0.5933 - val_loss: 19.5122 - val_risk_loss: 19.5122 - val_risk_harrellsc: 0.5588 - lr: 1.0000e-07\n",
      "Epoch 20/100\n",
      "17/17 [==============================] - 0s 18ms/step - loss: 26.3177 - risk_loss: 26.3177 - risk_harrellsc: 0.6048 - val_loss: 19.5122 - val_risk_loss: 19.5122 - val_risk_harrellsc: 0.5588 - lr: 1.0000e-07\n",
      "Epoch 21/100\n",
      "17/17 [==============================] - ETA: 0s - loss: nan - risk_loss: nan - risk_harrellsc: 0.5922        \n",
      "Epoch 00021: ReduceLROnPlateau reducing learning rate to 1.0000000116860975e-08.\n",
      "17/17 [==============================] - 0s 18ms/step - loss: nan - risk_loss: nan - risk_harrellsc: 0.5922 - val_loss: 19.5122 - val_risk_loss: 19.5122 - val_risk_harrellsc: 0.5588 - lr: 1.0000e-07\n",
      "Epoch 22/100\n",
      "17/17 [==============================] - 0s 18ms/step - loss: 26.2069 - risk_loss: 26.2069 - risk_harrellsc: 0.6044 - val_loss: 19.5122 - val_risk_loss: 19.5122 - val_risk_harrellsc: 0.5588 - lr: 1.0000e-08\n",
      "Epoch 23/100\n",
      "17/17 [==============================] - 0s 17ms/step - loss: 26.1260 - risk_loss: 26.1260 - risk_harrellsc: 0.5964 - val_loss: 19.5122 - val_risk_loss: 19.5122 - val_risk_harrellsc: 0.5588 - lr: 1.0000e-08\n",
      "Epoch 24/100\n",
      "17/17 [==============================] - 0s 17ms/step - loss: 26.7548 - risk_loss: 26.7548 - risk_harrellsc: 0.5987 - val_loss: 19.5122 - val_risk_loss: 19.5122 - val_risk_harrellsc: 0.5588 - lr: 1.0000e-08\n",
      "Epoch 25/100\n",
      "17/17 [==============================] - 0s 18ms/step - loss: 26.3118 - risk_loss: 26.3118 - risk_harrellsc: 0.5922 - val_loss: 19.5122 - val_risk_loss: 19.5122 - val_risk_harrellsc: 0.5588 - lr: 1.0000e-08\n",
      "Epoch 26/100\n",
      "16/17 [===========================>..] - ETA: 0s - loss: 27.1559 - risk_loss: 27.1559 - risk_harrellsc: 0.6007\n",
      "Epoch 00026: ReduceLROnPlateau reducing learning rate to 9.999999939225292e-10.\n",
      "17/17 [==============================] - 0s 22ms/step - loss: 26.5129 - risk_loss: 26.5129 - risk_harrellsc: 0.6015 - val_loss: 19.5122 - val_risk_loss: 19.5122 - val_risk_harrellsc: 0.5588 - lr: 1.0000e-08\n",
      "Epoch 27/100\n",
      "17/17 [==============================] - 0s 17ms/step - loss: 26.6381 - risk_loss: 26.6381 - risk_harrellsc: 0.5996 - val_loss: 19.5122 - val_risk_loss: 19.5122 - val_risk_harrellsc: 0.5588 - lr: 1.0000e-09\n",
      "Epoch 28/100\n",
      "17/17 [==============================] - 0s 18ms/step - loss: 26.6011 - risk_loss: 26.6011 - risk_harrellsc: 0.6019 - val_loss: 19.5122 - val_risk_loss: 19.5122 - val_risk_harrellsc: 0.5588 - lr: 1.0000e-09\n",
      "Epoch 29/100\n",
      "17/17 [==============================] - 0s 17ms/step - loss: 26.6770 - risk_loss: 26.6770 - risk_harrellsc: 0.5997 - val_loss: 19.5122 - val_risk_loss: 19.5122 - val_risk_harrellsc: 0.5588 - lr: 1.0000e-09\n",
      "Epoch 30/100\n",
      "17/17 [==============================] - 0s 17ms/step - loss: 26.2857 - risk_loss: 26.2857 - risk_harrellsc: 0.6084 - val_loss: 19.5122 - val_risk_loss: 19.5122 - val_risk_harrellsc: 0.5588 - lr: 1.0000e-09\n",
      "Epoch 31/100\n",
      "17/17 [==============================] - ETA: 0s - loss: 26.2845 - risk_loss: 26.2845 - risk_harrellsc: 0.5943\n",
      "Epoch 00031: ReduceLROnPlateau reducing learning rate to 9.999999717180686e-11.\n",
      "17/17 [==============================] - 0s 18ms/step - loss: 26.2845 - risk_loss: 26.2845 - risk_harrellsc: 0.5943 - val_loss: 19.5122 - val_risk_loss: 19.5122 - val_risk_harrellsc: 0.5588 - lr: 1.0000e-09\n",
      "Epoch 32/100\n",
      "17/17 [==============================] - 0s 18ms/step - loss: 25.9815 - risk_loss: 25.9815 - risk_harrellsc: 0.6002 - val_loss: 19.5122 - val_risk_loss: 19.5122 - val_risk_harrellsc: 0.5588 - lr: 1.0000e-10\n",
      "Epoch 33/100\n",
      "17/17 [==============================] - 0s 18ms/step - loss: 26.0670 - risk_loss: 26.0670 - risk_harrellsc: 0.6059 - val_loss: 19.5122 - val_risk_loss: 19.5122 - val_risk_harrellsc: 0.5588 - lr: 1.0000e-10\n",
      "Epoch 34/100\n",
      "17/17 [==============================] - 0s 20ms/step - loss: 26.3758 - risk_loss: 26.3758 - risk_harrellsc: 0.5950 - val_loss: 19.5122 - val_risk_loss: 19.5122 - val_risk_harrellsc: 0.5588 - lr: 1.0000e-10\n",
      "Epoch 35/100\n",
      "17/17 [==============================] - 0s 17ms/step - loss: 26.1913 - risk_loss: 26.1913 - risk_harrellsc: 0.5966 - val_loss: 19.5122 - val_risk_loss: 19.5122 - val_risk_harrellsc: 0.5588 - lr: 1.0000e-10\n",
      "Epoch 36/100\n",
      "13/17 [=====================>........] - ETA: 0s - loss: 27.0206 - risk_loss: 27.0206 - risk_harrellsc: 0.5902\n",
      "Epoch 00036: ReduceLROnPlateau reducing learning rate to 9.99999943962493e-12.\n",
      "17/17 [==============================] - 0s 18ms/step - loss: 26.0762 - risk_loss: 26.0762 - risk_harrellsc: 0.6039 - val_loss: 19.5122 - val_risk_loss: 19.5122 - val_risk_harrellsc: 0.5588 - lr: 1.0000e-10\n",
      "Epoch 37/100\n",
      "17/17 [==============================] - 0s 21ms/step - loss: 26.2991 - risk_loss: 26.2991 - risk_harrellsc: 0.6028 - val_loss: 19.5122 - val_risk_loss: 19.5122 - val_risk_harrellsc: 0.5588 - lr: 1.0000e-11\n",
      "Epoch 38/100\n",
      "17/17 [==============================] - 0s 17ms/step - loss: 25.9599 - risk_loss: 25.9599 - risk_harrellsc: 0.6080 - val_loss: 19.5122 - val_risk_loss: 19.5122 - val_risk_harrellsc: 0.5588 - lr: 1.0000e-11\n",
      "Epoch 39/100\n",
      "17/17 [==============================] - 0s 18ms/step - loss: 26.5432 - risk_loss: 26.5432 - risk_harrellsc: 0.5945 - val_loss: 19.5122 - val_risk_loss: 19.5122 - val_risk_harrellsc: 0.5588 - lr: 1.0000e-11\n",
      "Epoch 40/100\n",
      "17/17 [==============================] - 0s 18ms/step - loss: 26.6133 - risk_loss: 26.6133 - risk_harrellsc: 0.5909 - val_loss: 19.5122 - val_risk_loss: 19.5122 - val_risk_harrellsc: 0.5588 - lr: 1.0000e-11\n",
      "Epoch 41/100\n",
      "17/17 [==============================] - ETA: 0s - loss: 26.1319 - risk_loss: 26.1319 - risk_harrellsc: 0.6025\n",
      "Epoch 00041: ReduceLROnPlateau reducing learning rate to 9.999999092680235e-13.\n",
      "17/17 [==============================] - 0s 18ms/step - loss: 26.1319 - risk_loss: 26.1319 - risk_harrellsc: 0.6025 - val_loss: 19.5122 - val_risk_loss: 19.5122 - val_risk_harrellsc: 0.5588 - lr: 1.0000e-11\n",
      "Epoch 42/100\n",
      "17/17 [==============================] - 0s 16ms/step - loss: 26.2547 - risk_loss: 26.2547 - risk_harrellsc: 0.6020 - val_loss: 19.5122 - val_risk_loss: 19.5122 - val_risk_harrellsc: 0.5588 - lr: 1.0000e-12\n",
      "Epoch 43/100\n",
      "17/17 [==============================] - 0s 16ms/step - loss: 26.2436 - risk_loss: 26.2436 - risk_harrellsc: 0.5957 - val_loss: 19.5122 - val_risk_loss: 19.5122 - val_risk_harrellsc: 0.5588 - lr: 1.0000e-12\n",
      "Epoch 44/100\n",
      "17/17 [==============================] - 0s 16ms/step - loss: 26.6273 - risk_loss: 26.6273 - risk_harrellsc: 0.5930 - val_loss: 19.5122 - val_risk_loss: 19.5122 - val_risk_harrellsc: 0.5588 - lr: 1.0000e-12\n",
      "Epoch 45/100\n",
      "17/17 [==============================] - 0s 20ms/step - loss: 26.1855 - risk_loss: 26.1855 - risk_harrellsc: 0.6022 - val_loss: 19.5122 - val_risk_loss: 19.5122 - val_risk_harrellsc: 0.5588 - lr: 1.0000e-12\n",
      "Epoch 46/100\n",
      "16/17 [===========================>..] - ETA: 0s - loss: 26.3936 - risk_loss: 26.3936 - risk_harrellsc: 0.5931\n",
      "Epoch 00046: ReduceLROnPlateau reducing learning rate to 9.9999988758398e-14.\n",
      "17/17 [==============================] - 0s 18ms/step - loss: 26.0243 - risk_loss: 26.0243 - risk_harrellsc: 0.5939 - val_loss: 19.5122 - val_risk_loss: 19.5122 - val_risk_harrellsc: 0.5588 - lr: 1.0000e-12\n",
      "Epoch 47/100\n",
      "17/17 [==============================] - 0s 16ms/step - loss: 25.9179 - risk_loss: 25.9179 - risk_harrellsc: 0.5978 - val_loss: 19.5122 - val_risk_loss: 19.5122 - val_risk_harrellsc: 0.5588 - lr: 1.0000e-13\n",
      "Epoch 48/100\n",
      "17/17 [==============================] - 0s 16ms/step - loss: 26.6102 - risk_loss: 26.6102 - risk_harrellsc: 0.5988 - val_loss: 19.5122 - val_risk_loss: 19.5122 - val_risk_harrellsc: 0.5588 - lr: 1.0000e-13\n",
      "Epoch 49/100\n",
      "17/17 [==============================] - 0s 16ms/step - loss: 26.4036 - risk_loss: 26.4036 - risk_harrellsc: 0.5904 - val_loss: 19.5122 - val_risk_loss: 19.5122 - val_risk_harrellsc: 0.5588 - lr: 1.0000e-13\n",
      "Epoch 50/100\n",
      "17/17 [==============================] - 0s 15ms/step - loss: 26.0980 - risk_loss: 26.0980 - risk_harrellsc: 0.6006 - val_loss: 19.5122 - val_risk_loss: 19.5122 - val_risk_harrellsc: 0.5588 - lr: 1.0000e-13\n",
      "Epoch 51/100\n",
      "16/17 [===========================>..] - ETA: 0s - loss: 26.7236 - risk_loss: 26.7236 - risk_harrellsc: 0.6001\n",
      "Epoch 00051: ReduceLROnPlateau reducing learning rate to 9.999999146890344e-15.\n",
      "17/17 [==============================] - 0s 17ms/step - loss: 26.2668 - risk_loss: 26.2668 - risk_harrellsc: 0.5995 - val_loss: 19.5122 - val_risk_loss: 19.5122 - val_risk_harrellsc: 0.5588 - lr: 1.0000e-13\n",
      "Epoch 52/100\n",
      "17/17 [==============================] - 0s 16ms/step - loss: 26.6022 - risk_loss: 26.6022 - risk_harrellsc: 0.5994 - val_loss: 19.5122 - val_risk_loss: 19.5122 - val_risk_harrellsc: 0.5588 - lr: 1.0000e-14\n",
      "Epoch 53/100\n",
      "17/17 [==============================] - 0s 16ms/step - loss: 26.0109 - risk_loss: 26.0109 - risk_harrellsc: 0.5966 - val_loss: 19.5122 - val_risk_loss: 19.5122 - val_risk_harrellsc: 0.5588 - lr: 1.0000e-14\n",
      "Epoch 54/100\n",
      "17/17 [==============================] - 0s 16ms/step - loss: 26.2583 - risk_loss: 26.2583 - risk_harrellsc: 0.6011 - val_loss: 19.5122 - val_risk_loss: 19.5122 - val_risk_harrellsc: 0.5588 - lr: 1.0000e-14\n",
      "Epoch 55/100\n",
      "17/17 [==============================] - 0s 16ms/step - loss: 26.6347 - risk_loss: 26.6347 - risk_harrellsc: 0.6011 - val_loss: 19.5122 - val_risk_loss: 19.5122 - val_risk_harrellsc: 0.5588 - lr: 1.0000e-14\n",
      "Epoch 56/100\n",
      "15/17 [=========================>....] - ETA: 0s - loss: 27.6633 - risk_loss: 27.6633 - risk_harrellsc: 0.6023\n",
      "Epoch 00056: ReduceLROnPlateau reducing learning rate to 9.999998977483753e-16.\n",
      "17/17 [==============================] - 0s 20ms/step - loss: 26.5038 - risk_loss: 26.5038 - risk_harrellsc: 0.6042 - val_loss: 19.5122 - val_risk_loss: 19.5122 - val_risk_harrellsc: 0.5588 - lr: 1.0000e-14\n",
      "Epoch 57/100\n",
      "17/17 [==============================] - 0s 16ms/step - loss: 26.1452 - risk_loss: 26.1452 - risk_harrellsc: 0.6030 - val_loss: 19.5122 - val_risk_loss: 19.5122 - val_risk_harrellsc: 0.5588 - lr: 1.0000e-15\n",
      "Epoch 58/100\n",
      "17/17 [==============================] - 0s 17ms/step - loss: 25.9166 - risk_loss: 25.9166 - risk_harrellsc: 0.6063 - val_loss: 19.5122 - val_risk_loss: 19.5122 - val_risk_harrellsc: 0.5588 - lr: 1.0000e-15\n",
      "Epoch 59/100\n",
      "17/17 [==============================] - 0s 15ms/step - loss: 25.9604 - risk_loss: 25.9604 - risk_harrellsc: 0.5966 - val_loss: 19.5122 - val_risk_loss: 19.5122 - val_risk_harrellsc: 0.5588 - lr: 1.0000e-15\n",
      "Epoch 60/100\n",
      "17/17 [==============================] - 0s 17ms/step - loss: 26.5570 - risk_loss: 26.5570 - risk_harrellsc: 0.5937 - val_loss: 19.5122 - val_risk_loss: 19.5122 - val_risk_harrellsc: 0.5588 - lr: 1.0000e-15\n",
      "Epoch 61/100\n",
      "13/17 [=====================>........] - ETA: 0s - loss: 26.8755 - risk_loss: 26.8755 - risk_harrellsc: 0.6124\n",
      "Epoch 00061: ReduceLROnPlateau reducing learning rate to 9.999998977483754e-17.\n",
      "17/17 [==============================] - 0s 16ms/step - loss: 26.4942 - risk_loss: 26.4942 - risk_harrellsc: 0.5958 - val_loss: 19.5122 - val_risk_loss: 19.5122 - val_risk_harrellsc: 0.5588 - lr: 1.0000e-15\n",
      "Epoch 62/100\n",
      "17/17 [==============================] - 0s 15ms/step - loss: 25.9360 - risk_loss: 25.9360 - risk_harrellsc: 0.5897 - val_loss: 19.5122 - val_risk_loss: 19.5122 - val_risk_harrellsc: 0.5588 - lr: 1.0000e-16\n",
      "Epoch 63/100\n",
      "17/17 [==============================] - 0s 16ms/step - loss: 26.2409 - risk_loss: 26.2409 - risk_harrellsc: 0.6041 - val_loss: 19.5122 - val_risk_loss: 19.5122 - val_risk_harrellsc: 0.5588 - lr: 1.0000e-16\n",
      "Epoch 64/100\n",
      "17/17 [==============================] - 0s 16ms/step - loss: 26.2173 - risk_loss: 26.2173 - risk_harrellsc: 0.5942 - val_loss: 19.5122 - val_risk_loss: 19.5122 - val_risk_harrellsc: 0.5588 - lr: 1.0000e-16\n",
      "Epoch 65/100\n",
      "17/17 [==============================] - 0s 19ms/step - loss: 26.3034 - risk_loss: 26.3034 - risk_harrellsc: 0.5962 - val_loss: 19.5122 - val_risk_loss: 19.5122 - val_risk_harrellsc: 0.5588 - lr: 1.0000e-16\n",
      "Epoch 66/100\n",
      "13/17 [=====================>........] - ETA: 0s - loss: 27.3553 - risk_loss: 27.3553 - risk_harrellsc: 0.6050\n",
      "Epoch 00066: ReduceLROnPlateau reducing learning rate to 9.999998845134856e-18.\n",
      "17/17 [==============================] - 0s 16ms/step - loss: 26.0533 - risk_loss: 26.0533 - risk_harrellsc: 0.5913 - val_loss: 19.5122 - val_risk_loss: 19.5122 - val_risk_harrellsc: 0.5588 - lr: 1.0000e-16\n",
      "Epoch 67/100\n",
      "17/17 [==============================] - 0s 15ms/step - loss: 25.9625 - risk_loss: 25.9625 - risk_harrellsc: 0.5918 - val_loss: 19.5122 - val_risk_loss: 19.5122 - val_risk_harrellsc: 0.5588 - lr: 1.0000e-17\n",
      "Epoch 68/100\n",
      "17/17 [==============================] - 0s 18ms/step - loss: 26.3599 - risk_loss: 26.3599 - risk_harrellsc: 0.5868 - val_loss: 19.5122 - val_risk_loss: 19.5122 - val_risk_harrellsc: 0.5588 - lr: 1.0000e-17\n",
      "Epoch 69/100\n",
      "17/17 [==============================] - 0s 17ms/step - loss: 25.7429 - risk_loss: 25.7429 - risk_harrellsc: 0.5977 - val_loss: 19.5122 - val_risk_loss: 19.5122 - val_risk_harrellsc: 0.5588 - lr: 1.0000e-17\n",
      "Epoch 70/100\n",
      "17/17 [==============================] - 0s 16ms/step - loss: nan - risk_loss: nan - risk_harrellsc: 0.5928 - val_loss: 19.5122 - val_risk_loss: 19.5122 - val_risk_harrellsc: 0.5588 - lr: 1.0000e-17\n",
      "Epoch 71/100\n",
      "14/17 [=======================>......] - ETA: 0s - loss: 28.6887 - risk_loss: 28.6887 - risk_harrellsc: 0.5866\n",
      "Epoch 00071: ReduceLROnPlateau reducing learning rate to 9.999999010570977e-19.\n",
      "17/17 [==============================] - 0s 16ms/step - loss: 26.1823 - risk_loss: 26.1823 - risk_harrellsc: 0.5846 - val_loss: 19.5122 - val_risk_loss: 19.5122 - val_risk_harrellsc: 0.5588 - lr: 1.0000e-17\n",
      "Epoch 72/100\n",
      "17/17 [==============================] - 0s 16ms/step - loss: 26.3625 - risk_loss: 26.3625 - risk_harrellsc: 0.6048 - val_loss: 19.5122 - val_risk_loss: 19.5122 - val_risk_harrellsc: 0.5588 - lr: 1.0000e-18\n",
      "Epoch 73/100\n",
      "17/17 [==============================] - 0s 16ms/step - loss: 25.9718 - risk_loss: 25.9718 - risk_harrellsc: 0.5816 - val_loss: 19.5122 - val_risk_loss: 19.5122 - val_risk_harrellsc: 0.5588 - lr: 1.0000e-18\n",
      "Epoch 74/100\n",
      "17/17 [==============================] - 0s 19ms/step - loss: 26.4858 - risk_loss: 26.4858 - risk_harrellsc: 0.6028 - val_loss: 19.5122 - val_risk_loss: 19.5122 - val_risk_harrellsc: 0.5588 - lr: 1.0000e-18\n",
      "Epoch 75/100\n",
      "17/17 [==============================] - 0s 17ms/step - loss: 26.0677 - risk_loss: 26.0677 - risk_harrellsc: 0.6025 - val_loss: 19.5122 - val_risk_loss: 19.5122 - val_risk_harrellsc: 0.5588 - lr: 1.0000e-18\n",
      "Epoch 76/100\n",
      "14/17 [=======================>......] - ETA: 0s - loss: 26.1882 - risk_loss: 26.1882 - risk_harrellsc: 0.6010\n",
      "Epoch 00076: ReduceLROnPlateau reducing learning rate to 9.999999424161285e-20.\n",
      "17/17 [==============================] - 0s 16ms/step - loss: 26.3446 - risk_loss: 26.3446 - risk_harrellsc: 0.5930 - val_loss: 19.5122 - val_risk_loss: 19.5122 - val_risk_harrellsc: 0.5588 - lr: 1.0000e-18\n",
      "Epoch 77/100\n",
      "17/17 [==============================] - 0s 16ms/step - loss: 26.4219 - risk_loss: 26.4219 - risk_harrellsc: 0.5888 - val_loss: 19.5122 - val_risk_loss: 19.5122 - val_risk_harrellsc: 0.5588 - lr: 1.0000e-19\n",
      "Epoch 78/100\n",
      "17/17 [==============================] - 0s 16ms/step - loss: 26.5796 - risk_loss: 26.5796 - risk_harrellsc: 0.6010 - val_loss: 19.5122 - val_risk_loss: 19.5122 - val_risk_harrellsc: 0.5588 - lr: 1.0000e-19\n",
      "Epoch 79/100\n",
      "17/17 [==============================] - 0s 17ms/step - loss: 26.3177 - risk_loss: 26.3177 - risk_harrellsc: 0.5963 - val_loss: 19.5122 - val_risk_loss: 19.5122 - val_risk_harrellsc: 0.5588 - lr: 1.0000e-19\n",
      "Epoch 80/100\n",
      "17/17 [==============================] - 0s 17ms/step - loss: 26.3349 - risk_loss: 26.3349 - risk_harrellsc: 0.5984 - val_loss: 19.5122 - val_risk_loss: 19.5122 - val_risk_harrellsc: 0.5588 - lr: 1.0000e-19\n",
      "Epoch 81/100\n",
      "13/17 [=====================>........] - ETA: 0s - loss: 27.7358 - risk_loss: 27.7358 - risk_harrellsc: 0.5970\n",
      "Epoch 00081: ReduceLROnPlateau reducing learning rate to 9.999999682655225e-21.\n",
      "17/17 [==============================] - 0s 17ms/step - loss: 26.1649 - risk_loss: 26.1649 - risk_harrellsc: 0.6021 - val_loss: 19.5122 - val_risk_loss: 19.5122 - val_risk_harrellsc: 0.5588 - lr: 1.0000e-19\n",
      "Epoch 82/100\n",
      "17/17 [==============================] - 0s 20ms/step - loss: 26.4512 - risk_loss: 26.4512 - risk_harrellsc: 0.5910 - val_loss: 19.5122 - val_risk_loss: 19.5122 - val_risk_harrellsc: 0.5588 - lr: 1.0000e-20\n",
      "Epoch 83/100\n",
      "17/17 [==============================] - 0s 17ms/step - loss: 26.4640 - risk_loss: 26.4640 - risk_harrellsc: 0.5955 - val_loss: 19.5122 - val_risk_loss: 19.5122 - val_risk_harrellsc: 0.5588 - lr: 1.0000e-20\n",
      "Epoch 84/100\n",
      "17/17 [==============================] - 0s 17ms/step - loss: 25.7177 - risk_loss: 25.7177 - risk_harrellsc: 0.5965 - val_loss: 19.5122 - val_risk_loss: 19.5122 - val_risk_harrellsc: 0.5588 - lr: 1.0000e-20\n",
      "Epoch 85/100\n",
      "17/17 [==============================] - 0s 16ms/step - loss: 26.2406 - risk_loss: 26.2406 - risk_harrellsc: 0.5910 - val_loss: 19.5122 - val_risk_loss: 19.5122 - val_risk_harrellsc: 0.5588 - lr: 1.0000e-20\n",
      "Epoch 86/100\n",
      "14/17 [=======================>......] - ETA: 0s - loss: 27.8412 - risk_loss: 27.8412 - risk_harrellsc: 0.5889\n",
      "Epoch 00086: ReduceLROnPlateau reducing learning rate to 9.999999682655225e-22.\n",
      "17/17 [==============================] - 0s 16ms/step - loss: 26.6246 - risk_loss: 26.6246 - risk_harrellsc: 0.5951 - val_loss: 19.5122 - val_risk_loss: 19.5122 - val_risk_harrellsc: 0.5588 - lr: 1.0000e-20\n",
      "Epoch 87/100\n",
      "17/17 [==============================] - 0s 16ms/step - loss: 25.8037 - risk_loss: 25.8037 - risk_harrellsc: 0.6052 - val_loss: 19.5122 - val_risk_loss: 19.5122 - val_risk_harrellsc: 0.5588 - lr: 1.0000e-21\n",
      "Epoch 88/100\n",
      "17/17 [==============================] - 0s 16ms/step - loss: 26.6536 - risk_loss: 26.6536 - risk_harrellsc: 0.5957 - val_loss: 19.5122 - val_risk_loss: 19.5122 - val_risk_harrellsc: 0.5588 - lr: 1.0000e-21\n",
      "Epoch 89/100\n",
      "17/17 [==============================] - 0s 17ms/step - loss: 26.5738 - risk_loss: 26.5738 - risk_harrellsc: 0.6032 - val_loss: 19.5122 - val_risk_loss: 19.5122 - val_risk_harrellsc: 0.5588 - lr: 1.0000e-21\n",
      "Epoch 90/100\n",
      "17/17 [==============================] - 0s 16ms/step - loss: 26.4007 - risk_loss: 26.4007 - risk_harrellsc: 0.5930 - val_loss: 19.5122 - val_risk_loss: 19.5122 - val_risk_harrellsc: 0.5588 - lr: 1.0000e-21\n",
      "Epoch 91/100\n",
      "15/17 [=========================>....] - ETA: 0s - loss: 27.6167 - risk_loss: 27.6167 - risk_harrellsc: 0.6025\n",
      "Epoch 00091: ReduceLROnPlateau reducing learning rate to 9.999999682655225e-23.\n",
      "17/17 [==============================] - 0s 19ms/step - loss: 26.3244 - risk_loss: 26.3244 - risk_harrellsc: 0.6024 - val_loss: 19.5122 - val_risk_loss: 19.5122 - val_risk_harrellsc: 0.5588 - lr: 1.0000e-21\n",
      "Epoch 92/100\n",
      "17/17 [==============================] - 0s 20ms/step - loss: 26.1959 - risk_loss: 26.1959 - risk_harrellsc: 0.5926 - val_loss: 19.5122 - val_risk_loss: 19.5122 - val_risk_harrellsc: 0.5588 - lr: 1.0000e-22\n",
      "Epoch 93/100\n",
      "17/17 [==============================] - 0s 17ms/step - loss: 26.6659 - risk_loss: 26.6659 - risk_harrellsc: 0.6012 - val_loss: 19.5122 - val_risk_loss: 19.5122 - val_risk_harrellsc: 0.5588 - lr: 1.0000e-22\n",
      "Epoch 94/100\n",
      "17/17 [==============================] - 0s 16ms/step - loss: 26.4760 - risk_loss: 26.4760 - risk_harrellsc: 0.5964 - val_loss: 19.5122 - val_risk_loss: 19.5122 - val_risk_harrellsc: 0.5588 - lr: 1.0000e-22\n",
      "Epoch 95/100\n",
      "17/17 [==============================] - 0s 16ms/step - loss: 25.8899 - risk_loss: 25.8899 - risk_harrellsc: 0.6148 - val_loss: 19.5122 - val_risk_loss: 19.5122 - val_risk_harrellsc: 0.5588 - lr: 1.0000e-22\n",
      "Epoch 96/100\n",
      "13/17 [=====================>........] - ETA: 0s - loss: 24.4354 - risk_loss: 24.4354 - risk_harrellsc: 0.5887\n",
      "Epoch 00096: ReduceLROnPlateau reducing learning rate to 9.999999682655227e-24.\n",
      "17/17 [==============================] - 0s 17ms/step - loss: 25.8354 - risk_loss: 25.8354 - risk_harrellsc: 0.5994 - val_loss: 19.5122 - val_risk_loss: 19.5122 - val_risk_harrellsc: 0.5588 - lr: 1.0000e-22\n",
      "Epoch 97/100\n",
      "17/17 [==============================] - 0s 16ms/step - loss: 26.4119 - risk_loss: 26.4119 - risk_harrellsc: 0.5932 - val_loss: 19.5122 - val_risk_loss: 19.5122 - val_risk_harrellsc: 0.5588 - lr: 1.0000e-23\n",
      "Epoch 98/100\n",
      "17/17 [==============================] - 0s 16ms/step - loss: 25.9283 - risk_loss: 25.9283 - risk_harrellsc: 0.5920 - val_loss: 19.5122 - val_risk_loss: 19.5122 - val_risk_harrellsc: 0.5588 - lr: 1.0000e-23\n",
      "Epoch 99/100\n",
      "17/17 [==============================] - 0s 18ms/step - loss: 26.5778 - risk_loss: 26.5778 - risk_harrellsc: 0.5993 - val_loss: 19.5122 - val_risk_loss: 19.5122 - val_risk_harrellsc: 0.5588 - lr: 1.0000e-23\n",
      "Epoch 100/100\n",
      "17/17 [==============================] - 0s 17ms/step - loss: 26.4564 - risk_loss: 26.4564 - risk_harrellsc: 0.5963 - val_loss: 19.5122 - val_risk_loss: 19.5122 - val_risk_harrellsc: 0.5588 - lr: 1.0000e-23\n"
     ]
    },
    {
     "data": {
      "application/vnd.plotly.v1+json": {
       "config": {
        "plotlyServerURL": "https://plot.ly"
       },
       "data": [
        {
         "mode": "lines",
         "name": "Train Loss",
         "type": "scatter",
         "x": [
          1,
          2,
          3,
          4,
          5,
          6,
          7,
          8,
          9,
          10,
          11,
          12,
          13,
          14,
          15,
          16,
          17,
          18,
          19,
          20,
          21,
          22,
          23,
          24,
          25,
          26,
          27,
          28,
          29,
          30,
          31,
          32,
          33,
          34,
          35,
          36,
          37,
          38,
          39,
          40,
          41,
          42,
          43,
          44,
          45,
          46,
          47,
          48,
          49,
          50,
          51,
          52,
          53,
          54,
          55,
          56,
          57,
          58,
          59,
          60,
          61,
          62,
          63,
          64,
          65,
          66,
          67,
          68,
          69,
          70,
          71,
          72,
          73,
          74,
          75,
          76,
          77,
          78,
          79,
          80,
          81,
          82,
          83,
          84,
          85,
          86,
          87,
          88,
          89,
          90,
          91,
          92,
          93,
          94,
          95,
          96,
          97,
          98,
          99,
          100
         ],
         "xaxis": "x",
         "y": [
          26.483627319335938,
          26.519020080566406,
          26.34511375427246,
          26.54337501525879,
          26.248037338256836,
          26.838111877441406,
          26.301389694213867,
          26.283050537109375,
          26.350624084472656,
          26.197452545166016,
          26.077417373657227,
          26.37412452697754,
          26.696136474609375,
          26.198423385620117,
          26.46950912475586,
          26.50381851196289,
          26.322433471679688,
          26.268552780151367,
          26.338651657104492,
          26.31765365600586,
          null,
          26.206947326660156,
          26.126007080078125,
          26.754785537719727,
          26.311767578125,
          26.512853622436523,
          26.638076782226562,
          26.601076126098633,
          26.67704963684082,
          26.285669326782227,
          26.28450584411621,
          25.981536865234375,
          26.066997528076172,
          26.375783920288086,
          26.191295623779297,
          26.0761775970459,
          26.2990779876709,
          25.959880828857422,
          26.543203353881836,
          26.613338470458984,
          26.131858825683594,
          26.25472640991211,
          26.243619918823242,
          26.6273250579834,
          26.185546875,
          26.024282455444336,
          25.917861938476562,
          26.610210418701172,
          26.40359115600586,
          26.09796905517578,
          26.266796112060547,
          26.60222816467285,
          26.010894775390625,
          26.25832176208496,
          26.634735107421875,
          26.503826141357422,
          26.14522933959961,
          25.91655731201172,
          25.960426330566406,
          26.556983947753906,
          26.49418830871582,
          25.936037063598633,
          26.240890502929688,
          26.217321395874023,
          26.303390502929688,
          26.053319931030273,
          25.96250343322754,
          26.359891891479492,
          25.742919921875,
          null,
          26.18227195739746,
          26.362464904785156,
          25.971832275390625,
          26.48580551147461,
          26.067710876464844,
          26.34463119506836,
          26.421871185302734,
          26.579614639282227,
          26.317663192749023,
          26.33489418029785,
          26.164894104003906,
          26.45119857788086,
          26.4639835357666,
          25.717683792114258,
          26.240617752075195,
          26.624616622924805,
          25.803688049316406,
          26.653608322143555,
          26.573843002319336,
          26.40070152282715,
          26.32440757751465,
          26.195934295654297,
          26.6658992767334,
          26.476015090942383,
          25.88991355895996,
          25.835376739501953,
          26.41189193725586,
          25.92830467224121,
          26.577775955200195,
          26.456411361694336
         ],
         "yaxis": "y"
        },
        {
         "mode": "lines",
         "name": "Validation Loss",
         "type": "scatter",
         "x": [
          1,
          2,
          3,
          4,
          5,
          6,
          7,
          8,
          9,
          10,
          11,
          12,
          13,
          14,
          15,
          16,
          17,
          18,
          19,
          20,
          21,
          22,
          23,
          24,
          25,
          26,
          27,
          28,
          29,
          30,
          31,
          32,
          33,
          34,
          35,
          36,
          37,
          38,
          39,
          40,
          41,
          42,
          43,
          44,
          45,
          46,
          47,
          48,
          49,
          50,
          51,
          52,
          53,
          54,
          55,
          56,
          57,
          58,
          59,
          60,
          61,
          62,
          63,
          64,
          65,
          66,
          67,
          68,
          69,
          70,
          71,
          72,
          73,
          74,
          75,
          76,
          77,
          78,
          79,
          80,
          81,
          82,
          83,
          84,
          85,
          86,
          87,
          88,
          89,
          90,
          91,
          92,
          93,
          94,
          95,
          96,
          97,
          98,
          99,
          100
         ],
         "xaxis": "x",
         "y": [
          19.511001586914062,
          19.51127052307129,
          19.51181983947754,
          19.512054443359375,
          19.51192283630371,
          19.51206398010254,
          19.512104034423828,
          19.512144088745117,
          19.512144088745117,
          19.51217269897461,
          19.51220703125,
          19.51220703125,
          19.512208938598633,
          19.512216567993164,
          19.51221466064453,
          19.512216567993164,
          19.512216567993164,
          19.512216567993164,
          19.512216567993164,
          19.512216567993164,
          19.512216567993164,
          19.512216567993164,
          19.512216567993164,
          19.512216567993164,
          19.512216567993164,
          19.512216567993164,
          19.512216567993164,
          19.512216567993164,
          19.512216567993164,
          19.512216567993164,
          19.512216567993164,
          19.512216567993164,
          19.512216567993164,
          19.512216567993164,
          19.512216567993164,
          19.512216567993164,
          19.512216567993164,
          19.512216567993164,
          19.512216567993164,
          19.512216567993164,
          19.512216567993164,
          19.512216567993164,
          19.512216567993164,
          19.512216567993164,
          19.512216567993164,
          19.512216567993164,
          19.512216567993164,
          19.512216567993164,
          19.512216567993164,
          19.512216567993164,
          19.512216567993164,
          19.512216567993164,
          19.512216567993164,
          19.512216567993164,
          19.512216567993164,
          19.512216567993164,
          19.512216567993164,
          19.512216567993164,
          19.512216567993164,
          19.512216567993164,
          19.512216567993164,
          19.512216567993164,
          19.512216567993164,
          19.512216567993164,
          19.512216567993164,
          19.512216567993164,
          19.512216567993164,
          19.512216567993164,
          19.512216567993164,
          19.512216567993164,
          19.512216567993164,
          19.512216567993164,
          19.512216567993164,
          19.512216567993164,
          19.512216567993164,
          19.512216567993164,
          19.512216567993164,
          19.512216567993164,
          19.512216567993164,
          19.512216567993164,
          19.512216567993164,
          19.512216567993164,
          19.512216567993164,
          19.512216567993164,
          19.512216567993164,
          19.512216567993164,
          19.512216567993164,
          19.512216567993164,
          19.512216567993164,
          19.512216567993164,
          19.512216567993164,
          19.512216567993164,
          19.512216567993164,
          19.512216567993164,
          19.512216567993164,
          19.512216567993164,
          19.512216567993164,
          19.512216567993164,
          19.512216567993164,
          19.512216567993164
         ],
         "yaxis": "y"
        },
        {
         "mode": "lines",
         "name": "Train Harrell's C",
         "type": "scatter",
         "x": [
          1,
          2,
          3,
          4,
          5,
          6,
          7,
          8,
          9,
          10,
          11,
          12,
          13,
          14,
          15,
          16,
          17,
          18,
          19,
          20,
          21,
          22,
          23,
          24,
          25,
          26,
          27,
          28,
          29,
          30,
          31,
          32,
          33,
          34,
          35,
          36,
          37,
          38,
          39,
          40,
          41,
          42,
          43,
          44,
          45,
          46,
          47,
          48,
          49,
          50,
          51,
          52,
          53,
          54,
          55,
          56,
          57,
          58,
          59,
          60,
          61,
          62,
          63,
          64,
          65,
          66,
          67,
          68,
          69,
          70,
          71,
          72,
          73,
          74,
          75,
          76,
          77,
          78,
          79,
          80,
          81,
          82,
          83,
          84,
          85,
          86,
          87,
          88,
          89,
          90,
          91,
          92,
          93,
          94,
          95,
          96,
          97,
          98,
          99,
          100
         ],
         "xaxis": "x2",
         "y": [
          0.5978471854596789,
          0.5918331580792149,
          0.6028318584070796,
          0.6124125874125874,
          0.5857425031423954,
          0.5956340956340956,
          0.609358383551932,
          0.6028520499108735,
          0.5994690265486726,
          0.598426604684427,
          0.5896015722708594,
          0.5911971830985916,
          0.5888617318435754,
          0.6058276725062567,
          0.5989427312775331,
          0.613784593689406,
          0.5991478785726966,
          0.5993236027055892,
          0.5933404179950408,
          0.6048415806336774,
          0.5922195206668982,
          0.6043798240890325,
          0.5964381121994657,
          0.5987060674943172,
          0.5921589497959908,
          0.6014531277689172,
          0.5996131528046422,
          0.6019486271036315,
          0.5996849291090496,
          0.60837919403515,
          0.5943496801705757,
          0.6001798561151079,
          0.6058886129833274,
          0.5949523473349806,
          0.5966282165039929,
          0.6038925932600469,
          0.6027639971651311,
          0.6080474223100413,
          0.5944611042511907,
          0.5909330521876648,
          0.6025388878955837,
          0.6019677996422182,
          0.5956729916651888,
          0.593008958369928,
          0.6022463897307898,
          0.5939470365699874,
          0.5978124439662901,
          0.5988320651212174,
          0.590444287729196,
          0.6006452769313497,
          0.5995386799148332,
          0.5994348286824444,
          0.5966041108132261,
          0.6010647737355812,
          0.6010554089709763,
          0.6042183622828784,
          0.6030357142857143,
          0.6062836624775584,
          0.5965919282511211,
          0.5937005102938588,
          0.5958348040945993,
          0.5896601590744758,
          0.6040627227369921,
          0.5941616233535065,
          0.5961676217765043,
          0.5912591796525166,
          0.5918035746524644,
          0.5868061713069693,
          0.5976534296028881,
          0.592847075405215,
          0.5846208488723139,
          0.6047661076787291,
          0.5816454561749418,
          0.6028243601059136,
          0.602545715310147,
          0.5930232558139534,
          0.5887553041018387,
          0.6010207673354453,
          0.5963449254790631,
          0.5983957219251337,
          0.6020681048315207,
          0.591013621086149,
          0.5955234402537892,
          0.5964848704475448,
          0.5909576361694553,
          0.5950877192982456,
          0.6051727256285042,
          0.5956735842419979,
          0.6032303370786517,
          0.5929861849096706,
          0.602392429923228,
          0.5926125156894387,
          0.6012237762237762,
          0.5963919349133358,
          0.6148148148148148,
          0.5994231115918515,
          0.5932142857142857,
          0.5919654116375428,
          0.59933543196922,
          0.5962831858407079
         ],
         "yaxis": "y2"
        },
        {
         "mode": "lines",
         "name": "Validation Harrell's C",
         "type": "scatter",
         "x": [
          1,
          2,
          3,
          4,
          5,
          6,
          7,
          8,
          9,
          10,
          11,
          12,
          13,
          14,
          15,
          16,
          17,
          18,
          19,
          20,
          21,
          22,
          23,
          24,
          25,
          26,
          27,
          28,
          29,
          30,
          31,
          32,
          33,
          34,
          35,
          36,
          37,
          38,
          39,
          40,
          41,
          42,
          43,
          44,
          45,
          46,
          47,
          48,
          49,
          50,
          51,
          52,
          53,
          54,
          55,
          56,
          57,
          58,
          59,
          60,
          61,
          62,
          63,
          64,
          65,
          66,
          67,
          68,
          69,
          70,
          71,
          72,
          73,
          74,
          75,
          76,
          77,
          78,
          79,
          80,
          81,
          82,
          83,
          84,
          85,
          86,
          87,
          88,
          89,
          90,
          91,
          92,
          93,
          94,
          95,
          96,
          97,
          98,
          99,
          100
         ],
         "xaxis": "x2",
         "y": [
          0.5588235294117647,
          0.557843137254902,
          0.5588235294117647,
          0.5588235294117647,
          0.5588235294117647,
          0.5588235294117647,
          0.5588235294117647,
          0.5588235294117647,
          0.5588235294117647,
          0.5588235294117647,
          0.5588235294117647,
          0.5588235294117647,
          0.5588235294117647,
          0.5588235294117647,
          0.5588235294117647,
          0.5588235294117647,
          0.5588235294117647,
          0.5588235294117647,
          0.5588235294117647,
          0.5588235294117647,
          0.5588235294117647,
          0.5588235294117647,
          0.5588235294117647,
          0.5588235294117647,
          0.5588235294117647,
          0.5588235294117647,
          0.5588235294117647,
          0.5588235294117647,
          0.5588235294117647,
          0.5588235294117647,
          0.5588235294117647,
          0.5588235294117647,
          0.5588235294117647,
          0.5588235294117647,
          0.5588235294117647,
          0.5588235294117647,
          0.5588235294117647,
          0.5588235294117647,
          0.5588235294117647,
          0.5588235294117647,
          0.5588235294117647,
          0.5588235294117647,
          0.5588235294117647,
          0.5588235294117647,
          0.5588235294117647,
          0.5588235294117647,
          0.5588235294117647,
          0.5588235294117647,
          0.5588235294117647,
          0.5588235294117647,
          0.5588235294117647,
          0.5588235294117647,
          0.5588235294117647,
          0.5588235294117647,
          0.5588235294117647,
          0.5588235294117647,
          0.5588235294117647,
          0.5588235294117647,
          0.5588235294117647,
          0.5588235294117647,
          0.5588235294117647,
          0.5588235294117647,
          0.5588235294117647,
          0.5588235294117647,
          0.5588235294117647,
          0.5588235294117647,
          0.5588235294117647,
          0.5588235294117647,
          0.5588235294117647,
          0.5588235294117647,
          0.5588235294117647,
          0.5588235294117647,
          0.5588235294117647,
          0.5588235294117647,
          0.5588235294117647,
          0.5588235294117647,
          0.5588235294117647,
          0.5588235294117647,
          0.5588235294117647,
          0.5588235294117647,
          0.5588235294117647,
          0.5588235294117647,
          0.5588235294117647,
          0.5588235294117647,
          0.5588235294117647,
          0.5588235294117647,
          0.5588235294117647,
          0.5588235294117647,
          0.5588235294117647,
          0.5588235294117647,
          0.5588235294117647,
          0.5588235294117647,
          0.5588235294117647,
          0.5588235294117647,
          0.5588235294117647,
          0.5588235294117647,
          0.5588235294117647,
          0.5588235294117647,
          0.5588235294117647,
          0.5588235294117647
         ],
         "yaxis": "y2"
        }
       ],
       "layout": {
        "annotations": [
         {
          "font": {
           "size": 16
          },
          "showarrow": false,
          "text": "Loss",
          "x": 0.225,
          "xanchor": "center",
          "xref": "paper",
          "y": 1,
          "yanchor": "bottom",
          "yref": "paper"
         },
         {
          "font": {
           "size": 16
          },
          "showarrow": false,
          "text": "Harrell's C",
          "x": 0.775,
          "xanchor": "center",
          "xref": "paper",
          "y": 1,
          "yanchor": "bottom",
          "yref": "paper"
         }
        ],
        "template": {
         "data": {
          "bar": [
           {
            "error_x": {
             "color": "#2a3f5f"
            },
            "error_y": {
             "color": "#2a3f5f"
            },
            "marker": {
             "line": {
              "color": "#E5ECF6",
              "width": 0.5
             },
             "pattern": {
              "fillmode": "overlay",
              "size": 10,
              "solidity": 0.2
             }
            },
            "type": "bar"
           }
          ],
          "barpolar": [
           {
            "marker": {
             "line": {
              "color": "#E5ECF6",
              "width": 0.5
             },
             "pattern": {
              "fillmode": "overlay",
              "size": 10,
              "solidity": 0.2
             }
            },
            "type": "barpolar"
           }
          ],
          "carpet": [
           {
            "aaxis": {
             "endlinecolor": "#2a3f5f",
             "gridcolor": "white",
             "linecolor": "white",
             "minorgridcolor": "white",
             "startlinecolor": "#2a3f5f"
            },
            "baxis": {
             "endlinecolor": "#2a3f5f",
             "gridcolor": "white",
             "linecolor": "white",
             "minorgridcolor": "white",
             "startlinecolor": "#2a3f5f"
            },
            "type": "carpet"
           }
          ],
          "choropleth": [
           {
            "colorbar": {
             "outlinewidth": 0,
             "ticks": ""
            },
            "type": "choropleth"
           }
          ],
          "contour": [
           {
            "colorbar": {
             "outlinewidth": 0,
             "ticks": ""
            },
            "colorscale": [
             [
              0,
              "#0d0887"
             ],
             [
              0.1111111111111111,
              "#46039f"
             ],
             [
              0.2222222222222222,
              "#7201a8"
             ],
             [
              0.3333333333333333,
              "#9c179e"
             ],
             [
              0.4444444444444444,
              "#bd3786"
             ],
             [
              0.5555555555555556,
              "#d8576b"
             ],
             [
              0.6666666666666666,
              "#ed7953"
             ],
             [
              0.7777777777777778,
              "#fb9f3a"
             ],
             [
              0.8888888888888888,
              "#fdca26"
             ],
             [
              1,
              "#f0f921"
             ]
            ],
            "type": "contour"
           }
          ],
          "contourcarpet": [
           {
            "colorbar": {
             "outlinewidth": 0,
             "ticks": ""
            },
            "type": "contourcarpet"
           }
          ],
          "heatmap": [
           {
            "colorbar": {
             "outlinewidth": 0,
             "ticks": ""
            },
            "colorscale": [
             [
              0,
              "#0d0887"
             ],
             [
              0.1111111111111111,
              "#46039f"
             ],
             [
              0.2222222222222222,
              "#7201a8"
             ],
             [
              0.3333333333333333,
              "#9c179e"
             ],
             [
              0.4444444444444444,
              "#bd3786"
             ],
             [
              0.5555555555555556,
              "#d8576b"
             ],
             [
              0.6666666666666666,
              "#ed7953"
             ],
             [
              0.7777777777777778,
              "#fb9f3a"
             ],
             [
              0.8888888888888888,
              "#fdca26"
             ],
             [
              1,
              "#f0f921"
             ]
            ],
            "type": "heatmap"
           }
          ],
          "heatmapgl": [
           {
            "colorbar": {
             "outlinewidth": 0,
             "ticks": ""
            },
            "colorscale": [
             [
              0,
              "#0d0887"
             ],
             [
              0.1111111111111111,
              "#46039f"
             ],
             [
              0.2222222222222222,
              "#7201a8"
             ],
             [
              0.3333333333333333,
              "#9c179e"
             ],
             [
              0.4444444444444444,
              "#bd3786"
             ],
             [
              0.5555555555555556,
              "#d8576b"
             ],
             [
              0.6666666666666666,
              "#ed7953"
             ],
             [
              0.7777777777777778,
              "#fb9f3a"
             ],
             [
              0.8888888888888888,
              "#fdca26"
             ],
             [
              1,
              "#f0f921"
             ]
            ],
            "type": "heatmapgl"
           }
          ],
          "histogram": [
           {
            "marker": {
             "pattern": {
              "fillmode": "overlay",
              "size": 10,
              "solidity": 0.2
             }
            },
            "type": "histogram"
           }
          ],
          "histogram2d": [
           {
            "colorbar": {
             "outlinewidth": 0,
             "ticks": ""
            },
            "colorscale": [
             [
              0,
              "#0d0887"
             ],
             [
              0.1111111111111111,
              "#46039f"
             ],
             [
              0.2222222222222222,
              "#7201a8"
             ],
             [
              0.3333333333333333,
              "#9c179e"
             ],
             [
              0.4444444444444444,
              "#bd3786"
             ],
             [
              0.5555555555555556,
              "#d8576b"
             ],
             [
              0.6666666666666666,
              "#ed7953"
             ],
             [
              0.7777777777777778,
              "#fb9f3a"
             ],
             [
              0.8888888888888888,
              "#fdca26"
             ],
             [
              1,
              "#f0f921"
             ]
            ],
            "type": "histogram2d"
           }
          ],
          "histogram2dcontour": [
           {
            "colorbar": {
             "outlinewidth": 0,
             "ticks": ""
            },
            "colorscale": [
             [
              0,
              "#0d0887"
             ],
             [
              0.1111111111111111,
              "#46039f"
             ],
             [
              0.2222222222222222,
              "#7201a8"
             ],
             [
              0.3333333333333333,
              "#9c179e"
             ],
             [
              0.4444444444444444,
              "#bd3786"
             ],
             [
              0.5555555555555556,
              "#d8576b"
             ],
             [
              0.6666666666666666,
              "#ed7953"
             ],
             [
              0.7777777777777778,
              "#fb9f3a"
             ],
             [
              0.8888888888888888,
              "#fdca26"
             ],
             [
              1,
              "#f0f921"
             ]
            ],
            "type": "histogram2dcontour"
           }
          ],
          "mesh3d": [
           {
            "colorbar": {
             "outlinewidth": 0,
             "ticks": ""
            },
            "type": "mesh3d"
           }
          ],
          "parcoords": [
           {
            "line": {
             "colorbar": {
              "outlinewidth": 0,
              "ticks": ""
             }
            },
            "type": "parcoords"
           }
          ],
          "pie": [
           {
            "automargin": true,
            "type": "pie"
           }
          ],
          "scatter": [
           {
            "fillpattern": {
             "fillmode": "overlay",
             "size": 10,
             "solidity": 0.2
            },
            "type": "scatter"
           }
          ],
          "scatter3d": [
           {
            "line": {
             "colorbar": {
              "outlinewidth": 0,
              "ticks": ""
             }
            },
            "marker": {
             "colorbar": {
              "outlinewidth": 0,
              "ticks": ""
             }
            },
            "type": "scatter3d"
           }
          ],
          "scattercarpet": [
           {
            "marker": {
             "colorbar": {
              "outlinewidth": 0,
              "ticks": ""
             }
            },
            "type": "scattercarpet"
           }
          ],
          "scattergeo": [
           {
            "marker": {
             "colorbar": {
              "outlinewidth": 0,
              "ticks": ""
             }
            },
            "type": "scattergeo"
           }
          ],
          "scattergl": [
           {
            "marker": {
             "colorbar": {
              "outlinewidth": 0,
              "ticks": ""
             }
            },
            "type": "scattergl"
           }
          ],
          "scattermapbox": [
           {
            "marker": {
             "colorbar": {
              "outlinewidth": 0,
              "ticks": ""
             }
            },
            "type": "scattermapbox"
           }
          ],
          "scatterpolar": [
           {
            "marker": {
             "colorbar": {
              "outlinewidth": 0,
              "ticks": ""
             }
            },
            "type": "scatterpolar"
           }
          ],
          "scatterpolargl": [
           {
            "marker": {
             "colorbar": {
              "outlinewidth": 0,
              "ticks": ""
             }
            },
            "type": "scatterpolargl"
           }
          ],
          "scatterternary": [
           {
            "marker": {
             "colorbar": {
              "outlinewidth": 0,
              "ticks": ""
             }
            },
            "type": "scatterternary"
           }
          ],
          "surface": [
           {
            "colorbar": {
             "outlinewidth": 0,
             "ticks": ""
            },
            "colorscale": [
             [
              0,
              "#0d0887"
             ],
             [
              0.1111111111111111,
              "#46039f"
             ],
             [
              0.2222222222222222,
              "#7201a8"
             ],
             [
              0.3333333333333333,
              "#9c179e"
             ],
             [
              0.4444444444444444,
              "#bd3786"
             ],
             [
              0.5555555555555556,
              "#d8576b"
             ],
             [
              0.6666666666666666,
              "#ed7953"
             ],
             [
              0.7777777777777778,
              "#fb9f3a"
             ],
             [
              0.8888888888888888,
              "#fdca26"
             ],
             [
              1,
              "#f0f921"
             ]
            ],
            "type": "surface"
           }
          ],
          "table": [
           {
            "cells": {
             "fill": {
              "color": "#EBF0F8"
             },
             "line": {
              "color": "white"
             }
            },
            "header": {
             "fill": {
              "color": "#C8D4E3"
             },
             "line": {
              "color": "white"
             }
            },
            "type": "table"
           }
          ]
         },
         "layout": {
          "annotationdefaults": {
           "arrowcolor": "#2a3f5f",
           "arrowhead": 0,
           "arrowwidth": 1
          },
          "autotypenumbers": "strict",
          "coloraxis": {
           "colorbar": {
            "outlinewidth": 0,
            "ticks": ""
           }
          },
          "colorscale": {
           "diverging": [
            [
             0,
             "#8e0152"
            ],
            [
             0.1,
             "#c51b7d"
            ],
            [
             0.2,
             "#de77ae"
            ],
            [
             0.3,
             "#f1b6da"
            ],
            [
             0.4,
             "#fde0ef"
            ],
            [
             0.5,
             "#f7f7f7"
            ],
            [
             0.6,
             "#e6f5d0"
            ],
            [
             0.7,
             "#b8e186"
            ],
            [
             0.8,
             "#7fbc41"
            ],
            [
             0.9,
             "#4d9221"
            ],
            [
             1,
             "#276419"
            ]
           ],
           "sequential": [
            [
             0,
             "#0d0887"
            ],
            [
             0.1111111111111111,
             "#46039f"
            ],
            [
             0.2222222222222222,
             "#7201a8"
            ],
            [
             0.3333333333333333,
             "#9c179e"
            ],
            [
             0.4444444444444444,
             "#bd3786"
            ],
            [
             0.5555555555555556,
             "#d8576b"
            ],
            [
             0.6666666666666666,
             "#ed7953"
            ],
            [
             0.7777777777777778,
             "#fb9f3a"
            ],
            [
             0.8888888888888888,
             "#fdca26"
            ],
            [
             1,
             "#f0f921"
            ]
           ],
           "sequentialminus": [
            [
             0,
             "#0d0887"
            ],
            [
             0.1111111111111111,
             "#46039f"
            ],
            [
             0.2222222222222222,
             "#7201a8"
            ],
            [
             0.3333333333333333,
             "#9c179e"
            ],
            [
             0.4444444444444444,
             "#bd3786"
            ],
            [
             0.5555555555555556,
             "#d8576b"
            ],
            [
             0.6666666666666666,
             "#ed7953"
            ],
            [
             0.7777777777777778,
             "#fb9f3a"
            ],
            [
             0.8888888888888888,
             "#fdca26"
            ],
            [
             1,
             "#f0f921"
            ]
           ]
          },
          "colorway": [
           "#636efa",
           "#EF553B",
           "#00cc96",
           "#ab63fa",
           "#FFA15A",
           "#19d3f3",
           "#FF6692",
           "#B6E880",
           "#FF97FF",
           "#FECB52"
          ],
          "font": {
           "color": "#2a3f5f"
          },
          "geo": {
           "bgcolor": "white",
           "lakecolor": "white",
           "landcolor": "#E5ECF6",
           "showlakes": true,
           "showland": true,
           "subunitcolor": "white"
          },
          "hoverlabel": {
           "align": "left"
          },
          "hovermode": "closest",
          "mapbox": {
           "style": "light"
          },
          "paper_bgcolor": "white",
          "plot_bgcolor": "#E5ECF6",
          "polar": {
           "angularaxis": {
            "gridcolor": "white",
            "linecolor": "white",
            "ticks": ""
           },
           "bgcolor": "#E5ECF6",
           "radialaxis": {
            "gridcolor": "white",
            "linecolor": "white",
            "ticks": ""
           }
          },
          "scene": {
           "xaxis": {
            "backgroundcolor": "#E5ECF6",
            "gridcolor": "white",
            "gridwidth": 2,
            "linecolor": "white",
            "showbackground": true,
            "ticks": "",
            "zerolinecolor": "white"
           },
           "yaxis": {
            "backgroundcolor": "#E5ECF6",
            "gridcolor": "white",
            "gridwidth": 2,
            "linecolor": "white",
            "showbackground": true,
            "ticks": "",
            "zerolinecolor": "white"
           },
           "zaxis": {
            "backgroundcolor": "#E5ECF6",
            "gridcolor": "white",
            "gridwidth": 2,
            "linecolor": "white",
            "showbackground": true,
            "ticks": "",
            "zerolinecolor": "white"
           }
          },
          "shapedefaults": {
           "line": {
            "color": "#2a3f5f"
           }
          },
          "ternary": {
           "aaxis": {
            "gridcolor": "white",
            "linecolor": "white",
            "ticks": ""
           },
           "baxis": {
            "gridcolor": "white",
            "linecolor": "white",
            "ticks": ""
           },
           "bgcolor": "#E5ECF6",
           "caxis": {
            "gridcolor": "white",
            "linecolor": "white",
            "ticks": ""
           }
          },
          "title": {
           "x": 0.05
          },
          "xaxis": {
           "automargin": true,
           "gridcolor": "white",
           "linecolor": "white",
           "ticks": "",
           "title": {
            "standoff": 15
           },
           "zerolinecolor": "white",
           "zerolinewidth": 2
          },
          "yaxis": {
           "automargin": true,
           "gridcolor": "white",
           "linecolor": "white",
           "ticks": "",
           "title": {
            "standoff": 15
           },
           "zerolinecolor": "white",
           "zerolinewidth": 2
          }
         }
        },
        "title": {
         "text": "Fold 1 Training Metrics"
        },
        "xaxis": {
         "anchor": "y",
         "domain": [
          0,
          0.45
         ],
         "title": {
          "text": "Epoch"
         }
        },
        "xaxis2": {
         "anchor": "y2",
         "domain": [
          0.55,
          1
         ],
         "title": {
          "text": "Epoch"
         }
        },
        "yaxis": {
         "anchor": "x",
         "domain": [
          0,
          1
         ],
         "title": {
          "text": "Loss"
         }
        },
        "yaxis2": {
         "anchor": "x2",
         "domain": [
          0,
          1
         ],
         "title": {
          "text": "Harrell's C"
         }
        }
       }
      }
     },
     "metadata": {},
     "output_type": "display_data"
    },
    {
     "name": "stdout",
     "output_type": "stream",
     "text": [
      "Fold 1 validation results - Loss: 19.5122, Harrell's C: 0.5588\n",
      "\n",
      "Training fold 2\n",
      "Warning, 0 events in batch 4.\n",
      "Epoch 1/100\n",
      "17/17 [==============================] - 0s 17ms/step - loss: 25.5123 - risk_loss: 25.5123 - risk_harrellsc: 0.5544 - val_loss: nan - val_risk_loss: nan - val_risk_harrellsc: 0.6854 - lr: 1.0000e-23\n",
      "Epoch 2/100\n",
      "17/17 [==============================] - 0s 18ms/step - loss: 25.4496 - risk_loss: 25.4496 - risk_harrellsc: 0.5733 - val_loss: nan - val_risk_loss: nan - val_risk_harrellsc: 0.6854 - lr: 1.0000e-23\n",
      "Epoch 3/100\n",
      "17/17 [==============================] - 0s 16ms/step - loss: 24.8010 - risk_loss: 24.8010 - risk_harrellsc: 0.5718 - val_loss: nan - val_risk_loss: nan - val_risk_harrellsc: 0.6854 - lr: 1.0000e-23\n",
      "Epoch 4/100\n",
      "17/17 [==============================] - 0s 16ms/step - loss: 25.0447 - risk_loss: 25.0447 - risk_harrellsc: 0.5742 - val_loss: nan - val_risk_loss: nan - val_risk_harrellsc: 0.6854 - lr: 1.0000e-23\n",
      "Epoch 5/100\n",
      "15/17 [=========================>....] - ETA: 0s - loss: 25.1307 - risk_loss: 25.1307 - risk_harrellsc: 0.5755\n",
      "Epoch 00005: ReduceLROnPlateau reducing learning rate to 9.999999998199588e-25.\n",
      "17/17 [==============================] - 0s 15ms/step - loss: 25.1082 - risk_loss: 25.1082 - risk_harrellsc: 0.5757 - val_loss: nan - val_risk_loss: nan - val_risk_harrellsc: 0.6854 - lr: 1.0000e-23\n",
      "Epoch 6/100\n",
      "17/17 [==============================] - 0s 15ms/step - loss: 25.1743 - risk_loss: 25.1743 - risk_harrellsc: 0.5757 - val_loss: nan - val_risk_loss: nan - val_risk_harrellsc: 0.6854 - lr: 1.0000e-24\n",
      "Epoch 7/100\n",
      "17/17 [==============================] - 0s 16ms/step - loss: 24.8164 - risk_loss: 24.8164 - risk_harrellsc: 0.5645 - val_loss: nan - val_risk_loss: nan - val_risk_harrellsc: 0.6854 - lr: 1.0000e-24\n",
      "Epoch 8/100\n",
      "17/17 [==============================] - 0s 16ms/step - loss: 25.0368 - risk_loss: 25.0368 - risk_harrellsc: 0.5707 - val_loss: nan - val_risk_loss: nan - val_risk_harrellsc: 0.6854 - lr: 1.0000e-24\n",
      "Epoch 9/100\n",
      "17/17 [==============================] - 0s 18ms/step - loss: 25.2452 - risk_loss: 25.2452 - risk_harrellsc: 0.5708 - val_loss: nan - val_risk_loss: nan - val_risk_harrellsc: 0.6854 - lr: 1.0000e-24\n",
      "Epoch 10/100\n",
      "15/17 [=========================>....] - ETA: 0s - loss: 26.1266 - risk_loss: 26.1266 - risk_harrellsc: 0.5866\n",
      "Epoch 00010: ReduceLROnPlateau reducing learning rate to 1.0000000195414814e-25.\n",
      "17/17 [==============================] - 0s 19ms/step - loss: 25.1278 - risk_loss: 25.1278 - risk_harrellsc: 0.5745 - val_loss: nan - val_risk_loss: nan - val_risk_harrellsc: 0.6854 - lr: 1.0000e-24\n",
      "Epoch 11/100\n",
      "17/17 [==============================] - 0s 20ms/step - loss: 25.0246 - risk_loss: 25.0246 - risk_harrellsc: 0.5629 - val_loss: nan - val_risk_loss: nan - val_risk_harrellsc: 0.6854 - lr: 1.0000e-25\n",
      "Epoch 12/100\n",
      "17/17 [==============================] - 0s 16ms/step - loss: 25.0108 - risk_loss: 25.0108 - risk_harrellsc: 0.5714 - val_loss: nan - val_risk_loss: nan - val_risk_harrellsc: 0.6854 - lr: 1.0000e-25\n",
      "Epoch 13/100\n",
      "17/17 [==============================] - 0s 16ms/step - loss: 25.5810 - risk_loss: 25.5810 - risk_harrellsc: 0.5588 - val_loss: nan - val_risk_loss: nan - val_risk_harrellsc: 0.6854 - lr: 1.0000e-25\n",
      "Epoch 14/100\n",
      "17/17 [==============================] - 0s 16ms/step - loss: 24.8346 - risk_loss: 24.8346 - risk_harrellsc: 0.5672 - val_loss: nan - val_risk_loss: nan - val_risk_harrellsc: 0.6854 - lr: 1.0000e-25\n",
      "Epoch 15/100\n",
      "15/17 [=========================>....] - ETA: 0s - loss: 25.1612 - risk_loss: 25.1612 - risk_harrellsc: 0.5886\n",
      "Epoch 00015: ReduceLROnPlateau reducing learning rate to 1.0000000195414814e-26.\n",
      "17/17 [==============================] - 0s 18ms/step - loss: 24.8811 - risk_loss: 24.8811 - risk_harrellsc: 0.5709 - val_loss: nan - val_risk_loss: nan - val_risk_harrellsc: 0.6854 - lr: 1.0000e-25\n",
      "Epoch 16/100\n",
      "17/17 [==============================] - 0s 16ms/step - loss: 24.4691 - risk_loss: 24.4691 - risk_harrellsc: 0.5825 - val_loss: nan - val_risk_loss: nan - val_risk_harrellsc: 0.6854 - lr: 1.0000e-26\n",
      "Epoch 17/100\n",
      "17/17 [==============================] - 0s 17ms/step - loss: 25.4810 - risk_loss: 25.4810 - risk_harrellsc: 0.5633 - val_loss: nan - val_risk_loss: nan - val_risk_harrellsc: 0.6854 - lr: 1.0000e-26\n",
      "Epoch 18/100\n",
      "17/17 [==============================] - 0s 16ms/step - loss: 24.6375 - risk_loss: 24.6375 - risk_harrellsc: 0.5761 - val_loss: nan - val_risk_loss: nan - val_risk_harrellsc: 0.6854 - lr: 1.0000e-26\n",
      "Epoch 19/100\n",
      "17/17 [==============================] - 0s 16ms/step - loss: 24.7354 - risk_loss: 24.7354 - risk_harrellsc: 0.5669 - val_loss: nan - val_risk_loss: nan - val_risk_harrellsc: 0.6854 - lr: 1.0000e-26\n",
      "Epoch 20/100\n",
      "14/17 [=======================>......] - ETA: 0s - loss: 26.6334 - risk_loss: 26.6334 - risk_harrellsc: 0.5506\n",
      "Epoch 00020: ReduceLROnPlateau reducing learning rate to 9.999999887266024e-28.\n",
      "17/17 [==============================] - 0s 16ms/step - loss: 24.8148 - risk_loss: 24.8148 - risk_harrellsc: 0.5605 - val_loss: nan - val_risk_loss: nan - val_risk_harrellsc: 0.6854 - lr: 1.0000e-26\n",
      "Epoch 21/100\n",
      "17/17 [==============================] - 0s 19ms/step - loss: 25.0763 - risk_loss: 25.0763 - risk_harrellsc: 0.5688 - val_loss: nan - val_risk_loss: nan - val_risk_harrellsc: 0.6854 - lr: 1.0000e-27\n",
      "Epoch 22/100\n",
      "17/17 [==============================] - 0s 17ms/step - loss: 25.0188 - risk_loss: 25.0188 - risk_harrellsc: 0.5639 - val_loss: nan - val_risk_loss: nan - val_risk_harrellsc: 0.6854 - lr: 1.0000e-27\n",
      "Epoch 23/100\n",
      "17/17 [==============================] - 0s 16ms/step - loss: 24.9164 - risk_loss: 24.9164 - risk_harrellsc: 0.5663 - val_loss: nan - val_risk_loss: nan - val_risk_harrellsc: 0.6854 - lr: 1.0000e-27\n",
      "Epoch 24/100\n",
      "17/17 [==============================] - 0s 18ms/step - loss: 24.8727 - risk_loss: 24.8727 - risk_harrellsc: 0.5715 - val_loss: nan - val_risk_loss: nan - val_risk_harrellsc: 0.6854 - lr: 1.0000e-27\n",
      "Epoch 25/100\n",
      "15/17 [=========================>....] - ETA: 0s - loss: 26.4839 - risk_loss: 26.4839 - risk_harrellsc: 0.5579\n",
      "Epoch 00025: ReduceLROnPlateau reducing learning rate to 1.0000000272452012e-28.\n",
      "17/17 [==============================] - 0s 16ms/step - loss: 25.2810 - risk_loss: 25.2810 - risk_harrellsc: 0.5678 - val_loss: nan - val_risk_loss: nan - val_risk_harrellsc: 0.6854 - lr: 1.0000e-27\n",
      "Epoch 26/100\n",
      "17/17 [==============================] - 0s 17ms/step - loss: 25.3886 - risk_loss: 25.3886 - risk_harrellsc: 0.5692 - val_loss: nan - val_risk_loss: nan - val_risk_harrellsc: 0.6854 - lr: 1.0000e-28\n",
      "Epoch 27/100\n",
      "17/17 [==============================] - 0s 17ms/step - loss: 25.1331 - risk_loss: 25.1331 - risk_harrellsc: 0.5708 - val_loss: nan - val_risk_loss: nan - val_risk_harrellsc: 0.6854 - lr: 1.0000e-28\n",
      "Epoch 28/100\n",
      "17/17 [==============================] - 0s 17ms/step - loss: 24.9789 - risk_loss: 24.9789 - risk_harrellsc: 0.5747 - val_loss: nan - val_risk_loss: nan - val_risk_harrellsc: 0.6854 - lr: 1.0000e-28\n",
      "Epoch 29/100\n",
      "17/17 [==============================] - 0s 17ms/step - loss: 25.0260 - risk_loss: 25.0260 - risk_harrellsc: 0.5673 - val_loss: nan - val_risk_loss: nan - val_risk_harrellsc: 0.6854 - lr: 1.0000e-28\n",
      "Epoch 30/100\n",
      "13/17 [=====================>........] - ETA: 0s - loss: 26.9109 - risk_loss: 26.9109 - risk_harrellsc: 0.5698\n",
      "Epoch 00030: ReduceLROnPlateau reducing learning rate to 1.0000000031710769e-29.\n",
      "17/17 [==============================] - 0s 16ms/step - loss: 24.8809 - risk_loss: 24.8809 - risk_harrellsc: 0.5758 - val_loss: nan - val_risk_loss: nan - val_risk_harrellsc: 0.6854 - lr: 1.0000e-28\n",
      "Epoch 31/100\n",
      "17/17 [==============================] - 0s 22ms/step - loss: 25.0407 - risk_loss: 25.0407 - risk_harrellsc: 0.5618 - val_loss: nan - val_risk_loss: nan - val_risk_harrellsc: 0.6854 - lr: 1.0000e-29\n",
      "Epoch 32/100\n",
      "17/17 [==============================] - 0s 16ms/step - loss: 25.1430 - risk_loss: 25.1430 - risk_harrellsc: 0.5638 - val_loss: nan - val_risk_loss: nan - val_risk_harrellsc: 0.6854 - lr: 1.0000e-29\n",
      "Epoch 33/100\n",
      "17/17 [==============================] - 0s 16ms/step - loss: 25.0291 - risk_loss: 25.0291 - risk_harrellsc: 0.5788 - val_loss: nan - val_risk_loss: nan - val_risk_harrellsc: 0.6854 - lr: 1.0000e-29\n",
      "Epoch 34/100\n",
      "17/17 [==============================] - 0s 19ms/step - loss: 25.3625 - risk_loss: 25.3625 - risk_harrellsc: 0.5598 - val_loss: nan - val_risk_loss: nan - val_risk_harrellsc: 0.6854 - lr: 1.0000e-29\n",
      "Epoch 35/100\n",
      "14/17 [=======================>......] - ETA: 0s - loss: 26.9287 - risk_loss: 26.9287 - risk_harrellsc: 0.5640\n",
      "Epoch 00035: ReduceLROnPlateau reducing learning rate to 1.0000000031710769e-30.\n",
      "17/17 [==============================] - 0s 16ms/step - loss: 25.1069 - risk_loss: 25.1069 - risk_harrellsc: 0.5631 - val_loss: nan - val_risk_loss: nan - val_risk_harrellsc: 0.6854 - lr: 1.0000e-29\n",
      "Epoch 36/100\n",
      "17/17 [==============================] - 0s 20ms/step - loss: 25.3501 - risk_loss: 25.3501 - risk_harrellsc: 0.5696 - val_loss: nan - val_risk_loss: nan - val_risk_harrellsc: 0.6854 - lr: 1.0000e-30\n",
      "Epoch 37/100\n",
      "17/17 [==============================] - 0s 18ms/step - loss: 25.2732 - risk_loss: 25.2732 - risk_harrellsc: 0.5719 - val_loss: nan - val_risk_loss: nan - val_risk_harrellsc: 0.6854 - lr: 1.0000e-30\n",
      "Epoch 38/100\n",
      "17/17 [==============================] - 0s 18ms/step - loss: 24.7210 - risk_loss: 24.7210 - risk_harrellsc: 0.5787 - val_loss: nan - val_risk_loss: nan - val_risk_harrellsc: 0.6854 - lr: 1.0000e-30\n",
      "Epoch 39/100\n",
      "17/17 [==============================] - 0s 16ms/step - loss: 25.2147 - risk_loss: 25.2147 - risk_harrellsc: 0.5595 - val_loss: nan - val_risk_loss: nan - val_risk_harrellsc: 0.6854 - lr: 1.0000e-30\n",
      "Epoch 40/100\n",
      "15/17 [=========================>....] - ETA: 0s - loss: 25.1424 - risk_loss: 25.1424 - risk_harrellsc: 0.5660\n",
      "Epoch 00040: ReduceLROnPlateau reducing learning rate to 1.000000003171077e-31.\n",
      "17/17 [==============================] - 0s 20ms/step - loss: 25.1413 - risk_loss: 25.1413 - risk_harrellsc: 0.5664 - val_loss: nan - val_risk_loss: nan - val_risk_harrellsc: 0.6854 - lr: 1.0000e-30\n",
      "Epoch 41/100\n",
      "17/17 [==============================] - 0s 18ms/step - loss: 25.2916 - risk_loss: 25.2916 - risk_harrellsc: 0.5706 - val_loss: nan - val_risk_loss: nan - val_risk_harrellsc: 0.6854 - lr: 1.0000e-31\n",
      "Epoch 42/100\n",
      "17/17 [==============================] - 0s 19ms/step - loss: 24.8115 - risk_loss: 24.8115 - risk_harrellsc: 0.5631 - val_loss: nan - val_risk_loss: nan - val_risk_harrellsc: 0.6854 - lr: 1.0000e-31\n",
      "Epoch 43/100\n",
      "17/17 [==============================] - 0s 17ms/step - loss: 24.9058 - risk_loss: 24.9058 - risk_harrellsc: 0.5685 - val_loss: nan - val_risk_loss: nan - val_risk_harrellsc: 0.6854 - lr: 1.0000e-31\n",
      "Epoch 44/100\n",
      "17/17 [==============================] - 0s 17ms/step - loss: 24.5182 - risk_loss: 24.5182 - risk_harrellsc: 0.5653 - val_loss: nan - val_risk_loss: nan - val_risk_harrellsc: 0.6854 - lr: 1.0000e-31\n",
      "Epoch 45/100\n",
      "16/17 [===========================>..] - ETA: 0s - loss: 26.3274 - risk_loss: 26.3274 - risk_harrellsc: 0.5619\n",
      "Epoch 00045: ReduceLROnPlateau reducing learning rate to 9.999999796611899e-33.\n",
      "17/17 [==============================] - 0s 18ms/step - loss: nan - risk_loss: nan - risk_harrellsc: 0.5619 - val_loss: nan - val_risk_loss: nan - val_risk_harrellsc: 0.6854 - lr: 1.0000e-31\n",
      "Epoch 46/100\n",
      "17/17 [==============================] - 0s 19ms/step - loss: 25.3275 - risk_loss: 25.3275 - risk_harrellsc: 0.5720 - val_loss: nan - val_risk_loss: nan - val_risk_harrellsc: 0.6854 - lr: 1.0000e-32\n",
      "Epoch 47/100\n",
      "17/17 [==============================] - 0s 16ms/step - loss: 24.4136 - risk_loss: 24.4136 - risk_harrellsc: 0.5762 - val_loss: nan - val_risk_loss: nan - val_risk_harrellsc: 0.6854 - lr: 1.0000e-32\n",
      "Epoch 48/100\n",
      "17/17 [==============================] - 0s 17ms/step - loss: 25.4248 - risk_loss: 25.4248 - risk_harrellsc: 0.5590 - val_loss: nan - val_risk_loss: nan - val_risk_harrellsc: 0.6854 - lr: 1.0000e-32\n",
      "Epoch 49/100\n",
      "17/17 [==============================] - 0s 16ms/step - loss: 25.0964 - risk_loss: 25.0964 - risk_harrellsc: 0.5617 - val_loss: nan - val_risk_loss: nan - val_risk_harrellsc: 0.6854 - lr: 1.0000e-32\n",
      "Epoch 50/100\n",
      "17/17 [==============================] - ETA: 0s - loss: 25.2089 - risk_loss: 25.2089 - risk_harrellsc: 0.5657\n",
      "Epoch 00050: ReduceLROnPlateau reducing learning rate to 9.999999502738312e-34.\n",
      "17/17 [==============================] - 0s 22ms/step - loss: 25.2089 - risk_loss: 25.2089 - risk_harrellsc: 0.5657 - val_loss: nan - val_risk_loss: nan - val_risk_harrellsc: 0.6854 - lr: 1.0000e-32\n",
      "Epoch 51/100\n",
      "17/17 [==============================] - 0s 18ms/step - loss: 25.2597 - risk_loss: 25.2597 - risk_harrellsc: 0.5595 - val_loss: nan - val_risk_loss: nan - val_risk_harrellsc: 0.6854 - lr: 1.0000e-33\n",
      "Epoch 52/100\n",
      "17/17 [==============================] - 0s 18ms/step - loss: 25.0824 - risk_loss: 25.0824 - risk_harrellsc: 0.5827 - val_loss: nan - val_risk_loss: nan - val_risk_harrellsc: 0.6854 - lr: 1.0000e-33\n",
      "Epoch 53/100\n",
      "17/17 [==============================] - 0s 16ms/step - loss: 25.2231 - risk_loss: 25.2231 - risk_harrellsc: 0.5685 - val_loss: nan - val_risk_loss: nan - val_risk_harrellsc: 0.6854 - lr: 1.0000e-33\n",
      "Epoch 54/100\n",
      "17/17 [==============================] - 0s 16ms/step - loss: 25.0380 - risk_loss: 25.0380 - risk_harrellsc: 0.5703 - val_loss: nan - val_risk_loss: nan - val_risk_harrellsc: 0.6854 - lr: 1.0000e-33\n",
      "Epoch 55/100\n",
      "13/17 [=====================>........] - ETA: 0s - loss: 26.8278 - risk_loss: 26.8278 - risk_harrellsc: 0.5810\n",
      "Epoch 00055: ReduceLROnPlateau reducing learning rate to 9.999999319067318e-35.\n",
      "17/17 [==============================] - 0s 17ms/step - loss: 25.5719 - risk_loss: 25.5719 - risk_harrellsc: 0.5728 - val_loss: nan - val_risk_loss: nan - val_risk_harrellsc: 0.6854 - lr: 1.0000e-33\n",
      "Epoch 56/100\n",
      "17/17 [==============================] - 0s 16ms/step - loss: 25.3277 - risk_loss: 25.3277 - risk_harrellsc: 0.5605 - val_loss: nan - val_risk_loss: nan - val_risk_harrellsc: 0.6854 - lr: 1.0000e-34\n",
      "Epoch 57/100\n",
      "17/17 [==============================] - 0s 19ms/step - loss: 24.8762 - risk_loss: 24.8762 - risk_harrellsc: 0.5822 - val_loss: nan - val_risk_loss: nan - val_risk_harrellsc: 0.6854 - lr: 1.0000e-34\n",
      "Epoch 58/100\n",
      "17/17 [==============================] - 0s 17ms/step - loss: 25.2297 - risk_loss: 25.2297 - risk_harrellsc: 0.5644 - val_loss: nan - val_risk_loss: nan - val_risk_harrellsc: 0.6854 - lr: 1.0000e-34\n",
      "Epoch 59/100\n",
      "17/17 [==============================] - 0s 16ms/step - loss: 25.0140 - risk_loss: 25.0140 - risk_harrellsc: 0.5686 - val_loss: nan - val_risk_loss: nan - val_risk_harrellsc: 0.6854 - lr: 1.0000e-34\n",
      "Epoch 60/100\n",
      "17/17 [==============================] - ETA: 0s - loss: 25.2849 - risk_loss: 25.2849 - risk_harrellsc: 0.5696\n",
      "Epoch 00060: ReduceLROnPlateau reducing learning rate to 9.999999319067319e-36.\n",
      "17/17 [==============================] - 0s 18ms/step - loss: 25.2849 - risk_loss: 25.2849 - risk_harrellsc: 0.5696 - val_loss: nan - val_risk_loss: nan - val_risk_harrellsc: 0.6854 - lr: 1.0000e-34\n",
      "Epoch 61/100\n",
      "17/17 [==============================] - 0s 16ms/step - loss: 25.3474 - risk_loss: 25.3474 - risk_harrellsc: 0.5605 - val_loss: nan - val_risk_loss: nan - val_risk_harrellsc: 0.6854 - lr: 1.0000e-35\n",
      "Epoch 62/100\n",
      "17/17 [==============================] - 0s 17ms/step - loss: 25.3767 - risk_loss: 25.3767 - risk_harrellsc: 0.5667 - val_loss: nan - val_risk_loss: nan - val_risk_harrellsc: 0.6854 - lr: 1.0000e-35\n",
      "Epoch 63/100\n",
      "17/17 [==============================] - 0s 16ms/step - loss: 25.2469 - risk_loss: 25.2469 - risk_harrellsc: 0.5717 - val_loss: nan - val_risk_loss: nan - val_risk_harrellsc: 0.6854 - lr: 1.0000e-35\n",
      "Epoch 64/100\n",
      "17/17 [==============================] - 0s 17ms/step - loss: 25.4642 - risk_loss: 25.4642 - risk_harrellsc: 0.5790 - val_loss: nan - val_risk_loss: nan - val_risk_harrellsc: 0.6854 - lr: 1.0000e-35\n",
      "Epoch 65/100\n",
      "15/17 [=========================>....] - ETA: 0s - loss: 24.4076 - risk_loss: 24.4076 - risk_harrellsc: 0.5794\n",
      "Epoch 00065: ReduceLROnPlateau reducing learning rate to 9.999999462560281e-37.\n",
      "17/17 [==============================] - 0s 16ms/step - loss: 24.9047 - risk_loss: 24.9047 - risk_harrellsc: 0.5689 - val_loss: nan - val_risk_loss: nan - val_risk_harrellsc: 0.6854 - lr: 1.0000e-35\n",
      "Epoch 66/100\n",
      "17/17 [==============================] - 0s 16ms/step - loss: 25.0104 - risk_loss: 25.0104 - risk_harrellsc: 0.5629 - val_loss: nan - val_risk_loss: nan - val_risk_harrellsc: 0.6854 - lr: 1.0000e-36\n",
      "Epoch 67/100\n",
      "17/17 [==============================] - 0s 20ms/step - loss: 24.6650 - risk_loss: 24.6650 - risk_harrellsc: 0.5630 - val_loss: nan - val_risk_loss: nan - val_risk_harrellsc: 0.6854 - lr: 1.0000e-36\n",
      "Epoch 68/100\n",
      "17/17 [==============================] - 0s 16ms/step - loss: 24.9622 - risk_loss: 24.9622 - risk_harrellsc: 0.5698 - val_loss: nan - val_risk_loss: nan - val_risk_harrellsc: 0.6854 - lr: 1.0000e-36\n",
      "Epoch 69/100\n",
      "17/17 [==============================] - 0s 20ms/step - loss: 24.9105 - risk_loss: 24.9105 - risk_harrellsc: 0.5736 - val_loss: nan - val_risk_loss: nan - val_risk_harrellsc: 0.6854 - lr: 1.0000e-36\n",
      "Epoch 70/100\n",
      "14/17 [=======================>......] - ETA: 0s - loss: 27.1259 - risk_loss: 27.1259 - risk_harrellsc: 0.5755\n",
      "Epoch 00070: ReduceLROnPlateau reducing learning rate to 9.99999946256028e-38.\n",
      "17/17 [==============================] - 0s 20ms/step - loss: 25.2767 - risk_loss: 25.2767 - risk_harrellsc: 0.5733 - val_loss: nan - val_risk_loss: nan - val_risk_harrellsc: 0.6854 - lr: 1.0000e-36\n",
      "Epoch 71/100\n",
      "17/17 [==============================] - 0s 17ms/step - loss: 25.4458 - risk_loss: 25.4458 - risk_harrellsc: 0.5707 - val_loss: nan - val_risk_loss: nan - val_risk_harrellsc: 0.6854 - lr: 1.0000e-37\n",
      "Epoch 72/100\n",
      "17/17 [==============================] - 0s 17ms/step - loss: 25.2461 - risk_loss: 25.2461 - risk_harrellsc: 0.5702 - val_loss: nan - val_risk_loss: nan - val_risk_harrellsc: 0.6854 - lr: 1.0000e-37\n",
      "Epoch 73/100\n",
      "17/17 [==============================] - 0s 16ms/step - loss: 25.1964 - risk_loss: 25.1964 - risk_harrellsc: 0.5564 - val_loss: nan - val_risk_loss: nan - val_risk_harrellsc: 0.6854 - lr: 1.0000e-37\n",
      "Epoch 74/100\n",
      "17/17 [==============================] - 0s 16ms/step - loss: 24.6642 - risk_loss: 24.6642 - risk_harrellsc: 0.5695 - val_loss: nan - val_risk_loss: nan - val_risk_harrellsc: 0.6854 - lr: 1.0000e-37\n",
      "Epoch 75/100\n",
      "13/17 [=====================>........] - ETA: 0s - loss: 26.2349 - risk_loss: 26.2349 - risk_harrellsc: 0.5625\n",
      "Epoch 00075: ReduceLROnPlateau reducing learning rate to 9.99999991097579e-39.\n",
      "17/17 [==============================] - 0s 18ms/step - loss: 25.4067 - risk_loss: 25.4067 - risk_harrellsc: 0.5676 - val_loss: nan - val_risk_loss: nan - val_risk_harrellsc: 0.6854 - lr: 1.0000e-37\n",
      "Epoch 76/100\n",
      "17/17 [==============================] - 0s 21ms/step - loss: 25.2931 - risk_loss: 25.2931 - risk_harrellsc: 0.5577 - val_loss: nan - val_risk_loss: nan - val_risk_harrellsc: 0.6854 - lr: 1.0000e-38\n",
      "Epoch 77/100\n",
      "17/17 [==============================] - 0s 20ms/step - loss: 25.1277 - risk_loss: 25.1277 - risk_harrellsc: 0.5732 - val_loss: nan - val_risk_loss: nan - val_risk_harrellsc: 0.6854 - lr: 1.0000e-38\n",
      "Epoch 78/100\n",
      "17/17 [==============================] - 0s 17ms/step - loss: 25.2132 - risk_loss: 25.2132 - risk_harrellsc: 0.5643 - val_loss: nan - val_risk_loss: nan - val_risk_harrellsc: 0.6854 - lr: 1.0000e-38\n",
      "Epoch 79/100\n",
      "17/17 [==============================] - 0s 15ms/step - loss: 25.2241 - risk_loss: 25.2241 - risk_harrellsc: 0.5695 - val_loss: nan - val_risk_loss: nan - val_risk_harrellsc: 0.6854 - lr: 1.0000e-38\n",
      "Epoch 80/100\n",
      "15/17 [=========================>....] - ETA: 0s - loss: 25.5509 - risk_loss: 25.5509 - risk_harrellsc: 0.5621\n",
      "Epoch 00080: ReduceLROnPlateau reducing learning rate to 9.999999350456405e-40.\n",
      "17/17 [==============================] - 0s 17ms/step - loss: 25.4934 - risk_loss: 25.4934 - risk_harrellsc: 0.5691 - val_loss: nan - val_risk_loss: nan - val_risk_harrellsc: 0.6854 - lr: 1.0000e-38\n",
      "Epoch 81/100\n",
      "17/17 [==============================] - 0s 16ms/step - loss: 25.3016 - risk_loss: 25.3016 - risk_harrellsc: 0.5799 - val_loss: nan - val_risk_loss: nan - val_risk_harrellsc: 0.6854 - lr: 1.0000e-39\n",
      "Epoch 82/100\n",
      "17/17 [==============================] - 0s 18ms/step - loss: 25.4718 - risk_loss: 25.4718 - risk_harrellsc: 0.5500 - val_loss: nan - val_risk_loss: nan - val_risk_harrellsc: 0.6854 - lr: 1.0000e-39\n",
      "Epoch 83/100\n",
      "17/17 [==============================] - 0s 17ms/step - loss: 25.0400 - risk_loss: 25.0400 - risk_harrellsc: 0.5653 - val_loss: nan - val_risk_loss: nan - val_risk_harrellsc: 0.6854 - lr: 1.0000e-39\n",
      "Epoch 84/100\n",
      "17/17 [==============================] - 0s 16ms/step - loss: 25.0125 - risk_loss: 25.0125 - risk_harrellsc: 0.5707 - val_loss: nan - val_risk_loss: nan - val_risk_harrellsc: 0.6854 - lr: 1.0000e-39\n",
      "Epoch 85/100\n",
      "13/17 [=====================>........] - ETA: 0s - loss: 27.6211 - risk_loss: 27.6211 - risk_harrellsc: 0.5816\n",
      "Epoch 00085: ReduceLROnPlateau reducing learning rate to 1.0000002153053334e-40.\n",
      "17/17 [==============================] - 0s 17ms/step - loss: 25.2847 - risk_loss: 25.2847 - risk_harrellsc: 0.5724 - val_loss: nan - val_risk_loss: nan - val_risk_harrellsc: 0.6854 - lr: 1.0000e-39\n",
      "Epoch 86/100\n",
      "17/17 [==============================] - 0s 17ms/step - loss: 25.4117 - risk_loss: 25.4117 - risk_harrellsc: 0.5730 - val_loss: nan - val_risk_loss: nan - val_risk_harrellsc: 0.6854 - lr: 9.9999e-41\n",
      "Epoch 87/100\n",
      "17/17 [==============================] - 0s 15ms/step - loss: 24.9411 - risk_loss: 24.9411 - risk_harrellsc: 0.5616 - val_loss: nan - val_risk_loss: nan - val_risk_harrellsc: 0.6854 - lr: 9.9999e-41\n",
      "Epoch 88/100\n",
      "17/17 [==============================] - 0s 17ms/step - loss: 25.1746 - risk_loss: 25.1746 - risk_harrellsc: 0.5672 - val_loss: nan - val_risk_loss: nan - val_risk_harrellsc: 0.6854 - lr: 9.9999e-41\n",
      "Epoch 89/100\n",
      "17/17 [==============================] - 0s 16ms/step - loss: 25.0442 - risk_loss: 25.0442 - risk_harrellsc: 0.5716 - val_loss: nan - val_risk_loss: nan - val_risk_harrellsc: 0.6854 - lr: 9.9999e-41\n",
      "Epoch 90/100\n",
      "15/17 [=========================>....] - ETA: 0s - loss: 26.1140 - risk_loss: 26.1140 - risk_harrellsc: 0.5816\n",
      "Epoch 00090: ReduceLROnPlateau reducing learning rate to 9.99994610111476e-42.\n",
      "17/17 [==============================] - 0s 18ms/step - loss: 25.2455 - risk_loss: 25.2455 - risk_harrellsc: 0.5705 - val_loss: nan - val_risk_loss: nan - val_risk_harrellsc: 0.6854 - lr: 9.9999e-41\n",
      "Epoch 91/100\n",
      "17/17 [==============================] - 0s 16ms/step - loss: 25.3101 - risk_loss: 25.3101 - risk_harrellsc: 0.5679 - val_loss: nan - val_risk_loss: nan - val_risk_harrellsc: 0.6854 - lr: 9.9997e-42\n",
      "Epoch 92/100\n",
      "17/17 [==============================] - 0s 15ms/step - loss: 24.7282 - risk_loss: 24.7282 - risk_harrellsc: 0.5616 - val_loss: nan - val_risk_loss: nan - val_risk_harrellsc: 0.6854 - lr: 9.9997e-42\n",
      "Epoch 93/100\n",
      "17/17 [==============================] - 0s 14ms/step - loss: 25.0880 - risk_loss: 25.0880 - risk_harrellsc: 0.5720 - val_loss: nan - val_risk_loss: nan - val_risk_harrellsc: 0.6854 - lr: 9.9997e-42\n",
      "Epoch 94/100\n",
      "17/17 [==============================] - 0s 15ms/step - loss: nan - risk_loss: nan - risk_harrellsc: 0.5749 - val_loss: nan - val_risk_loss: nan - val_risk_harrellsc: 0.6854 - lr: 9.9997e-42\n",
      "Epoch 95/100\n",
      "13/17 [=====================>........] - ETA: 0s - loss: 26.2096 - risk_loss: 26.2096 - risk_harrellsc: 0.5723\n",
      "Epoch 00095: ReduceLROnPlateau reducing learning rate to 9.999665841421895e-43.\n",
      "17/17 [==============================] - 0s 16ms/step - loss: 25.2602 - risk_loss: 25.2602 - risk_harrellsc: 0.5772 - val_loss: nan - val_risk_loss: nan - val_risk_harrellsc: 0.6854 - lr: 9.9997e-42\n",
      "Epoch 96/100\n",
      "17/17 [==============================] - 0s 16ms/step - loss: 25.2328 - risk_loss: 25.2328 - risk_harrellsc: 0.5658 - val_loss: nan - val_risk_loss: nan - val_risk_harrellsc: 0.6854 - lr: 1.0005e-42\n",
      "Epoch 97/100\n",
      "17/17 [==============================] - 0s 15ms/step - loss: 24.8434 - risk_loss: 24.8434 - risk_harrellsc: 0.5608 - val_loss: nan - val_risk_loss: nan - val_risk_harrellsc: 0.6854 - lr: 1.0005e-42\n",
      "Epoch 98/100\n",
      "17/17 [==============================] - 0s 18ms/step - loss: 24.9808 - risk_loss: 24.9808 - risk_harrellsc: 0.5717 - val_loss: nan - val_risk_loss: nan - val_risk_harrellsc: 0.6854 - lr: 1.0005e-42\n",
      "Epoch 99/100\n",
      "17/17 [==============================] - 0s 15ms/step - loss: 24.5751 - risk_loss: 24.5751 - risk_harrellsc: 0.5576 - val_loss: nan - val_risk_loss: nan - val_risk_harrellsc: 0.6854 - lr: 1.0005e-42\n",
      "Epoch 100/100\n",
      "15/17 [=========================>....] - ETA: 0s - loss: 25.4831 - risk_loss: 25.4831 - risk_harrellsc: 0.5762\n",
      "Epoch 00100: ReduceLROnPlateau reducing learning rate to 1.0005271035279195e-43.\n",
      "17/17 [==============================] - 0s 15ms/step - loss: 24.8748 - risk_loss: 24.8748 - risk_harrellsc: 0.5735 - val_loss: nan - val_risk_loss: nan - val_risk_harrellsc: 0.6854 - lr: 1.0005e-42\n"
     ]
    },
    {
     "data": {
      "application/vnd.plotly.v1+json": {
       "config": {
        "plotlyServerURL": "https://plot.ly"
       },
       "data": [
        {
         "mode": "lines",
         "name": "Train Loss",
         "type": "scatter",
         "x": [
          1,
          2,
          3,
          4,
          5,
          6,
          7,
          8,
          9,
          10,
          11,
          12,
          13,
          14,
          15,
          16,
          17,
          18,
          19,
          20,
          21,
          22,
          23,
          24,
          25,
          26,
          27,
          28,
          29,
          30,
          31,
          32,
          33,
          34,
          35,
          36,
          37,
          38,
          39,
          40,
          41,
          42,
          43,
          44,
          45,
          46,
          47,
          48,
          49,
          50,
          51,
          52,
          53,
          54,
          55,
          56,
          57,
          58,
          59,
          60,
          61,
          62,
          63,
          64,
          65,
          66,
          67,
          68,
          69,
          70,
          71,
          72,
          73,
          74,
          75,
          76,
          77,
          78,
          79,
          80,
          81,
          82,
          83,
          84,
          85,
          86,
          87,
          88,
          89,
          90,
          91,
          92,
          93,
          94,
          95,
          96,
          97,
          98,
          99,
          100
         ],
         "xaxis": "x",
         "y": [
          25.51228904724121,
          25.44961166381836,
          24.801034927368164,
          25.044687271118164,
          25.10817527770996,
          25.1743106842041,
          24.816362380981445,
          25.03679084777832,
          25.245189666748047,
          25.12778663635254,
          25.024568557739258,
          25.01081657409668,
          25.580968856811523,
          24.834640502929688,
          24.881128311157227,
          24.469072341918945,
          25.481016159057617,
          24.637462615966797,
          24.735445022583008,
          24.81477165222168,
          25.076303482055664,
          25.018821716308594,
          24.91635513305664,
          24.872669219970703,
          25.28099822998047,
          25.388559341430664,
          25.133119583129883,
          24.97892189025879,
          25.02601432800293,
          24.880891799926758,
          25.04067039489746,
          25.143047332763672,
          25.029075622558594,
          25.362525939941406,
          25.106924057006836,
          25.350055694580078,
          25.27323341369629,
          24.720964431762695,
          25.2147274017334,
          25.14134407043457,
          25.291582107543945,
          24.811521530151367,
          24.9057559967041,
          24.518247604370117,
          null,
          25.327476501464844,
          24.41364288330078,
          25.424772262573242,
          25.09639549255371,
          25.208894729614258,
          25.259748458862305,
          25.082372665405273,
          25.223125457763672,
          25.038022994995117,
          25.571924209594727,
          25.32767105102539,
          24.87620735168457,
          25.229656219482422,
          25.013996124267578,
          25.28487205505371,
          25.34735107421875,
          25.376718521118164,
          25.24688720703125,
          25.464214324951172,
          24.90465545654297,
          25.01036834716797,
          24.665035247802734,
          24.962228775024414,
          24.910547256469727,
          25.276660919189453,
          25.44578742980957,
          25.24610137939453,
          25.196369171142578,
          24.664247512817383,
          25.40667724609375,
          25.293119430541992,
          25.12765121459961,
          25.213214874267578,
          25.2241153717041,
          25.49335289001465,
          25.30162239074707,
          25.471782684326172,
          25.03999900817871,
          25.012454986572266,
          25.28466796875,
          25.411697387695312,
          24.941123962402344,
          25.174619674682617,
          25.044158935546875,
          25.245466232299805,
          25.310123443603516,
          24.72821807861328,
          25.08798599243164,
          null,
          25.26018524169922,
          25.232812881469727,
          24.843412399291992,
          24.9808292388916,
          24.57514762878418,
          24.874828338623047
         ],
         "yaxis": "y"
        },
        {
         "mode": "lines",
         "name": "Validation Loss",
         "type": "scatter",
         "x": [
          1,
          2,
          3,
          4,
          5,
          6,
          7,
          8,
          9,
          10,
          11,
          12,
          13,
          14,
          15,
          16,
          17,
          18,
          19,
          20,
          21,
          22,
          23,
          24,
          25,
          26,
          27,
          28,
          29,
          30,
          31,
          32,
          33,
          34,
          35,
          36,
          37,
          38,
          39,
          40,
          41,
          42,
          43,
          44,
          45,
          46,
          47,
          48,
          49,
          50,
          51,
          52,
          53,
          54,
          55,
          56,
          57,
          58,
          59,
          60,
          61,
          62,
          63,
          64,
          65,
          66,
          67,
          68,
          69,
          70,
          71,
          72,
          73,
          74,
          75,
          76,
          77,
          78,
          79,
          80,
          81,
          82,
          83,
          84,
          85,
          86,
          87,
          88,
          89,
          90,
          91,
          92,
          93,
          94,
          95,
          96,
          97,
          98,
          99,
          100
         ],
         "xaxis": "x",
         "y": [
          null,
          null,
          null,
          null,
          null,
          null,
          null,
          null,
          null,
          null,
          null,
          null,
          null,
          null,
          null,
          null,
          null,
          null,
          null,
          null,
          null,
          null,
          null,
          null,
          null,
          null,
          null,
          null,
          null,
          null,
          null,
          null,
          null,
          null,
          null,
          null,
          null,
          null,
          null,
          null,
          null,
          null,
          null,
          null,
          null,
          null,
          null,
          null,
          null,
          null,
          null,
          null,
          null,
          null,
          null,
          null,
          null,
          null,
          null,
          null,
          null,
          null,
          null,
          null,
          null,
          null,
          null,
          null,
          null,
          null,
          null,
          null,
          null,
          null,
          null,
          null,
          null,
          null,
          null,
          null,
          null,
          null,
          null,
          null,
          null,
          null,
          null,
          null,
          null,
          null,
          null,
          null,
          null,
          null,
          null,
          null,
          null,
          null,
          null,
          null
         ],
         "yaxis": "y"
        },
        {
         "mode": "lines",
         "name": "Train Harrell's C",
         "type": "scatter",
         "x": [
          1,
          2,
          3,
          4,
          5,
          6,
          7,
          8,
          9,
          10,
          11,
          12,
          13,
          14,
          15,
          16,
          17,
          18,
          19,
          20,
          21,
          22,
          23,
          24,
          25,
          26,
          27,
          28,
          29,
          30,
          31,
          32,
          33,
          34,
          35,
          36,
          37,
          38,
          39,
          40,
          41,
          42,
          43,
          44,
          45,
          46,
          47,
          48,
          49,
          50,
          51,
          52,
          53,
          54,
          55,
          56,
          57,
          58,
          59,
          60,
          61,
          62,
          63,
          64,
          65,
          66,
          67,
          68,
          69,
          70,
          71,
          72,
          73,
          74,
          75,
          76,
          77,
          78,
          79,
          80,
          81,
          82,
          83,
          84,
          85,
          86,
          87,
          88,
          89,
          90,
          91,
          92,
          93,
          94,
          95,
          96,
          97,
          98,
          99,
          100
         ],
         "xaxis": "x2",
         "y": [
          0.5543658851762968,
          0.5733235077376566,
          0.5718030331398615,
          0.5741707044353336,
          0.5757406372275014,
          0.57569573283859,
          0.5644612476370511,
          0.5706501315295002,
          0.5707898658718331,
          0.5745116279069767,
          0.5628977910894796,
          0.5713751169317118,
          0.5588072887907234,
          0.5671641791044776,
          0.5708690787019769,
          0.5824554683010917,
          0.5633179723502304,
          0.5761199696279423,
          0.5669053901243875,
          0.5604562737642586,
          0.5687835586002592,
          0.5638658628485305,
          0.5662673156121303,
          0.5714821060520892,
          0.5678419789551412,
          0.5692079940784605,
          0.5707660916342051,
          0.5747019374068554,
          0.5672734096453368,
          0.5757803685596089,
          0.5618103609500654,
          0.563752106347126,
          0.5787890184279805,
          0.5598227474150664,
          0.5631195062651955,
          0.5695692025664528,
          0.5718513038653598,
          0.578662182361734,
          0.5595238095238095,
          0.5663881151346333,
          0.5706381409074143,
          0.5630664652567976,
          0.5684585128301181,
          0.5652669580087403,
          0.561915244909191,
          0.5720051366721702,
          0.5761640160950374,
          0.5590477961688674,
          0.5617433414043583,
          0.5657333580567402,
          0.5595392903585361,
          0.5826698759488984,
          0.5685033507073716,
          0.5702510303484452,
          0.5727853881278538,
          0.5605472360880015,
          0.5821561338289962,
          0.5643693107932379,
          0.568620178041543,
          0.5695660271931459,
          0.56047416188183,
          0.5666543574593796,
          0.5717209302325581,
          0.5790441176470589,
          0.5689492548575741,
          0.5628709198813057,
          0.5630299604296213,
          0.5697717919940142,
          0.5736317472258793,
          0.5733308673941188,
          0.5707460492466006,
          0.5701835712961246,
          0.5564441138181142,
          0.569478672985782,
          0.5675526024363233,
          0.5577244841048522,
          0.5731548614984198,
          0.56428306780289,
          0.5694752402069475,
          0.5690698954320308,
          0.579886008457437,
          0.5500462534690101,
          0.5652658981033841,
          0.570729872084274,
          0.5724355407160082,
          0.5730420292538418,
          0.56158940397351,
          0.567161375164381,
          0.5716417910447761,
          0.5705498602050326,
          0.5678989411109047,
          0.56156892325099,
          0.5720394125302101,
          0.574894320896894,
          0.5772147216571112,
          0.5657724329324699,
          0.5607511737089201,
          0.5716963448922212,
          0.5575861412526175,
          0.57354875070449
         ],
         "yaxis": "y2"
        },
        {
         "mode": "lines",
         "name": "Validation Harrell's C",
         "type": "scatter",
         "x": [
          1,
          2,
          3,
          4,
          5,
          6,
          7,
          8,
          9,
          10,
          11,
          12,
          13,
          14,
          15,
          16,
          17,
          18,
          19,
          20,
          21,
          22,
          23,
          24,
          25,
          26,
          27,
          28,
          29,
          30,
          31,
          32,
          33,
          34,
          35,
          36,
          37,
          38,
          39,
          40,
          41,
          42,
          43,
          44,
          45,
          46,
          47,
          48,
          49,
          50,
          51,
          52,
          53,
          54,
          55,
          56,
          57,
          58,
          59,
          60,
          61,
          62,
          63,
          64,
          65,
          66,
          67,
          68,
          69,
          70,
          71,
          72,
          73,
          74,
          75,
          76,
          77,
          78,
          79,
          80,
          81,
          82,
          83,
          84,
          85,
          86,
          87,
          88,
          89,
          90,
          91,
          92,
          93,
          94,
          95,
          96,
          97,
          98,
          99,
          100
         ],
         "xaxis": "x2",
         "y": [
          0.6853766617429837,
          0.6853766617429837,
          0.6853766617429837,
          0.6853766617429837,
          0.6853766617429837,
          0.6853766617429837,
          0.6853766617429837,
          0.6853766617429837,
          0.6853766617429837,
          0.6853766617429837,
          0.6853766617429837,
          0.6853766617429837,
          0.6853766617429837,
          0.6853766617429837,
          0.6853766617429837,
          0.6853766617429837,
          0.6853766617429837,
          0.6853766617429837,
          0.6853766617429837,
          0.6853766617429837,
          0.6853766617429837,
          0.6853766617429837,
          0.6853766617429837,
          0.6853766617429837,
          0.6853766617429837,
          0.6853766617429837,
          0.6853766617429837,
          0.6853766617429837,
          0.6853766617429837,
          0.6853766617429837,
          0.6853766617429837,
          0.6853766617429837,
          0.6853766617429837,
          0.6853766617429837,
          0.6853766617429837,
          0.6853766617429837,
          0.6853766617429837,
          0.6853766617429837,
          0.6853766617429837,
          0.6853766617429837,
          0.6853766617429837,
          0.6853766617429837,
          0.6853766617429837,
          0.6853766617429837,
          0.6853766617429837,
          0.6853766617429837,
          0.6853766617429837,
          0.6853766617429837,
          0.6853766617429837,
          0.6853766617429837,
          0.6853766617429837,
          0.6853766617429837,
          0.6853766617429837,
          0.6853766617429837,
          0.6853766617429837,
          0.6853766617429837,
          0.6853766617429837,
          0.6853766617429837,
          0.6853766617429837,
          0.6853766617429837,
          0.6853766617429837,
          0.6853766617429837,
          0.6853766617429837,
          0.6853766617429837,
          0.6853766617429837,
          0.6853766617429837,
          0.6853766617429837,
          0.6853766617429837,
          0.6853766617429837,
          0.6853766617429837,
          0.6853766617429837,
          0.6853766617429837,
          0.6853766617429837,
          0.6853766617429837,
          0.6853766617429837,
          0.6853766617429837,
          0.6853766617429837,
          0.6853766617429837,
          0.6853766617429837,
          0.6853766617429837,
          0.6853766617429837,
          0.6853766617429837,
          0.6853766617429837,
          0.6853766617429837,
          0.6853766617429837,
          0.6853766617429837,
          0.6853766617429837,
          0.6853766617429837,
          0.6853766617429837,
          0.6853766617429837,
          0.6853766617429837,
          0.6853766617429837,
          0.6853766617429837,
          0.6853766617429837,
          0.6853766617429837,
          0.6853766617429837,
          0.6853766617429837,
          0.6853766617429837,
          0.6853766617429837,
          0.6853766617429837
         ],
         "yaxis": "y2"
        }
       ],
       "layout": {
        "annotations": [
         {
          "font": {
           "size": 16
          },
          "showarrow": false,
          "text": "Loss",
          "x": 0.225,
          "xanchor": "center",
          "xref": "paper",
          "y": 1,
          "yanchor": "bottom",
          "yref": "paper"
         },
         {
          "font": {
           "size": 16
          },
          "showarrow": false,
          "text": "Harrell's C",
          "x": 0.775,
          "xanchor": "center",
          "xref": "paper",
          "y": 1,
          "yanchor": "bottom",
          "yref": "paper"
         }
        ],
        "template": {
         "data": {
          "bar": [
           {
            "error_x": {
             "color": "#2a3f5f"
            },
            "error_y": {
             "color": "#2a3f5f"
            },
            "marker": {
             "line": {
              "color": "#E5ECF6",
              "width": 0.5
             },
             "pattern": {
              "fillmode": "overlay",
              "size": 10,
              "solidity": 0.2
             }
            },
            "type": "bar"
           }
          ],
          "barpolar": [
           {
            "marker": {
             "line": {
              "color": "#E5ECF6",
              "width": 0.5
             },
             "pattern": {
              "fillmode": "overlay",
              "size": 10,
              "solidity": 0.2
             }
            },
            "type": "barpolar"
           }
          ],
          "carpet": [
           {
            "aaxis": {
             "endlinecolor": "#2a3f5f",
             "gridcolor": "white",
             "linecolor": "white",
             "minorgridcolor": "white",
             "startlinecolor": "#2a3f5f"
            },
            "baxis": {
             "endlinecolor": "#2a3f5f",
             "gridcolor": "white",
             "linecolor": "white",
             "minorgridcolor": "white",
             "startlinecolor": "#2a3f5f"
            },
            "type": "carpet"
           }
          ],
          "choropleth": [
           {
            "colorbar": {
             "outlinewidth": 0,
             "ticks": ""
            },
            "type": "choropleth"
           }
          ],
          "contour": [
           {
            "colorbar": {
             "outlinewidth": 0,
             "ticks": ""
            },
            "colorscale": [
             [
              0,
              "#0d0887"
             ],
             [
              0.1111111111111111,
              "#46039f"
             ],
             [
              0.2222222222222222,
              "#7201a8"
             ],
             [
              0.3333333333333333,
              "#9c179e"
             ],
             [
              0.4444444444444444,
              "#bd3786"
             ],
             [
              0.5555555555555556,
              "#d8576b"
             ],
             [
              0.6666666666666666,
              "#ed7953"
             ],
             [
              0.7777777777777778,
              "#fb9f3a"
             ],
             [
              0.8888888888888888,
              "#fdca26"
             ],
             [
              1,
              "#f0f921"
             ]
            ],
            "type": "contour"
           }
          ],
          "contourcarpet": [
           {
            "colorbar": {
             "outlinewidth": 0,
             "ticks": ""
            },
            "type": "contourcarpet"
           }
          ],
          "heatmap": [
           {
            "colorbar": {
             "outlinewidth": 0,
             "ticks": ""
            },
            "colorscale": [
             [
              0,
              "#0d0887"
             ],
             [
              0.1111111111111111,
              "#46039f"
             ],
             [
              0.2222222222222222,
              "#7201a8"
             ],
             [
              0.3333333333333333,
              "#9c179e"
             ],
             [
              0.4444444444444444,
              "#bd3786"
             ],
             [
              0.5555555555555556,
              "#d8576b"
             ],
             [
              0.6666666666666666,
              "#ed7953"
             ],
             [
              0.7777777777777778,
              "#fb9f3a"
             ],
             [
              0.8888888888888888,
              "#fdca26"
             ],
             [
              1,
              "#f0f921"
             ]
            ],
            "type": "heatmap"
           }
          ],
          "heatmapgl": [
           {
            "colorbar": {
             "outlinewidth": 0,
             "ticks": ""
            },
            "colorscale": [
             [
              0,
              "#0d0887"
             ],
             [
              0.1111111111111111,
              "#46039f"
             ],
             [
              0.2222222222222222,
              "#7201a8"
             ],
             [
              0.3333333333333333,
              "#9c179e"
             ],
             [
              0.4444444444444444,
              "#bd3786"
             ],
             [
              0.5555555555555556,
              "#d8576b"
             ],
             [
              0.6666666666666666,
              "#ed7953"
             ],
             [
              0.7777777777777778,
              "#fb9f3a"
             ],
             [
              0.8888888888888888,
              "#fdca26"
             ],
             [
              1,
              "#f0f921"
             ]
            ],
            "type": "heatmapgl"
           }
          ],
          "histogram": [
           {
            "marker": {
             "pattern": {
              "fillmode": "overlay",
              "size": 10,
              "solidity": 0.2
             }
            },
            "type": "histogram"
           }
          ],
          "histogram2d": [
           {
            "colorbar": {
             "outlinewidth": 0,
             "ticks": ""
            },
            "colorscale": [
             [
              0,
              "#0d0887"
             ],
             [
              0.1111111111111111,
              "#46039f"
             ],
             [
              0.2222222222222222,
              "#7201a8"
             ],
             [
              0.3333333333333333,
              "#9c179e"
             ],
             [
              0.4444444444444444,
              "#bd3786"
             ],
             [
              0.5555555555555556,
              "#d8576b"
             ],
             [
              0.6666666666666666,
              "#ed7953"
             ],
             [
              0.7777777777777778,
              "#fb9f3a"
             ],
             [
              0.8888888888888888,
              "#fdca26"
             ],
             [
              1,
              "#f0f921"
             ]
            ],
            "type": "histogram2d"
           }
          ],
          "histogram2dcontour": [
           {
            "colorbar": {
             "outlinewidth": 0,
             "ticks": ""
            },
            "colorscale": [
             [
              0,
              "#0d0887"
             ],
             [
              0.1111111111111111,
              "#46039f"
             ],
             [
              0.2222222222222222,
              "#7201a8"
             ],
             [
              0.3333333333333333,
              "#9c179e"
             ],
             [
              0.4444444444444444,
              "#bd3786"
             ],
             [
              0.5555555555555556,
              "#d8576b"
             ],
             [
              0.6666666666666666,
              "#ed7953"
             ],
             [
              0.7777777777777778,
              "#fb9f3a"
             ],
             [
              0.8888888888888888,
              "#fdca26"
             ],
             [
              1,
              "#f0f921"
             ]
            ],
            "type": "histogram2dcontour"
           }
          ],
          "mesh3d": [
           {
            "colorbar": {
             "outlinewidth": 0,
             "ticks": ""
            },
            "type": "mesh3d"
           }
          ],
          "parcoords": [
           {
            "line": {
             "colorbar": {
              "outlinewidth": 0,
              "ticks": ""
             }
            },
            "type": "parcoords"
           }
          ],
          "pie": [
           {
            "automargin": true,
            "type": "pie"
           }
          ],
          "scatter": [
           {
            "fillpattern": {
             "fillmode": "overlay",
             "size": 10,
             "solidity": 0.2
            },
            "type": "scatter"
           }
          ],
          "scatter3d": [
           {
            "line": {
             "colorbar": {
              "outlinewidth": 0,
              "ticks": ""
             }
            },
            "marker": {
             "colorbar": {
              "outlinewidth": 0,
              "ticks": ""
             }
            },
            "type": "scatter3d"
           }
          ],
          "scattercarpet": [
           {
            "marker": {
             "colorbar": {
              "outlinewidth": 0,
              "ticks": ""
             }
            },
            "type": "scattercarpet"
           }
          ],
          "scattergeo": [
           {
            "marker": {
             "colorbar": {
              "outlinewidth": 0,
              "ticks": ""
             }
            },
            "type": "scattergeo"
           }
          ],
          "scattergl": [
           {
            "marker": {
             "colorbar": {
              "outlinewidth": 0,
              "ticks": ""
             }
            },
            "type": "scattergl"
           }
          ],
          "scattermapbox": [
           {
            "marker": {
             "colorbar": {
              "outlinewidth": 0,
              "ticks": ""
             }
            },
            "type": "scattermapbox"
           }
          ],
          "scatterpolar": [
           {
            "marker": {
             "colorbar": {
              "outlinewidth": 0,
              "ticks": ""
             }
            },
            "type": "scatterpolar"
           }
          ],
          "scatterpolargl": [
           {
            "marker": {
             "colorbar": {
              "outlinewidth": 0,
              "ticks": ""
             }
            },
            "type": "scatterpolargl"
           }
          ],
          "scatterternary": [
           {
            "marker": {
             "colorbar": {
              "outlinewidth": 0,
              "ticks": ""
             }
            },
            "type": "scatterternary"
           }
          ],
          "surface": [
           {
            "colorbar": {
             "outlinewidth": 0,
             "ticks": ""
            },
            "colorscale": [
             [
              0,
              "#0d0887"
             ],
             [
              0.1111111111111111,
              "#46039f"
             ],
             [
              0.2222222222222222,
              "#7201a8"
             ],
             [
              0.3333333333333333,
              "#9c179e"
             ],
             [
              0.4444444444444444,
              "#bd3786"
             ],
             [
              0.5555555555555556,
              "#d8576b"
             ],
             [
              0.6666666666666666,
              "#ed7953"
             ],
             [
              0.7777777777777778,
              "#fb9f3a"
             ],
             [
              0.8888888888888888,
              "#fdca26"
             ],
             [
              1,
              "#f0f921"
             ]
            ],
            "type": "surface"
           }
          ],
          "table": [
           {
            "cells": {
             "fill": {
              "color": "#EBF0F8"
             },
             "line": {
              "color": "white"
             }
            },
            "header": {
             "fill": {
              "color": "#C8D4E3"
             },
             "line": {
              "color": "white"
             }
            },
            "type": "table"
           }
          ]
         },
         "layout": {
          "annotationdefaults": {
           "arrowcolor": "#2a3f5f",
           "arrowhead": 0,
           "arrowwidth": 1
          },
          "autotypenumbers": "strict",
          "coloraxis": {
           "colorbar": {
            "outlinewidth": 0,
            "ticks": ""
           }
          },
          "colorscale": {
           "diverging": [
            [
             0,
             "#8e0152"
            ],
            [
             0.1,
             "#c51b7d"
            ],
            [
             0.2,
             "#de77ae"
            ],
            [
             0.3,
             "#f1b6da"
            ],
            [
             0.4,
             "#fde0ef"
            ],
            [
             0.5,
             "#f7f7f7"
            ],
            [
             0.6,
             "#e6f5d0"
            ],
            [
             0.7,
             "#b8e186"
            ],
            [
             0.8,
             "#7fbc41"
            ],
            [
             0.9,
             "#4d9221"
            ],
            [
             1,
             "#276419"
            ]
           ],
           "sequential": [
            [
             0,
             "#0d0887"
            ],
            [
             0.1111111111111111,
             "#46039f"
            ],
            [
             0.2222222222222222,
             "#7201a8"
            ],
            [
             0.3333333333333333,
             "#9c179e"
            ],
            [
             0.4444444444444444,
             "#bd3786"
            ],
            [
             0.5555555555555556,
             "#d8576b"
            ],
            [
             0.6666666666666666,
             "#ed7953"
            ],
            [
             0.7777777777777778,
             "#fb9f3a"
            ],
            [
             0.8888888888888888,
             "#fdca26"
            ],
            [
             1,
             "#f0f921"
            ]
           ],
           "sequentialminus": [
            [
             0,
             "#0d0887"
            ],
            [
             0.1111111111111111,
             "#46039f"
            ],
            [
             0.2222222222222222,
             "#7201a8"
            ],
            [
             0.3333333333333333,
             "#9c179e"
            ],
            [
             0.4444444444444444,
             "#bd3786"
            ],
            [
             0.5555555555555556,
             "#d8576b"
            ],
            [
             0.6666666666666666,
             "#ed7953"
            ],
            [
             0.7777777777777778,
             "#fb9f3a"
            ],
            [
             0.8888888888888888,
             "#fdca26"
            ],
            [
             1,
             "#f0f921"
            ]
           ]
          },
          "colorway": [
           "#636efa",
           "#EF553B",
           "#00cc96",
           "#ab63fa",
           "#FFA15A",
           "#19d3f3",
           "#FF6692",
           "#B6E880",
           "#FF97FF",
           "#FECB52"
          ],
          "font": {
           "color": "#2a3f5f"
          },
          "geo": {
           "bgcolor": "white",
           "lakecolor": "white",
           "landcolor": "#E5ECF6",
           "showlakes": true,
           "showland": true,
           "subunitcolor": "white"
          },
          "hoverlabel": {
           "align": "left"
          },
          "hovermode": "closest",
          "mapbox": {
           "style": "light"
          },
          "paper_bgcolor": "white",
          "plot_bgcolor": "#E5ECF6",
          "polar": {
           "angularaxis": {
            "gridcolor": "white",
            "linecolor": "white",
            "ticks": ""
           },
           "bgcolor": "#E5ECF6",
           "radialaxis": {
            "gridcolor": "white",
            "linecolor": "white",
            "ticks": ""
           }
          },
          "scene": {
           "xaxis": {
            "backgroundcolor": "#E5ECF6",
            "gridcolor": "white",
            "gridwidth": 2,
            "linecolor": "white",
            "showbackground": true,
            "ticks": "",
            "zerolinecolor": "white"
           },
           "yaxis": {
            "backgroundcolor": "#E5ECF6",
            "gridcolor": "white",
            "gridwidth": 2,
            "linecolor": "white",
            "showbackground": true,
            "ticks": "",
            "zerolinecolor": "white"
           },
           "zaxis": {
            "backgroundcolor": "#E5ECF6",
            "gridcolor": "white",
            "gridwidth": 2,
            "linecolor": "white",
            "showbackground": true,
            "ticks": "",
            "zerolinecolor": "white"
           }
          },
          "shapedefaults": {
           "line": {
            "color": "#2a3f5f"
           }
          },
          "ternary": {
           "aaxis": {
            "gridcolor": "white",
            "linecolor": "white",
            "ticks": ""
           },
           "baxis": {
            "gridcolor": "white",
            "linecolor": "white",
            "ticks": ""
           },
           "bgcolor": "#E5ECF6",
           "caxis": {
            "gridcolor": "white",
            "linecolor": "white",
            "ticks": ""
           }
          },
          "title": {
           "x": 0.05
          },
          "xaxis": {
           "automargin": true,
           "gridcolor": "white",
           "linecolor": "white",
           "ticks": "",
           "title": {
            "standoff": 15
           },
           "zerolinecolor": "white",
           "zerolinewidth": 2
          },
          "yaxis": {
           "automargin": true,
           "gridcolor": "white",
           "linecolor": "white",
           "ticks": "",
           "title": {
            "standoff": 15
           },
           "zerolinecolor": "white",
           "zerolinewidth": 2
          }
         }
        },
        "title": {
         "text": "Fold 2 Training Metrics"
        },
        "xaxis": {
         "anchor": "y",
         "domain": [
          0,
          0.45
         ],
         "title": {
          "text": "Epoch"
         }
        },
        "xaxis2": {
         "anchor": "y2",
         "domain": [
          0.55,
          1
         ],
         "title": {
          "text": "Epoch"
         }
        },
        "yaxis": {
         "anchor": "x",
         "domain": [
          0,
          1
         ],
         "title": {
          "text": "Loss"
         }
        },
        "yaxis2": {
         "anchor": "x2",
         "domain": [
          0,
          1
         ],
         "title": {
          "text": "Harrell's C"
         }
        }
       }
      }
     },
     "metadata": {},
     "output_type": "display_data"
    },
    {
     "name": "stdout",
     "output_type": "stream",
     "text": [
      "Fold 2 validation results - Loss: nan, Harrell's C: 0.6854\n",
      "\n",
      "Training fold 3\n",
      "Warning, 0 events in batch 4.\n",
      "Epoch 1/100\n",
      "17/17 [==============================] - 0s 15ms/step - loss: 25.0012 - risk_loss: 25.0012 - risk_harrellsc: 0.5883 - val_loss: nan - val_risk_loss: nan - val_risk_harrellsc: 0.6309 - lr: 9.9492e-44\n",
      "Epoch 2/100\n",
      "17/17 [==============================] - 0s 16ms/step - loss: 24.8372 - risk_loss: 24.8372 - risk_harrellsc: 0.5914 - val_loss: nan - val_risk_loss: nan - val_risk_harrellsc: 0.6309 - lr: 9.9492e-44\n",
      "Epoch 3/100\n",
      "17/17 [==============================] - 0s 15ms/step - loss: 25.0993 - risk_loss: 25.0993 - risk_harrellsc: 0.5875 - val_loss: nan - val_risk_loss: nan - val_risk_harrellsc: 0.6309 - lr: 9.9492e-44\n",
      "Epoch 4/100\n",
      "17/17 [==============================] - 0s 14ms/step - loss: 24.7921 - risk_loss: 24.7921 - risk_harrellsc: 0.5899 - val_loss: nan - val_risk_loss: nan - val_risk_harrellsc: 0.6309 - lr: 9.9492e-44\n",
      "Epoch 5/100\n",
      "16/17 [===========================>..] - ETA: 0s - loss: 25.7269 - risk_loss: 25.7269 - risk_harrellsc: 0.5710\n",
      "Epoch 00005: ReduceLROnPlateau reducing learning rate to 9.949219096706202e-45.\n",
      "17/17 [==============================] - 0s 14ms/step - loss: 25.1931 - risk_loss: 25.1931 - risk_harrellsc: 0.5729 - val_loss: nan - val_risk_loss: nan - val_risk_harrellsc: 0.6309 - lr: 9.9492e-44\n",
      "Epoch 6/100\n",
      "17/17 [==============================] - 0s 14ms/step - loss: 24.5952 - risk_loss: 24.5952 - risk_harrellsc: 0.5856 - val_loss: nan - val_risk_loss: nan - val_risk_harrellsc: 0.6309 - lr: 9.8091e-45\n",
      "Epoch 7/100\n",
      "17/17 [==============================] - 0s 16ms/step - loss: 25.0158 - risk_loss: 25.0158 - risk_harrellsc: 0.5774 - val_loss: nan - val_risk_loss: nan - val_risk_harrellsc: 0.6309 - lr: 9.8091e-45\n",
      "Epoch 8/100\n",
      "17/17 [==============================] - 0s 15ms/step - loss: 24.8343 - risk_loss: 24.8343 - risk_harrellsc: 0.5730 - val_loss: nan - val_risk_loss: nan - val_risk_harrellsc: 0.6309 - lr: 9.8091e-45\n",
      "Epoch 9/100\n",
      "17/17 [==============================] - 0s 19ms/step - loss: 24.4918 - risk_loss: 24.4918 - risk_harrellsc: 0.5591 - val_loss: nan - val_risk_loss: nan - val_risk_harrellsc: 0.6309 - lr: 9.8091e-45\n",
      "Epoch 10/100\n",
      "14/17 [=======================>......] - ETA: 0s - loss: 26.7975 - risk_loss: 26.7975 - risk_harrellsc: 0.5671\n",
      "Epoch 00010: ReduceLROnPlateau reducing learning rate to 9.80908925027372e-46.\n",
      "17/17 [==============================] - 0s 16ms/step - loss: 25.2396 - risk_loss: 25.2396 - risk_harrellsc: 0.5814 - val_loss: nan - val_risk_loss: nan - val_risk_harrellsc: 0.6309 - lr: 9.8091e-45\n",
      "Epoch 11/100\n",
      "17/17 [==============================] - 0s 18ms/step - loss: 24.7827 - risk_loss: 24.7827 - risk_harrellsc: 0.5875 - val_loss: nan - val_risk_loss: nan - val_risk_harrellsc: 0.6309 - lr: 1.4013e-45\n",
      "Epoch 12/100\n",
      "17/17 [==============================] - 0s 16ms/step - loss: 25.4673 - risk_loss: 25.4673 - risk_harrellsc: 0.5797 - val_loss: nan - val_risk_loss: nan - val_risk_harrellsc: 0.6309 - lr: 1.4013e-45\n",
      "Epoch 13/100\n",
      "17/17 [==============================] - 0s 15ms/step - loss: 25.0104 - risk_loss: 25.0104 - risk_harrellsc: 0.5835 - val_loss: nan - val_risk_loss: nan - val_risk_harrellsc: 0.6309 - lr: 1.4013e-45\n",
      "Epoch 14/100\n",
      "17/17 [==============================] - 0s 14ms/step - loss: 24.8062 - risk_loss: 24.8062 - risk_harrellsc: 0.5804 - val_loss: nan - val_risk_loss: nan - val_risk_harrellsc: 0.6309 - lr: 1.4013e-45\n",
      "Epoch 15/100\n",
      "16/17 [===========================>..] - ETA: 0s - loss: 25.4627 - risk_loss: 25.4627 - risk_harrellsc: 0.5635\n",
      "Epoch 00015: ReduceLROnPlateau reducing learning rate to 1.4012984643248171e-46.\n",
      "17/17 [==============================] - 0s 15ms/step - loss: 25.0297 - risk_loss: 25.0297 - risk_harrellsc: 0.5651 - val_loss: nan - val_risk_loss: nan - val_risk_harrellsc: 0.6309 - lr: 1.4013e-45\n",
      "Epoch 16/100\n",
      "17/17 [==============================] - 0s 15ms/step - loss: 24.9639 - risk_loss: 24.9639 - risk_harrellsc: 0.5794 - val_loss: nan - val_risk_loss: nan - val_risk_harrellsc: 0.6309 - lr: 0.0000e+00\n",
      "Epoch 17/100\n",
      "17/17 [==============================] - 0s 15ms/step - loss: 25.4257 - risk_loss: 25.4257 - risk_harrellsc: 0.5814 - val_loss: nan - val_risk_loss: nan - val_risk_harrellsc: 0.6309 - lr: 0.0000e+00\n",
      "Epoch 18/100\n",
      "17/17 [==============================] - 0s 15ms/step - loss: 25.2440 - risk_loss: 25.2440 - risk_harrellsc: 0.5856 - val_loss: nan - val_risk_loss: nan - val_risk_harrellsc: 0.6309 - lr: 0.0000e+00\n",
      "Epoch 19/100\n",
      "17/17 [==============================] - 0s 18ms/step - loss: 25.0511 - risk_loss: 25.0511 - risk_harrellsc: 0.5816 - val_loss: nan - val_risk_loss: nan - val_risk_harrellsc: 0.6309 - lr: 0.0000e+00\n",
      "Epoch 20/100\n",
      "17/17 [==============================] - 0s 15ms/step - loss: 24.9081 - risk_loss: 24.9081 - risk_harrellsc: 0.5770 - val_loss: nan - val_risk_loss: nan - val_risk_harrellsc: 0.6309 - lr: 0.0000e+00\n",
      "Epoch 21/100\n",
      "17/17 [==============================] - 0s 14ms/step - loss: 25.4408 - risk_loss: 25.4408 - risk_harrellsc: 0.5823 - val_loss: nan - val_risk_loss: nan - val_risk_harrellsc: 0.6309 - lr: 0.0000e+00\n",
      "Epoch 22/100\n",
      "17/17 [==============================] - 0s 15ms/step - loss: 25.3900 - risk_loss: 25.3900 - risk_harrellsc: 0.5841 - val_loss: nan - val_risk_loss: nan - val_risk_harrellsc: 0.6309 - lr: 0.0000e+00\n",
      "Epoch 23/100\n",
      "17/17 [==============================] - 0s 15ms/step - loss: 25.0532 - risk_loss: 25.0532 - risk_harrellsc: 0.5901 - val_loss: nan - val_risk_loss: nan - val_risk_harrellsc: 0.6309 - lr: 0.0000e+00\n",
      "Epoch 24/100\n",
      "17/17 [==============================] - 0s 14ms/step - loss: 24.9752 - risk_loss: 24.9752 - risk_harrellsc: 0.5697 - val_loss: nan - val_risk_loss: nan - val_risk_harrellsc: 0.6309 - lr: 0.0000e+00\n",
      "Epoch 25/100\n",
      "17/17 [==============================] - 0s 14ms/step - loss: 24.5113 - risk_loss: 24.5113 - risk_harrellsc: 0.5830 - val_loss: nan - val_risk_loss: nan - val_risk_harrellsc: 0.6309 - lr: 0.0000e+00\n",
      "Epoch 26/100\n",
      "17/17 [==============================] - 0s 14ms/step - loss: 24.7502 - risk_loss: 24.7502 - risk_harrellsc: 0.5880 - val_loss: nan - val_risk_loss: nan - val_risk_harrellsc: 0.6309 - lr: 0.0000e+00\n",
      "Epoch 27/100\n",
      "17/17 [==============================] - 0s 14ms/step - loss: 25.3426 - risk_loss: 25.3426 - risk_harrellsc: 0.5877 - val_loss: nan - val_risk_loss: nan - val_risk_harrellsc: 0.6309 - lr: 0.0000e+00\n",
      "Epoch 28/100\n",
      "17/17 [==============================] - 0s 15ms/step - loss: 24.6525 - risk_loss: 24.6525 - risk_harrellsc: 0.5785 - val_loss: nan - val_risk_loss: nan - val_risk_harrellsc: 0.6309 - lr: 0.0000e+00\n",
      "Epoch 29/100\n",
      "17/17 [==============================] - 0s 15ms/step - loss: 24.6382 - risk_loss: 24.6382 - risk_harrellsc: 0.5793 - val_loss: nan - val_risk_loss: nan - val_risk_harrellsc: 0.6309 - lr: 0.0000e+00\n",
      "Epoch 30/100\n",
      "17/17 [==============================] - 0s 15ms/step - loss: 24.9682 - risk_loss: 24.9682 - risk_harrellsc: 0.5839 - val_loss: nan - val_risk_loss: nan - val_risk_harrellsc: 0.6309 - lr: 0.0000e+00\n",
      "Epoch 31/100\n",
      "17/17 [==============================] - 0s 15ms/step - loss: 24.8489 - risk_loss: 24.8489 - risk_harrellsc: 0.5860 - val_loss: nan - val_risk_loss: nan - val_risk_harrellsc: 0.6309 - lr: 0.0000e+00\n",
      "Epoch 32/100\n",
      "17/17 [==============================] - 0s 15ms/step - loss: 24.6862 - risk_loss: 24.6862 - risk_harrellsc: 0.5940 - val_loss: nan - val_risk_loss: nan - val_risk_harrellsc: 0.6309 - lr: 0.0000e+00\n",
      "Epoch 33/100\n",
      "17/17 [==============================] - 0s 15ms/step - loss: 24.7037 - risk_loss: 24.7037 - risk_harrellsc: 0.5803 - val_loss: nan - val_risk_loss: nan - val_risk_harrellsc: 0.6309 - lr: 0.0000e+00\n",
      "Epoch 34/100\n",
      "17/17 [==============================] - 0s 15ms/step - loss: 25.3204 - risk_loss: 25.3204 - risk_harrellsc: 0.5862 - val_loss: nan - val_risk_loss: nan - val_risk_harrellsc: 0.6309 - lr: 0.0000e+00\n",
      "Epoch 35/100\n",
      "17/17 [==============================] - 0s 14ms/step - loss: 24.5365 - risk_loss: 24.5365 - risk_harrellsc: 0.5990 - val_loss: nan - val_risk_loss: nan - val_risk_harrellsc: 0.6309 - lr: 0.0000e+00\n",
      "Epoch 36/100\n",
      "17/17 [==============================] - 0s 16ms/step - loss: 25.2083 - risk_loss: 25.2083 - risk_harrellsc: 0.6027 - val_loss: nan - val_risk_loss: nan - val_risk_harrellsc: 0.6309 - lr: 0.0000e+00\n",
      "Epoch 37/100\n",
      "17/17 [==============================] - 0s 15ms/step - loss: 24.8967 - risk_loss: 24.8967 - risk_harrellsc: 0.5880 - val_loss: nan - val_risk_loss: nan - val_risk_harrellsc: 0.6309 - lr: 0.0000e+00\n",
      "Epoch 38/100\n",
      "17/17 [==============================] - 0s 15ms/step - loss: 24.5944 - risk_loss: 24.5944 - risk_harrellsc: 0.5805 - val_loss: nan - val_risk_loss: nan - val_risk_harrellsc: 0.6309 - lr: 0.0000e+00\n",
      "Epoch 39/100\n",
      "17/17 [==============================] - 0s 15ms/step - loss: 24.8916 - risk_loss: 24.8916 - risk_harrellsc: 0.5865 - val_loss: nan - val_risk_loss: nan - val_risk_harrellsc: 0.6309 - lr: 0.0000e+00\n",
      "Epoch 40/100\n",
      "17/17 [==============================] - 0s 15ms/step - loss: 24.7695 - risk_loss: 24.7695 - risk_harrellsc: 0.5873 - val_loss: nan - val_risk_loss: nan - val_risk_harrellsc: 0.6309 - lr: 0.0000e+00\n",
      "Epoch 41/100\n",
      "17/17 [==============================] - 0s 15ms/step - loss: 25.4177 - risk_loss: 25.4177 - risk_harrellsc: 0.5885 - val_loss: nan - val_risk_loss: nan - val_risk_harrellsc: 0.6309 - lr: 0.0000e+00\n",
      "Epoch 42/100\n",
      "17/17 [==============================] - 0s 14ms/step - loss: 25.2182 - risk_loss: 25.2182 - risk_harrellsc: 0.5943 - val_loss: nan - val_risk_loss: nan - val_risk_harrellsc: 0.6309 - lr: 0.0000e+00\n",
      "Epoch 43/100\n",
      "17/17 [==============================] - 0s 14ms/step - loss: nan - risk_loss: nan - risk_harrellsc: 0.5875 - val_loss: nan - val_risk_loss: nan - val_risk_harrellsc: 0.6309 - lr: 0.0000e+00\n",
      "Epoch 44/100\n",
      "17/17 [==============================] - 0s 15ms/step - loss: 25.2584 - risk_loss: 25.2584 - risk_harrellsc: 0.5741 - val_loss: nan - val_risk_loss: nan - val_risk_harrellsc: 0.6309 - lr: 0.0000e+00\n",
      "Epoch 45/100\n",
      "17/17 [==============================] - 0s 14ms/step - loss: 25.1789 - risk_loss: 25.1789 - risk_harrellsc: 0.5831 - val_loss: nan - val_risk_loss: nan - val_risk_harrellsc: 0.6309 - lr: 0.0000e+00\n",
      "Epoch 46/100\n",
      "17/17 [==============================] - 0s 15ms/step - loss: 25.2154 - risk_loss: 25.2154 - risk_harrellsc: 0.5936 - val_loss: nan - val_risk_loss: nan - val_risk_harrellsc: 0.6309 - lr: 0.0000e+00\n",
      "Epoch 47/100\n",
      "17/17 [==============================] - 0s 19ms/step - loss: 25.3204 - risk_loss: 25.3204 - risk_harrellsc: 0.5814 - val_loss: nan - val_risk_loss: nan - val_risk_harrellsc: 0.6309 - lr: 0.0000e+00\n",
      "Epoch 48/100\n",
      "17/17 [==============================] - 0s 15ms/step - loss: 24.9117 - risk_loss: 24.9117 - risk_harrellsc: 0.5843 - val_loss: nan - val_risk_loss: nan - val_risk_harrellsc: 0.6309 - lr: 0.0000e+00\n",
      "Epoch 49/100\n",
      "17/17 [==============================] - 0s 16ms/step - loss: 25.1314 - risk_loss: 25.1314 - risk_harrellsc: 0.5792 - val_loss: nan - val_risk_loss: nan - val_risk_harrellsc: 0.6309 - lr: 0.0000e+00\n",
      "Epoch 50/100\n",
      "17/17 [==============================] - 0s 15ms/step - loss: 25.0597 - risk_loss: 25.0597 - risk_harrellsc: 0.5857 - val_loss: nan - val_risk_loss: nan - val_risk_harrellsc: 0.6309 - lr: 0.0000e+00\n",
      "Epoch 51/100\n",
      "17/17 [==============================] - 0s 15ms/step - loss: 24.8312 - risk_loss: 24.8312 - risk_harrellsc: 0.5776 - val_loss: nan - val_risk_loss: nan - val_risk_harrellsc: 0.6309 - lr: 0.0000e+00\n",
      "Epoch 52/100\n",
      "17/17 [==============================] - 0s 15ms/step - loss: 25.0566 - risk_loss: 25.0566 - risk_harrellsc: 0.5850 - val_loss: nan - val_risk_loss: nan - val_risk_harrellsc: 0.6309 - lr: 0.0000e+00\n",
      "Epoch 53/100\n",
      "17/17 [==============================] - 0s 15ms/step - loss: 24.7912 - risk_loss: 24.7912 - risk_harrellsc: 0.5914 - val_loss: nan - val_risk_loss: nan - val_risk_harrellsc: 0.6309 - lr: 0.0000e+00\n",
      "Epoch 54/100\n",
      "17/17 [==============================] - 0s 15ms/step - loss: 25.2750 - risk_loss: 25.2750 - risk_harrellsc: 0.5898 - val_loss: nan - val_risk_loss: nan - val_risk_harrellsc: 0.6309 - lr: 0.0000e+00\n",
      "Epoch 55/100\n",
      "17/17 [==============================] - 0s 15ms/step - loss: 25.0644 - risk_loss: 25.0644 - risk_harrellsc: 0.5716 - val_loss: nan - val_risk_loss: nan - val_risk_harrellsc: 0.6309 - lr: 0.0000e+00\n",
      "Epoch 56/100\n",
      "17/17 [==============================] - 0s 14ms/step - loss: 25.2397 - risk_loss: 25.2397 - risk_harrellsc: 0.5869 - val_loss: nan - val_risk_loss: nan - val_risk_harrellsc: 0.6309 - lr: 0.0000e+00\n",
      "Epoch 57/100\n",
      "17/17 [==============================] - 0s 15ms/step - loss: 25.1960 - risk_loss: 25.1960 - risk_harrellsc: 0.5875 - val_loss: nan - val_risk_loss: nan - val_risk_harrellsc: 0.6309 - lr: 0.0000e+00\n",
      "Epoch 58/100\n",
      "17/17 [==============================] - 0s 17ms/step - loss: 24.6492 - risk_loss: 24.6492 - risk_harrellsc: 0.5922 - val_loss: nan - val_risk_loss: nan - val_risk_harrellsc: 0.6309 - lr: 0.0000e+00\n",
      "Epoch 59/100\n",
      "17/17 [==============================] - 0s 15ms/step - loss: 25.4814 - risk_loss: 25.4814 - risk_harrellsc: 0.5875 - val_loss: nan - val_risk_loss: nan - val_risk_harrellsc: 0.6309 - lr: 0.0000e+00\n",
      "Epoch 60/100\n",
      "17/17 [==============================] - 0s 16ms/step - loss: 24.9334 - risk_loss: 24.9334 - risk_harrellsc: 0.5947 - val_loss: nan - val_risk_loss: nan - val_risk_harrellsc: 0.6309 - lr: 0.0000e+00\n",
      "Epoch 61/100\n",
      "17/17 [==============================] - 0s 14ms/step - loss: 24.7758 - risk_loss: 24.7758 - risk_harrellsc: 0.5886 - val_loss: nan - val_risk_loss: nan - val_risk_harrellsc: 0.6309 - lr: 0.0000e+00\n",
      "Epoch 62/100\n",
      "17/17 [==============================] - 0s 15ms/step - loss: 24.9648 - risk_loss: 24.9648 - risk_harrellsc: 0.5921 - val_loss: nan - val_risk_loss: nan - val_risk_harrellsc: 0.6309 - lr: 0.0000e+00\n",
      "Epoch 63/100\n",
      "17/17 [==============================] - 0s 15ms/step - loss: 24.8835 - risk_loss: 24.8835 - risk_harrellsc: 0.5759 - val_loss: nan - val_risk_loss: nan - val_risk_harrellsc: 0.6309 - lr: 0.0000e+00\n",
      "Epoch 64/100\n",
      "17/17 [==============================] - 0s 14ms/step - loss: 25.0778 - risk_loss: 25.0778 - risk_harrellsc: 0.5777 - val_loss: nan - val_risk_loss: nan - val_risk_harrellsc: 0.6309 - lr: 0.0000e+00\n",
      "Epoch 65/100\n",
      "17/17 [==============================] - 0s 15ms/step - loss: 25.1834 - risk_loss: 25.1834 - risk_harrellsc: 0.5872 - val_loss: nan - val_risk_loss: nan - val_risk_harrellsc: 0.6309 - lr: 0.0000e+00\n",
      "Epoch 66/100\n",
      "17/17 [==============================] - 0s 14ms/step - loss: 25.2918 - risk_loss: 25.2918 - risk_harrellsc: 0.5810 - val_loss: nan - val_risk_loss: nan - val_risk_harrellsc: 0.6309 - lr: 0.0000e+00\n",
      "Epoch 67/100\n",
      "17/17 [==============================] - 0s 14ms/step - loss: 25.0393 - risk_loss: 25.0393 - risk_harrellsc: 0.5653 - val_loss: nan - val_risk_loss: nan - val_risk_harrellsc: 0.6309 - lr: 0.0000e+00\n",
      "Epoch 68/100\n",
      "17/17 [==============================] - 0s 16ms/step - loss: 24.8424 - risk_loss: 24.8424 - risk_harrellsc: 0.5813 - val_loss: nan - val_risk_loss: nan - val_risk_harrellsc: 0.6309 - lr: 0.0000e+00\n",
      "Epoch 69/100\n",
      "17/17 [==============================] - 0s 15ms/step - loss: 24.9090 - risk_loss: 24.9090 - risk_harrellsc: 0.5795 - val_loss: nan - val_risk_loss: nan - val_risk_harrellsc: 0.6309 - lr: 0.0000e+00\n",
      "Epoch 70/100\n",
      "17/17 [==============================] - 0s 17ms/step - loss: 24.7425 - risk_loss: 24.7425 - risk_harrellsc: 0.5765 - val_loss: nan - val_risk_loss: nan - val_risk_harrellsc: 0.6309 - lr: 0.0000e+00\n",
      "Epoch 71/100\n",
      "17/17 [==============================] - 0s 16ms/step - loss: 25.3403 - risk_loss: 25.3403 - risk_harrellsc: 0.5759 - val_loss: nan - val_risk_loss: nan - val_risk_harrellsc: 0.6309 - lr: 0.0000e+00\n",
      "Epoch 72/100\n",
      "17/17 [==============================] - 0s 15ms/step - loss: nan - risk_loss: nan - risk_harrellsc: 0.5780 - val_loss: nan - val_risk_loss: nan - val_risk_harrellsc: 0.6309 - lr: 0.0000e+00\n",
      "Epoch 73/100\n",
      "17/17 [==============================] - 0s 16ms/step - loss: 25.3577 - risk_loss: 25.3577 - risk_harrellsc: 0.5844 - val_loss: nan - val_risk_loss: nan - val_risk_harrellsc: 0.6309 - lr: 0.0000e+00\n",
      "Epoch 74/100\n",
      "17/17 [==============================] - 0s 17ms/step - loss: 24.9595 - risk_loss: 24.9595 - risk_harrellsc: 0.5728 - val_loss: nan - val_risk_loss: nan - val_risk_harrellsc: 0.6309 - lr: 0.0000e+00\n",
      "Epoch 75/100\n",
      "17/17 [==============================] - 0s 14ms/step - loss: 24.9497 - risk_loss: 24.9497 - risk_harrellsc: 0.5786 - val_loss: nan - val_risk_loss: nan - val_risk_harrellsc: 0.6309 - lr: 0.0000e+00\n",
      "Epoch 76/100\n",
      "17/17 [==============================] - 0s 15ms/step - loss: 25.2476 - risk_loss: 25.2476 - risk_harrellsc: 0.5765 - val_loss: nan - val_risk_loss: nan - val_risk_harrellsc: 0.6309 - lr: 0.0000e+00\n",
      "Epoch 77/100\n",
      "17/17 [==============================] - 0s 14ms/step - loss: 24.8609 - risk_loss: 24.8609 - risk_harrellsc: 0.5868 - val_loss: nan - val_risk_loss: nan - val_risk_harrellsc: 0.6309 - lr: 0.0000e+00\n",
      "Epoch 78/100\n",
      "17/17 [==============================] - 0s 15ms/step - loss: 25.0879 - risk_loss: 25.0879 - risk_harrellsc: 0.5788 - val_loss: nan - val_risk_loss: nan - val_risk_harrellsc: 0.6309 - lr: 0.0000e+00\n",
      "Epoch 79/100\n",
      "17/17 [==============================] - 0s 16ms/step - loss: 25.0051 - risk_loss: 25.0051 - risk_harrellsc: 0.5869 - val_loss: nan - val_risk_loss: nan - val_risk_harrellsc: 0.6309 - lr: 0.0000e+00\n",
      "Epoch 80/100\n",
      "17/17 [==============================] - 0s 18ms/step - loss: 24.7369 - risk_loss: 24.7369 - risk_harrellsc: 0.5955 - val_loss: nan - val_risk_loss: nan - val_risk_harrellsc: 0.6309 - lr: 0.0000e+00\n",
      "Epoch 81/100\n",
      "17/17 [==============================] - 0s 17ms/step - loss: 24.9553 - risk_loss: 24.9553 - risk_harrellsc: 0.5829 - val_loss: nan - val_risk_loss: nan - val_risk_harrellsc: 0.6309 - lr: 0.0000e+00\n",
      "Epoch 82/100\n",
      "17/17 [==============================] - 0s 21ms/step - loss: 24.8708 - risk_loss: 24.8708 - risk_harrellsc: 0.5768 - val_loss: nan - val_risk_loss: nan - val_risk_harrellsc: 0.6309 - lr: 0.0000e+00\n",
      "Epoch 83/100\n",
      "17/17 [==============================] - 0s 16ms/step - loss: 25.1676 - risk_loss: 25.1676 - risk_harrellsc: 0.5801 - val_loss: nan - val_risk_loss: nan - val_risk_harrellsc: 0.6309 - lr: 0.0000e+00\n",
      "Epoch 84/100\n",
      "17/17 [==============================] - 0s 17ms/step - loss: 24.7579 - risk_loss: 24.7579 - risk_harrellsc: 0.5789 - val_loss: nan - val_risk_loss: nan - val_risk_harrellsc: 0.6309 - lr: 0.0000e+00\n",
      "Epoch 85/100\n",
      "17/17 [==============================] - 0s 16ms/step - loss: 25.2473 - risk_loss: 25.2473 - risk_harrellsc: 0.5802 - val_loss: nan - val_risk_loss: nan - val_risk_harrellsc: 0.6309 - lr: 0.0000e+00\n",
      "Epoch 86/100\n",
      "17/17 [==============================] - 0s 14ms/step - loss: 25.0802 - risk_loss: 25.0802 - risk_harrellsc: 0.5773 - val_loss: nan - val_risk_loss: nan - val_risk_harrellsc: 0.6309 - lr: 0.0000e+00\n",
      "Epoch 87/100\n",
      "17/17 [==============================] - 0s 15ms/step - loss: 25.3448 - risk_loss: 25.3448 - risk_harrellsc: 0.5779 - val_loss: nan - val_risk_loss: nan - val_risk_harrellsc: 0.6309 - lr: 0.0000e+00\n",
      "Epoch 88/100\n",
      "17/17 [==============================] - 0s 14ms/step - loss: nan - risk_loss: nan - risk_harrellsc: 0.5891 - val_loss: nan - val_risk_loss: nan - val_risk_harrellsc: 0.6309 - lr: 0.0000e+00\n",
      "Epoch 89/100\n",
      "17/17 [==============================] - 0s 14ms/step - loss: 25.0808 - risk_loss: 25.0808 - risk_harrellsc: 0.5847 - val_loss: nan - val_risk_loss: nan - val_risk_harrellsc: 0.6309 - lr: 0.0000e+00\n",
      "Epoch 90/100\n",
      "17/17 [==============================] - 0s 14ms/step - loss: 24.3456 - risk_loss: 24.3456 - risk_harrellsc: 0.5819 - val_loss: nan - val_risk_loss: nan - val_risk_harrellsc: 0.6309 - lr: 0.0000e+00\n",
      "Epoch 91/100\n",
      "17/17 [==============================] - 0s 14ms/step - loss: 25.3961 - risk_loss: 25.3961 - risk_harrellsc: 0.5799 - val_loss: nan - val_risk_loss: nan - val_risk_harrellsc: 0.6309 - lr: 0.0000e+00\n",
      "Epoch 92/100\n",
      "17/17 [==============================] - 0s 14ms/step - loss: 25.0173 - risk_loss: 25.0173 - risk_harrellsc: 0.5770 - val_loss: nan - val_risk_loss: nan - val_risk_harrellsc: 0.6309 - lr: 0.0000e+00\n",
      "Epoch 93/100\n",
      "17/17 [==============================] - 0s 22ms/step - loss: 25.0006 - risk_loss: 25.0006 - risk_harrellsc: 0.5885 - val_loss: nan - val_risk_loss: nan - val_risk_harrellsc: 0.6309 - lr: 0.0000e+00\n",
      "Epoch 94/100\n",
      "17/17 [==============================] - 0s 16ms/step - loss: 25.1167 - risk_loss: 25.1167 - risk_harrellsc: 0.5832 - val_loss: nan - val_risk_loss: nan - val_risk_harrellsc: 0.6309 - lr: 0.0000e+00\n",
      "Epoch 95/100\n",
      "17/17 [==============================] - 0s 15ms/step - loss: 25.0383 - risk_loss: 25.0383 - risk_harrellsc: 0.5880 - val_loss: nan - val_risk_loss: nan - val_risk_harrellsc: 0.6309 - lr: 0.0000e+00\n",
      "Epoch 96/100\n",
      "17/17 [==============================] - 0s 17ms/step - loss: 24.9775 - risk_loss: 24.9775 - risk_harrellsc: 0.5858 - val_loss: nan - val_risk_loss: nan - val_risk_harrellsc: 0.6309 - lr: 0.0000e+00\n",
      "Epoch 97/100\n",
      "17/17 [==============================] - 0s 20ms/step - loss: 25.1960 - risk_loss: 25.1960 - risk_harrellsc: 0.5827 - val_loss: nan - val_risk_loss: nan - val_risk_harrellsc: 0.6309 - lr: 0.0000e+00\n",
      "Epoch 98/100\n",
      "17/17 [==============================] - 0s 17ms/step - loss: nan - risk_loss: nan - risk_harrellsc: 0.5738 - val_loss: nan - val_risk_loss: nan - val_risk_harrellsc: 0.6309 - lr: 0.0000e+00\n",
      "Epoch 99/100\n",
      "17/17 [==============================] - 0s 17ms/step - loss: 25.0137 - risk_loss: 25.0137 - risk_harrellsc: 0.5972 - val_loss: nan - val_risk_loss: nan - val_risk_harrellsc: 0.6309 - lr: 0.0000e+00\n",
      "Epoch 100/100\n",
      "17/17 [==============================] - 0s 15ms/step - loss: 24.9853 - risk_loss: 24.9853 - risk_harrellsc: 0.5782 - val_loss: nan - val_risk_loss: nan - val_risk_harrellsc: 0.6309 - lr: 0.0000e+00\n"
     ]
    },
    {
     "data": {
      "application/vnd.plotly.v1+json": {
       "config": {
        "plotlyServerURL": "https://plot.ly"
       },
       "data": [
        {
         "mode": "lines",
         "name": "Train Loss",
         "type": "scatter",
         "x": [
          1,
          2,
          3,
          4,
          5,
          6,
          7,
          8,
          9,
          10,
          11,
          12,
          13,
          14,
          15,
          16,
          17,
          18,
          19,
          20,
          21,
          22,
          23,
          24,
          25,
          26,
          27,
          28,
          29,
          30,
          31,
          32,
          33,
          34,
          35,
          36,
          37,
          38,
          39,
          40,
          41,
          42,
          43,
          44,
          45,
          46,
          47,
          48,
          49,
          50,
          51,
          52,
          53,
          54,
          55,
          56,
          57,
          58,
          59,
          60,
          61,
          62,
          63,
          64,
          65,
          66,
          67,
          68,
          69,
          70,
          71,
          72,
          73,
          74,
          75,
          76,
          77,
          78,
          79,
          80,
          81,
          82,
          83,
          84,
          85,
          86,
          87,
          88,
          89,
          90,
          91,
          92,
          93,
          94,
          95,
          96,
          97,
          98,
          99,
          100
         ],
         "xaxis": "x",
         "y": [
          25.001209259033203,
          24.83724021911621,
          25.09925651550293,
          24.792104721069336,
          25.19305419921875,
          24.59524154663086,
          25.01579475402832,
          24.834306716918945,
          24.491846084594727,
          25.239591598510742,
          24.782732009887695,
          25.467304229736328,
          25.010448455810547,
          24.80619239807129,
          25.029735565185547,
          24.9638671875,
          25.425735473632812,
          25.24402618408203,
          25.05108642578125,
          24.908056259155273,
          25.440776824951172,
          25.390016555786133,
          25.05318832397461,
          24.975215911865234,
          24.51126480102539,
          24.75020980834961,
          25.342639923095703,
          24.652477264404297,
          24.63820457458496,
          24.968151092529297,
          24.848913192749023,
          24.686206817626953,
          24.703746795654297,
          25.320417404174805,
          24.53645896911621,
          25.20832633972168,
          24.896699905395508,
          24.594436645507812,
          24.891611099243164,
          24.769498825073242,
          25.417728424072266,
          25.218238830566406,
          null,
          25.258392333984375,
          25.178926467895508,
          25.215421676635742,
          25.320411682128906,
          24.9117488861084,
          25.131359100341797,
          25.059682846069336,
          24.83121681213379,
          25.056644439697266,
          24.791202545166016,
          25.275022506713867,
          25.064382553100586,
          25.23967170715332,
          25.195974349975586,
          24.649179458618164,
          25.481409072875977,
          24.933422088623047,
          24.775794982910156,
          24.964767456054688,
          24.883485794067383,
          25.07782745361328,
          25.18343162536621,
          25.291831970214844,
          25.039329528808594,
          24.84244155883789,
          24.908971786499023,
          24.74248695373535,
          25.340330123901367,
          null,
          25.35771369934082,
          24.95945930480957,
          24.949657440185547,
          25.24759864807129,
          24.860864639282227,
          25.087867736816406,
          25.00505828857422,
          24.736865997314453,
          24.9553279876709,
          24.87079429626465,
          25.167564392089844,
          24.757902145385742,
          25.247255325317383,
          25.080224990844727,
          25.34477424621582,
          null,
          25.080827713012695,
          24.3455810546875,
          25.39609718322754,
          25.017345428466797,
          25.000598907470703,
          25.11669921875,
          25.03830909729004,
          24.97750473022461,
          25.196041107177734,
          null,
          25.013717651367188,
          24.98534393310547
         ],
         "yaxis": "y"
        },
        {
         "mode": "lines",
         "name": "Validation Loss",
         "type": "scatter",
         "x": [
          1,
          2,
          3,
          4,
          5,
          6,
          7,
          8,
          9,
          10,
          11,
          12,
          13,
          14,
          15,
          16,
          17,
          18,
          19,
          20,
          21,
          22,
          23,
          24,
          25,
          26,
          27,
          28,
          29,
          30,
          31,
          32,
          33,
          34,
          35,
          36,
          37,
          38,
          39,
          40,
          41,
          42,
          43,
          44,
          45,
          46,
          47,
          48,
          49,
          50,
          51,
          52,
          53,
          54,
          55,
          56,
          57,
          58,
          59,
          60,
          61,
          62,
          63,
          64,
          65,
          66,
          67,
          68,
          69,
          70,
          71,
          72,
          73,
          74,
          75,
          76,
          77,
          78,
          79,
          80,
          81,
          82,
          83,
          84,
          85,
          86,
          87,
          88,
          89,
          90,
          91,
          92,
          93,
          94,
          95,
          96,
          97,
          98,
          99,
          100
         ],
         "xaxis": "x",
         "y": [
          null,
          null,
          null,
          null,
          null,
          null,
          null,
          null,
          null,
          null,
          null,
          null,
          null,
          null,
          null,
          null,
          null,
          null,
          null,
          null,
          null,
          null,
          null,
          null,
          null,
          null,
          null,
          null,
          null,
          null,
          null,
          null,
          null,
          null,
          null,
          null,
          null,
          null,
          null,
          null,
          null,
          null,
          null,
          null,
          null,
          null,
          null,
          null,
          null,
          null,
          null,
          null,
          null,
          null,
          null,
          null,
          null,
          null,
          null,
          null,
          null,
          null,
          null,
          null,
          null,
          null,
          null,
          null,
          null,
          null,
          null,
          null,
          null,
          null,
          null,
          null,
          null,
          null,
          null,
          null,
          null,
          null,
          null,
          null,
          null,
          null,
          null,
          null,
          null,
          null,
          null,
          null,
          null,
          null,
          null,
          null,
          null,
          null,
          null,
          null
         ],
         "yaxis": "y"
        },
        {
         "mode": "lines",
         "name": "Train Harrell's C",
         "type": "scatter",
         "x": [
          1,
          2,
          3,
          4,
          5,
          6,
          7,
          8,
          9,
          10,
          11,
          12,
          13,
          14,
          15,
          16,
          17,
          18,
          19,
          20,
          21,
          22,
          23,
          24,
          25,
          26,
          27,
          28,
          29,
          30,
          31,
          32,
          33,
          34,
          35,
          36,
          37,
          38,
          39,
          40,
          41,
          42,
          43,
          44,
          45,
          46,
          47,
          48,
          49,
          50,
          51,
          52,
          53,
          54,
          55,
          56,
          57,
          58,
          59,
          60,
          61,
          62,
          63,
          64,
          65,
          66,
          67,
          68,
          69,
          70,
          71,
          72,
          73,
          74,
          75,
          76,
          77,
          78,
          79,
          80,
          81,
          82,
          83,
          84,
          85,
          86,
          87,
          88,
          89,
          90,
          91,
          92,
          93,
          94,
          95,
          96,
          97,
          98,
          99,
          100
         ],
         "xaxis": "x2",
         "y": [
          0.5883333333333334,
          0.5913738613125116,
          0.5874514158800667,
          0.5899024024024024,
          0.5729032258064516,
          0.5855701503902532,
          0.577373211963589,
          0.5729517396184063,
          0.5590909090909091,
          0.581373989713446,
          0.5875354107648725,
          0.5796889295516926,
          0.5835342110142778,
          0.5803789157756518,
          0.5650564501203035,
          0.5793799028763541,
          0.5813612181251147,
          0.5855738920823289,
          0.5816155988857938,
          0.5769872151195108,
          0.5822947214076246,
          0.5840950639853748,
          0.5900817236255572,
          0.5697368421052631,
          0.5829554043839758,
          0.5879828326180258,
          0.5876951331496786,
          0.5784905660377359,
          0.579293498684705,
          0.5838601710673113,
          0.5860134629768138,
          0.5940242763772176,
          0.5802538260544979,
          0.5862196020633751,
          0.5989828592955359,
          0.602714259155977,
          0.5880497309333829,
          0.5805356469256884,
          0.5864718006370621,
          0.587271700244775,
          0.5884720951509607,
          0.5942994632611512,
          0.5875430019916712,
          0.5741049897978112,
          0.5830715209757901,
          0.5935887988209285,
          0.5814125023049972,
          0.5842717717717718,
          0.5791712911579726,
          0.5856536972155634,
          0.577570093457944,
          0.5850352766431489,
          0.5914200074934433,
          0.5897529734675206,
          0.5716404077849861,
          0.5868761552680222,
          0.5874908290535583,
          0.5921745673438675,
          0.5874749681412708,
          0.5947348906192065,
          0.5886206251169754,
          0.5921077239573592,
          0.5759398496240602,
          0.5777447519970277,
          0.587193209079166,
          0.5809576023391813,
          0.5652981608768345,
          0.5812697821634705,
          0.579526384486295,
          0.5764617691154423,
          0.575874061870767,
          0.5780135357600147,
          0.5844370860927153,
          0.5727717186912373,
          0.5786175115207374,
          0.5765249537892791,
          0.5868386614320433,
          0.5788108909057232,
          0.5868518518518518,
          0.5954867586721373,
          0.5829428303655108,
          0.5768361581920904,
          0.5800777633771523,
          0.5788882650196518,
          0.5801851851851851,
          0.5772870662460567,
          0.5779089065093121,
          0.5891161431701972,
          0.58468720821662,
          0.5818768996960486,
          0.5799304156747849,
          0.577037037037037,
          0.588498045784478,
          0.583240431066518,
          0.5880059413293725,
          0.5858098068350669,
          0.5826683985897199,
          0.5738365701722242,
          0.5972273567467652,
          0.5782211448815961
         ],
         "yaxis": "y2"
        },
        {
         "mode": "lines",
         "name": "Validation Harrell's C",
         "type": "scatter",
         "x": [
          1,
          2,
          3,
          4,
          5,
          6,
          7,
          8,
          9,
          10,
          11,
          12,
          13,
          14,
          15,
          16,
          17,
          18,
          19,
          20,
          21,
          22,
          23,
          24,
          25,
          26,
          27,
          28,
          29,
          30,
          31,
          32,
          33,
          34,
          35,
          36,
          37,
          38,
          39,
          40,
          41,
          42,
          43,
          44,
          45,
          46,
          47,
          48,
          49,
          50,
          51,
          52,
          53,
          54,
          55,
          56,
          57,
          58,
          59,
          60,
          61,
          62,
          63,
          64,
          65,
          66,
          67,
          68,
          69,
          70,
          71,
          72,
          73,
          74,
          75,
          76,
          77,
          78,
          79,
          80,
          81,
          82,
          83,
          84,
          85,
          86,
          87,
          88,
          89,
          90,
          91,
          92,
          93,
          94,
          95,
          96,
          97,
          98,
          99,
          100
         ],
         "xaxis": "x2",
         "y": [
          0.6309352517985611,
          0.6309352517985611,
          0.6309352517985611,
          0.6309352517985611,
          0.6309352517985611,
          0.6309352517985611,
          0.6309352517985611,
          0.6309352517985611,
          0.6309352517985611,
          0.6309352517985611,
          0.6309352517985611,
          0.6309352517985611,
          0.6309352517985611,
          0.6309352517985611,
          0.6309352517985611,
          0.6309352517985611,
          0.6309352517985611,
          0.6309352517985611,
          0.6309352517985611,
          0.6309352517985611,
          0.6309352517985611,
          0.6309352517985611,
          0.6309352517985611,
          0.6309352517985611,
          0.6309352517985611,
          0.6309352517985611,
          0.6309352517985611,
          0.6309352517985611,
          0.6309352517985611,
          0.6309352517985611,
          0.6309352517985611,
          0.6309352517985611,
          0.6309352517985611,
          0.6309352517985611,
          0.6309352517985611,
          0.6309352517985611,
          0.6309352517985611,
          0.6309352517985611,
          0.6309352517985611,
          0.6309352517985611,
          0.6309352517985611,
          0.6309352517985611,
          0.6309352517985611,
          0.6309352517985611,
          0.6309352517985611,
          0.6309352517985611,
          0.6309352517985611,
          0.6309352517985611,
          0.6309352517985611,
          0.6309352517985611,
          0.6309352517985611,
          0.6309352517985611,
          0.6309352517985611,
          0.6309352517985611,
          0.6309352517985611,
          0.6309352517985611,
          0.6309352517985611,
          0.6309352517985611,
          0.6309352517985611,
          0.6309352517985611,
          0.6309352517985611,
          0.6309352517985611,
          0.6309352517985611,
          0.6309352517985611,
          0.6309352517985611,
          0.6309352517985611,
          0.6309352517985611,
          0.6309352517985611,
          0.6309352517985611,
          0.6309352517985611,
          0.6309352517985611,
          0.6309352517985611,
          0.6309352517985611,
          0.6309352517985611,
          0.6309352517985611,
          0.6309352517985611,
          0.6309352517985611,
          0.6309352517985611,
          0.6309352517985611,
          0.6309352517985611,
          0.6309352517985611,
          0.6309352517985611,
          0.6309352517985611,
          0.6309352517985611,
          0.6309352517985611,
          0.6309352517985611,
          0.6309352517985611,
          0.6309352517985611,
          0.6309352517985611,
          0.6309352517985611,
          0.6309352517985611,
          0.6309352517985611,
          0.6309352517985611,
          0.6309352517985611,
          0.6309352517985611,
          0.6309352517985611,
          0.6309352517985611,
          0.6309352517985611,
          0.6309352517985611,
          0.6309352517985611
         ],
         "yaxis": "y2"
        }
       ],
       "layout": {
        "annotations": [
         {
          "font": {
           "size": 16
          },
          "showarrow": false,
          "text": "Loss",
          "x": 0.225,
          "xanchor": "center",
          "xref": "paper",
          "y": 1,
          "yanchor": "bottom",
          "yref": "paper"
         },
         {
          "font": {
           "size": 16
          },
          "showarrow": false,
          "text": "Harrell's C",
          "x": 0.775,
          "xanchor": "center",
          "xref": "paper",
          "y": 1,
          "yanchor": "bottom",
          "yref": "paper"
         }
        ],
        "template": {
         "data": {
          "bar": [
           {
            "error_x": {
             "color": "#2a3f5f"
            },
            "error_y": {
             "color": "#2a3f5f"
            },
            "marker": {
             "line": {
              "color": "#E5ECF6",
              "width": 0.5
             },
             "pattern": {
              "fillmode": "overlay",
              "size": 10,
              "solidity": 0.2
             }
            },
            "type": "bar"
           }
          ],
          "barpolar": [
           {
            "marker": {
             "line": {
              "color": "#E5ECF6",
              "width": 0.5
             },
             "pattern": {
              "fillmode": "overlay",
              "size": 10,
              "solidity": 0.2
             }
            },
            "type": "barpolar"
           }
          ],
          "carpet": [
           {
            "aaxis": {
             "endlinecolor": "#2a3f5f",
             "gridcolor": "white",
             "linecolor": "white",
             "minorgridcolor": "white",
             "startlinecolor": "#2a3f5f"
            },
            "baxis": {
             "endlinecolor": "#2a3f5f",
             "gridcolor": "white",
             "linecolor": "white",
             "minorgridcolor": "white",
             "startlinecolor": "#2a3f5f"
            },
            "type": "carpet"
           }
          ],
          "choropleth": [
           {
            "colorbar": {
             "outlinewidth": 0,
             "ticks": ""
            },
            "type": "choropleth"
           }
          ],
          "contour": [
           {
            "colorbar": {
             "outlinewidth": 0,
             "ticks": ""
            },
            "colorscale": [
             [
              0,
              "#0d0887"
             ],
             [
              0.1111111111111111,
              "#46039f"
             ],
             [
              0.2222222222222222,
              "#7201a8"
             ],
             [
              0.3333333333333333,
              "#9c179e"
             ],
             [
              0.4444444444444444,
              "#bd3786"
             ],
             [
              0.5555555555555556,
              "#d8576b"
             ],
             [
              0.6666666666666666,
              "#ed7953"
             ],
             [
              0.7777777777777778,
              "#fb9f3a"
             ],
             [
              0.8888888888888888,
              "#fdca26"
             ],
             [
              1,
              "#f0f921"
             ]
            ],
            "type": "contour"
           }
          ],
          "contourcarpet": [
           {
            "colorbar": {
             "outlinewidth": 0,
             "ticks": ""
            },
            "type": "contourcarpet"
           }
          ],
          "heatmap": [
           {
            "colorbar": {
             "outlinewidth": 0,
             "ticks": ""
            },
            "colorscale": [
             [
              0,
              "#0d0887"
             ],
             [
              0.1111111111111111,
              "#46039f"
             ],
             [
              0.2222222222222222,
              "#7201a8"
             ],
             [
              0.3333333333333333,
              "#9c179e"
             ],
             [
              0.4444444444444444,
              "#bd3786"
             ],
             [
              0.5555555555555556,
              "#d8576b"
             ],
             [
              0.6666666666666666,
              "#ed7953"
             ],
             [
              0.7777777777777778,
              "#fb9f3a"
             ],
             [
              0.8888888888888888,
              "#fdca26"
             ],
             [
              1,
              "#f0f921"
             ]
            ],
            "type": "heatmap"
           }
          ],
          "heatmapgl": [
           {
            "colorbar": {
             "outlinewidth": 0,
             "ticks": ""
            },
            "colorscale": [
             [
              0,
              "#0d0887"
             ],
             [
              0.1111111111111111,
              "#46039f"
             ],
             [
              0.2222222222222222,
              "#7201a8"
             ],
             [
              0.3333333333333333,
              "#9c179e"
             ],
             [
              0.4444444444444444,
              "#bd3786"
             ],
             [
              0.5555555555555556,
              "#d8576b"
             ],
             [
              0.6666666666666666,
              "#ed7953"
             ],
             [
              0.7777777777777778,
              "#fb9f3a"
             ],
             [
              0.8888888888888888,
              "#fdca26"
             ],
             [
              1,
              "#f0f921"
             ]
            ],
            "type": "heatmapgl"
           }
          ],
          "histogram": [
           {
            "marker": {
             "pattern": {
              "fillmode": "overlay",
              "size": 10,
              "solidity": 0.2
             }
            },
            "type": "histogram"
           }
          ],
          "histogram2d": [
           {
            "colorbar": {
             "outlinewidth": 0,
             "ticks": ""
            },
            "colorscale": [
             [
              0,
              "#0d0887"
             ],
             [
              0.1111111111111111,
              "#46039f"
             ],
             [
              0.2222222222222222,
              "#7201a8"
             ],
             [
              0.3333333333333333,
              "#9c179e"
             ],
             [
              0.4444444444444444,
              "#bd3786"
             ],
             [
              0.5555555555555556,
              "#d8576b"
             ],
             [
              0.6666666666666666,
              "#ed7953"
             ],
             [
              0.7777777777777778,
              "#fb9f3a"
             ],
             [
              0.8888888888888888,
              "#fdca26"
             ],
             [
              1,
              "#f0f921"
             ]
            ],
            "type": "histogram2d"
           }
          ],
          "histogram2dcontour": [
           {
            "colorbar": {
             "outlinewidth": 0,
             "ticks": ""
            },
            "colorscale": [
             [
              0,
              "#0d0887"
             ],
             [
              0.1111111111111111,
              "#46039f"
             ],
             [
              0.2222222222222222,
              "#7201a8"
             ],
             [
              0.3333333333333333,
              "#9c179e"
             ],
             [
              0.4444444444444444,
              "#bd3786"
             ],
             [
              0.5555555555555556,
              "#d8576b"
             ],
             [
              0.6666666666666666,
              "#ed7953"
             ],
             [
              0.7777777777777778,
              "#fb9f3a"
             ],
             [
              0.8888888888888888,
              "#fdca26"
             ],
             [
              1,
              "#f0f921"
             ]
            ],
            "type": "histogram2dcontour"
           }
          ],
          "mesh3d": [
           {
            "colorbar": {
             "outlinewidth": 0,
             "ticks": ""
            },
            "type": "mesh3d"
           }
          ],
          "parcoords": [
           {
            "line": {
             "colorbar": {
              "outlinewidth": 0,
              "ticks": ""
             }
            },
            "type": "parcoords"
           }
          ],
          "pie": [
           {
            "automargin": true,
            "type": "pie"
           }
          ],
          "scatter": [
           {
            "fillpattern": {
             "fillmode": "overlay",
             "size": 10,
             "solidity": 0.2
            },
            "type": "scatter"
           }
          ],
          "scatter3d": [
           {
            "line": {
             "colorbar": {
              "outlinewidth": 0,
              "ticks": ""
             }
            },
            "marker": {
             "colorbar": {
              "outlinewidth": 0,
              "ticks": ""
             }
            },
            "type": "scatter3d"
           }
          ],
          "scattercarpet": [
           {
            "marker": {
             "colorbar": {
              "outlinewidth": 0,
              "ticks": ""
             }
            },
            "type": "scattercarpet"
           }
          ],
          "scattergeo": [
           {
            "marker": {
             "colorbar": {
              "outlinewidth": 0,
              "ticks": ""
             }
            },
            "type": "scattergeo"
           }
          ],
          "scattergl": [
           {
            "marker": {
             "colorbar": {
              "outlinewidth": 0,
              "ticks": ""
             }
            },
            "type": "scattergl"
           }
          ],
          "scattermapbox": [
           {
            "marker": {
             "colorbar": {
              "outlinewidth": 0,
              "ticks": ""
             }
            },
            "type": "scattermapbox"
           }
          ],
          "scatterpolar": [
           {
            "marker": {
             "colorbar": {
              "outlinewidth": 0,
              "ticks": ""
             }
            },
            "type": "scatterpolar"
           }
          ],
          "scatterpolargl": [
           {
            "marker": {
             "colorbar": {
              "outlinewidth": 0,
              "ticks": ""
             }
            },
            "type": "scatterpolargl"
           }
          ],
          "scatterternary": [
           {
            "marker": {
             "colorbar": {
              "outlinewidth": 0,
              "ticks": ""
             }
            },
            "type": "scatterternary"
           }
          ],
          "surface": [
           {
            "colorbar": {
             "outlinewidth": 0,
             "ticks": ""
            },
            "colorscale": [
             [
              0,
              "#0d0887"
             ],
             [
              0.1111111111111111,
              "#46039f"
             ],
             [
              0.2222222222222222,
              "#7201a8"
             ],
             [
              0.3333333333333333,
              "#9c179e"
             ],
             [
              0.4444444444444444,
              "#bd3786"
             ],
             [
              0.5555555555555556,
              "#d8576b"
             ],
             [
              0.6666666666666666,
              "#ed7953"
             ],
             [
              0.7777777777777778,
              "#fb9f3a"
             ],
             [
              0.8888888888888888,
              "#fdca26"
             ],
             [
              1,
              "#f0f921"
             ]
            ],
            "type": "surface"
           }
          ],
          "table": [
           {
            "cells": {
             "fill": {
              "color": "#EBF0F8"
             },
             "line": {
              "color": "white"
             }
            },
            "header": {
             "fill": {
              "color": "#C8D4E3"
             },
             "line": {
              "color": "white"
             }
            },
            "type": "table"
           }
          ]
         },
         "layout": {
          "annotationdefaults": {
           "arrowcolor": "#2a3f5f",
           "arrowhead": 0,
           "arrowwidth": 1
          },
          "autotypenumbers": "strict",
          "coloraxis": {
           "colorbar": {
            "outlinewidth": 0,
            "ticks": ""
           }
          },
          "colorscale": {
           "diverging": [
            [
             0,
             "#8e0152"
            ],
            [
             0.1,
             "#c51b7d"
            ],
            [
             0.2,
             "#de77ae"
            ],
            [
             0.3,
             "#f1b6da"
            ],
            [
             0.4,
             "#fde0ef"
            ],
            [
             0.5,
             "#f7f7f7"
            ],
            [
             0.6,
             "#e6f5d0"
            ],
            [
             0.7,
             "#b8e186"
            ],
            [
             0.8,
             "#7fbc41"
            ],
            [
             0.9,
             "#4d9221"
            ],
            [
             1,
             "#276419"
            ]
           ],
           "sequential": [
            [
             0,
             "#0d0887"
            ],
            [
             0.1111111111111111,
             "#46039f"
            ],
            [
             0.2222222222222222,
             "#7201a8"
            ],
            [
             0.3333333333333333,
             "#9c179e"
            ],
            [
             0.4444444444444444,
             "#bd3786"
            ],
            [
             0.5555555555555556,
             "#d8576b"
            ],
            [
             0.6666666666666666,
             "#ed7953"
            ],
            [
             0.7777777777777778,
             "#fb9f3a"
            ],
            [
             0.8888888888888888,
             "#fdca26"
            ],
            [
             1,
             "#f0f921"
            ]
           ],
           "sequentialminus": [
            [
             0,
             "#0d0887"
            ],
            [
             0.1111111111111111,
             "#46039f"
            ],
            [
             0.2222222222222222,
             "#7201a8"
            ],
            [
             0.3333333333333333,
             "#9c179e"
            ],
            [
             0.4444444444444444,
             "#bd3786"
            ],
            [
             0.5555555555555556,
             "#d8576b"
            ],
            [
             0.6666666666666666,
             "#ed7953"
            ],
            [
             0.7777777777777778,
             "#fb9f3a"
            ],
            [
             0.8888888888888888,
             "#fdca26"
            ],
            [
             1,
             "#f0f921"
            ]
           ]
          },
          "colorway": [
           "#636efa",
           "#EF553B",
           "#00cc96",
           "#ab63fa",
           "#FFA15A",
           "#19d3f3",
           "#FF6692",
           "#B6E880",
           "#FF97FF",
           "#FECB52"
          ],
          "font": {
           "color": "#2a3f5f"
          },
          "geo": {
           "bgcolor": "white",
           "lakecolor": "white",
           "landcolor": "#E5ECF6",
           "showlakes": true,
           "showland": true,
           "subunitcolor": "white"
          },
          "hoverlabel": {
           "align": "left"
          },
          "hovermode": "closest",
          "mapbox": {
           "style": "light"
          },
          "paper_bgcolor": "white",
          "plot_bgcolor": "#E5ECF6",
          "polar": {
           "angularaxis": {
            "gridcolor": "white",
            "linecolor": "white",
            "ticks": ""
           },
           "bgcolor": "#E5ECF6",
           "radialaxis": {
            "gridcolor": "white",
            "linecolor": "white",
            "ticks": ""
           }
          },
          "scene": {
           "xaxis": {
            "backgroundcolor": "#E5ECF6",
            "gridcolor": "white",
            "gridwidth": 2,
            "linecolor": "white",
            "showbackground": true,
            "ticks": "",
            "zerolinecolor": "white"
           },
           "yaxis": {
            "backgroundcolor": "#E5ECF6",
            "gridcolor": "white",
            "gridwidth": 2,
            "linecolor": "white",
            "showbackground": true,
            "ticks": "",
            "zerolinecolor": "white"
           },
           "zaxis": {
            "backgroundcolor": "#E5ECF6",
            "gridcolor": "white",
            "gridwidth": 2,
            "linecolor": "white",
            "showbackground": true,
            "ticks": "",
            "zerolinecolor": "white"
           }
          },
          "shapedefaults": {
           "line": {
            "color": "#2a3f5f"
           }
          },
          "ternary": {
           "aaxis": {
            "gridcolor": "white",
            "linecolor": "white",
            "ticks": ""
           },
           "baxis": {
            "gridcolor": "white",
            "linecolor": "white",
            "ticks": ""
           },
           "bgcolor": "#E5ECF6",
           "caxis": {
            "gridcolor": "white",
            "linecolor": "white",
            "ticks": ""
           }
          },
          "title": {
           "x": 0.05
          },
          "xaxis": {
           "automargin": true,
           "gridcolor": "white",
           "linecolor": "white",
           "ticks": "",
           "title": {
            "standoff": 15
           },
           "zerolinecolor": "white",
           "zerolinewidth": 2
          },
          "yaxis": {
           "automargin": true,
           "gridcolor": "white",
           "linecolor": "white",
           "ticks": "",
           "title": {
            "standoff": 15
           },
           "zerolinecolor": "white",
           "zerolinewidth": 2
          }
         }
        },
        "title": {
         "text": "Fold 3 Training Metrics"
        },
        "xaxis": {
         "anchor": "y",
         "domain": [
          0,
          0.45
         ],
         "title": {
          "text": "Epoch"
         }
        },
        "xaxis2": {
         "anchor": "y2",
         "domain": [
          0.55,
          1
         ],
         "title": {
          "text": "Epoch"
         }
        },
        "yaxis": {
         "anchor": "x",
         "domain": [
          0,
          1
         ],
         "title": {
          "text": "Loss"
         }
        },
        "yaxis2": {
         "anchor": "x2",
         "domain": [
          0,
          1
         ],
         "title": {
          "text": "Harrell's C"
         }
        }
       }
      }
     },
     "metadata": {},
     "output_type": "display_data"
    },
    {
     "name": "stdout",
     "output_type": "stream",
     "text": [
      "Fold 3 validation results - Loss: nan, Harrell's C: 0.6309\n",
      "\n",
      "Training fold 4\n",
      "Epoch 1/100\n",
      "17/17 [==============================] - 0s 17ms/step - loss: 24.8110 - risk_loss: 24.8110 - risk_harrellsc: 0.5830 - val_loss: 26.7820 - val_risk_loss: 26.7820 - val_risk_harrellsc: 0.6031 - lr: 0.0000e+00\n",
      "Epoch 2/100\n",
      "17/17 [==============================] - 0s 22ms/step - loss: 25.0446 - risk_loss: 25.0446 - risk_harrellsc: 0.5805 - val_loss: 26.7820 - val_risk_loss: 26.7820 - val_risk_harrellsc: 0.6031 - lr: 0.0000e+00\n",
      "Epoch 3/100\n",
      "17/17 [==============================] - 0s 15ms/step - loss: 24.8480 - risk_loss: 24.8480 - risk_harrellsc: 0.5850 - val_loss: 26.7820 - val_risk_loss: 26.7820 - val_risk_harrellsc: 0.6031 - lr: 0.0000e+00\n",
      "Epoch 4/100\n",
      "17/17 [==============================] - 0s 16ms/step - loss: 24.7481 - risk_loss: 24.7481 - risk_harrellsc: 0.5887 - val_loss: 26.7820 - val_risk_loss: 26.7820 - val_risk_harrellsc: 0.6031 - lr: 0.0000e+00\n",
      "Epoch 5/100\n",
      "17/17 [==============================] - 0s 15ms/step - loss: 25.0471 - risk_loss: 25.0471 - risk_harrellsc: 0.5890 - val_loss: 26.7820 - val_risk_loss: 26.7820 - val_risk_harrellsc: 0.6031 - lr: 0.0000e+00\n",
      "Epoch 6/100\n",
      "17/17 [==============================] - 0s 14ms/step - loss: 24.9152 - risk_loss: 24.9152 - risk_harrellsc: 0.5835 - val_loss: 26.7820 - val_risk_loss: 26.7820 - val_risk_harrellsc: 0.6031 - lr: 0.0000e+00\n",
      "Epoch 7/100\n",
      "17/17 [==============================] - 0s 14ms/step - loss: nan - risk_loss: nan - risk_harrellsc: 0.5849 - val_loss: 26.7820 - val_risk_loss: 26.7820 - val_risk_harrellsc: 0.6031 - lr: 0.0000e+00\n",
      "Epoch 8/100\n",
      "17/17 [==============================] - 0s 16ms/step - loss: 25.1589 - risk_loss: 25.1589 - risk_harrellsc: 0.5904 - val_loss: 26.7820 - val_risk_loss: 26.7820 - val_risk_harrellsc: 0.6031 - lr: 0.0000e+00\n",
      "Epoch 9/100\n",
      "17/17 [==============================] - 0s 15ms/step - loss: 24.8224 - risk_loss: 24.8224 - risk_harrellsc: 0.5755 - val_loss: 26.7820 - val_risk_loss: 26.7820 - val_risk_harrellsc: 0.6031 - lr: 0.0000e+00\n",
      "Epoch 10/100\n",
      "17/17 [==============================] - 0s 14ms/step - loss: 24.2979 - risk_loss: 24.2979 - risk_harrellsc: 0.5793 - val_loss: 26.7820 - val_risk_loss: 26.7820 - val_risk_harrellsc: 0.6031 - lr: 0.0000e+00\n",
      "Epoch 11/100\n",
      "17/17 [==============================] - 0s 15ms/step - loss: 25.0668 - risk_loss: 25.0668 - risk_harrellsc: 0.5878 - val_loss: 26.7820 - val_risk_loss: 26.7820 - val_risk_harrellsc: 0.6031 - lr: 0.0000e+00\n",
      "Epoch 12/100\n",
      "17/17 [==============================] - 0s 15ms/step - loss: nan - risk_loss: nan - risk_harrellsc: 0.5821 - val_loss: 26.7820 - val_risk_loss: 26.7820 - val_risk_harrellsc: 0.6031 - lr: 0.0000e+00\n",
      "Epoch 13/100\n",
      "17/17 [==============================] - 0s 14ms/step - loss: 24.9842 - risk_loss: 24.9842 - risk_harrellsc: 0.5895 - val_loss: 26.7820 - val_risk_loss: 26.7820 - val_risk_harrellsc: 0.6031 - lr: 0.0000e+00\n",
      "Epoch 14/100\n",
      "17/17 [==============================] - 0s 15ms/step - loss: 24.5566 - risk_loss: 24.5566 - risk_harrellsc: 0.5955 - val_loss: 26.7820 - val_risk_loss: 26.7820 - val_risk_harrellsc: 0.6031 - lr: 0.0000e+00\n",
      "Epoch 15/100\n",
      "17/17 [==============================] - 0s 15ms/step - loss: 24.9576 - risk_loss: 24.9576 - risk_harrellsc: 0.5911 - val_loss: 26.7820 - val_risk_loss: 26.7820 - val_risk_harrellsc: 0.6031 - lr: 0.0000e+00\n",
      "Epoch 16/100\n",
      "17/17 [==============================] - 0s 14ms/step - loss: 25.0101 - risk_loss: 25.0101 - risk_harrellsc: 0.5885 - val_loss: 26.7820 - val_risk_loss: 26.7820 - val_risk_harrellsc: 0.6031 - lr: 0.0000e+00\n",
      "Epoch 17/100\n",
      "17/17 [==============================] - 0s 18ms/step - loss: 24.5126 - risk_loss: 24.5126 - risk_harrellsc: 0.5776 - val_loss: 26.7820 - val_risk_loss: 26.7820 - val_risk_harrellsc: 0.6031 - lr: 0.0000e+00\n",
      "Epoch 18/100\n",
      "17/17 [==============================] - 0s 16ms/step - loss: 24.7081 - risk_loss: 24.7081 - risk_harrellsc: 0.5851 - val_loss: 26.7820 - val_risk_loss: 26.7820 - val_risk_harrellsc: 0.6031 - lr: 0.0000e+00\n",
      "Epoch 19/100\n",
      "17/17 [==============================] - 0s 14ms/step - loss: 24.9505 - risk_loss: 24.9505 - risk_harrellsc: 0.5781 - val_loss: 26.7820 - val_risk_loss: 26.7820 - val_risk_harrellsc: 0.6031 - lr: 0.0000e+00\n",
      "Epoch 20/100\n",
      "17/17 [==============================] - 0s 14ms/step - loss: 24.6323 - risk_loss: 24.6323 - risk_harrellsc: 0.5949 - val_loss: 26.7820 - val_risk_loss: 26.7820 - val_risk_harrellsc: 0.6031 - lr: 0.0000e+00\n",
      "Epoch 21/100\n",
      "17/17 [==============================] - 0s 14ms/step - loss: 24.4876 - risk_loss: 24.4876 - risk_harrellsc: 0.5846 - val_loss: 26.7820 - val_risk_loss: 26.7820 - val_risk_harrellsc: 0.6031 - lr: 0.0000e+00\n",
      "Epoch 22/100\n",
      "17/17 [==============================] - 0s 15ms/step - loss: 24.8996 - risk_loss: 24.8996 - risk_harrellsc: 0.5805 - val_loss: 26.7820 - val_risk_loss: 26.7820 - val_risk_harrellsc: 0.6031 - lr: 0.0000e+00\n",
      "Epoch 23/100\n",
      "17/17 [==============================] - 0s 15ms/step - loss: 24.5964 - risk_loss: 24.5964 - risk_harrellsc: 0.5784 - val_loss: 26.7820 - val_risk_loss: 26.7820 - val_risk_harrellsc: 0.6031 - lr: 0.0000e+00\n",
      "Epoch 24/100\n",
      "17/17 [==============================] - 0s 14ms/step - loss: 24.8626 - risk_loss: 24.8626 - risk_harrellsc: 0.5789 - val_loss: 26.7820 - val_risk_loss: 26.7820 - val_risk_harrellsc: 0.6031 - lr: 0.0000e+00\n",
      "Epoch 25/100\n",
      "17/17 [==============================] - 0s 14ms/step - loss: 25.1356 - risk_loss: 25.1356 - risk_harrellsc: 0.5779 - val_loss: 26.7820 - val_risk_loss: 26.7820 - val_risk_harrellsc: 0.6031 - lr: 0.0000e+00\n",
      "Epoch 26/100\n",
      "17/17 [==============================] - 0s 15ms/step - loss: 24.4224 - risk_loss: 24.4224 - risk_harrellsc: 0.5912 - val_loss: 26.7820 - val_risk_loss: 26.7820 - val_risk_harrellsc: 0.6031 - lr: 0.0000e+00\n",
      "Epoch 27/100\n",
      "17/17 [==============================] - 0s 15ms/step - loss: 24.5672 - risk_loss: 24.5672 - risk_harrellsc: 0.5919 - val_loss: 26.7820 - val_risk_loss: 26.7820 - val_risk_harrellsc: 0.6031 - lr: 0.0000e+00\n",
      "Epoch 28/100\n",
      "17/17 [==============================] - 0s 14ms/step - loss: 25.1429 - risk_loss: 25.1429 - risk_harrellsc: 0.5874 - val_loss: 26.7820 - val_risk_loss: 26.7820 - val_risk_harrellsc: 0.6031 - lr: 0.0000e+00\n",
      "Epoch 29/100\n",
      "17/17 [==============================] - 0s 14ms/step - loss: 24.9137 - risk_loss: 24.9137 - risk_harrellsc: 0.5791 - val_loss: 26.7820 - val_risk_loss: 26.7820 - val_risk_harrellsc: 0.6031 - lr: 0.0000e+00\n",
      "Epoch 30/100\n",
      "17/17 [==============================] - 0s 15ms/step - loss: 24.6681 - risk_loss: 24.6681 - risk_harrellsc: 0.5855 - val_loss: 26.7820 - val_risk_loss: 26.7820 - val_risk_harrellsc: 0.6031 - lr: 0.0000e+00\n",
      "Epoch 31/100\n",
      "17/17 [==============================] - 0s 17ms/step - loss: 24.7242 - risk_loss: 24.7242 - risk_harrellsc: 0.5842 - val_loss: 26.7820 - val_risk_loss: 26.7820 - val_risk_harrellsc: 0.6031 - lr: 0.0000e+00\n",
      "Epoch 32/100\n",
      "17/17 [==============================] - 0s 15ms/step - loss: 24.6617 - risk_loss: 24.6617 - risk_harrellsc: 0.5746 - val_loss: 26.7820 - val_risk_loss: 26.7820 - val_risk_harrellsc: 0.6031 - lr: 0.0000e+00\n",
      "Epoch 33/100\n",
      "17/17 [==============================] - 0s 15ms/step - loss: 24.6439 - risk_loss: 24.6439 - risk_harrellsc: 0.5835 - val_loss: 26.7820 - val_risk_loss: 26.7820 - val_risk_harrellsc: 0.6031 - lr: 0.0000e+00\n",
      "Epoch 34/100\n",
      "17/17 [==============================] - 0s 15ms/step - loss: 24.8801 - risk_loss: 24.8801 - risk_harrellsc: 0.5821 - val_loss: 26.7820 - val_risk_loss: 26.7820 - val_risk_harrellsc: 0.6031 - lr: 0.0000e+00\n",
      "Epoch 35/100\n",
      "17/17 [==============================] - 0s 16ms/step - loss: 24.6426 - risk_loss: 24.6426 - risk_harrellsc: 0.5853 - val_loss: 26.7820 - val_risk_loss: 26.7820 - val_risk_harrellsc: 0.6031 - lr: 0.0000e+00\n",
      "Epoch 36/100\n",
      "17/17 [==============================] - 0s 14ms/step - loss: 25.0199 - risk_loss: 25.0199 - risk_harrellsc: 0.5745 - val_loss: 26.7820 - val_risk_loss: 26.7820 - val_risk_harrellsc: 0.6031 - lr: 0.0000e+00\n",
      "Epoch 37/100\n",
      "17/17 [==============================] - 0s 14ms/step - loss: 25.0011 - risk_loss: 25.0011 - risk_harrellsc: 0.5877 - val_loss: 26.7820 - val_risk_loss: 26.7820 - val_risk_harrellsc: 0.6031 - lr: 0.0000e+00\n",
      "Epoch 38/100\n",
      "17/17 [==============================] - 0s 15ms/step - loss: 24.9020 - risk_loss: 24.9020 - risk_harrellsc: 0.5818 - val_loss: 26.7820 - val_risk_loss: 26.7820 - val_risk_harrellsc: 0.6031 - lr: 0.0000e+00\n",
      "Epoch 39/100\n",
      "17/17 [==============================] - 0s 15ms/step - loss: 24.5506 - risk_loss: 24.5506 - risk_harrellsc: 0.5820 - val_loss: 26.7820 - val_risk_loss: 26.7820 - val_risk_harrellsc: 0.6031 - lr: 0.0000e+00\n",
      "Epoch 40/100\n",
      "17/17 [==============================] - 0s 15ms/step - loss: 25.0058 - risk_loss: 25.0058 - risk_harrellsc: 0.5839 - val_loss: 26.7820 - val_risk_loss: 26.7820 - val_risk_harrellsc: 0.6031 - lr: 0.0000e+00\n",
      "Epoch 41/100\n",
      "17/17 [==============================] - 0s 16ms/step - loss: 24.8804 - risk_loss: 24.8804 - risk_harrellsc: 0.5873 - val_loss: 26.7820 - val_risk_loss: 26.7820 - val_risk_harrellsc: 0.6031 - lr: 0.0000e+00\n",
      "Epoch 42/100\n",
      "17/17 [==============================] - 0s 19ms/step - loss: 24.8230 - risk_loss: 24.8230 - risk_harrellsc: 0.5867 - val_loss: 26.7820 - val_risk_loss: 26.7820 - val_risk_harrellsc: 0.6031 - lr: 0.0000e+00\n",
      "Epoch 43/100\n",
      "17/17 [==============================] - 0s 16ms/step - loss: 24.4821 - risk_loss: 24.4821 - risk_harrellsc: 0.5960 - val_loss: 26.7820 - val_risk_loss: 26.7820 - val_risk_harrellsc: 0.6031 - lr: 0.0000e+00\n",
      "Epoch 44/100\n",
      "17/17 [==============================] - 0s 17ms/step - loss: 25.0494 - risk_loss: 25.0494 - risk_harrellsc: 0.5732 - val_loss: 26.7820 - val_risk_loss: 26.7820 - val_risk_harrellsc: 0.6031 - lr: 0.0000e+00\n",
      "Epoch 45/100\n",
      "17/17 [==============================] - 0s 19ms/step - loss: 25.0696 - risk_loss: 25.0696 - risk_harrellsc: 0.5846 - val_loss: 26.7820 - val_risk_loss: 26.7820 - val_risk_harrellsc: 0.6031 - lr: 0.0000e+00\n",
      "Epoch 46/100\n",
      "17/17 [==============================] - 0s 22ms/step - loss: 24.5706 - risk_loss: 24.5706 - risk_harrellsc: 0.5860 - val_loss: 26.7820 - val_risk_loss: 26.7820 - val_risk_harrellsc: 0.6031 - lr: 0.0000e+00\n",
      "Epoch 47/100\n",
      "17/17 [==============================] - 0s 20ms/step - loss: 24.4164 - risk_loss: 24.4164 - risk_harrellsc: 0.5850 - val_loss: 26.7820 - val_risk_loss: 26.7820 - val_risk_harrellsc: 0.6031 - lr: 0.0000e+00\n",
      "Epoch 48/100\n",
      "17/17 [==============================] - 0s 17ms/step - loss: 24.8727 - risk_loss: 24.8727 - risk_harrellsc: 0.5828 - val_loss: 26.7820 - val_risk_loss: 26.7820 - val_risk_harrellsc: 0.6031 - lr: 0.0000e+00\n",
      "Epoch 49/100\n",
      "17/17 [==============================] - 0s 16ms/step - loss: 24.8533 - risk_loss: 24.8533 - risk_harrellsc: 0.5852 - val_loss: 26.7820 - val_risk_loss: 26.7820 - val_risk_harrellsc: 0.6031 - lr: 0.0000e+00\n",
      "Epoch 50/100\n",
      "17/17 [==============================] - 0s 19ms/step - loss: 24.1038 - risk_loss: 24.1038 - risk_harrellsc: 0.5885 - val_loss: 26.7820 - val_risk_loss: 26.7820 - val_risk_harrellsc: 0.6031 - lr: 0.0000e+00\n",
      "Epoch 51/100\n",
      "17/17 [==============================] - 0s 18ms/step - loss: 24.8173 - risk_loss: 24.8173 - risk_harrellsc: 0.5775 - val_loss: 26.7820 - val_risk_loss: 26.7820 - val_risk_harrellsc: 0.6031 - lr: 0.0000e+00\n",
      "Epoch 52/100\n",
      "17/17 [==============================] - 0s 16ms/step - loss: 24.9192 - risk_loss: 24.9192 - risk_harrellsc: 0.5928 - val_loss: 26.7820 - val_risk_loss: 26.7820 - val_risk_harrellsc: 0.6031 - lr: 0.0000e+00\n",
      "Epoch 53/100\n",
      "17/17 [==============================] - 0s 16ms/step - loss: 24.3456 - risk_loss: 24.3456 - risk_harrellsc: 0.5791 - val_loss: 26.7820 - val_risk_loss: 26.7820 - val_risk_harrellsc: 0.6031 - lr: 0.0000e+00\n",
      "Epoch 54/100\n",
      "17/17 [==============================] - 0s 16ms/step - loss: 24.4798 - risk_loss: 24.4798 - risk_harrellsc: 0.5868 - val_loss: 26.7820 - val_risk_loss: 26.7820 - val_risk_harrellsc: 0.6031 - lr: 0.0000e+00\n",
      "Epoch 55/100\n",
      "17/17 [==============================] - 0s 15ms/step - loss: 24.7141 - risk_loss: 24.7141 - risk_harrellsc: 0.5890 - val_loss: 26.7820 - val_risk_loss: 26.7820 - val_risk_harrellsc: 0.6031 - lr: 0.0000e+00\n",
      "Epoch 56/100\n",
      "17/17 [==============================] - 0s 15ms/step - loss: 24.6254 - risk_loss: 24.6254 - risk_harrellsc: 0.5740 - val_loss: 26.7820 - val_risk_loss: 26.7820 - val_risk_harrellsc: 0.6031 - lr: 0.0000e+00\n",
      "Epoch 57/100\n",
      "17/17 [==============================] - 0s 18ms/step - loss: 24.6687 - risk_loss: 24.6687 - risk_harrellsc: 0.5818 - val_loss: 26.7820 - val_risk_loss: 26.7820 - val_risk_harrellsc: 0.6031 - lr: 0.0000e+00\n",
      "Epoch 58/100\n",
      "17/17 [==============================] - 0s 15ms/step - loss: 25.0313 - risk_loss: 25.0313 - risk_harrellsc: 0.5844 - val_loss: 26.7820 - val_risk_loss: 26.7820 - val_risk_harrellsc: 0.6031 - lr: 0.0000e+00\n",
      "Epoch 59/100\n",
      "17/17 [==============================] - 0s 14ms/step - loss: 24.8091 - risk_loss: 24.8091 - risk_harrellsc: 0.5833 - val_loss: 26.7820 - val_risk_loss: 26.7820 - val_risk_harrellsc: 0.6031 - lr: 0.0000e+00\n",
      "Epoch 60/100\n",
      "17/17 [==============================] - 0s 16ms/step - loss: 24.4622 - risk_loss: 24.4622 - risk_harrellsc: 0.5927 - val_loss: 26.7820 - val_risk_loss: 26.7820 - val_risk_harrellsc: 0.6031 - lr: 0.0000e+00\n",
      "Epoch 61/100\n",
      "17/17 [==============================] - 0s 16ms/step - loss: 24.7746 - risk_loss: 24.7746 - risk_harrellsc: 0.5847 - val_loss: 26.7820 - val_risk_loss: 26.7820 - val_risk_harrellsc: 0.6031 - lr: 0.0000e+00\n",
      "Epoch 62/100\n",
      "17/17 [==============================] - 0s 15ms/step - loss: 24.7955 - risk_loss: 24.7955 - risk_harrellsc: 0.5665 - val_loss: 26.7820 - val_risk_loss: 26.7820 - val_risk_harrellsc: 0.6031 - lr: 0.0000e+00\n",
      "Epoch 63/100\n",
      "17/17 [==============================] - 0s 16ms/step - loss: 24.7517 - risk_loss: 24.7517 - risk_harrellsc: 0.5931 - val_loss: 26.7820 - val_risk_loss: 26.7820 - val_risk_harrellsc: 0.6031 - lr: 0.0000e+00\n",
      "Epoch 64/100\n",
      "17/17 [==============================] - 0s 15ms/step - loss: 25.0070 - risk_loss: 25.0070 - risk_harrellsc: 0.5813 - val_loss: 26.7820 - val_risk_loss: 26.7820 - val_risk_harrellsc: 0.6031 - lr: 0.0000e+00\n",
      "Epoch 65/100\n",
      "17/17 [==============================] - 0s 15ms/step - loss: 24.8696 - risk_loss: 24.8696 - risk_harrellsc: 0.5866 - val_loss: 26.7820 - val_risk_loss: 26.7820 - val_risk_harrellsc: 0.6031 - lr: 0.0000e+00\n",
      "Epoch 66/100\n",
      "17/17 [==============================] - 0s 15ms/step - loss: 25.1071 - risk_loss: 25.1071 - risk_harrellsc: 0.5782 - val_loss: 26.7820 - val_risk_loss: 26.7820 - val_risk_harrellsc: 0.6031 - lr: 0.0000e+00\n",
      "Epoch 67/100\n",
      "17/17 [==============================] - 0s 15ms/step - loss: 24.9213 - risk_loss: 24.9213 - risk_harrellsc: 0.5797 - val_loss: 26.7820 - val_risk_loss: 26.7820 - val_risk_harrellsc: 0.6031 - lr: 0.0000e+00\n",
      "Epoch 68/100\n",
      "17/17 [==============================] - 0s 15ms/step - loss: 24.8958 - risk_loss: 24.8958 - risk_harrellsc: 0.5832 - val_loss: 26.7820 - val_risk_loss: 26.7820 - val_risk_harrellsc: 0.6031 - lr: 0.0000e+00\n",
      "Epoch 69/100\n",
      "17/17 [==============================] - 0s 15ms/step - loss: 24.8868 - risk_loss: 24.8868 - risk_harrellsc: 0.5791 - val_loss: 26.7820 - val_risk_loss: 26.7820 - val_risk_harrellsc: 0.6031 - lr: 0.0000e+00\n",
      "Epoch 70/100\n",
      "17/17 [==============================] - 0s 18ms/step - loss: 24.7374 - risk_loss: 24.7374 - risk_harrellsc: 0.5868 - val_loss: 26.7820 - val_risk_loss: 26.7820 - val_risk_harrellsc: 0.6031 - lr: 0.0000e+00\n",
      "Epoch 71/100\n",
      "17/17 [==============================] - 0s 16ms/step - loss: 24.8487 - risk_loss: 24.8487 - risk_harrellsc: 0.5884 - val_loss: 26.7820 - val_risk_loss: 26.7820 - val_risk_harrellsc: 0.6031 - lr: 0.0000e+00\n",
      "Epoch 72/100\n",
      "17/17 [==============================] - 0s 16ms/step - loss: 24.7522 - risk_loss: 24.7522 - risk_harrellsc: 0.5893 - val_loss: 26.7820 - val_risk_loss: 26.7820 - val_risk_harrellsc: 0.6031 - lr: 0.0000e+00\n",
      "Epoch 73/100\n",
      "17/17 [==============================] - 0s 15ms/step - loss: 24.6534 - risk_loss: 24.6534 - risk_harrellsc: 0.5871 - val_loss: 26.7820 - val_risk_loss: 26.7820 - val_risk_harrellsc: 0.6031 - lr: 0.0000e+00\n",
      "Epoch 74/100\n",
      "17/17 [==============================] - 0s 15ms/step - loss: 25.1535 - risk_loss: 25.1535 - risk_harrellsc: 0.5945 - val_loss: 26.7820 - val_risk_loss: 26.7820 - val_risk_harrellsc: 0.6031 - lr: 0.0000e+00\n",
      "Epoch 75/100\n",
      "17/17 [==============================] - 0s 15ms/step - loss: nan - risk_loss: nan - risk_harrellsc: 0.5889 - val_loss: 26.7820 - val_risk_loss: 26.7820 - val_risk_harrellsc: 0.6031 - lr: 0.0000e+00\n",
      "Epoch 76/100\n",
      "17/17 [==============================] - 0s 16ms/step - loss: nan - risk_loss: nan - risk_harrellsc: 0.5728 - val_loss: 26.7820 - val_risk_loss: 26.7820 - val_risk_harrellsc: 0.6031 - lr: 0.0000e+00\n",
      "Epoch 77/100\n",
      "17/17 [==============================] - 0s 14ms/step - loss: 24.5904 - risk_loss: 24.5904 - risk_harrellsc: 0.5899 - val_loss: 26.7820 - val_risk_loss: 26.7820 - val_risk_harrellsc: 0.6031 - lr: 0.0000e+00\n",
      "Epoch 78/100\n",
      "17/17 [==============================] - 0s 15ms/step - loss: 24.9705 - risk_loss: 24.9705 - risk_harrellsc: 0.5856 - val_loss: 26.7820 - val_risk_loss: 26.7820 - val_risk_harrellsc: 0.6031 - lr: 0.0000e+00\n",
      "Epoch 79/100\n",
      "17/17 [==============================] - 0s 14ms/step - loss: 25.0073 - risk_loss: 25.0073 - risk_harrellsc: 0.5778 - val_loss: 26.7820 - val_risk_loss: 26.7820 - val_risk_harrellsc: 0.6031 - lr: 0.0000e+00\n",
      "Epoch 80/100\n",
      "17/17 [==============================] - 0s 16ms/step - loss: 24.6496 - risk_loss: 24.6496 - risk_harrellsc: 0.5834 - val_loss: 26.7820 - val_risk_loss: 26.7820 - val_risk_harrellsc: 0.6031 - lr: 0.0000e+00\n",
      "Epoch 81/100\n",
      "17/17 [==============================] - 0s 18ms/step - loss: 24.7918 - risk_loss: 24.7918 - risk_harrellsc: 0.5733 - val_loss: 26.7820 - val_risk_loss: 26.7820 - val_risk_harrellsc: 0.6031 - lr: 0.0000e+00\n",
      "Epoch 82/100\n",
      "17/17 [==============================] - 0s 15ms/step - loss: 24.2096 - risk_loss: 24.2096 - risk_harrellsc: 0.5899 - val_loss: 26.7820 - val_risk_loss: 26.7820 - val_risk_harrellsc: 0.6031 - lr: 0.0000e+00\n",
      "Epoch 83/100\n",
      "17/17 [==============================] - 0s 16ms/step - loss: 24.9356 - risk_loss: 24.9356 - risk_harrellsc: 0.5788 - val_loss: 26.7820 - val_risk_loss: 26.7820 - val_risk_harrellsc: 0.6031 - lr: 0.0000e+00\n",
      "Epoch 84/100\n",
      "17/17 [==============================] - 0s 14ms/step - loss: 24.5788 - risk_loss: 24.5788 - risk_harrellsc: 0.5861 - val_loss: 26.7820 - val_risk_loss: 26.7820 - val_risk_harrellsc: 0.6031 - lr: 0.0000e+00\n",
      "Epoch 85/100\n",
      "17/17 [==============================] - 0s 14ms/step - loss: 25.0685 - risk_loss: 25.0685 - risk_harrellsc: 0.5868 - val_loss: 26.7820 - val_risk_loss: 26.7820 - val_risk_harrellsc: 0.6031 - lr: 0.0000e+00\n",
      "Epoch 86/100\n",
      "17/17 [==============================] - 0s 15ms/step - loss: 24.9966 - risk_loss: 24.9966 - risk_harrellsc: 0.5736 - val_loss: 26.7820 - val_risk_loss: 26.7820 - val_risk_harrellsc: 0.6031 - lr: 0.0000e+00\n",
      "Epoch 87/100\n",
      "17/17 [==============================] - 0s 15ms/step - loss: 24.9220 - risk_loss: 24.9220 - risk_harrellsc: 0.5874 - val_loss: 26.7820 - val_risk_loss: 26.7820 - val_risk_harrellsc: 0.6031 - lr: 0.0000e+00\n",
      "Epoch 88/100\n",
      "17/17 [==============================] - 0s 16ms/step - loss: 24.7522 - risk_loss: 24.7522 - risk_harrellsc: 0.5807 - val_loss: 26.7820 - val_risk_loss: 26.7820 - val_risk_harrellsc: 0.6031 - lr: 0.0000e+00\n",
      "Epoch 89/100\n",
      "17/17 [==============================] - 0s 15ms/step - loss: 24.9337 - risk_loss: 24.9337 - risk_harrellsc: 0.5902 - val_loss: 26.7820 - val_risk_loss: 26.7820 - val_risk_harrellsc: 0.6031 - lr: 0.0000e+00\n",
      "Epoch 90/100\n",
      "17/17 [==============================] - 0s 16ms/step - loss: 24.9633 - risk_loss: 24.9633 - risk_harrellsc: 0.5783 - val_loss: 26.7820 - val_risk_loss: 26.7820 - val_risk_harrellsc: 0.6031 - lr: 0.0000e+00\n",
      "Epoch 91/100\n",
      "17/17 [==============================] - 0s 16ms/step - loss: 25.2339 - risk_loss: 25.2339 - risk_harrellsc: 0.5843 - val_loss: 26.7820 - val_risk_loss: 26.7820 - val_risk_harrellsc: 0.6031 - lr: 0.0000e+00\n",
      "Epoch 92/100\n",
      "17/17 [==============================] - 0s 15ms/step - loss: 24.7263 - risk_loss: 24.7263 - risk_harrellsc: 0.5766 - val_loss: 26.7820 - val_risk_loss: 26.7820 - val_risk_harrellsc: 0.6031 - lr: 0.0000e+00\n",
      "Epoch 93/100\n",
      "17/17 [==============================] - 0s 16ms/step - loss: 24.6639 - risk_loss: 24.6639 - risk_harrellsc: 0.5802 - val_loss: 26.7820 - val_risk_loss: 26.7820 - val_risk_harrellsc: 0.6031 - lr: 0.0000e+00\n",
      "Epoch 94/100\n",
      "17/17 [==============================] - 0s 16ms/step - loss: 24.9328 - risk_loss: 24.9328 - risk_harrellsc: 0.5693 - val_loss: 26.7820 - val_risk_loss: 26.7820 - val_risk_harrellsc: 0.6031 - lr: 0.0000e+00\n",
      "Epoch 95/100\n",
      "17/17 [==============================] - 0s 15ms/step - loss: 24.8577 - risk_loss: 24.8577 - risk_harrellsc: 0.5758 - val_loss: 26.7820 - val_risk_loss: 26.7820 - val_risk_harrellsc: 0.6031 - lr: 0.0000e+00\n",
      "Epoch 96/100\n",
      "17/17 [==============================] - 0s 14ms/step - loss: 24.7228 - risk_loss: 24.7228 - risk_harrellsc: 0.5990 - val_loss: 26.7820 - val_risk_loss: 26.7820 - val_risk_harrellsc: 0.6031 - lr: 0.0000e+00\n",
      "Epoch 97/100\n",
      "17/17 [==============================] - 0s 15ms/step - loss: 24.9138 - risk_loss: 24.9138 - risk_harrellsc: 0.5846 - val_loss: 26.7820 - val_risk_loss: 26.7820 - val_risk_harrellsc: 0.6031 - lr: 0.0000e+00\n",
      "Epoch 98/100\n",
      "17/17 [==============================] - 0s 15ms/step - loss: 24.8373 - risk_loss: 24.8373 - risk_harrellsc: 0.5813 - val_loss: 26.7820 - val_risk_loss: 26.7820 - val_risk_harrellsc: 0.6031 - lr: 0.0000e+00\n",
      "Epoch 99/100\n",
      "17/17 [==============================] - 0s 15ms/step - loss: 24.7589 - risk_loss: 24.7589 - risk_harrellsc: 0.5734 - val_loss: 26.7820 - val_risk_loss: 26.7820 - val_risk_harrellsc: 0.6031 - lr: 0.0000e+00\n",
      "Epoch 100/100\n",
      "17/17 [==============================] - 0s 15ms/step - loss: 24.8862 - risk_loss: 24.8862 - risk_harrellsc: 0.5786 - val_loss: 26.7820 - val_risk_loss: 26.7820 - val_risk_harrellsc: 0.6031 - lr: 0.0000e+00\n"
     ]
    },
    {
     "data": {
      "application/vnd.plotly.v1+json": {
       "config": {
        "plotlyServerURL": "https://plot.ly"
       },
       "data": [
        {
         "mode": "lines",
         "name": "Train Loss",
         "type": "scatter",
         "x": [
          1,
          2,
          3,
          4,
          5,
          6,
          7,
          8,
          9,
          10,
          11,
          12,
          13,
          14,
          15,
          16,
          17,
          18,
          19,
          20,
          21,
          22,
          23,
          24,
          25,
          26,
          27,
          28,
          29,
          30,
          31,
          32,
          33,
          34,
          35,
          36,
          37,
          38,
          39,
          40,
          41,
          42,
          43,
          44,
          45,
          46,
          47,
          48,
          49,
          50,
          51,
          52,
          53,
          54,
          55,
          56,
          57,
          58,
          59,
          60,
          61,
          62,
          63,
          64,
          65,
          66,
          67,
          68,
          69,
          70,
          71,
          72,
          73,
          74,
          75,
          76,
          77,
          78,
          79,
          80,
          81,
          82,
          83,
          84,
          85,
          86,
          87,
          88,
          89,
          90,
          91,
          92,
          93,
          94,
          95,
          96,
          97,
          98,
          99,
          100
         ],
         "xaxis": "x",
         "y": [
          24.810951232910156,
          25.044586181640625,
          24.848047256469727,
          24.748138427734375,
          25.0471248626709,
          24.915237426757812,
          null,
          25.158931732177734,
          24.822444915771484,
          24.297948837280273,
          25.066814422607422,
          null,
          24.984207153320312,
          24.556640625,
          24.95758056640625,
          25.010089874267578,
          24.512590408325195,
          24.708145141601562,
          24.950529098510742,
          24.63232421875,
          24.487552642822266,
          24.89961051940918,
          24.596351623535156,
          24.86260223388672,
          25.135568618774414,
          24.422401428222656,
          24.56718635559082,
          25.142906188964844,
          24.91371726989746,
          24.668102264404297,
          24.724170684814453,
          24.661745071411133,
          24.643936157226562,
          24.880056381225586,
          24.642576217651367,
          25.019908905029297,
          25.001100540161133,
          24.90200424194336,
          24.550607681274414,
          25.005817413330078,
          24.88038444519043,
          24.823015213012695,
          24.482141494750977,
          25.04935646057129,
          25.069580078125,
          24.570587158203125,
          24.41635513305664,
          24.87265968322754,
          24.853302001953125,
          24.103784561157227,
          24.817298889160156,
          24.91922378540039,
          24.345605850219727,
          24.479829788208008,
          24.714073181152344,
          24.62540626525879,
          24.668737411499023,
          25.031307220458984,
          24.809099197387695,
          24.462158203125,
          24.774553298950195,
          24.795455932617188,
          24.75173568725586,
          25.00696563720703,
          24.869617462158203,
          25.107084274291992,
          24.921342849731445,
          24.89584732055664,
          24.88679313659668,
          24.737417221069336,
          24.848657608032227,
          24.752225875854492,
          24.653364181518555,
          25.15349006652832,
          null,
          null,
          24.590370178222656,
          24.970483779907227,
          25.007349014282227,
          24.649600982666016,
          24.791765213012695,
          24.20960235595703,
          24.935609817504883,
          24.57881736755371,
          25.068546295166016,
          24.996559143066406,
          24.92198371887207,
          24.75217056274414,
          24.933732986450195,
          24.963279724121094,
          25.233924865722656,
          24.72625732421875,
          24.663864135742188,
          24.932815551757812,
          24.85769271850586,
          24.722753524780273,
          24.91377830505371,
          24.83726692199707,
          24.758949279785156,
          24.886152267456055
         ],
         "yaxis": "y"
        },
        {
         "mode": "lines",
         "name": "Validation Loss",
         "type": "scatter",
         "x": [
          1,
          2,
          3,
          4,
          5,
          6,
          7,
          8,
          9,
          10,
          11,
          12,
          13,
          14,
          15,
          16,
          17,
          18,
          19,
          20,
          21,
          22,
          23,
          24,
          25,
          26,
          27,
          28,
          29,
          30,
          31,
          32,
          33,
          34,
          35,
          36,
          37,
          38,
          39,
          40,
          41,
          42,
          43,
          44,
          45,
          46,
          47,
          48,
          49,
          50,
          51,
          52,
          53,
          54,
          55,
          56,
          57,
          58,
          59,
          60,
          61,
          62,
          63,
          64,
          65,
          66,
          67,
          68,
          69,
          70,
          71,
          72,
          73,
          74,
          75,
          76,
          77,
          78,
          79,
          80,
          81,
          82,
          83,
          84,
          85,
          86,
          87,
          88,
          89,
          90,
          91,
          92,
          93,
          94,
          95,
          96,
          97,
          98,
          99,
          100
         ],
         "xaxis": "x",
         "y": [
          26.78200912475586,
          26.78200912475586,
          26.78200912475586,
          26.78200912475586,
          26.78200912475586,
          26.78200912475586,
          26.78200912475586,
          26.78200912475586,
          26.78200912475586,
          26.78200912475586,
          26.78200912475586,
          26.78200912475586,
          26.78200912475586,
          26.78200912475586,
          26.78200912475586,
          26.78200912475586,
          26.78200912475586,
          26.78200912475586,
          26.78200912475586,
          26.78200912475586,
          26.78200912475586,
          26.78200912475586,
          26.78200912475586,
          26.78200912475586,
          26.78200912475586,
          26.78200912475586,
          26.78200912475586,
          26.78200912475586,
          26.78200912475586,
          26.78200912475586,
          26.78200912475586,
          26.78200912475586,
          26.78200912475586,
          26.78200912475586,
          26.78200912475586,
          26.78200912475586,
          26.78200912475586,
          26.78200912475586,
          26.78200912475586,
          26.78200912475586,
          26.78200912475586,
          26.78200912475586,
          26.78200912475586,
          26.78200912475586,
          26.78200912475586,
          26.78200912475586,
          26.78200912475586,
          26.78200912475586,
          26.78200912475586,
          26.78200912475586,
          26.78200912475586,
          26.78200912475586,
          26.78200912475586,
          26.78200912475586,
          26.78200912475586,
          26.78200912475586,
          26.78200912475586,
          26.78200912475586,
          26.78200912475586,
          26.78200912475586,
          26.78200912475586,
          26.78200912475586,
          26.78200912475586,
          26.78200912475586,
          26.78200912475586,
          26.78200912475586,
          26.78200912475586,
          26.78200912475586,
          26.78200912475586,
          26.78200912475586,
          26.78200912475586,
          26.78200912475586,
          26.78200912475586,
          26.78200912475586,
          26.78200912475586,
          26.78200912475586,
          26.78200912475586,
          26.78200912475586,
          26.78200912475586,
          26.78200912475586,
          26.78200912475586,
          26.78200912475586,
          26.78200912475586,
          26.78200912475586,
          26.78200912475586,
          26.78200912475586,
          26.78200912475586,
          26.78200912475586,
          26.78200912475586,
          26.78200912475586,
          26.78200912475586,
          26.78200912475586,
          26.78200912475586,
          26.78200912475586,
          26.78200912475586,
          26.78200912475586,
          26.78200912475586,
          26.78200912475586,
          26.78200912475586,
          26.78200912475586
         ],
         "yaxis": "y"
        },
        {
         "mode": "lines",
         "name": "Train Harrell's C",
         "type": "scatter",
         "x": [
          1,
          2,
          3,
          4,
          5,
          6,
          7,
          8,
          9,
          10,
          11,
          12,
          13,
          14,
          15,
          16,
          17,
          18,
          19,
          20,
          21,
          22,
          23,
          24,
          25,
          26,
          27,
          28,
          29,
          30,
          31,
          32,
          33,
          34,
          35,
          36,
          37,
          38,
          39,
          40,
          41,
          42,
          43,
          44,
          45,
          46,
          47,
          48,
          49,
          50,
          51,
          52,
          53,
          54,
          55,
          56,
          57,
          58,
          59,
          60,
          61,
          62,
          63,
          64,
          65,
          66,
          67,
          68,
          69,
          70,
          71,
          72,
          73,
          74,
          75,
          76,
          77,
          78,
          79,
          80,
          81,
          82,
          83,
          84,
          85,
          86,
          87,
          88,
          89,
          90,
          91,
          92,
          93,
          94,
          95,
          96,
          97,
          98,
          99,
          100
         ],
         "xaxis": "x2",
         "y": [
          0.5829723111697118,
          0.5805375347544022,
          0.584961846268379,
          0.5887355887355887,
          0.5890282718592024,
          0.5835360149672592,
          0.5849196082055073,
          0.5903881700554529,
          0.5754504504504505,
          0.5792905081495685,
          0.5878315711370803,
          0.5820646119569254,
          0.5894559730790803,
          0.5954631379962193,
          0.591131153701616,
          0.5885096064167132,
          0.5776255707762556,
          0.585116455216815,
          0.5781484257871065,
          0.5948863636363636,
          0.5846065699006875,
          0.5804941969299888,
          0.5784183576711549,
          0.5789473684210527,
          0.577872656395025,
          0.5911770298535843,
          0.5918949771689498,
          0.587390412236523,
          0.579066265060241,
          0.5854951713690589,
          0.584214501510574,
          0.5745887691435054,
          0.5835227272727272,
          0.5820867614061331,
          0.5852647446768419,
          0.5744641192917055,
          0.5877307477158307,
          0.5818079940231603,
          0.5819672131147541,
          0.5838775891024445,
          0.5872867054190887,
          0.5866666666666667,
          0.5959901645545678,
          0.5732093023255814,
          0.5846125046798951,
          0.5859582542694497,
          0.5850275508265248,
          0.5828197945845005,
          0.5851963178658651,
          0.5885075202468184,
          0.57745947983415,
          0.5928424208356755,
          0.5791084752247944,
          0.5867878099564641,
          0.5890022675736961,
          0.5740215541690301,
          0.5817699450445328,
          0.5844083006169377,
          0.5832554662679873,
          0.5927127050743991,
          0.5846501128668171,
          0.5664903664525879,
          0.5931270172773875,
          0.5813432835820895,
          0.5866193234909363,
          0.5782478472482216,
          0.5796801505174036,
          0.5831626001117527,
          0.5790949887808526,
          0.5867846385542168,
          0.588368153585545,
          0.5893293255682885,
          0.5870967741935484,
          0.5944640535017648,
          0.5888909530001858,
          0.5728083209509658,
          0.5899047619047619,
          0.5856446776611695,
          0.5777985074626866,
          0.5834443387250238,
          0.5733308327081771,
          0.5898865602768698,
          0.5787703233040553,
          0.5861284820920978,
          0.586823003908431,
          0.5736173393124065,
          0.5874439461883408,
          0.5807306454665909,
          0.590203776406805,
          0.5782592454239821,
          0.584319526627219,
          0.5765748774047529,
          0.580244590780809,
          0.5693348365276212,
          0.5757632515452332,
          0.5989819004524887,
          0.5845691758963769,
          0.5813253012048193,
          0.573373676248109,
          0.5785620424253801
         ],
         "yaxis": "y2"
        },
        {
         "mode": "lines",
         "name": "Validation Harrell's C",
         "type": "scatter",
         "x": [
          1,
          2,
          3,
          4,
          5,
          6,
          7,
          8,
          9,
          10,
          11,
          12,
          13,
          14,
          15,
          16,
          17,
          18,
          19,
          20,
          21,
          22,
          23,
          24,
          25,
          26,
          27,
          28,
          29,
          30,
          31,
          32,
          33,
          34,
          35,
          36,
          37,
          38,
          39,
          40,
          41,
          42,
          43,
          44,
          45,
          46,
          47,
          48,
          49,
          50,
          51,
          52,
          53,
          54,
          55,
          56,
          57,
          58,
          59,
          60,
          61,
          62,
          63,
          64,
          65,
          66,
          67,
          68,
          69,
          70,
          71,
          72,
          73,
          74,
          75,
          76,
          77,
          78,
          79,
          80,
          81,
          82,
          83,
          84,
          85,
          86,
          87,
          88,
          89,
          90,
          91,
          92,
          93,
          94,
          95,
          96,
          97,
          98,
          99,
          100
         ],
         "xaxis": "x2",
         "y": [
          0.6030747728860937,
          0.6030747728860937,
          0.6030747728860937,
          0.6030747728860937,
          0.6030747728860937,
          0.6030747728860937,
          0.6030747728860937,
          0.6030747728860937,
          0.6030747728860937,
          0.6030747728860937,
          0.6030747728860937,
          0.6030747728860937,
          0.6030747728860937,
          0.6030747728860937,
          0.6030747728860937,
          0.6030747728860937,
          0.6030747728860937,
          0.6030747728860937,
          0.6030747728860937,
          0.6030747728860937,
          0.6030747728860937,
          0.6030747728860937,
          0.6030747728860937,
          0.6030747728860937,
          0.6030747728860937,
          0.6030747728860937,
          0.6030747728860937,
          0.6030747728860937,
          0.6030747728860937,
          0.6030747728860937,
          0.6030747728860937,
          0.6030747728860937,
          0.6030747728860937,
          0.6030747728860937,
          0.6030747728860937,
          0.6030747728860937,
          0.6030747728860937,
          0.6030747728860937,
          0.6030747728860937,
          0.6030747728860937,
          0.6030747728860937,
          0.6030747728860937,
          0.6030747728860937,
          0.6030747728860937,
          0.6030747728860937,
          0.6030747728860937,
          0.6030747728860937,
          0.6030747728860937,
          0.6030747728860937,
          0.6030747728860937,
          0.6030747728860937,
          0.6030747728860937,
          0.6030747728860937,
          0.6030747728860937,
          0.6030747728860937,
          0.6030747728860937,
          0.6030747728860937,
          0.6030747728860937,
          0.6030747728860937,
          0.6030747728860937,
          0.6030747728860937,
          0.6030747728860937,
          0.6030747728860937,
          0.6030747728860937,
          0.6030747728860937,
          0.6030747728860937,
          0.6030747728860937,
          0.6030747728860937,
          0.6030747728860937,
          0.6030747728860937,
          0.6030747728860937,
          0.6030747728860937,
          0.6030747728860937,
          0.6030747728860937,
          0.6030747728860937,
          0.6030747728860937,
          0.6030747728860937,
          0.6030747728860937,
          0.6030747728860937,
          0.6030747728860937,
          0.6030747728860937,
          0.6030747728860937,
          0.6030747728860937,
          0.6030747728860937,
          0.6030747728860937,
          0.6030747728860937,
          0.6030747728860937,
          0.6030747728860937,
          0.6030747728860937,
          0.6030747728860937,
          0.6030747728860937,
          0.6030747728860937,
          0.6030747728860937,
          0.6030747728860937,
          0.6030747728860937,
          0.6030747728860937,
          0.6030747728860937,
          0.6030747728860937,
          0.6030747728860937,
          0.6030747728860937
         ],
         "yaxis": "y2"
        }
       ],
       "layout": {
        "annotations": [
         {
          "font": {
           "size": 16
          },
          "showarrow": false,
          "text": "Loss",
          "x": 0.225,
          "xanchor": "center",
          "xref": "paper",
          "y": 1,
          "yanchor": "bottom",
          "yref": "paper"
         },
         {
          "font": {
           "size": 16
          },
          "showarrow": false,
          "text": "Harrell's C",
          "x": 0.775,
          "xanchor": "center",
          "xref": "paper",
          "y": 1,
          "yanchor": "bottom",
          "yref": "paper"
         }
        ],
        "template": {
         "data": {
          "bar": [
           {
            "error_x": {
             "color": "#2a3f5f"
            },
            "error_y": {
             "color": "#2a3f5f"
            },
            "marker": {
             "line": {
              "color": "#E5ECF6",
              "width": 0.5
             },
             "pattern": {
              "fillmode": "overlay",
              "size": 10,
              "solidity": 0.2
             }
            },
            "type": "bar"
           }
          ],
          "barpolar": [
           {
            "marker": {
             "line": {
              "color": "#E5ECF6",
              "width": 0.5
             },
             "pattern": {
              "fillmode": "overlay",
              "size": 10,
              "solidity": 0.2
             }
            },
            "type": "barpolar"
           }
          ],
          "carpet": [
           {
            "aaxis": {
             "endlinecolor": "#2a3f5f",
             "gridcolor": "white",
             "linecolor": "white",
             "minorgridcolor": "white",
             "startlinecolor": "#2a3f5f"
            },
            "baxis": {
             "endlinecolor": "#2a3f5f",
             "gridcolor": "white",
             "linecolor": "white",
             "minorgridcolor": "white",
             "startlinecolor": "#2a3f5f"
            },
            "type": "carpet"
           }
          ],
          "choropleth": [
           {
            "colorbar": {
             "outlinewidth": 0,
             "ticks": ""
            },
            "type": "choropleth"
           }
          ],
          "contour": [
           {
            "colorbar": {
             "outlinewidth": 0,
             "ticks": ""
            },
            "colorscale": [
             [
              0,
              "#0d0887"
             ],
             [
              0.1111111111111111,
              "#46039f"
             ],
             [
              0.2222222222222222,
              "#7201a8"
             ],
             [
              0.3333333333333333,
              "#9c179e"
             ],
             [
              0.4444444444444444,
              "#bd3786"
             ],
             [
              0.5555555555555556,
              "#d8576b"
             ],
             [
              0.6666666666666666,
              "#ed7953"
             ],
             [
              0.7777777777777778,
              "#fb9f3a"
             ],
             [
              0.8888888888888888,
              "#fdca26"
             ],
             [
              1,
              "#f0f921"
             ]
            ],
            "type": "contour"
           }
          ],
          "contourcarpet": [
           {
            "colorbar": {
             "outlinewidth": 0,
             "ticks": ""
            },
            "type": "contourcarpet"
           }
          ],
          "heatmap": [
           {
            "colorbar": {
             "outlinewidth": 0,
             "ticks": ""
            },
            "colorscale": [
             [
              0,
              "#0d0887"
             ],
             [
              0.1111111111111111,
              "#46039f"
             ],
             [
              0.2222222222222222,
              "#7201a8"
             ],
             [
              0.3333333333333333,
              "#9c179e"
             ],
             [
              0.4444444444444444,
              "#bd3786"
             ],
             [
              0.5555555555555556,
              "#d8576b"
             ],
             [
              0.6666666666666666,
              "#ed7953"
             ],
             [
              0.7777777777777778,
              "#fb9f3a"
             ],
             [
              0.8888888888888888,
              "#fdca26"
             ],
             [
              1,
              "#f0f921"
             ]
            ],
            "type": "heatmap"
           }
          ],
          "heatmapgl": [
           {
            "colorbar": {
             "outlinewidth": 0,
             "ticks": ""
            },
            "colorscale": [
             [
              0,
              "#0d0887"
             ],
             [
              0.1111111111111111,
              "#46039f"
             ],
             [
              0.2222222222222222,
              "#7201a8"
             ],
             [
              0.3333333333333333,
              "#9c179e"
             ],
             [
              0.4444444444444444,
              "#bd3786"
             ],
             [
              0.5555555555555556,
              "#d8576b"
             ],
             [
              0.6666666666666666,
              "#ed7953"
             ],
             [
              0.7777777777777778,
              "#fb9f3a"
             ],
             [
              0.8888888888888888,
              "#fdca26"
             ],
             [
              1,
              "#f0f921"
             ]
            ],
            "type": "heatmapgl"
           }
          ],
          "histogram": [
           {
            "marker": {
             "pattern": {
              "fillmode": "overlay",
              "size": 10,
              "solidity": 0.2
             }
            },
            "type": "histogram"
           }
          ],
          "histogram2d": [
           {
            "colorbar": {
             "outlinewidth": 0,
             "ticks": ""
            },
            "colorscale": [
             [
              0,
              "#0d0887"
             ],
             [
              0.1111111111111111,
              "#46039f"
             ],
             [
              0.2222222222222222,
              "#7201a8"
             ],
             [
              0.3333333333333333,
              "#9c179e"
             ],
             [
              0.4444444444444444,
              "#bd3786"
             ],
             [
              0.5555555555555556,
              "#d8576b"
             ],
             [
              0.6666666666666666,
              "#ed7953"
             ],
             [
              0.7777777777777778,
              "#fb9f3a"
             ],
             [
              0.8888888888888888,
              "#fdca26"
             ],
             [
              1,
              "#f0f921"
             ]
            ],
            "type": "histogram2d"
           }
          ],
          "histogram2dcontour": [
           {
            "colorbar": {
             "outlinewidth": 0,
             "ticks": ""
            },
            "colorscale": [
             [
              0,
              "#0d0887"
             ],
             [
              0.1111111111111111,
              "#46039f"
             ],
             [
              0.2222222222222222,
              "#7201a8"
             ],
             [
              0.3333333333333333,
              "#9c179e"
             ],
             [
              0.4444444444444444,
              "#bd3786"
             ],
             [
              0.5555555555555556,
              "#d8576b"
             ],
             [
              0.6666666666666666,
              "#ed7953"
             ],
             [
              0.7777777777777778,
              "#fb9f3a"
             ],
             [
              0.8888888888888888,
              "#fdca26"
             ],
             [
              1,
              "#f0f921"
             ]
            ],
            "type": "histogram2dcontour"
           }
          ],
          "mesh3d": [
           {
            "colorbar": {
             "outlinewidth": 0,
             "ticks": ""
            },
            "type": "mesh3d"
           }
          ],
          "parcoords": [
           {
            "line": {
             "colorbar": {
              "outlinewidth": 0,
              "ticks": ""
             }
            },
            "type": "parcoords"
           }
          ],
          "pie": [
           {
            "automargin": true,
            "type": "pie"
           }
          ],
          "scatter": [
           {
            "fillpattern": {
             "fillmode": "overlay",
             "size": 10,
             "solidity": 0.2
            },
            "type": "scatter"
           }
          ],
          "scatter3d": [
           {
            "line": {
             "colorbar": {
              "outlinewidth": 0,
              "ticks": ""
             }
            },
            "marker": {
             "colorbar": {
              "outlinewidth": 0,
              "ticks": ""
             }
            },
            "type": "scatter3d"
           }
          ],
          "scattercarpet": [
           {
            "marker": {
             "colorbar": {
              "outlinewidth": 0,
              "ticks": ""
             }
            },
            "type": "scattercarpet"
           }
          ],
          "scattergeo": [
           {
            "marker": {
             "colorbar": {
              "outlinewidth": 0,
              "ticks": ""
             }
            },
            "type": "scattergeo"
           }
          ],
          "scattergl": [
           {
            "marker": {
             "colorbar": {
              "outlinewidth": 0,
              "ticks": ""
             }
            },
            "type": "scattergl"
           }
          ],
          "scattermapbox": [
           {
            "marker": {
             "colorbar": {
              "outlinewidth": 0,
              "ticks": ""
             }
            },
            "type": "scattermapbox"
           }
          ],
          "scatterpolar": [
           {
            "marker": {
             "colorbar": {
              "outlinewidth": 0,
              "ticks": ""
             }
            },
            "type": "scatterpolar"
           }
          ],
          "scatterpolargl": [
           {
            "marker": {
             "colorbar": {
              "outlinewidth": 0,
              "ticks": ""
             }
            },
            "type": "scatterpolargl"
           }
          ],
          "scatterternary": [
           {
            "marker": {
             "colorbar": {
              "outlinewidth": 0,
              "ticks": ""
             }
            },
            "type": "scatterternary"
           }
          ],
          "surface": [
           {
            "colorbar": {
             "outlinewidth": 0,
             "ticks": ""
            },
            "colorscale": [
             [
              0,
              "#0d0887"
             ],
             [
              0.1111111111111111,
              "#46039f"
             ],
             [
              0.2222222222222222,
              "#7201a8"
             ],
             [
              0.3333333333333333,
              "#9c179e"
             ],
             [
              0.4444444444444444,
              "#bd3786"
             ],
             [
              0.5555555555555556,
              "#d8576b"
             ],
             [
              0.6666666666666666,
              "#ed7953"
             ],
             [
              0.7777777777777778,
              "#fb9f3a"
             ],
             [
              0.8888888888888888,
              "#fdca26"
             ],
             [
              1,
              "#f0f921"
             ]
            ],
            "type": "surface"
           }
          ],
          "table": [
           {
            "cells": {
             "fill": {
              "color": "#EBF0F8"
             },
             "line": {
              "color": "white"
             }
            },
            "header": {
             "fill": {
              "color": "#C8D4E3"
             },
             "line": {
              "color": "white"
             }
            },
            "type": "table"
           }
          ]
         },
         "layout": {
          "annotationdefaults": {
           "arrowcolor": "#2a3f5f",
           "arrowhead": 0,
           "arrowwidth": 1
          },
          "autotypenumbers": "strict",
          "coloraxis": {
           "colorbar": {
            "outlinewidth": 0,
            "ticks": ""
           }
          },
          "colorscale": {
           "diverging": [
            [
             0,
             "#8e0152"
            ],
            [
             0.1,
             "#c51b7d"
            ],
            [
             0.2,
             "#de77ae"
            ],
            [
             0.3,
             "#f1b6da"
            ],
            [
             0.4,
             "#fde0ef"
            ],
            [
             0.5,
             "#f7f7f7"
            ],
            [
             0.6,
             "#e6f5d0"
            ],
            [
             0.7,
             "#b8e186"
            ],
            [
             0.8,
             "#7fbc41"
            ],
            [
             0.9,
             "#4d9221"
            ],
            [
             1,
             "#276419"
            ]
           ],
           "sequential": [
            [
             0,
             "#0d0887"
            ],
            [
             0.1111111111111111,
             "#46039f"
            ],
            [
             0.2222222222222222,
             "#7201a8"
            ],
            [
             0.3333333333333333,
             "#9c179e"
            ],
            [
             0.4444444444444444,
             "#bd3786"
            ],
            [
             0.5555555555555556,
             "#d8576b"
            ],
            [
             0.6666666666666666,
             "#ed7953"
            ],
            [
             0.7777777777777778,
             "#fb9f3a"
            ],
            [
             0.8888888888888888,
             "#fdca26"
            ],
            [
             1,
             "#f0f921"
            ]
           ],
           "sequentialminus": [
            [
             0,
             "#0d0887"
            ],
            [
             0.1111111111111111,
             "#46039f"
            ],
            [
             0.2222222222222222,
             "#7201a8"
            ],
            [
             0.3333333333333333,
             "#9c179e"
            ],
            [
             0.4444444444444444,
             "#bd3786"
            ],
            [
             0.5555555555555556,
             "#d8576b"
            ],
            [
             0.6666666666666666,
             "#ed7953"
            ],
            [
             0.7777777777777778,
             "#fb9f3a"
            ],
            [
             0.8888888888888888,
             "#fdca26"
            ],
            [
             1,
             "#f0f921"
            ]
           ]
          },
          "colorway": [
           "#636efa",
           "#EF553B",
           "#00cc96",
           "#ab63fa",
           "#FFA15A",
           "#19d3f3",
           "#FF6692",
           "#B6E880",
           "#FF97FF",
           "#FECB52"
          ],
          "font": {
           "color": "#2a3f5f"
          },
          "geo": {
           "bgcolor": "white",
           "lakecolor": "white",
           "landcolor": "#E5ECF6",
           "showlakes": true,
           "showland": true,
           "subunitcolor": "white"
          },
          "hoverlabel": {
           "align": "left"
          },
          "hovermode": "closest",
          "mapbox": {
           "style": "light"
          },
          "paper_bgcolor": "white",
          "plot_bgcolor": "#E5ECF6",
          "polar": {
           "angularaxis": {
            "gridcolor": "white",
            "linecolor": "white",
            "ticks": ""
           },
           "bgcolor": "#E5ECF6",
           "radialaxis": {
            "gridcolor": "white",
            "linecolor": "white",
            "ticks": ""
           }
          },
          "scene": {
           "xaxis": {
            "backgroundcolor": "#E5ECF6",
            "gridcolor": "white",
            "gridwidth": 2,
            "linecolor": "white",
            "showbackground": true,
            "ticks": "",
            "zerolinecolor": "white"
           },
           "yaxis": {
            "backgroundcolor": "#E5ECF6",
            "gridcolor": "white",
            "gridwidth": 2,
            "linecolor": "white",
            "showbackground": true,
            "ticks": "",
            "zerolinecolor": "white"
           },
           "zaxis": {
            "backgroundcolor": "#E5ECF6",
            "gridcolor": "white",
            "gridwidth": 2,
            "linecolor": "white",
            "showbackground": true,
            "ticks": "",
            "zerolinecolor": "white"
           }
          },
          "shapedefaults": {
           "line": {
            "color": "#2a3f5f"
           }
          },
          "ternary": {
           "aaxis": {
            "gridcolor": "white",
            "linecolor": "white",
            "ticks": ""
           },
           "baxis": {
            "gridcolor": "white",
            "linecolor": "white",
            "ticks": ""
           },
           "bgcolor": "#E5ECF6",
           "caxis": {
            "gridcolor": "white",
            "linecolor": "white",
            "ticks": ""
           }
          },
          "title": {
           "x": 0.05
          },
          "xaxis": {
           "automargin": true,
           "gridcolor": "white",
           "linecolor": "white",
           "ticks": "",
           "title": {
            "standoff": 15
           },
           "zerolinecolor": "white",
           "zerolinewidth": 2
          },
          "yaxis": {
           "automargin": true,
           "gridcolor": "white",
           "linecolor": "white",
           "ticks": "",
           "title": {
            "standoff": 15
           },
           "zerolinecolor": "white",
           "zerolinewidth": 2
          }
         }
        },
        "title": {
         "text": "Fold 4 Training Metrics"
        },
        "xaxis": {
         "anchor": "y",
         "domain": [
          0,
          0.45
         ],
         "title": {
          "text": "Epoch"
         }
        },
        "xaxis2": {
         "anchor": "y2",
         "domain": [
          0.55,
          1
         ],
         "title": {
          "text": "Epoch"
         }
        },
        "yaxis": {
         "anchor": "x",
         "domain": [
          0,
          1
         ],
         "title": {
          "text": "Loss"
         }
        },
        "yaxis2": {
         "anchor": "x2",
         "domain": [
          0,
          1
         ],
         "title": {
          "text": "Harrell's C"
         }
        }
       }
      }
     },
     "metadata": {},
     "output_type": "display_data"
    },
    {
     "name": "stdout",
     "output_type": "stream",
     "text": [
      "Fold 4 validation results - Loss: 26.7820, Harrell's C: 0.6031\n",
      "\n",
      "Training fold 5\n",
      "Epoch 1/100\n",
      "17/17 [==============================] - 0s 14ms/step - loss: 25.0546 - risk_loss: 25.0546 - risk_harrellsc: 0.6258 - val_loss: 26.2904 - val_risk_loss: 26.2904 - val_risk_harrellsc: 0.4627 - lr: 0.0000e+00\n",
      "Epoch 2/100\n",
      "17/17 [==============================] - 0s 16ms/step - loss: 25.0706 - risk_loss: 25.0706 - risk_harrellsc: 0.6237 - val_loss: 26.2904 - val_risk_loss: 26.2904 - val_risk_harrellsc: 0.4627 - lr: 0.0000e+00\n",
      "Epoch 3/100\n",
      "17/17 [==============================] - 0s 15ms/step - loss: 25.1259 - risk_loss: 25.1259 - risk_harrellsc: 0.6303 - val_loss: 26.2904 - val_risk_loss: 26.2904 - val_risk_harrellsc: 0.4627 - lr: 0.0000e+00\n",
      "Epoch 4/100\n",
      "17/17 [==============================] - 0s 16ms/step - loss: 25.0411 - risk_loss: 25.0411 - risk_harrellsc: 0.6329 - val_loss: 26.2904 - val_risk_loss: 26.2904 - val_risk_harrellsc: 0.4627 - lr: 0.0000e+00\n",
      "Epoch 5/100\n",
      "17/17 [==============================] - 0s 17ms/step - loss: 25.0239 - risk_loss: 25.0239 - risk_harrellsc: 0.6334 - val_loss: 26.2904 - val_risk_loss: 26.2904 - val_risk_harrellsc: 0.4627 - lr: 0.0000e+00\n",
      "Epoch 6/100\n",
      "17/17 [==============================] - 0s 14ms/step - loss: 24.5319 - risk_loss: 24.5319 - risk_harrellsc: 0.6317 - val_loss: 26.2904 - val_risk_loss: 26.2904 - val_risk_harrellsc: 0.4627 - lr: 0.0000e+00\n",
      "Epoch 7/100\n",
      "17/17 [==============================] - 0s 15ms/step - loss: 24.8589 - risk_loss: 24.8589 - risk_harrellsc: 0.6331 - val_loss: 26.2904 - val_risk_loss: 26.2904 - val_risk_harrellsc: 0.4627 - lr: 0.0000e+00\n",
      "Epoch 8/100\n",
      "17/17 [==============================] - 0s 15ms/step - loss: 24.7220 - risk_loss: 24.7220 - risk_harrellsc: 0.6315 - val_loss: 26.2904 - val_risk_loss: 26.2904 - val_risk_harrellsc: 0.4627 - lr: 0.0000e+00\n",
      "Epoch 9/100\n",
      "17/17 [==============================] - 0s 15ms/step - loss: 24.5680 - risk_loss: 24.5680 - risk_harrellsc: 0.6254 - val_loss: 26.2904 - val_risk_loss: 26.2904 - val_risk_harrellsc: 0.4627 - lr: 0.0000e+00\n",
      "Epoch 10/100\n",
      "17/17 [==============================] - 0s 16ms/step - loss: 24.5999 - risk_loss: 24.5999 - risk_harrellsc: 0.6301 - val_loss: 26.2904 - val_risk_loss: 26.2904 - val_risk_harrellsc: 0.4627 - lr: 0.0000e+00\n",
      "Epoch 11/100\n",
      "17/17 [==============================] - 0s 16ms/step - loss: 24.5361 - risk_loss: 24.5361 - risk_harrellsc: 0.6279 - val_loss: 26.2904 - val_risk_loss: 26.2904 - val_risk_harrellsc: 0.4627 - lr: 0.0000e+00\n",
      "Epoch 12/100\n",
      "17/17 [==============================] - 0s 16ms/step - loss: 24.9144 - risk_loss: 24.9144 - risk_harrellsc: 0.6330 - val_loss: 26.2904 - val_risk_loss: 26.2904 - val_risk_harrellsc: 0.4627 - lr: 0.0000e+00\n",
      "Epoch 13/100\n",
      "17/17 [==============================] - 0s 15ms/step - loss: 25.0785 - risk_loss: 25.0785 - risk_harrellsc: 0.6292 - val_loss: 26.2904 - val_risk_loss: 26.2904 - val_risk_harrellsc: 0.4627 - lr: 0.0000e+00\n",
      "Epoch 14/100\n",
      "17/17 [==============================] - 0s 15ms/step - loss: 24.9832 - risk_loss: 24.9832 - risk_harrellsc: 0.6310 - val_loss: 26.2904 - val_risk_loss: 26.2904 - val_risk_harrellsc: 0.4627 - lr: 0.0000e+00\n",
      "Epoch 15/100\n",
      "17/17 [==============================] - 0s 15ms/step - loss: 25.2612 - risk_loss: 25.2612 - risk_harrellsc: 0.6230 - val_loss: 26.2904 - val_risk_loss: 26.2904 - val_risk_harrellsc: 0.4627 - lr: 0.0000e+00\n",
      "Epoch 16/100\n",
      "17/17 [==============================] - 0s 15ms/step - loss: 24.7062 - risk_loss: 24.7062 - risk_harrellsc: 0.6270 - val_loss: 26.2904 - val_risk_loss: 26.2904 - val_risk_harrellsc: 0.4627 - lr: 0.0000e+00\n",
      "Epoch 17/100\n",
      "17/17 [==============================] - 0s 17ms/step - loss: 24.9661 - risk_loss: 24.9661 - risk_harrellsc: 0.6348 - val_loss: 26.2904 - val_risk_loss: 26.2904 - val_risk_harrellsc: 0.4627 - lr: 0.0000e+00\n",
      "Epoch 18/100\n",
      "17/17 [==============================] - 0s 15ms/step - loss: 25.2159 - risk_loss: 25.2159 - risk_harrellsc: 0.6289 - val_loss: 26.2904 - val_risk_loss: 26.2904 - val_risk_harrellsc: 0.4627 - lr: 0.0000e+00\n",
      "Epoch 19/100\n",
      "17/17 [==============================] - 0s 16ms/step - loss: 25.1958 - risk_loss: 25.1958 - risk_harrellsc: 0.6315 - val_loss: 26.2904 - val_risk_loss: 26.2904 - val_risk_harrellsc: 0.4627 - lr: 0.0000e+00\n",
      "Epoch 20/100\n",
      "17/17 [==============================] - 0s 18ms/step - loss: 25.3196 - risk_loss: 25.3196 - risk_harrellsc: 0.6127 - val_loss: 26.2904 - val_risk_loss: 26.2904 - val_risk_harrellsc: 0.4627 - lr: 0.0000e+00\n",
      "Epoch 21/100\n",
      "17/17 [==============================] - 0s 15ms/step - loss: 24.8994 - risk_loss: 24.8994 - risk_harrellsc: 0.6254 - val_loss: 26.2904 - val_risk_loss: 26.2904 - val_risk_harrellsc: 0.4627 - lr: 0.0000e+00\n",
      "Epoch 22/100\n",
      "17/17 [==============================] - 0s 15ms/step - loss: 24.6400 - risk_loss: 24.6400 - risk_harrellsc: 0.6241 - val_loss: 26.2904 - val_risk_loss: 26.2904 - val_risk_harrellsc: 0.4627 - lr: 0.0000e+00\n",
      "Epoch 23/100\n",
      "17/17 [==============================] - 0s 14ms/step - loss: 24.5146 - risk_loss: 24.5146 - risk_harrellsc: 0.6415 - val_loss: 26.2904 - val_risk_loss: 26.2904 - val_risk_harrellsc: 0.4627 - lr: 0.0000e+00\n",
      "Epoch 24/100\n",
      "17/17 [==============================] - 0s 15ms/step - loss: 24.9970 - risk_loss: 24.9970 - risk_harrellsc: 0.6212 - val_loss: 26.2904 - val_risk_loss: 26.2904 - val_risk_harrellsc: 0.4627 - lr: 0.0000e+00\n",
      "Epoch 25/100\n",
      "17/17 [==============================] - 0s 16ms/step - loss: 24.6032 - risk_loss: 24.6032 - risk_harrellsc: 0.6272 - val_loss: 26.2904 - val_risk_loss: 26.2904 - val_risk_harrellsc: 0.4627 - lr: 0.0000e+00\n",
      "Epoch 26/100\n",
      "17/17 [==============================] - 0s 15ms/step - loss: 25.0697 - risk_loss: 25.0697 - risk_harrellsc: 0.6289 - val_loss: 26.2904 - val_risk_loss: 26.2904 - val_risk_harrellsc: 0.4627 - lr: 0.0000e+00\n",
      "Epoch 27/100\n",
      "17/17 [==============================] - 0s 14ms/step - loss: 25.1680 - risk_loss: 25.1680 - risk_harrellsc: 0.6187 - val_loss: 26.2904 - val_risk_loss: 26.2904 - val_risk_harrellsc: 0.4627 - lr: 0.0000e+00\n",
      "Epoch 28/100\n",
      "17/17 [==============================] - 0s 15ms/step - loss: 24.9388 - risk_loss: 24.9388 - risk_harrellsc: 0.6214 - val_loss: 26.2904 - val_risk_loss: 26.2904 - val_risk_harrellsc: 0.4627 - lr: 0.0000e+00\n",
      "Epoch 29/100\n",
      "17/17 [==============================] - 0s 16ms/step - loss: 24.4709 - risk_loss: 24.4709 - risk_harrellsc: 0.6447 - val_loss: 26.2904 - val_risk_loss: 26.2904 - val_risk_harrellsc: 0.4627 - lr: 0.0000e+00\n",
      "Epoch 30/100\n",
      "17/17 [==============================] - 0s 16ms/step - loss: 25.0055 - risk_loss: 25.0055 - risk_harrellsc: 0.6231 - val_loss: 26.2904 - val_risk_loss: 26.2904 - val_risk_harrellsc: 0.4627 - lr: 0.0000e+00\n",
      "Epoch 31/100\n",
      "17/17 [==============================] - 0s 14ms/step - loss: 24.9778 - risk_loss: 24.9778 - risk_harrellsc: 0.6241 - val_loss: 26.2904 - val_risk_loss: 26.2904 - val_risk_harrellsc: 0.4627 - lr: 0.0000e+00\n",
      "Epoch 32/100\n",
      "17/17 [==============================] - 0s 15ms/step - loss: 24.7788 - risk_loss: 24.7788 - risk_harrellsc: 0.6391 - val_loss: 26.2904 - val_risk_loss: 26.2904 - val_risk_harrellsc: 0.4627 - lr: 0.0000e+00\n",
      "Epoch 33/100\n",
      "17/17 [==============================] - 0s 19ms/step - loss: 24.9945 - risk_loss: 24.9945 - risk_harrellsc: 0.6252 - val_loss: 26.2904 - val_risk_loss: 26.2904 - val_risk_harrellsc: 0.4627 - lr: 0.0000e+00\n",
      "Epoch 34/100\n",
      "17/17 [==============================] - 0s 15ms/step - loss: 25.2148 - risk_loss: 25.2148 - risk_harrellsc: 0.6323 - val_loss: 26.2904 - val_risk_loss: 26.2904 - val_risk_harrellsc: 0.4627 - lr: 0.0000e+00\n",
      "Epoch 35/100\n",
      "17/17 [==============================] - 0s 15ms/step - loss: 25.1711 - risk_loss: 25.1711 - risk_harrellsc: 0.6203 - val_loss: 26.2904 - val_risk_loss: 26.2904 - val_risk_harrellsc: 0.4627 - lr: 0.0000e+00\n",
      "Epoch 36/100\n",
      "17/17 [==============================] - 0s 14ms/step - loss: 24.9056 - risk_loss: 24.9056 - risk_harrellsc: 0.6260 - val_loss: 26.2904 - val_risk_loss: 26.2904 - val_risk_harrellsc: 0.4627 - lr: 0.0000e+00\n",
      "Epoch 37/100\n",
      "17/17 [==============================] - 0s 15ms/step - loss: 25.0795 - risk_loss: 25.0795 - risk_harrellsc: 0.6272 - val_loss: 26.2904 - val_risk_loss: 26.2904 - val_risk_harrellsc: 0.4627 - lr: 0.0000e+00\n",
      "Epoch 38/100\n",
      "17/17 [==============================] - 0s 15ms/step - loss: 25.1046 - risk_loss: 25.1046 - risk_harrellsc: 0.6220 - val_loss: 26.2904 - val_risk_loss: 26.2904 - val_risk_harrellsc: 0.4627 - lr: 0.0000e+00\n",
      "Epoch 39/100\n",
      "17/17 [==============================] - 0s 15ms/step - loss: 25.1620 - risk_loss: 25.1620 - risk_harrellsc: 0.6273 - val_loss: 26.2904 - val_risk_loss: 26.2904 - val_risk_harrellsc: 0.4627 - lr: 0.0000e+00\n",
      "Epoch 40/100\n",
      "17/17 [==============================] - 0s 15ms/step - loss: 24.8430 - risk_loss: 24.8430 - risk_harrellsc: 0.6241 - val_loss: 26.2904 - val_risk_loss: 26.2904 - val_risk_harrellsc: 0.4627 - lr: 0.0000e+00\n",
      "Epoch 41/100\n",
      "17/17 [==============================] - 0s 16ms/step - loss: 25.0503 - risk_loss: 25.0503 - risk_harrellsc: 0.6409 - val_loss: 26.2904 - val_risk_loss: 26.2904 - val_risk_harrellsc: 0.4627 - lr: 0.0000e+00\n",
      "Epoch 42/100\n",
      "17/17 [==============================] - 0s 16ms/step - loss: 24.5642 - risk_loss: 24.5642 - risk_harrellsc: 0.6255 - val_loss: 26.2904 - val_risk_loss: 26.2904 - val_risk_harrellsc: 0.4627 - lr: 0.0000e+00\n",
      "Epoch 43/100\n",
      "17/17 [==============================] - 0s 15ms/step - loss: 24.8637 - risk_loss: 24.8637 - risk_harrellsc: 0.6229 - val_loss: 26.2904 - val_risk_loss: 26.2904 - val_risk_harrellsc: 0.4627 - lr: 0.0000e+00\n",
      "Epoch 44/100\n",
      "17/17 [==============================] - 0s 17ms/step - loss: 24.7500 - risk_loss: 24.7500 - risk_harrellsc: 0.6303 - val_loss: 26.2904 - val_risk_loss: 26.2904 - val_risk_harrellsc: 0.4627 - lr: 0.0000e+00\n",
      "Epoch 45/100\n",
      "17/17 [==============================] - 0s 16ms/step - loss: 25.2048 - risk_loss: 25.2048 - risk_harrellsc: 0.6293 - val_loss: 26.2904 - val_risk_loss: 26.2904 - val_risk_harrellsc: 0.4627 - lr: 0.0000e+00\n",
      "Epoch 46/100\n",
      "17/17 [==============================] - 0s 16ms/step - loss: 25.0011 - risk_loss: 25.0011 - risk_harrellsc: 0.6256 - val_loss: 26.2904 - val_risk_loss: 26.2904 - val_risk_harrellsc: 0.4627 - lr: 0.0000e+00\n",
      "Epoch 47/100\n",
      "17/17 [==============================] - 0s 20ms/step - loss: 24.9867 - risk_loss: 24.9867 - risk_harrellsc: 0.6301 - val_loss: 26.2904 - val_risk_loss: 26.2904 - val_risk_harrellsc: 0.4627 - lr: 0.0000e+00\n",
      "Epoch 48/100\n",
      "17/17 [==============================] - 0s 15ms/step - loss: 25.1130 - risk_loss: 25.1130 - risk_harrellsc: 0.6329 - val_loss: 26.2904 - val_risk_loss: 26.2904 - val_risk_harrellsc: 0.4627 - lr: 0.0000e+00\n",
      "Epoch 49/100\n",
      "17/17 [==============================] - 0s 15ms/step - loss: 24.6317 - risk_loss: 24.6317 - risk_harrellsc: 0.6384 - val_loss: 26.2904 - val_risk_loss: 26.2904 - val_risk_harrellsc: 0.4627 - lr: 0.0000e+00\n",
      "Epoch 50/100\n",
      "17/17 [==============================] - 0s 15ms/step - loss: 24.5443 - risk_loss: 24.5443 - risk_harrellsc: 0.6275 - val_loss: 26.2904 - val_risk_loss: 26.2904 - val_risk_harrellsc: 0.4627 - lr: 0.0000e+00\n",
      "Epoch 51/100\n",
      "17/17 [==============================] - 0s 15ms/step - loss: nan - risk_loss: nan - risk_harrellsc: 0.6367 - val_loss: 26.2904 - val_risk_loss: 26.2904 - val_risk_harrellsc: 0.4627 - lr: 0.0000e+00\n",
      "Epoch 52/100\n",
      "17/17 [==============================] - 0s 16ms/step - loss: 24.5162 - risk_loss: 24.5162 - risk_harrellsc: 0.6384 - val_loss: 26.2904 - val_risk_loss: 26.2904 - val_risk_harrellsc: 0.4627 - lr: 0.0000e+00\n",
      "Epoch 53/100\n",
      "17/17 [==============================] - 0s 14ms/step - loss: 24.6474 - risk_loss: 24.6474 - risk_harrellsc: 0.6253 - val_loss: 26.2904 - val_risk_loss: 26.2904 - val_risk_harrellsc: 0.4627 - lr: 0.0000e+00\n",
      "Epoch 54/100\n",
      "17/17 [==============================] - 0s 17ms/step - loss: 24.7690 - risk_loss: 24.7690 - risk_harrellsc: 0.6309 - val_loss: 26.2904 - val_risk_loss: 26.2904 - val_risk_harrellsc: 0.4627 - lr: 0.0000e+00\n",
      "Epoch 55/100\n",
      "17/17 [==============================] - 0s 14ms/step - loss: 24.9587 - risk_loss: 24.9587 - risk_harrellsc: 0.6326 - val_loss: 26.2904 - val_risk_loss: 26.2904 - val_risk_harrellsc: 0.4627 - lr: 0.0000e+00\n",
      "Epoch 56/100\n",
      "17/17 [==============================] - 0s 15ms/step - loss: 24.3077 - risk_loss: 24.3077 - risk_harrellsc: 0.6339 - val_loss: 26.2904 - val_risk_loss: 26.2904 - val_risk_harrellsc: 0.4627 - lr: 0.0000e+00\n",
      "Epoch 57/100\n",
      "17/17 [==============================] - 0s 15ms/step - loss: 24.9064 - risk_loss: 24.9064 - risk_harrellsc: 0.6270 - val_loss: 26.2904 - val_risk_loss: 26.2904 - val_risk_harrellsc: 0.4627 - lr: 0.0000e+00\n",
      "Epoch 58/100\n",
      "17/17 [==============================] - 0s 15ms/step - loss: 24.7012 - risk_loss: 24.7012 - risk_harrellsc: 0.6339 - val_loss: 26.2904 - val_risk_loss: 26.2904 - val_risk_harrellsc: 0.4627 - lr: 0.0000e+00\n",
      "Epoch 59/100\n",
      "17/17 [==============================] - 0s 18ms/step - loss: 24.9332 - risk_loss: 24.9332 - risk_harrellsc: 0.6342 - val_loss: 26.2904 - val_risk_loss: 26.2904 - val_risk_harrellsc: 0.4627 - lr: 0.0000e+00\n",
      "Epoch 60/100\n",
      "17/17 [==============================] - 0s 16ms/step - loss: 24.5903 - risk_loss: 24.5903 - risk_harrellsc: 0.6197 - val_loss: 26.2904 - val_risk_loss: 26.2904 - val_risk_harrellsc: 0.4627 - lr: 0.0000e+00\n",
      "Epoch 61/100\n",
      "17/17 [==============================] - 0s 14ms/step - loss: 25.1159 - risk_loss: 25.1159 - risk_harrellsc: 0.6263 - val_loss: 26.2904 - val_risk_loss: 26.2904 - val_risk_harrellsc: 0.4627 - lr: 0.0000e+00\n",
      "Epoch 62/100\n",
      "17/17 [==============================] - 0s 15ms/step - loss: 25.0234 - risk_loss: 25.0234 - risk_harrellsc: 0.6183 - val_loss: 26.2904 - val_risk_loss: 26.2904 - val_risk_harrellsc: 0.4627 - lr: 0.0000e+00\n",
      "Epoch 63/100\n",
      "17/17 [==============================] - 0s 15ms/step - loss: nan - risk_loss: nan - risk_harrellsc: 0.6190 - val_loss: 26.2904 - val_risk_loss: 26.2904 - val_risk_harrellsc: 0.4627 - lr: 0.0000e+00\n",
      "Epoch 64/100\n",
      "17/17 [==============================] - 0s 15ms/step - loss: 24.9413 - risk_loss: 24.9413 - risk_harrellsc: 0.6315 - val_loss: 26.2904 - val_risk_loss: 26.2904 - val_risk_harrellsc: 0.4627 - lr: 0.0000e+00\n",
      "Epoch 65/100\n",
      "17/17 [==============================] - 0s 16ms/step - loss: 24.5637 - risk_loss: 24.5637 - risk_harrellsc: 0.6187 - val_loss: 26.2904 - val_risk_loss: 26.2904 - val_risk_harrellsc: 0.4627 - lr: 0.0000e+00\n",
      "Epoch 66/100\n",
      "17/17 [==============================] - 0s 15ms/step - loss: 24.7925 - risk_loss: 24.7925 - risk_harrellsc: 0.6215 - val_loss: 26.2904 - val_risk_loss: 26.2904 - val_risk_harrellsc: 0.4627 - lr: 0.0000e+00\n",
      "Epoch 67/100\n",
      "17/17 [==============================] - 0s 16ms/step - loss: 24.7251 - risk_loss: 24.7251 - risk_harrellsc: 0.6263 - val_loss: 26.2904 - val_risk_loss: 26.2904 - val_risk_harrellsc: 0.4627 - lr: 0.0000e+00\n",
      "Epoch 68/100\n",
      "17/17 [==============================] - 0s 15ms/step - loss: 25.1948 - risk_loss: 25.1948 - risk_harrellsc: 0.6203 - val_loss: 26.2904 - val_risk_loss: 26.2904 - val_risk_harrellsc: 0.4627 - lr: 0.0000e+00\n",
      "Epoch 69/100\n",
      "17/17 [==============================] - 0s 14ms/step - loss: 24.7352 - risk_loss: 24.7352 - risk_harrellsc: 0.6291 - val_loss: 26.2904 - val_risk_loss: 26.2904 - val_risk_harrellsc: 0.4627 - lr: 0.0000e+00\n",
      "Epoch 70/100\n",
      "17/17 [==============================] - 0s 17ms/step - loss: 24.6070 - risk_loss: 24.6070 - risk_harrellsc: 0.6225 - val_loss: 26.2904 - val_risk_loss: 26.2904 - val_risk_harrellsc: 0.4627 - lr: 0.0000e+00\n",
      "Epoch 71/100\n",
      "17/17 [==============================] - 0s 16ms/step - loss: 25.1280 - risk_loss: 25.1280 - risk_harrellsc: 0.6323 - val_loss: 26.2904 - val_risk_loss: 26.2904 - val_risk_harrellsc: 0.4627 - lr: 0.0000e+00\n",
      "Epoch 72/100\n",
      "17/17 [==============================] - 0s 14ms/step - loss: 24.6823 - risk_loss: 24.6823 - risk_harrellsc: 0.6354 - val_loss: 26.2904 - val_risk_loss: 26.2904 - val_risk_harrellsc: 0.4627 - lr: 0.0000e+00\n",
      "Epoch 73/100\n",
      "17/17 [==============================] - 0s 14ms/step - loss: 24.6864 - risk_loss: 24.6864 - risk_harrellsc: 0.6340 - val_loss: 26.2904 - val_risk_loss: 26.2904 - val_risk_harrellsc: 0.4627 - lr: 0.0000e+00\n",
      "Epoch 74/100\n",
      "17/17 [==============================] - 0s 15ms/step - loss: 25.1574 - risk_loss: 25.1574 - risk_harrellsc: 0.6340 - val_loss: 26.2904 - val_risk_loss: 26.2904 - val_risk_harrellsc: 0.4627 - lr: 0.0000e+00\n",
      "Epoch 75/100\n",
      "17/17 [==============================] - 0s 14ms/step - loss: 24.6613 - risk_loss: 24.6613 - risk_harrellsc: 0.6476 - val_loss: 26.2904 - val_risk_loss: 26.2904 - val_risk_harrellsc: 0.4627 - lr: 0.0000e+00\n",
      "Epoch 76/100\n",
      "17/17 [==============================] - 0s 15ms/step - loss: 25.1362 - risk_loss: 25.1362 - risk_harrellsc: 0.6199 - val_loss: 26.2904 - val_risk_loss: 26.2904 - val_risk_harrellsc: 0.4627 - lr: 0.0000e+00\n",
      "Epoch 77/100\n",
      "17/17 [==============================] - 0s 15ms/step - loss: 24.8266 - risk_loss: 24.8266 - risk_harrellsc: 0.6348 - val_loss: 26.2904 - val_risk_loss: 26.2904 - val_risk_harrellsc: 0.4627 - lr: 0.0000e+00\n",
      "Epoch 78/100\n",
      "17/17 [==============================] - 0s 14ms/step - loss: 25.2089 - risk_loss: 25.2089 - risk_harrellsc: 0.6328 - val_loss: 26.2904 - val_risk_loss: 26.2904 - val_risk_harrellsc: 0.4627 - lr: 0.0000e+00\n",
      "Epoch 79/100\n",
      "17/17 [==============================] - 0s 16ms/step - loss: nan - risk_loss: nan - risk_harrellsc: 0.6322 - val_loss: 26.2904 - val_risk_loss: 26.2904 - val_risk_harrellsc: 0.4627 - lr: 0.0000e+00\n",
      "Epoch 80/100\n",
      "17/17 [==============================] - 0s 15ms/step - loss: 25.0164 - risk_loss: 25.0164 - risk_harrellsc: 0.6307 - val_loss: 26.2904 - val_risk_loss: 26.2904 - val_risk_harrellsc: 0.4627 - lr: 0.0000e+00\n",
      "Epoch 81/100\n",
      "17/17 [==============================] - 0s 15ms/step - loss: 24.6590 - risk_loss: 24.6590 - risk_harrellsc: 0.6265 - val_loss: 26.2904 - val_risk_loss: 26.2904 - val_risk_harrellsc: 0.4627 - lr: 0.0000e+00\n",
      "Epoch 82/100\n",
      "17/17 [==============================] - 0s 17ms/step - loss: 24.4938 - risk_loss: 24.4938 - risk_harrellsc: 0.6321 - val_loss: 26.2904 - val_risk_loss: 26.2904 - val_risk_harrellsc: 0.4627 - lr: 0.0000e+00\n",
      "Epoch 83/100\n",
      "17/17 [==============================] - 0s 15ms/step - loss: 24.5722 - risk_loss: 24.5722 - risk_harrellsc: 0.6326 - val_loss: 26.2904 - val_risk_loss: 26.2904 - val_risk_harrellsc: 0.4627 - lr: 0.0000e+00\n",
      "Epoch 84/100\n",
      "17/17 [==============================] - 0s 16ms/step - loss: 24.7775 - risk_loss: 24.7775 - risk_harrellsc: 0.6208 - val_loss: 26.2904 - val_risk_loss: 26.2904 - val_risk_harrellsc: 0.4627 - lr: 0.0000e+00\n",
      "Epoch 85/100\n",
      "17/17 [==============================] - 0s 16ms/step - loss: 24.8392 - risk_loss: 24.8392 - risk_harrellsc: 0.6242 - val_loss: 26.2904 - val_risk_loss: 26.2904 - val_risk_harrellsc: 0.4627 - lr: 0.0000e+00\n",
      "Epoch 86/100\n",
      "17/17 [==============================] - 0s 16ms/step - loss: 24.9119 - risk_loss: 24.9119 - risk_harrellsc: 0.6184 - val_loss: 26.2904 - val_risk_loss: 26.2904 - val_risk_harrellsc: 0.4627 - lr: 0.0000e+00\n",
      "Epoch 87/100\n",
      "17/17 [==============================] - 0s 16ms/step - loss: 24.7287 - risk_loss: 24.7287 - risk_harrellsc: 0.6372 - val_loss: 26.2904 - val_risk_loss: 26.2904 - val_risk_harrellsc: 0.4627 - lr: 0.0000e+00\n",
      "Epoch 88/100\n",
      "17/17 [==============================] - 0s 17ms/step - loss: 24.8361 - risk_loss: 24.8361 - risk_harrellsc: 0.6305 - val_loss: 26.2904 - val_risk_loss: 26.2904 - val_risk_harrellsc: 0.4627 - lr: 0.0000e+00\n",
      "Epoch 89/100\n",
      "17/17 [==============================] - 0s 17ms/step - loss: 24.9157 - risk_loss: 24.9157 - risk_harrellsc: 0.6277 - val_loss: 26.2904 - val_risk_loss: 26.2904 - val_risk_harrellsc: 0.4627 - lr: 0.0000e+00\n",
      "Epoch 90/100\n",
      "17/17 [==============================] - 0s 18ms/step - loss: 24.9023 - risk_loss: 24.9023 - risk_harrellsc: 0.6381 - val_loss: 26.2904 - val_risk_loss: 26.2904 - val_risk_harrellsc: 0.4627 - lr: 0.0000e+00\n",
      "Epoch 91/100\n",
      "17/17 [==============================] - 0s 16ms/step - loss: 24.7121 - risk_loss: 24.7121 - risk_harrellsc: 0.6398 - val_loss: 26.2904 - val_risk_loss: 26.2904 - val_risk_harrellsc: 0.4627 - lr: 0.0000e+00\n",
      "Epoch 92/100\n",
      "17/17 [==============================] - 0s 21ms/step - loss: nan - risk_loss: nan - risk_harrellsc: 0.6247 - val_loss: 26.2904 - val_risk_loss: 26.2904 - val_risk_harrellsc: 0.4627 - lr: 0.0000e+00\n",
      "Epoch 93/100\n",
      "17/17 [==============================] - 0s 15ms/step - loss: 25.0444 - risk_loss: 25.0444 - risk_harrellsc: 0.6269 - val_loss: 26.2904 - val_risk_loss: 26.2904 - val_risk_harrellsc: 0.4627 - lr: 0.0000e+00\n",
      "Epoch 94/100\n",
      "17/17 [==============================] - 0s 15ms/step - loss: 24.2918 - risk_loss: 24.2918 - risk_harrellsc: 0.6280 - val_loss: 26.2904 - val_risk_loss: 26.2904 - val_risk_harrellsc: 0.4627 - lr: 0.0000e+00\n",
      "Epoch 95/100\n",
      "17/17 [==============================] - 0s 15ms/step - loss: 24.7673 - risk_loss: 24.7673 - risk_harrellsc: 0.6215 - val_loss: 26.2904 - val_risk_loss: 26.2904 - val_risk_harrellsc: 0.4627 - lr: 0.0000e+00\n",
      "Epoch 96/100\n",
      "17/17 [==============================] - 0s 15ms/step - loss: 24.8894 - risk_loss: 24.8894 - risk_harrellsc: 0.6270 - val_loss: 26.2904 - val_risk_loss: 26.2904 - val_risk_harrellsc: 0.4627 - lr: 0.0000e+00\n",
      "Epoch 97/100\n",
      "17/17 [==============================] - 0s 15ms/step - loss: 25.1333 - risk_loss: 25.1333 - risk_harrellsc: 0.6229 - val_loss: 26.2904 - val_risk_loss: 26.2904 - val_risk_harrellsc: 0.4627 - lr: 0.0000e+00\n",
      "Epoch 98/100\n",
      "17/17 [==============================] - 0s 15ms/step - loss: 25.1141 - risk_loss: 25.1141 - risk_harrellsc: 0.6286 - val_loss: 26.2904 - val_risk_loss: 26.2904 - val_risk_harrellsc: 0.4627 - lr: 0.0000e+00\n",
      "Epoch 99/100\n",
      "17/17 [==============================] - 0s 15ms/step - loss: 24.8333 - risk_loss: 24.8333 - risk_harrellsc: 0.6229 - val_loss: 26.2904 - val_risk_loss: 26.2904 - val_risk_harrellsc: 0.4627 - lr: 0.0000e+00\n",
      "Epoch 100/100\n",
      "17/17 [==============================] - 0s 15ms/step - loss: 25.2380 - risk_loss: 25.2380 - risk_harrellsc: 0.6296 - val_loss: 26.2904 - val_risk_loss: 26.2904 - val_risk_harrellsc: 0.4627 - lr: 0.0000e+00\n"
     ]
    },
    {
     "data": {
      "application/vnd.plotly.v1+json": {
       "config": {
        "plotlyServerURL": "https://plot.ly"
       },
       "data": [
        {
         "mode": "lines",
         "name": "Train Loss",
         "type": "scatter",
         "x": [
          1,
          2,
          3,
          4,
          5,
          6,
          7,
          8,
          9,
          10,
          11,
          12,
          13,
          14,
          15,
          16,
          17,
          18,
          19,
          20,
          21,
          22,
          23,
          24,
          25,
          26,
          27,
          28,
          29,
          30,
          31,
          32,
          33,
          34,
          35,
          36,
          37,
          38,
          39,
          40,
          41,
          42,
          43,
          44,
          45,
          46,
          47,
          48,
          49,
          50,
          51,
          52,
          53,
          54,
          55,
          56,
          57,
          58,
          59,
          60,
          61,
          62,
          63,
          64,
          65,
          66,
          67,
          68,
          69,
          70,
          71,
          72,
          73,
          74,
          75,
          76,
          77,
          78,
          79,
          80,
          81,
          82,
          83,
          84,
          85,
          86,
          87,
          88,
          89,
          90,
          91,
          92,
          93,
          94,
          95,
          96,
          97,
          98,
          99,
          100
         ],
         "xaxis": "x",
         "y": [
          25.0545597076416,
          25.07058334350586,
          25.125864028930664,
          25.04108428955078,
          25.023927688598633,
          24.5318546295166,
          24.85892105102539,
          24.72196388244629,
          24.56800079345703,
          24.59987449645996,
          24.536056518554688,
          24.914369583129883,
          25.078460693359375,
          24.983224868774414,
          25.26117515563965,
          24.706199645996094,
          24.966079711914062,
          25.21593475341797,
          25.19580841064453,
          25.31959342956543,
          24.8994140625,
          24.639951705932617,
          24.514625549316406,
          24.99701499938965,
          24.603221893310547,
          25.06968879699707,
          25.168041229248047,
          24.938831329345703,
          24.470857620239258,
          25.005470275878906,
          24.977754592895508,
          24.778833389282227,
          24.994529724121094,
          25.214794158935547,
          25.171064376831055,
          24.90555191040039,
          25.079479217529297,
          25.104625701904297,
          25.161977767944336,
          24.843000411987305,
          25.05034637451172,
          24.564226150512695,
          24.863685607910156,
          24.750003814697266,
          25.204763412475586,
          25.001144409179688,
          24.986711502075195,
          25.112953186035156,
          24.6317195892334,
          24.544273376464844,
          null,
          24.51620864868164,
          24.647388458251953,
          24.769044876098633,
          24.95869255065918,
          24.30771255493164,
          24.90639877319336,
          24.7011661529541,
          24.933177947998047,
          24.590341567993164,
          25.11587142944336,
          25.023439407348633,
          null,
          24.941261291503906,
          24.563739776611328,
          24.79245376586914,
          24.725051879882812,
          25.194822311401367,
          24.735164642333984,
          24.606958389282227,
          25.12795639038086,
          24.682300567626953,
          24.686447143554688,
          25.157379150390625,
          24.66128158569336,
          25.13621711730957,
          24.826641082763672,
          25.208946228027344,
          null,
          25.016395568847656,
          24.65900993347168,
          24.49382209777832,
          24.572158813476562,
          24.777503967285156,
          24.839216232299805,
          24.911914825439453,
          24.728668212890625,
          24.836076736450195,
          24.91568946838379,
          24.902250289916992,
          24.71213722229004,
          null,
          25.044410705566406,
          24.29179573059082,
          24.767271041870117,
          24.889360427856445,
          25.13329315185547,
          25.114070892333984,
          24.833271026611328,
          25.23798370361328
         ],
         "yaxis": "y"
        },
        {
         "mode": "lines",
         "name": "Validation Loss",
         "type": "scatter",
         "x": [
          1,
          2,
          3,
          4,
          5,
          6,
          7,
          8,
          9,
          10,
          11,
          12,
          13,
          14,
          15,
          16,
          17,
          18,
          19,
          20,
          21,
          22,
          23,
          24,
          25,
          26,
          27,
          28,
          29,
          30,
          31,
          32,
          33,
          34,
          35,
          36,
          37,
          38,
          39,
          40,
          41,
          42,
          43,
          44,
          45,
          46,
          47,
          48,
          49,
          50,
          51,
          52,
          53,
          54,
          55,
          56,
          57,
          58,
          59,
          60,
          61,
          62,
          63,
          64,
          65,
          66,
          67,
          68,
          69,
          70,
          71,
          72,
          73,
          74,
          75,
          76,
          77,
          78,
          79,
          80,
          81,
          82,
          83,
          84,
          85,
          86,
          87,
          88,
          89,
          90,
          91,
          92,
          93,
          94,
          95,
          96,
          97,
          98,
          99,
          100
         ],
         "xaxis": "x",
         "y": [
          26.290361404418945,
          26.290361404418945,
          26.290361404418945,
          26.290361404418945,
          26.290361404418945,
          26.290361404418945,
          26.290361404418945,
          26.290361404418945,
          26.290361404418945,
          26.290361404418945,
          26.290361404418945,
          26.290361404418945,
          26.290361404418945,
          26.290361404418945,
          26.290361404418945,
          26.290361404418945,
          26.290361404418945,
          26.290361404418945,
          26.290361404418945,
          26.290361404418945,
          26.290361404418945,
          26.290361404418945,
          26.290361404418945,
          26.290361404418945,
          26.290361404418945,
          26.290361404418945,
          26.290361404418945,
          26.290361404418945,
          26.290361404418945,
          26.290361404418945,
          26.290361404418945,
          26.290361404418945,
          26.290361404418945,
          26.290361404418945,
          26.290361404418945,
          26.290361404418945,
          26.290361404418945,
          26.290361404418945,
          26.290361404418945,
          26.290361404418945,
          26.290361404418945,
          26.290361404418945,
          26.290361404418945,
          26.290361404418945,
          26.290361404418945,
          26.290361404418945,
          26.290361404418945,
          26.290361404418945,
          26.290361404418945,
          26.290361404418945,
          26.290361404418945,
          26.290361404418945,
          26.290361404418945,
          26.290361404418945,
          26.290361404418945,
          26.290361404418945,
          26.290361404418945,
          26.290361404418945,
          26.290361404418945,
          26.290361404418945,
          26.290361404418945,
          26.290361404418945,
          26.290361404418945,
          26.290361404418945,
          26.290361404418945,
          26.290361404418945,
          26.290361404418945,
          26.290361404418945,
          26.290361404418945,
          26.290361404418945,
          26.290361404418945,
          26.290361404418945,
          26.290361404418945,
          26.290361404418945,
          26.290361404418945,
          26.290361404418945,
          26.290361404418945,
          26.290361404418945,
          26.290361404418945,
          26.290361404418945,
          26.290361404418945,
          26.290361404418945,
          26.290361404418945,
          26.290361404418945,
          26.290361404418945,
          26.290361404418945,
          26.290361404418945,
          26.290361404418945,
          26.290361404418945,
          26.290361404418945,
          26.290361404418945,
          26.290361404418945,
          26.290361404418945,
          26.290361404418945,
          26.290361404418945,
          26.290361404418945,
          26.290361404418945,
          26.290361404418945,
          26.290361404418945,
          26.290361404418945
         ],
         "yaxis": "y"
        },
        {
         "mode": "lines",
         "name": "Train Harrell's C",
         "type": "scatter",
         "x": [
          1,
          2,
          3,
          4,
          5,
          6,
          7,
          8,
          9,
          10,
          11,
          12,
          13,
          14,
          15,
          16,
          17,
          18,
          19,
          20,
          21,
          22,
          23,
          24,
          25,
          26,
          27,
          28,
          29,
          30,
          31,
          32,
          33,
          34,
          35,
          36,
          37,
          38,
          39,
          40,
          41,
          42,
          43,
          44,
          45,
          46,
          47,
          48,
          49,
          50,
          51,
          52,
          53,
          54,
          55,
          56,
          57,
          58,
          59,
          60,
          61,
          62,
          63,
          64,
          65,
          66,
          67,
          68,
          69,
          70,
          71,
          72,
          73,
          74,
          75,
          76,
          77,
          78,
          79,
          80,
          81,
          82,
          83,
          84,
          85,
          86,
          87,
          88,
          89,
          90,
          91,
          92,
          93,
          94,
          95,
          96,
          97,
          98,
          99,
          100
         ],
         "xaxis": "x2",
         "y": [
          0.6258040105940219,
          0.6237103732883136,
          0.6302631578947369,
          0.6329398538504778,
          0.6334023724345698,
          0.6317307692307692,
          0.6330537552420892,
          0.6314895223711535,
          0.6254065429500669,
          0.6301292861157954,
          0.6279114165712104,
          0.6329736891917471,
          0.6291588785046729,
          0.6309880239520957,
          0.6230366492146597,
          0.627026008292499,
          0.634789156626506,
          0.6288814066591845,
          0.6314901593252109,
          0.6127049180327869,
          0.6253526424675568,
          0.6240903868249713,
          0.6415094339622641,
          0.6211923005045786,
          0.6272121788772598,
          0.6288525807649461,
          0.6187158727170025,
          0.6213774934136244,
          0.6447013487475916,
          0.6231203007518797,
          0.6241268642627903,
          0.6391063586022532,
          0.625212947189097,
          0.6322544642857143,
          0.620288768048003,
          0.6259527793270124,
          0.627163280662152,
          0.6219627048408363,
          0.6273362280536152,
          0.624078624078624,
          0.6408912188728703,
          0.6254559416394702,
          0.6229039634146342,
          0.630339851908107,
          0.6293263863044287,
          0.6256361922714421,
          0.630108736407949,
          0.6328684508104033,
          0.6384496721943694,
          0.6274809160305344,
          0.6367173027047055,
          0.6384452568789687,
          0.6252873563218391,
          0.6308534743202416,
          0.6326299924642049,
          0.633868161608351,
          0.6270484083631569,
          0.6339472185304728,
          0.6342155009451795,
          0.6196564885496183,
          0.6263425664217072,
          0.618334892422825,
          0.6189856957087126,
          0.631509183866692,
          0.6186748138247088,
          0.6215297450424929,
          0.6263277693474962,
          0.6203446359088383,
          0.6290755657844266,
          0.6224861137713081,
          0.6322677135913255,
          0.6353790613718412,
          0.6340167046317388,
          0.6340225563909774,
          0.6475737392959087,
          0.6199213630406291,
          0.6347974252177205,
          0.632847533632287,
          0.6321647189760713,
          0.6307257304429783,
          0.6265496852946786,
          0.6320718654434251,
          0.6325670498084291,
          0.6207743153918791,
          0.6242458521870287,
          0.6184284906726965,
          0.6371563981042654,
          0.6304553183449839,
          0.6277072442120986,
          0.6380737396538751,
          0.6398023189507698,
          0.6246968849095318,
          0.6268712574850299,
          0.6280406052480367,
          0.6214979988564894,
          0.6270035828776165,
          0.6229446935724963,
          0.6286303166572981,
          0.6229135053110774,
          0.6296158842085731
         ],
         "yaxis": "y2"
        },
        {
         "mode": "lines",
         "name": "Validation Harrell's C",
         "type": "scatter",
         "x": [
          1,
          2,
          3,
          4,
          5,
          6,
          7,
          8,
          9,
          10,
          11,
          12,
          13,
          14,
          15,
          16,
          17,
          18,
          19,
          20,
          21,
          22,
          23,
          24,
          25,
          26,
          27,
          28,
          29,
          30,
          31,
          32,
          33,
          34,
          35,
          36,
          37,
          38,
          39,
          40,
          41,
          42,
          43,
          44,
          45,
          46,
          47,
          48,
          49,
          50,
          51,
          52,
          53,
          54,
          55,
          56,
          57,
          58,
          59,
          60,
          61,
          62,
          63,
          64,
          65,
          66,
          67,
          68,
          69,
          70,
          71,
          72,
          73,
          74,
          75,
          76,
          77,
          78,
          79,
          80,
          81,
          82,
          83,
          84,
          85,
          86,
          87,
          88,
          89,
          90,
          91,
          92,
          93,
          94,
          95,
          96,
          97,
          98,
          99,
          100
         ],
         "xaxis": "x2",
         "y": [
          0.46265560165975106,
          0.46265560165975106,
          0.46265560165975106,
          0.46265560165975106,
          0.46265560165975106,
          0.46265560165975106,
          0.46265560165975106,
          0.46265560165975106,
          0.46265560165975106,
          0.46265560165975106,
          0.46265560165975106,
          0.46265560165975106,
          0.46265560165975106,
          0.46265560165975106,
          0.46265560165975106,
          0.46265560165975106,
          0.46265560165975106,
          0.46265560165975106,
          0.46265560165975106,
          0.46265560165975106,
          0.46265560165975106,
          0.46265560165975106,
          0.46265560165975106,
          0.46265560165975106,
          0.46265560165975106,
          0.46265560165975106,
          0.46265560165975106,
          0.46265560165975106,
          0.46265560165975106,
          0.46265560165975106,
          0.46265560165975106,
          0.46265560165975106,
          0.46265560165975106,
          0.46265560165975106,
          0.46265560165975106,
          0.46265560165975106,
          0.46265560165975106,
          0.46265560165975106,
          0.46265560165975106,
          0.46265560165975106,
          0.46265560165975106,
          0.46265560165975106,
          0.46265560165975106,
          0.46265560165975106,
          0.46265560165975106,
          0.46265560165975106,
          0.46265560165975106,
          0.46265560165975106,
          0.46265560165975106,
          0.46265560165975106,
          0.46265560165975106,
          0.46265560165975106,
          0.46265560165975106,
          0.46265560165975106,
          0.46265560165975106,
          0.46265560165975106,
          0.46265560165975106,
          0.46265560165975106,
          0.46265560165975106,
          0.46265560165975106,
          0.46265560165975106,
          0.46265560165975106,
          0.46265560165975106,
          0.46265560165975106,
          0.46265560165975106,
          0.46265560165975106,
          0.46265560165975106,
          0.46265560165975106,
          0.46265560165975106,
          0.46265560165975106,
          0.46265560165975106,
          0.46265560165975106,
          0.46265560165975106,
          0.46265560165975106,
          0.46265560165975106,
          0.46265560165975106,
          0.46265560165975106,
          0.46265560165975106,
          0.46265560165975106,
          0.46265560165975106,
          0.46265560165975106,
          0.46265560165975106,
          0.46265560165975106,
          0.46265560165975106,
          0.46265560165975106,
          0.46265560165975106,
          0.46265560165975106,
          0.46265560165975106,
          0.46265560165975106,
          0.46265560165975106,
          0.46265560165975106,
          0.46265560165975106,
          0.46265560165975106,
          0.46265560165975106,
          0.46265560165975106,
          0.46265560165975106,
          0.46265560165975106,
          0.46265560165975106,
          0.46265560165975106,
          0.46265560165975106
         ],
         "yaxis": "y2"
        }
       ],
       "layout": {
        "annotations": [
         {
          "font": {
           "size": 16
          },
          "showarrow": false,
          "text": "Loss",
          "x": 0.225,
          "xanchor": "center",
          "xref": "paper",
          "y": 1,
          "yanchor": "bottom",
          "yref": "paper"
         },
         {
          "font": {
           "size": 16
          },
          "showarrow": false,
          "text": "Harrell's C",
          "x": 0.775,
          "xanchor": "center",
          "xref": "paper",
          "y": 1,
          "yanchor": "bottom",
          "yref": "paper"
         }
        ],
        "template": {
         "data": {
          "bar": [
           {
            "error_x": {
             "color": "#2a3f5f"
            },
            "error_y": {
             "color": "#2a3f5f"
            },
            "marker": {
             "line": {
              "color": "#E5ECF6",
              "width": 0.5
             },
             "pattern": {
              "fillmode": "overlay",
              "size": 10,
              "solidity": 0.2
             }
            },
            "type": "bar"
           }
          ],
          "barpolar": [
           {
            "marker": {
             "line": {
              "color": "#E5ECF6",
              "width": 0.5
             },
             "pattern": {
              "fillmode": "overlay",
              "size": 10,
              "solidity": 0.2
             }
            },
            "type": "barpolar"
           }
          ],
          "carpet": [
           {
            "aaxis": {
             "endlinecolor": "#2a3f5f",
             "gridcolor": "white",
             "linecolor": "white",
             "minorgridcolor": "white",
             "startlinecolor": "#2a3f5f"
            },
            "baxis": {
             "endlinecolor": "#2a3f5f",
             "gridcolor": "white",
             "linecolor": "white",
             "minorgridcolor": "white",
             "startlinecolor": "#2a3f5f"
            },
            "type": "carpet"
           }
          ],
          "choropleth": [
           {
            "colorbar": {
             "outlinewidth": 0,
             "ticks": ""
            },
            "type": "choropleth"
           }
          ],
          "contour": [
           {
            "colorbar": {
             "outlinewidth": 0,
             "ticks": ""
            },
            "colorscale": [
             [
              0,
              "#0d0887"
             ],
             [
              0.1111111111111111,
              "#46039f"
             ],
             [
              0.2222222222222222,
              "#7201a8"
             ],
             [
              0.3333333333333333,
              "#9c179e"
             ],
             [
              0.4444444444444444,
              "#bd3786"
             ],
             [
              0.5555555555555556,
              "#d8576b"
             ],
             [
              0.6666666666666666,
              "#ed7953"
             ],
             [
              0.7777777777777778,
              "#fb9f3a"
             ],
             [
              0.8888888888888888,
              "#fdca26"
             ],
             [
              1,
              "#f0f921"
             ]
            ],
            "type": "contour"
           }
          ],
          "contourcarpet": [
           {
            "colorbar": {
             "outlinewidth": 0,
             "ticks": ""
            },
            "type": "contourcarpet"
           }
          ],
          "heatmap": [
           {
            "colorbar": {
             "outlinewidth": 0,
             "ticks": ""
            },
            "colorscale": [
             [
              0,
              "#0d0887"
             ],
             [
              0.1111111111111111,
              "#46039f"
             ],
             [
              0.2222222222222222,
              "#7201a8"
             ],
             [
              0.3333333333333333,
              "#9c179e"
             ],
             [
              0.4444444444444444,
              "#bd3786"
             ],
             [
              0.5555555555555556,
              "#d8576b"
             ],
             [
              0.6666666666666666,
              "#ed7953"
             ],
             [
              0.7777777777777778,
              "#fb9f3a"
             ],
             [
              0.8888888888888888,
              "#fdca26"
             ],
             [
              1,
              "#f0f921"
             ]
            ],
            "type": "heatmap"
           }
          ],
          "heatmapgl": [
           {
            "colorbar": {
             "outlinewidth": 0,
             "ticks": ""
            },
            "colorscale": [
             [
              0,
              "#0d0887"
             ],
             [
              0.1111111111111111,
              "#46039f"
             ],
             [
              0.2222222222222222,
              "#7201a8"
             ],
             [
              0.3333333333333333,
              "#9c179e"
             ],
             [
              0.4444444444444444,
              "#bd3786"
             ],
             [
              0.5555555555555556,
              "#d8576b"
             ],
             [
              0.6666666666666666,
              "#ed7953"
             ],
             [
              0.7777777777777778,
              "#fb9f3a"
             ],
             [
              0.8888888888888888,
              "#fdca26"
             ],
             [
              1,
              "#f0f921"
             ]
            ],
            "type": "heatmapgl"
           }
          ],
          "histogram": [
           {
            "marker": {
             "pattern": {
              "fillmode": "overlay",
              "size": 10,
              "solidity": 0.2
             }
            },
            "type": "histogram"
           }
          ],
          "histogram2d": [
           {
            "colorbar": {
             "outlinewidth": 0,
             "ticks": ""
            },
            "colorscale": [
             [
              0,
              "#0d0887"
             ],
             [
              0.1111111111111111,
              "#46039f"
             ],
             [
              0.2222222222222222,
              "#7201a8"
             ],
             [
              0.3333333333333333,
              "#9c179e"
             ],
             [
              0.4444444444444444,
              "#bd3786"
             ],
             [
              0.5555555555555556,
              "#d8576b"
             ],
             [
              0.6666666666666666,
              "#ed7953"
             ],
             [
              0.7777777777777778,
              "#fb9f3a"
             ],
             [
              0.8888888888888888,
              "#fdca26"
             ],
             [
              1,
              "#f0f921"
             ]
            ],
            "type": "histogram2d"
           }
          ],
          "histogram2dcontour": [
           {
            "colorbar": {
             "outlinewidth": 0,
             "ticks": ""
            },
            "colorscale": [
             [
              0,
              "#0d0887"
             ],
             [
              0.1111111111111111,
              "#46039f"
             ],
             [
              0.2222222222222222,
              "#7201a8"
             ],
             [
              0.3333333333333333,
              "#9c179e"
             ],
             [
              0.4444444444444444,
              "#bd3786"
             ],
             [
              0.5555555555555556,
              "#d8576b"
             ],
             [
              0.6666666666666666,
              "#ed7953"
             ],
             [
              0.7777777777777778,
              "#fb9f3a"
             ],
             [
              0.8888888888888888,
              "#fdca26"
             ],
             [
              1,
              "#f0f921"
             ]
            ],
            "type": "histogram2dcontour"
           }
          ],
          "mesh3d": [
           {
            "colorbar": {
             "outlinewidth": 0,
             "ticks": ""
            },
            "type": "mesh3d"
           }
          ],
          "parcoords": [
           {
            "line": {
             "colorbar": {
              "outlinewidth": 0,
              "ticks": ""
             }
            },
            "type": "parcoords"
           }
          ],
          "pie": [
           {
            "automargin": true,
            "type": "pie"
           }
          ],
          "scatter": [
           {
            "fillpattern": {
             "fillmode": "overlay",
             "size": 10,
             "solidity": 0.2
            },
            "type": "scatter"
           }
          ],
          "scatter3d": [
           {
            "line": {
             "colorbar": {
              "outlinewidth": 0,
              "ticks": ""
             }
            },
            "marker": {
             "colorbar": {
              "outlinewidth": 0,
              "ticks": ""
             }
            },
            "type": "scatter3d"
           }
          ],
          "scattercarpet": [
           {
            "marker": {
             "colorbar": {
              "outlinewidth": 0,
              "ticks": ""
             }
            },
            "type": "scattercarpet"
           }
          ],
          "scattergeo": [
           {
            "marker": {
             "colorbar": {
              "outlinewidth": 0,
              "ticks": ""
             }
            },
            "type": "scattergeo"
           }
          ],
          "scattergl": [
           {
            "marker": {
             "colorbar": {
              "outlinewidth": 0,
              "ticks": ""
             }
            },
            "type": "scattergl"
           }
          ],
          "scattermapbox": [
           {
            "marker": {
             "colorbar": {
              "outlinewidth": 0,
              "ticks": ""
             }
            },
            "type": "scattermapbox"
           }
          ],
          "scatterpolar": [
           {
            "marker": {
             "colorbar": {
              "outlinewidth": 0,
              "ticks": ""
             }
            },
            "type": "scatterpolar"
           }
          ],
          "scatterpolargl": [
           {
            "marker": {
             "colorbar": {
              "outlinewidth": 0,
              "ticks": ""
             }
            },
            "type": "scatterpolargl"
           }
          ],
          "scatterternary": [
           {
            "marker": {
             "colorbar": {
              "outlinewidth": 0,
              "ticks": ""
             }
            },
            "type": "scatterternary"
           }
          ],
          "surface": [
           {
            "colorbar": {
             "outlinewidth": 0,
             "ticks": ""
            },
            "colorscale": [
             [
              0,
              "#0d0887"
             ],
             [
              0.1111111111111111,
              "#46039f"
             ],
             [
              0.2222222222222222,
              "#7201a8"
             ],
             [
              0.3333333333333333,
              "#9c179e"
             ],
             [
              0.4444444444444444,
              "#bd3786"
             ],
             [
              0.5555555555555556,
              "#d8576b"
             ],
             [
              0.6666666666666666,
              "#ed7953"
             ],
             [
              0.7777777777777778,
              "#fb9f3a"
             ],
             [
              0.8888888888888888,
              "#fdca26"
             ],
             [
              1,
              "#f0f921"
             ]
            ],
            "type": "surface"
           }
          ],
          "table": [
           {
            "cells": {
             "fill": {
              "color": "#EBF0F8"
             },
             "line": {
              "color": "white"
             }
            },
            "header": {
             "fill": {
              "color": "#C8D4E3"
             },
             "line": {
              "color": "white"
             }
            },
            "type": "table"
           }
          ]
         },
         "layout": {
          "annotationdefaults": {
           "arrowcolor": "#2a3f5f",
           "arrowhead": 0,
           "arrowwidth": 1
          },
          "autotypenumbers": "strict",
          "coloraxis": {
           "colorbar": {
            "outlinewidth": 0,
            "ticks": ""
           }
          },
          "colorscale": {
           "diverging": [
            [
             0,
             "#8e0152"
            ],
            [
             0.1,
             "#c51b7d"
            ],
            [
             0.2,
             "#de77ae"
            ],
            [
             0.3,
             "#f1b6da"
            ],
            [
             0.4,
             "#fde0ef"
            ],
            [
             0.5,
             "#f7f7f7"
            ],
            [
             0.6,
             "#e6f5d0"
            ],
            [
             0.7,
             "#b8e186"
            ],
            [
             0.8,
             "#7fbc41"
            ],
            [
             0.9,
             "#4d9221"
            ],
            [
             1,
             "#276419"
            ]
           ],
           "sequential": [
            [
             0,
             "#0d0887"
            ],
            [
             0.1111111111111111,
             "#46039f"
            ],
            [
             0.2222222222222222,
             "#7201a8"
            ],
            [
             0.3333333333333333,
             "#9c179e"
            ],
            [
             0.4444444444444444,
             "#bd3786"
            ],
            [
             0.5555555555555556,
             "#d8576b"
            ],
            [
             0.6666666666666666,
             "#ed7953"
            ],
            [
             0.7777777777777778,
             "#fb9f3a"
            ],
            [
             0.8888888888888888,
             "#fdca26"
            ],
            [
             1,
             "#f0f921"
            ]
           ],
           "sequentialminus": [
            [
             0,
             "#0d0887"
            ],
            [
             0.1111111111111111,
             "#46039f"
            ],
            [
             0.2222222222222222,
             "#7201a8"
            ],
            [
             0.3333333333333333,
             "#9c179e"
            ],
            [
             0.4444444444444444,
             "#bd3786"
            ],
            [
             0.5555555555555556,
             "#d8576b"
            ],
            [
             0.6666666666666666,
             "#ed7953"
            ],
            [
             0.7777777777777778,
             "#fb9f3a"
            ],
            [
             0.8888888888888888,
             "#fdca26"
            ],
            [
             1,
             "#f0f921"
            ]
           ]
          },
          "colorway": [
           "#636efa",
           "#EF553B",
           "#00cc96",
           "#ab63fa",
           "#FFA15A",
           "#19d3f3",
           "#FF6692",
           "#B6E880",
           "#FF97FF",
           "#FECB52"
          ],
          "font": {
           "color": "#2a3f5f"
          },
          "geo": {
           "bgcolor": "white",
           "lakecolor": "white",
           "landcolor": "#E5ECF6",
           "showlakes": true,
           "showland": true,
           "subunitcolor": "white"
          },
          "hoverlabel": {
           "align": "left"
          },
          "hovermode": "closest",
          "mapbox": {
           "style": "light"
          },
          "paper_bgcolor": "white",
          "plot_bgcolor": "#E5ECF6",
          "polar": {
           "angularaxis": {
            "gridcolor": "white",
            "linecolor": "white",
            "ticks": ""
           },
           "bgcolor": "#E5ECF6",
           "radialaxis": {
            "gridcolor": "white",
            "linecolor": "white",
            "ticks": ""
           }
          },
          "scene": {
           "xaxis": {
            "backgroundcolor": "#E5ECF6",
            "gridcolor": "white",
            "gridwidth": 2,
            "linecolor": "white",
            "showbackground": true,
            "ticks": "",
            "zerolinecolor": "white"
           },
           "yaxis": {
            "backgroundcolor": "#E5ECF6",
            "gridcolor": "white",
            "gridwidth": 2,
            "linecolor": "white",
            "showbackground": true,
            "ticks": "",
            "zerolinecolor": "white"
           },
           "zaxis": {
            "backgroundcolor": "#E5ECF6",
            "gridcolor": "white",
            "gridwidth": 2,
            "linecolor": "white",
            "showbackground": true,
            "ticks": "",
            "zerolinecolor": "white"
           }
          },
          "shapedefaults": {
           "line": {
            "color": "#2a3f5f"
           }
          },
          "ternary": {
           "aaxis": {
            "gridcolor": "white",
            "linecolor": "white",
            "ticks": ""
           },
           "baxis": {
            "gridcolor": "white",
            "linecolor": "white",
            "ticks": ""
           },
           "bgcolor": "#E5ECF6",
           "caxis": {
            "gridcolor": "white",
            "linecolor": "white",
            "ticks": ""
           }
          },
          "title": {
           "x": 0.05
          },
          "xaxis": {
           "automargin": true,
           "gridcolor": "white",
           "linecolor": "white",
           "ticks": "",
           "title": {
            "standoff": 15
           },
           "zerolinecolor": "white",
           "zerolinewidth": 2
          },
          "yaxis": {
           "automargin": true,
           "gridcolor": "white",
           "linecolor": "white",
           "ticks": "",
           "title": {
            "standoff": 15
           },
           "zerolinecolor": "white",
           "zerolinewidth": 2
          }
         }
        },
        "title": {
         "text": "Fold 5 Training Metrics"
        },
        "xaxis": {
         "anchor": "y",
         "domain": [
          0,
          0.45
         ],
         "title": {
          "text": "Epoch"
         }
        },
        "xaxis2": {
         "anchor": "y2",
         "domain": [
          0.55,
          1
         ],
         "title": {
          "text": "Epoch"
         }
        },
        "yaxis": {
         "anchor": "x",
         "domain": [
          0,
          1
         ],
         "title": {
          "text": "Loss"
         }
        },
        "yaxis2": {
         "anchor": "x2",
         "domain": [
          0,
          1
         ],
         "title": {
          "text": "Harrell's C"
         }
        }
       }
      }
     },
     "metadata": {},
     "output_type": "display_data"
    },
    {
     "name": "stdout",
     "output_type": "stream",
     "text": [
      "Fold 5 validation results - Loss: 26.2904, Harrell's C: 0.4627\n"
     ]
    }
   ],
   "source": [
    "# Split the data into train (80%) and test (20%) sets\n",
    "data_size = data.shape[0]\n",
    "train_size = int(data_size * 0.8)\n",
    "indices = np.random.permutation(data_size)\n",
    "train_indices, test_indices = indices[:train_size], indices[train_size:]\n",
    "\n",
    "train_data = tf.gather(data, train_indices, axis=0)\n",
    "test_data = tf.gather(data, test_indices, axis=0)\n",
    "train_labels = tf.gather(labels, train_indices, axis=0)\n",
    "test_labels = tf.gather(labels, test_indices, axis=0)\n",
    "\n",
    "# Use KFold cross-validation on the train set\n",
    "perform_k_fold_cross_validation(train_data, train_labels, model, n_splits=5)"
   ]
  }
 ],
 "metadata": {
  "colab": {
   "provenance": []
  },
  "kernelspec": {
   "display_name": "Python 3 (ipykernel)",
   "language": "python",
   "name": "python3"
  },
  "language_info": {
   "codemirror_mode": {
    "name": "ipython",
    "version": 3
   },
   "file_extension": ".py",
   "mimetype": "text/x-python",
   "name": "python",
   "nbconvert_exporter": "python",
   "pygments_lexer": "ipython3",
   "version": "3.8.16"
  }
 },
 "nbformat": 4,
 "nbformat_minor": 1
}
