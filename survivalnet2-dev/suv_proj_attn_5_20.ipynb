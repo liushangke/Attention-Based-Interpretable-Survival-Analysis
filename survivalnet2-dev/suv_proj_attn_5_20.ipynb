{
 "cells": [
  {
   "attachments": {},
   "cell_type": "markdown",
   "metadata": {
    "id": "QsNSqdFeOkBz"
   },
   "source": [
    "### Installing packages ###"
   ]
  },
  {
   "cell_type": "code",
   "execution_count": 1,
   "metadata": {
    "colab": {
     "base_uri": "https://localhost:8080/",
     "height": 419
    },
    "id": "SVQf74uYOq9d",
    "outputId": "937c4e65-e481-4a3b-f1f4-bb0ab9b012c6"
   },
   "outputs": [],
   "source": [
    "import numpy as np\n",
    "import os\n",
    "import pandas as pd\n",
    "import matplotlib.pyplot as plt\n",
    "import seaborn as sns\n",
    "\n",
    "import tensorflow as tf\n",
    "from tensorflow.keras.layers import Input, Dense, Dropout, GlobalAveragePooling1D\n",
    "from tensorflow.keras.models import Model\n",
    "from tensorflow.keras.callbacks import EarlyStopping\n",
    "\n",
    "from sklearn.model_selection import KFold\n",
    "from sklearn.model_selection import train_test_split\n",
    "from sklearn.preprocessing import StandardScaler\n",
    "\n",
    "import plotly.graph_objects as go\n",
    "import plotly.subplots as sp\n",
    "from plotly.subplots import make_subplots\n",
    "\n",
    "import survivalnet2\n",
    "from survivalnet2.data.labels import stack_labels, unstack_labels\n",
    "from survivalnet2.losses import efron, cox\n",
    "from survivalnet2.metrics.concordance import HarrellsC\n",
    "from survivalnet2.visualization import km_plot\n",
    "\n",
    "# Set random seeds for reproducibility\n",
    "np.random.seed(51)\n",
    "tf.random.set_seed(51)"
   ]
  },
  {
   "attachments": {},
   "cell_type": "markdown",
   "metadata": {
    "id": "wYu-N9uWtiSC"
   },
   "source": [
    "### Data preprocessing ###"
   ]
  },
  {
   "cell_type": "code",
   "execution_count": 2,
   "metadata": {
    "id": "fztuX1s9tpAa"
   },
   "outputs": [],
   "source": [
    "def binarize_columns(df):\n",
    "    # binarizr region identifier as 0 or 1\n",
    "    df[df.columns[0]] = df.iloc[:, 0].apply(lambda x: 1 if x == 'TUMOR' else 0)\n",
    "    return df\n",
    "\n",
    "def compute_median_values(data_files):\n",
    "    # Read in first file to get the columns\n",
    "    sample = pd.read_csv(data_files[0])\n",
    "    num_cols = sample.shape[1] - 2  # Exclude the first two columns\n",
    "\n",
    "    # Initialize array to store values for all files\n",
    "    values = np.empty((0, num_cols))\n",
    "\n",
    "    # Iterate over all files and extract values\n",
    "    for data_file in data_files:\n",
    "        # Read in data and skip first row (assumed to be header)\n",
    "        df = pd.read_csv(data_file, skiprows=[0], usecols=range(2, num_cols+2))\n",
    "        df = binarize_columns(df)\n",
    "        values = np.concatenate((values, df.values), axis=0)\n",
    "    \n",
    "    # Compute median values for each column\n",
    "    median_values = np.median(values, axis=0)\n",
    "    median_dict = {sample.columns[i+2]: median_values[i] for i in range(num_cols)}\n",
    "    return median_dict\n",
    "\n",
    "\n",
    "def pad_missing_values(df, median_dict):\n",
    "    # Replace missing values with median value for each column\n",
    "    for col in df.columns:\n",
    "        median_value = median_dict[col]\n",
    "        df[col].fillna(median_value, inplace=True)\n",
    "    return df\n",
    "\n",
    "\n",
    "def min_max_normalize_features(df):\n",
    "\n",
    "    for col in df.columns:\n",
    "        min_value = df[col].min()\n",
    "        max_value = df[col].max()\n",
    "        \n",
    "        # Check if values are not already in the range [0, 1]\n",
    "        if (min_value < 0 or max_value > 1):\n",
    "            df[col] = (df[col] - min_value) / (max_value - min_value)\n",
    "        \n",
    "    return df\n",
    "\n",
    "def create_label_dict(label_dir):\n",
    "    df = pd.read_csv(label_dir)\n",
    "    column_names = df.columns  # Get the column names from the first row\n",
    "    label_dict = {}\n",
    "    for i in range(1, len(df)):\n",
    "        name = df.iloc[i, 0]  # Get the sample name from the first column of the current row\n",
    "        time = df.iloc[i, column_names.get_loc('ClinicalFeats.Survival.BCSS.YearsFromDx')]  # Get the time data from the 'ClinicalFeats.Survival.BCSS.YearsFromDx' column\n",
    "        event = df.iloc[i, column_names.get_loc('ClinicalFeats.Survival.BCSS')]  # Get the event data from the 'ClinicalFeats.Survival.BCSS' column\n",
    "        label_dict[name] = (time, event)\n",
    "    return label_dict\n",
    "\n",
    "def z_score_normalize_ragged_tensor(ragged_tensor):\n",
    "    scaler = StandardScaler()\n",
    "\n",
    "    # Store the lengths of the subtensors before flattening the ragged tensor\n",
    "    lengths = [len(subtensor) for subtensor in ragged_tensor]\n",
    "\n",
    "    # Flatten the ragged tensor and convert it to a 2D numpy array\n",
    "    flat_data = ragged_tensor.to_tensor().numpy().reshape(-1, D)\n",
    "\n",
    "    # Fit and transform the data using the StandardScaler\n",
    "    normalized_data = scaler.fit_transform(flat_data)\n",
    "\n",
    "    # Check if mean is close to 0 and standard deviation is close to 1\n",
    "    mean = np.mean(normalized_data, axis=0)\n",
    "    std_dev = np.std(normalized_data, axis=0)\n",
    "\n",
    "    print(\"Mean:\", mean)\n",
    "    print(\"Standard Deviation:\", std_dev)\n",
    "    \n",
    "    # Restore the original ragged structure\n",
    "    normalized_data_ragged = []\n",
    "    start_idx = 0\n",
    "    for length in lengths:\n",
    "        normalized_data_ragged.append(normalized_data[start_idx:start_idx+length])\n",
    "        start_idx += length\n",
    "\n",
    "    return tf.ragged.constant(normalized_data_ragged, ragged_rank=1, dtype=tf.float32)\n"
   ]
  },
  {
   "attachments": {},
   "cell_type": "markdown",
   "metadata": {
    "id": "tcVAoYqxOtRa"
   },
   "source": [
    "### Parameters definition ###"
   ]
  },
  {
   "cell_type": "code",
   "execution_count": 4,
   "metadata": {
    "id": "9q-JFZRNO39Q"
   },
   "outputs": [
    {
     "name": "stdout",
     "output_type": "stream",
     "text": [
      "Dimensionality of each feature vector is: 49\n",
      "Number of samples with missing label data: 54\n"
     ]
    }
   ],
   "source": [
    "# define dimensionality\n",
    "D = 49\n",
    "print(f\"Dimensionality of each feature vector is: {D}\")\n",
    "\n",
    "# Define the batch size you want to use\n",
    "batch_size = 64\n",
    "\n",
    "\n",
    "data_dir = '/Users/shangke/Desktop/pathology/data/perSlideRegionFeatures/CPSII_40X'\n",
    "label_dir = '/Users/shangke/Desktop/pathology/data/perSlideRegionFeatures/FusedData_CPSII_40X.csv'\n",
    "csv_names = os.listdir(data_dir)\n",
    "null_count = 0\n",
    "label_dict = create_label_dict(label_dir)\n",
    "valid_csv_names = []\n",
    "\n",
    "for name in csv_names:\n",
    "    if name.rstrip('.csv') in list(label_dict.keys()):\n",
    "        valid_csv_names.append(name)\n",
    "\n",
    "    else:\n",
    "        null_count += 1\n",
    "\n",
    "data_files = [os.path.join(data_dir, str(csv_name)) for csv_name in valid_csv_names]\n",
    "\n",
    "print(f\"Number of samples with missing label data: {null_count}\")\n"
   ]
  },
  {
   "attachments": {},
   "cell_type": "markdown",
   "metadata": {
    "id": "l4zu4JnEPAdg"
   },
   "source": [
    "### Generate dataset ###"
   ]
  },
  {
   "cell_type": "code",
   "execution_count": 5,
   "metadata": {
    "id": "E3GjSRJvPIkM"
   },
   "outputs": [
    {
     "name": "stderr",
     "output_type": "stream",
     "text": [
      "2023-05-29 11:53:45.316115: I tensorflow/core/platform/cpu_feature_guard.cc:151] This TensorFlow binary is optimized with oneAPI Deep Neural Network Library (oneDNN) to use the following CPU instructions in performance-critical operations:  AVX2 AVX512F FMA\n",
      "To enable them in other operations, rebuild TensorFlow with the appropriate compiler flags.\n"
     ]
    },
    {
     "name": "stdout",
     "output_type": "stream",
     "text": [
      "Number of samples: 1654\n",
      "Number of empty data files: 0\n",
      "Mean: [-4.4965680e-05  5.5734240e-06 -5.3070180e-06  1.9735680e-05\n",
      " -2.5194002e-05 -9.3263006e-06  1.0113984e-05 -4.9780060e-06\n",
      " -5.3209010e-06 -2.9716795e-05  2.2781544e-05 -1.0131360e-05\n",
      "  9.6866052e-06  3.2072548e-05  5.3374402e-05  1.7475038e-05\n",
      "  1.6078709e-05 -1.9161647e-05  7.4878062e-07  6.7512759e-05\n",
      " -1.2746840e-05 -3.0244182e-05  4.2329266e-05 -1.4616140e-05\n",
      "  3.3741369e-05 -1.1984759e-05  8.5156529e-08 -4.7412617e-05\n",
      "  4.5339577e-05  4.9911210e-05 -1.4850494e-06  3.0032786e-06\n",
      "  3.4058627e-05  1.7997475e-06  2.2410493e-05  6.9520884e-06\n",
      " -3.3284890e-05  3.9771196e-05  8.6074206e-06 -4.5091103e-05\n",
      " -6.9029061e-06  2.0899532e-05 -2.0842950e-05  6.2503772e-05\n",
      "  5.1923698e-06  1.0593353e-04 -4.8191410e-05 -4.3020114e-05\n",
      "  2.7419424e-06]\n",
      "Standard Deviation: [1.0058852  0.9993391  0.9993592  1.0026546  0.9882494  0.99924344\n",
      " 1.0042104  0.9886866  0.9994165  0.98902804 0.9910845  0.99810594\n",
      " 1.0031139  1.0016706  1.0060112  0.9851398  1.0049802  0.9916973\n",
      " 0.98680294 0.99481964 0.9990781  0.99514663 1.0016357  0.9923684\n",
      " 1.0092716  1.0058082  0.9947486  0.9917335  1.0074553  0.98841697\n",
      " 0.999998   0.99999815 0.99324006 0.9996833  0.99472576 1.001789\n",
      " 0.9917852  1.0082892  1.0060683  0.9941352  0.9908653  1.0066409\n",
      " 0.9869019  0.99410945 1.0033078  0.9929745  0.999572   0.99392694\n",
      " 1.0020295 ]\n"
     ]
    }
   ],
   "source": [
    "def read_data(data_files, label_dict):\n",
    "    \"\"\"\n",
    "    Reads in the data files, binarizes the columns, pads missing values, and normalizes the features.\n",
    "\n",
    "    Args:\n",
    "        data_files (list): List of file paths to the data files.\n",
    "        label_dict (dict): Dictionary mapping file names to (time, event) tuples.\n",
    "\n",
    "    Returns:\n",
    "        A tuple containing:\n",
    "            - rows_tensor (tf.RaggedTensor): A ragged tensor containing the feature vectors for each sample.\n",
    "            - labels_tensor (tuple): A tuple of two tensors, containing the time and event labels for each sample.\n",
    "    \"\"\"\n",
    "    rows_list = []\n",
    "    time_list = []\n",
    "    event_list = []\n",
    "    empty_count = 0\n",
    "\n",
    "    # Calculate median values for each feature across all data files\n",
    "    median_values = compute_median_values(data_files)\n",
    "\n",
    "    for data_file in data_files:\n",
    "        # Get the name of the file without the extension\n",
    "        name = os.path.splitext(os.path.basename(data_file))[0]\n",
    "\n",
    "        # Skip the file if it is not in the label dictionary\n",
    "        if name not in label_dict:\n",
    "            empty_count += 1\n",
    "            continue\n",
    "\n",
    "        # Read in the data file\n",
    "        df = pd.read_csv(data_file)\n",
    "        \n",
    "\n",
    "        # Skip the file if it has no rows\n",
    "        if df.shape[0] < 1:\n",
    "            empty_count += 1\n",
    "            print(name)\n",
    "            continue\n",
    "\n",
    "        # Binarize the columns and pad missing values\n",
    "        df = df.iloc[:, 2:]  # Drop the first two columns\n",
    "        df = binarize_columns(df)\n",
    "        df = pad_missing_values(df, median_values)\n",
    "\n",
    "        # Normalize the features\n",
    "        # df = min_max_normalize_features(df)\n",
    "    \n",
    "        # Add the feature vector and labels to the lists\n",
    "        rows_list.append(df.values)\n",
    "        time, event = label_dict[name]\n",
    "        time_list.append(time)\n",
    "        event_list.append(event)\n",
    "    \n",
    "    # Convert the lists to tensors\n",
    "    rows_tensor = tf.ragged.constant(rows_list, ragged_rank=1, dtype=tf.float32)\n",
    "    labels_tensor = stack_labels(tf.convert_to_tensor(time_list, dtype=tf.float32),\n",
    "                                 tf.convert_to_tensor(event_list, dtype=tf.float32))\n",
    "\n",
    "    print(f\"Number of samples: {len(rows_list)}\")\n",
    "    print(f\"Number of empty data files: {empty_count}\")\n",
    "\n",
    "    return rows_tensor, labels_tensor\n",
    "\n",
    "data, labels = read_data(data_files, label_dict)\n",
    "\n",
    "data = z_score_normalize_ragged_tensor(data)\n"
   ]
  },
  {
   "attachments": {},
   "cell_type": "markdown",
   "metadata": {},
   "source": [
    "### Remove subjects with persistent NaNs ###\n",
    "\n",
    "Some NaNs may remain for subjects (10 samples) that have a single region that also contains NaN features (median imputation doesn't work in this case)."
   ]
  },
  {
   "cell_type": "code",
   "execution_count": 6,
   "metadata": {},
   "outputs": [],
   "source": [
    "# After this thread, the dataset size now is reduced from 1655 to 1654\n",
    "indices = []\n",
    "for i, subject in enumerate(data):\n",
    "    if not np.sum(np.isnan(subject)):\n",
    "        indices.append(i)\n",
    "data = tf.gather(data, np.array(indices), axis=0)\n",
    "labels = tf.gather(labels, np.array(indices), axis=0)"
   ]
  },
  {
   "attachments": {},
   "cell_type": "markdown",
   "metadata": {},
   "source": [
    "### Data visualization ###\n",
    "\n",
    "Visualize the distribution of each features and also a distrubution of the number of time & event labels."
   ]
  },
  {
   "cell_type": "code",
   "execution_count": null,
   "metadata": {},
   "outputs": [],
   "source": [
    "def visualize_data_distribution(data, labels):\n",
    "    # Flatten the data and create a DataFrame\n",
    "    flattened_data = data.flat_values.numpy()\n",
    "    data_df = pd.DataFrame(flattened_data)\n",
    "    \n",
    "    # Visualize the distribution of each feature\n",
    "    n_features = data_df.shape[1]\n",
    "    fig, axes = plt.subplots(n_features, 1, figsize=(10, 4 * n_features))\n",
    "\n",
    "    for i in range(n_features):\n",
    "        sns.kdeplot(data_df.iloc[:, i], ax=axes[i])\n",
    "        axes[i].set_title(f\"Feature {i+1} Distribution\")\n",
    "        axes[i].set_xlabel(f\"Feature {i+1}\")\n",
    "        axes[i].set_ylabel(\"Density\")\n",
    "\n",
    "    plt.tight_layout()\n",
    "    plt.show()\n",
    "\n",
    "    # Visualize the distribution of labels\n",
    "    labels_df = pd.DataFrame(labels.numpy(), columns=[\"Time\", \"Event\"])\n",
    "    \n",
    "    fig, axes = plt.subplots(1, 2, figsize=(10, 4))\n",
    "\n",
    "    sns.histplot(labels_df[\"Time\"], kde=True, ax=axes[0], bins=50)\n",
    "    axes[0].set_title(\"Time Distribution\")\n",
    "    axes[0].set_xlabel(\"Time\")\n",
    "    axes[0].set_ylabel(\"Frequency\")\n",
    "\n",
    "    sns.histplot(labels_df[\"Event\"], discrete=True, ax=axes[1], binwidth=1)\n",
    "    axes[1].set_title(\"Event Distribution\")\n",
    "    axes[1].set_xlabel(\"Event\")\n",
    "    axes[1].set_ylabel(\"Frequency\")\n",
    "    axes[1].set_xticks([0, 1])\n",
    "\n",
    "    plt.tight_layout()\n",
    "    plt.show()\n",
    "\n",
    "visualize_data_distribution(data, labels)"
   ]
  },
  {
   "attachments": {},
   "cell_type": "markdown",
   "metadata": {
    "id": "0MnSXC5WP70r"
   },
   "source": [
    "### Attention model architecture ###"
   ]
  },
  {
   "cell_type": "code",
   "execution_count": 8,
   "metadata": {
    "id": "ymAdL_89P_9J"
   },
   "outputs": [],
   "source": [
    "def build_model_att(D):\n",
    "    # Input layer\n",
    "    inputs = tf.keras.layers.Input(shape=(None, D), ragged=True)\n",
    "\n",
    "    # Attention weights\n",
    "    att = tf.keras.layers.Dense(units=1, activation=\"relu\", name=\"att\")(inputs)\n",
    "\n",
    "    # Normalize weights to sum to 1\n",
    "    totals = tf.reduce_sum(att, axis=1, name=\"att_total\")\n",
    "    normalized = tf.math.divide_no_nan(att, tf.expand_dims(totals, axis=1), name=\"normalized\")\n",
    "\n",
    "    # Use attention weights to calculate weighted sum of regions\n",
    "    pooled = tf.linalg.matmul(normalized, inputs, transpose_a=True)\n",
    "\n",
    "    # Remove the ragged dimension and reshape pooled tensor\n",
    "    pooled = tf.squeeze(pooled.to_tensor(), axis=1)\n",
    "\n",
    "    # Apply a linear layer to the pooled vector to generate the time and event risk values\n",
    "    risk = tf.keras.layers.Dense(units=1, activation=\"linear\", name=\"risk\")(pooled)\n",
    "\n",
    "    # Build the model\n",
    "    model = tf.keras.models.Model(inputs=inputs, outputs=[risk, normalized])\n",
    "\n",
    "    print(f\"The input shape of model is: {model.input_shape}\")\n",
    "    print(f\"The output shape of model is: {model.output_shape}\")\n",
    "\n",
    "    return model"
   ]
  },
  {
   "attachments": {},
   "cell_type": "markdown",
   "metadata": {},
   "source": [
    "### Averaging model architecture ###"
   ]
  },
  {
   "cell_type": "code",
   "execution_count": 7,
   "metadata": {},
   "outputs": [],
   "source": [
    "def build_model_avg(D):\n",
    "    # Input layer\n",
    "    inputs = tf.keras.layers.Input(shape=(None, D), ragged=True)\n",
    "\n",
    "    # Average feature vectors along the ragged dimension\n",
    "    averaged = tf.reduce_mean(inputs, axis=1)\n",
    "\n",
    "    # Apply a linear layer to the averaged vector to generate the time and event risk values\n",
    "    risk = tf.keras.layers.Dense(units=1, activation=\"linear\", name=\"risk\")(averaged)\n",
    "\n",
    "    # Build the model\n",
    "    model = tf.keras.models.Model(inputs=inputs, outputs=risk)\n",
    "\n",
    "    print(f\"The input shape of model is: {model.input_shape}\")\n",
    "    print(f\"The output shape of model is: {model.output_shape}\")\n",
    "\n",
    "    return model"
   ]
  },
  {
   "attachments": {},
   "cell_type": "markdown",
   "metadata": {},
   "source": [
    "###  Data batching ###"
   ]
  },
  {
   "cell_type": "code",
   "execution_count": 9,
   "metadata": {},
   "outputs": [],
   "source": [
    "def perform_k_fold_cross_validation(data, labels, batch_size, n_splits, model_name):\n",
    "    # Initialize KFold\n",
    "    kfold = KFold(n_splits=n_splits, shuffle=True, random_state=42)\n",
    "\n",
    "    for fold, (train_indices, val_indices) in enumerate(kfold.split(data)):\n",
    "        print(f'Fold {fold + 1}/{n_splits}')\n",
    "        fold += 1\n",
    "\n",
    "        if model_name == 'model_att':\n",
    "            # Create a new model for each fold\n",
    "            model = build_model_att(D)\n",
    "        elif model_name == 'model_avg':\n",
    "            model = build_model_avg(D)\n",
    "        else:\n",
    "            raise ValueError(\"Invalid model name.\")  # Add an error to handle unexpected model_name values\n",
    "\n",
    "        model.compile(\n",
    "            loss={\"risk\": cox},\n",
    "            metrics={\"risk\": HarrellsC()},\n",
    "            optimizer=tf.keras.optimizers.Adam(learning_rate=1e-3),\n",
    "        )\n",
    "\n",
    "        # Create train and validation datasets\n",
    "        ds_train = create_dataset(data, labels, train_indices, batch_size)\n",
    "        ds_val = create_dataset(data, labels, val_indices, batch_size)\n",
    "\n",
    "        # Define the early stopping callback\n",
    "        # early_stopping = EarlyStopping(monitor='val_loss', patience=10, restore_best_weights=True)\n",
    "\n",
    "        # Fit the model with early stopping\n",
    "        history = model.fit(\n",
    "            ds_train,\n",
    "            validation_data=ds_val,\n",
    "            epochs=100,\n",
    "            # callbacks=[early_stopping],\n",
    "        )\n",
    "\n",
    "        # Plot training metrics for the current fold\n",
    "        plot_training_metrics(history, model_name, fold)\n",
    "\n",
    "\n",
    "\n",
    "def create_dataset(data, labels, indices, batch_size):\n",
    "    # Create dataset from given indices\n",
    "    ds_data = tf.data.Dataset.from_tensor_slices(tf.gather(data, indices, axis=0))\n",
    "    ds_labels = tf.data.Dataset.from_tensor_slices(tf.gather(labels, indices, axis=0))\n",
    "    ds = tf.data.Dataset.zip((ds_data, ds_labels))\n",
    "\n",
    "    # ds = ds.shuffle(10000)\n",
    "    ds = ds.batch(batch_size, drop_remainder=False)\n",
    "\n",
    "    for i, batch in enumerate(ds):\n",
    "        _, l = batch\n",
    "        events = sum(l[:,1])\n",
    "        if events < 1.:\n",
    "            print(f\"Warning, 0 events in batch {i}.\")\n",
    "    \n",
    "    return ds\n",
    "\n",
    "\n",
    "\n",
    "\n",
    "def plot_training_metrics(history, model_name, fold):\n",
    "    epochs = list(range(1, len(history.history['loss']) + 1))\n",
    "\n",
    "    # Create subplots\n",
    "    fig = sp.make_subplots(rows=1, cols=2, subplot_titles=(\"Loss\", \"Harrell's C\"))\n",
    "\n",
    "    # Create a trace for training loss\n",
    "    trace_train_loss = go.Scatter(x=epochs,\n",
    "                                  y=history.history['loss'],\n",
    "                                  mode='lines',\n",
    "                                  name='Train Loss')\n",
    "\n",
    "    # Create a trace for validation loss\n",
    "    trace_val_loss = go.Scatter(x=epochs,\n",
    "                                y=history.history['val_loss'],\n",
    "                                mode='lines',\n",
    "                                name='Validation Loss')\n",
    "\n",
    "    # Add loss traces to the subplots\n",
    "    fig.add_trace(trace_train_loss, row=1, col=1)\n",
    "    fig.add_trace(trace_val_loss, row=1, col=1)\n",
    "\n",
    "    # Set the metric key based on the model name\n",
    "    metric_key = 'risk_harrellsc' if model_name == 'model_att' else 'harrellsc'\n",
    "\n",
    "    # Create a trace for training Harrell's C\n",
    "    trace_train_harrells_c = go.Scatter(x=epochs,\n",
    "                                        y=history.history[metric_key],\n",
    "                                        mode='lines',\n",
    "                                        name=\"Train Harrell's C\")\n",
    "\n",
    "    # Create a trace for validation Harrell's C\n",
    "    trace_val_harrells_c = go.Scatter(x=epochs,\n",
    "                                      y=history.history[f'val_{metric_key}'],\n",
    "                                      mode='lines',\n",
    "                                      name=\"Validation Harrell's C\")\n",
    "\n",
    "    # Add Harrell's C traces to the subplots\n",
    "    fig.add_trace(trace_train_harrells_c, row=1, col=2)\n",
    "    fig.add_trace(trace_val_harrells_c, row=1, col=2)\n",
    "\n",
    "    # Update xaxis and yaxis titles\n",
    "    fig.update_xaxes(title_text='Epoch', row=1, col=1)\n",
    "    fig.update_yaxes(title_text='Loss', row=1, col=1)\n",
    "    fig.update_xaxes(title_text='Epoch', row=1, col=2)\n",
    "    fig.update_yaxes(title_text=\"Harrell's C\", row=1, col=2)\n",
    "\n",
    "    # Update the layout for the plot\n",
    "    fig.update_layout(title=f'{model_name} Fold {fold} Training Metrics')\n",
    "\n",
    "    # Show the plot\n",
    "    fig.show()\n",
    "\n"
   ]
  },
  {
   "attachments": {},
   "cell_type": "markdown",
   "metadata": {},
   "source": [
    "### Training ###"
   ]
  },
  {
   "cell_type": "code",
   "execution_count": 10,
   "metadata": {},
   "outputs": [
    {
     "name": "stdout",
     "output_type": "stream",
     "text": [
      "Fold 1/5\n",
      "The input shape of model is: (None, None, 49)\n",
      "The output shape of model is: [(1, 1), (None, None, 1)]\n",
      "Epoch 1/100\n"
     ]
    },
    {
     "name": "stderr",
     "output_type": "stream",
     "text": [
      "/opt/anaconda3/envs/mil/lib/python3.8/site-packages/tensorflow/python/framework/indexed_slices.py:448: UserWarning: Converting sparse IndexedSlices(IndexedSlices(indices=Tensor(\"gradient_tape/cox/cond/gradients/cox/cond/RaggedTile/GatherV2_1_grad/Reshape_1:0\", shape=(None,), dtype=int64), values=Tensor(\"gradient_tape/cox/cond/gradients/cox/cond/RaggedTile/GatherV2_1_grad/Reshape:0\", shape=(None,), dtype=float32), dense_shape=Tensor(\"gradient_tape/cox/cond/gradients/cox/cond/RaggedTile/GatherV2_1_grad/Cast:0\", shape=(1,), dtype=int32))) to a dense Tensor of unknown shape. This may consume a large amount of memory.\n",
      "  warnings.warn(\n",
      "/opt/anaconda3/envs/mil/lib/python3.8/site-packages/tensorflow/python/framework/indexed_slices.py:448: UserWarning: Converting sparse IndexedSlices(IndexedSlices(indices=Tensor(\"gradient_tape/model/input.to_tensor/RaggedToTensor/boolean_mask_1/GatherV2:0\", shape=(None,), dtype=int32), values=Tensor(\"gradient_tape/model/input.to_tensor/RaggedToTensor/boolean_mask/GatherV2:0\", shape=(None, 49), dtype=float32), dense_shape=Tensor(\"gradient_tape/model/input.to_tensor/RaggedToTensor/Shape:0\", shape=(2,), dtype=int32))) to a dense Tensor of unknown shape. This may consume a large amount of memory.\n",
      "  warnings.warn(\n",
      "/opt/anaconda3/envs/mil/lib/python3.8/site-packages/tensorflow/python/framework/indexed_slices.py:448: UserWarning: Converting sparse IndexedSlices(IndexedSlices(indices=Tensor(\"gradient_tape/model/tf.math.divide_no_nan/RaggedTile/Reshape_3:0\", shape=(None,), dtype=int64), values=Tensor(\"gradient_tape/model/tf.math.divide_no_nan/RaggedTile/Reshape_2:0\", shape=(None, 1), dtype=float32), dense_shape=Tensor(\"gradient_tape/model/tf.math.divide_no_nan/RaggedTile/Cast:0\", shape=(2,), dtype=int32))) to a dense Tensor of unknown shape. This may consume a large amount of memory.\n",
      "  warnings.warn(\n"
     ]
    },
    {
     "name": "stdout",
     "output_type": "stream",
     "text": [
      "19/19 [==============================] - 9s 123ms/step - loss: 31.7304 - risk_loss: 31.7304 - risk_harrellsc: 0.4946 - val_loss: 24.8417 - val_risk_loss: 24.8417 - val_risk_harrellsc: 0.4620\n",
      "Epoch 2/100\n",
      "19/19 [==============================] - 0s 15ms/step - loss: 29.3565 - risk_loss: 29.3565 - risk_harrellsc: 0.4835 - val_loss: 23.1247 - val_risk_loss: 23.1247 - val_risk_harrellsc: 0.4810\n",
      "Epoch 3/100\n",
      "19/19 [==============================] - 0s 14ms/step - loss: 27.8382 - risk_loss: 27.8382 - risk_harrellsc: 0.4851 - val_loss: 22.2803 - val_risk_loss: 22.2803 - val_risk_harrellsc: 0.4922\n",
      "Epoch 4/100\n",
      "19/19 [==============================] - 0s 15ms/step - loss: 26.5550 - risk_loss: 26.5550 - risk_harrellsc: 0.4873 - val_loss: 22.0472 - val_risk_loss: 22.0472 - val_risk_harrellsc: 0.4922\n",
      "Epoch 5/100\n",
      "19/19 [==============================] - 0s 14ms/step - loss: 25.3943 - risk_loss: 25.3943 - risk_harrellsc: 0.4900 - val_loss: 22.1082 - val_risk_loss: 22.1082 - val_risk_harrellsc: 0.4914\n",
      "Epoch 6/100\n",
      "19/19 [==============================] - 0s 16ms/step - loss: 24.5725 - risk_loss: 24.5725 - risk_harrellsc: 0.4890 - val_loss: 22.2432 - val_risk_loss: 22.2432 - val_risk_harrellsc: 0.4845\n",
      "Epoch 7/100\n",
      "19/19 [==============================] - 0s 15ms/step - loss: 24.3184 - risk_loss: 24.3184 - risk_harrellsc: 0.4861 - val_loss: 22.3651 - val_risk_loss: 22.3651 - val_risk_harrellsc: 0.4784\n",
      "Epoch 8/100\n",
      "19/19 [==============================] - 0s 15ms/step - loss: 24.2210 - risk_loss: 24.2210 - risk_harrellsc: 0.4841 - val_loss: 22.4617 - val_risk_loss: 22.4617 - val_risk_harrellsc: 0.4750\n",
      "Epoch 9/100\n",
      "19/19 [==============================] - 0s 18ms/step - loss: 24.1657 - risk_loss: 24.1657 - risk_harrellsc: 0.5022 - val_loss: 22.5206 - val_risk_loss: 22.5206 - val_risk_harrellsc: 0.4758\n",
      "Epoch 10/100\n",
      "19/19 [==============================] - 0s 15ms/step - loss: 24.1271 - risk_loss: 24.1271 - risk_harrellsc: 0.5010 - val_loss: 22.5494 - val_risk_loss: 22.5494 - val_risk_harrellsc: 0.4707\n",
      "Epoch 11/100\n",
      "19/19 [==============================] - 0s 15ms/step - loss: 24.0958 - risk_loss: 24.0958 - risk_harrellsc: 0.5024 - val_loss: 22.5610 - val_risk_loss: 22.5610 - val_risk_harrellsc: 0.4664\n",
      "Epoch 12/100\n",
      "19/19 [==============================] - 0s 15ms/step - loss: 24.0690 - risk_loss: 24.0690 - risk_harrellsc: 0.5107 - val_loss: 22.5621 - val_risk_loss: 22.5621 - val_risk_harrellsc: 0.4672\n",
      "Epoch 13/100\n",
      "19/19 [==============================] - 0s 15ms/step - loss: 24.0452 - risk_loss: 24.0452 - risk_harrellsc: 0.5105 - val_loss: 22.5517 - val_risk_loss: 22.5517 - val_risk_harrellsc: 0.4689\n",
      "Epoch 14/100\n",
      "19/19 [==============================] - 0s 14ms/step - loss: 24.0238 - risk_loss: 24.0238 - risk_harrellsc: 0.5098 - val_loss: 22.5412 - val_risk_loss: 22.5412 - val_risk_harrellsc: 0.4741\n",
      "Epoch 15/100\n",
      "19/19 [==============================] - 0s 14ms/step - loss: 24.0045 - risk_loss: 24.0045 - risk_harrellsc: 0.5083 - val_loss: 22.5311 - val_risk_loss: 22.5311 - val_risk_harrellsc: 0.4879\n",
      "Epoch 16/100\n",
      "19/19 [==============================] - 0s 15ms/step - loss: 23.9866 - risk_loss: 23.9866 - risk_harrellsc: 0.5097 - val_loss: 22.5204 - val_risk_loss: 22.5204 - val_risk_harrellsc: 0.4862\n",
      "Epoch 17/100\n",
      "19/19 [==============================] - 0s 24ms/step - loss: 23.9698 - risk_loss: 23.9698 - risk_harrellsc: 0.5159 - val_loss: 22.5098 - val_risk_loss: 22.5098 - val_risk_harrellsc: 0.4862\n",
      "Epoch 18/100\n",
      "19/19 [==============================] - 0s 17ms/step - loss: 23.9542 - risk_loss: 23.9542 - risk_harrellsc: 0.5241 - val_loss: 22.4995 - val_risk_loss: 22.4995 - val_risk_harrellsc: 0.4862\n",
      "Epoch 19/100\n",
      "19/19 [==============================] - 0s 15ms/step - loss: 23.9394 - risk_loss: 23.9394 - risk_harrellsc: 0.5231 - val_loss: 22.4899 - val_risk_loss: 22.4899 - val_risk_harrellsc: 0.4862\n",
      "Epoch 20/100\n",
      "19/19 [==============================] - 0s 20ms/step - loss: 23.9250 - risk_loss: 23.9250 - risk_harrellsc: 0.5159 - val_loss: 22.4816 - val_risk_loss: 22.4816 - val_risk_harrellsc: 0.4862\n",
      "Epoch 21/100\n",
      "19/19 [==============================] - 0s 18ms/step - loss: 23.9109 - risk_loss: 23.9109 - risk_harrellsc: 0.5163 - val_loss: 22.4745 - val_risk_loss: 22.4745 - val_risk_harrellsc: 0.4862\n",
      "Epoch 22/100\n",
      "19/19 [==============================] - 0s 21ms/step - loss: 23.8976 - risk_loss: 23.8976 - risk_harrellsc: 0.5185 - val_loss: 22.4676 - val_risk_loss: 22.4676 - val_risk_harrellsc: 0.4862\n",
      "Epoch 23/100\n",
      "19/19 [==============================] - 0s 18ms/step - loss: 23.8855 - risk_loss: 23.8855 - risk_harrellsc: 0.5180 - val_loss: 22.4596 - val_risk_loss: 22.4596 - val_risk_harrellsc: 0.4862\n",
      "Epoch 24/100\n",
      "19/19 [==============================] - 0s 13ms/step - loss: 23.8737 - risk_loss: 23.8737 - risk_harrellsc: 0.5165 - val_loss: 22.4520 - val_risk_loss: 22.4520 - val_risk_harrellsc: 0.4871\n",
      "Epoch 25/100\n",
      "19/19 [==============================] - 0s 13ms/step - loss: 23.8623 - risk_loss: 23.8623 - risk_harrellsc: 0.5188 - val_loss: 22.4445 - val_risk_loss: 22.4445 - val_risk_harrellsc: 0.4871\n",
      "Epoch 26/100\n",
      "19/19 [==============================] - 0s 15ms/step - loss: 23.8516 - risk_loss: 23.8516 - risk_harrellsc: 0.5260 - val_loss: 22.4367 - val_risk_loss: 22.4367 - val_risk_harrellsc: 0.4871\n",
      "Epoch 27/100\n",
      "19/19 [==============================] - 0s 13ms/step - loss: 23.8412 - risk_loss: 23.8412 - risk_harrellsc: 0.5260 - val_loss: 22.4298 - val_risk_loss: 22.4298 - val_risk_harrellsc: 0.4871\n",
      "Epoch 28/100\n",
      "19/19 [==============================] - 0s 13ms/step - loss: 23.8318 - risk_loss: 23.8318 - risk_harrellsc: 0.5319 - val_loss: 22.4225 - val_risk_loss: 22.4225 - val_risk_harrellsc: 0.4845\n",
      "Epoch 29/100\n",
      "19/19 [==============================] - 0s 13ms/step - loss: 23.8227 - risk_loss: 23.8227 - risk_harrellsc: 0.5322 - val_loss: 22.4128 - val_risk_loss: 22.4128 - val_risk_harrellsc: 0.4845\n",
      "Epoch 30/100\n",
      "19/19 [==============================] - 0s 13ms/step - loss: 23.8139 - risk_loss: 23.8139 - risk_harrellsc: 0.5307 - val_loss: 22.4040 - val_risk_loss: 22.4040 - val_risk_harrellsc: 0.4715\n",
      "Epoch 31/100\n",
      "19/19 [==============================] - 0s 13ms/step - loss: 23.8052 - risk_loss: 23.8052 - risk_harrellsc: 0.5307 - val_loss: 22.3970 - val_risk_loss: 22.3970 - val_risk_harrellsc: 0.4715\n",
      "Epoch 32/100\n",
      "19/19 [==============================] - 0s 13ms/step - loss: 23.7967 - risk_loss: 23.7967 - risk_harrellsc: 0.5321 - val_loss: 22.3910 - val_risk_loss: 22.3910 - val_risk_harrellsc: 0.4715\n",
      "Epoch 33/100\n",
      "19/19 [==============================] - 0s 13ms/step - loss: 23.7883 - risk_loss: 23.7883 - risk_harrellsc: 0.5329 - val_loss: 22.3856 - val_risk_loss: 22.3856 - val_risk_harrellsc: 0.4715\n",
      "Epoch 34/100\n",
      "19/19 [==============================] - 0s 13ms/step - loss: 23.7805 - risk_loss: 23.7805 - risk_harrellsc: 0.5387 - val_loss: 22.3813 - val_risk_loss: 22.3813 - val_risk_harrellsc: 0.4715\n",
      "Epoch 35/100\n",
      "19/19 [==============================] - 0s 13ms/step - loss: 23.7725 - risk_loss: 23.7725 - risk_harrellsc: 0.5388 - val_loss: 22.3804 - val_risk_loss: 22.3804 - val_risk_harrellsc: 0.4681\n",
      "Epoch 36/100\n",
      "19/19 [==============================] - 0s 15ms/step - loss: 23.7639 - risk_loss: 23.7639 - risk_harrellsc: 0.5388 - val_loss: 22.3818 - val_risk_loss: 22.3818 - val_risk_harrellsc: 0.4681\n",
      "Epoch 37/100\n",
      "19/19 [==============================] - 0s 13ms/step - loss: 23.7552 - risk_loss: 23.7552 - risk_harrellsc: 0.5368 - val_loss: 22.3857 - val_risk_loss: 22.3857 - val_risk_harrellsc: 0.5026\n",
      "Epoch 38/100\n",
      "19/19 [==============================] - 0s 13ms/step - loss: 23.7464 - risk_loss: 23.7464 - risk_harrellsc: 0.5358 - val_loss: 22.3915 - val_risk_loss: 22.3915 - val_risk_harrellsc: 0.5026\n",
      "Epoch 39/100\n",
      "19/19 [==============================] - 0s 13ms/step - loss: 23.7376 - risk_loss: 23.7376 - risk_harrellsc: 0.5443 - val_loss: 22.4007 - val_risk_loss: 22.4007 - val_risk_harrellsc: 0.5026\n",
      "Epoch 40/100\n",
      "19/19 [==============================] - 0s 13ms/step - loss: 23.7285 - risk_loss: 23.7285 - risk_harrellsc: 0.5431 - val_loss: 22.4116 - val_risk_loss: 22.4116 - val_risk_harrellsc: 0.5026\n",
      "Epoch 41/100\n",
      "19/19 [==============================] - 0s 12ms/step - loss: 23.7192 - risk_loss: 23.7192 - risk_harrellsc: 0.5426 - val_loss: 22.4257 - val_risk_loss: 22.4257 - val_risk_harrellsc: 0.4974\n",
      "Epoch 42/100\n",
      "19/19 [==============================] - 0s 13ms/step - loss: 23.7093 - risk_loss: 23.7093 - risk_harrellsc: 0.5434 - val_loss: 22.4464 - val_risk_loss: 22.4464 - val_risk_harrellsc: 0.4974\n",
      "Epoch 43/100\n",
      "19/19 [==============================] - 0s 13ms/step - loss: 23.7031 - risk_loss: 23.7031 - risk_harrellsc: 0.5436 - val_loss: 22.4440 - val_risk_loss: 22.4440 - val_risk_harrellsc: 0.4974\n",
      "Epoch 44/100\n",
      "19/19 [==============================] - 0s 13ms/step - loss: 23.6974 - risk_loss: 23.6974 - risk_harrellsc: 0.5431 - val_loss: 22.4393 - val_risk_loss: 22.4393 - val_risk_harrellsc: 0.4974\n",
      "Epoch 45/100\n",
      "19/19 [==============================] - 0s 13ms/step - loss: 23.6917 - risk_loss: 23.6917 - risk_harrellsc: 0.5426 - val_loss: 22.4346 - val_risk_loss: 22.4346 - val_risk_harrellsc: 0.4974\n",
      "Epoch 46/100\n",
      "19/19 [==============================] - 0s 13ms/step - loss: 23.6863 - risk_loss: 23.6863 - risk_harrellsc: 0.5424 - val_loss: 22.4315 - val_risk_loss: 22.4315 - val_risk_harrellsc: 0.4974\n",
      "Epoch 47/100\n",
      "19/19 [==============================] - 0s 16ms/step - loss: 23.6810 - risk_loss: 23.6810 - risk_harrellsc: 0.5424 - val_loss: 22.4313 - val_risk_loss: 22.4313 - val_risk_harrellsc: 0.4983\n",
      "Epoch 48/100\n",
      "19/19 [==============================] - 0s 13ms/step - loss: 23.6758 - risk_loss: 23.6758 - risk_harrellsc: 0.5427 - val_loss: 22.4344 - val_risk_loss: 22.4344 - val_risk_harrellsc: 0.4983\n",
      "Epoch 49/100\n",
      "19/19 [==============================] - 0s 13ms/step - loss: 23.6708 - risk_loss: 23.6708 - risk_harrellsc: 0.5427 - val_loss: 22.4335 - val_risk_loss: 22.4335 - val_risk_harrellsc: 0.4957\n",
      "Epoch 50/100\n",
      "19/19 [==============================] - 0s 13ms/step - loss: 23.6657 - risk_loss: 23.6657 - risk_harrellsc: 0.5429 - val_loss: 22.4336 - val_risk_loss: 22.4336 - val_risk_harrellsc: 0.4957\n",
      "Epoch 51/100\n",
      "19/19 [==============================] - 0s 13ms/step - loss: 23.6610 - risk_loss: 23.6610 - risk_harrellsc: 0.5441 - val_loss: 22.4381 - val_risk_loss: 22.4381 - val_risk_harrellsc: 0.4957\n",
      "Epoch 52/100\n",
      "19/19 [==============================] - 0s 13ms/step - loss: 23.6559 - risk_loss: 23.6559 - risk_harrellsc: 0.5441 - val_loss: 22.4486 - val_risk_loss: 22.4486 - val_risk_harrellsc: 0.4957\n",
      "Epoch 53/100\n",
      "19/19 [==============================] - 0s 15ms/step - loss: 23.6515 - risk_loss: 23.6515 - risk_harrellsc: 0.5441 - val_loss: 22.4488 - val_risk_loss: 22.4488 - val_risk_harrellsc: 0.4957\n",
      "Epoch 54/100\n",
      "19/19 [==============================] - 0s 13ms/step - loss: 23.6467 - risk_loss: 23.6467 - risk_harrellsc: 0.5441 - val_loss: 22.4494 - val_risk_loss: 22.4494 - val_risk_harrellsc: 0.4957\n",
      "Epoch 55/100\n",
      "19/19 [==============================] - 0s 18ms/step - loss: 23.6421 - risk_loss: 23.6421 - risk_harrellsc: 0.5433 - val_loss: 22.4519 - val_risk_loss: 22.4519 - val_risk_harrellsc: 0.4957\n",
      "Epoch 56/100\n",
      "19/19 [==============================] - 0s 14ms/step - loss: 23.6373 - risk_loss: 23.6373 - risk_harrellsc: 0.5421 - val_loss: 22.4536 - val_risk_loss: 22.4536 - val_risk_harrellsc: 0.4948\n",
      "Epoch 57/100\n",
      "19/19 [==============================] - 0s 13ms/step - loss: 23.6334 - risk_loss: 23.6334 - risk_harrellsc: 0.5414 - val_loss: 22.4513 - val_risk_loss: 22.4513 - val_risk_harrellsc: 0.4948\n",
      "Epoch 58/100\n",
      "19/19 [==============================] - 0s 13ms/step - loss: 23.6289 - risk_loss: 23.6289 - risk_harrellsc: 0.5411 - val_loss: 22.4517 - val_risk_loss: 22.4517 - val_risk_harrellsc: 0.4914\n",
      "Epoch 59/100\n",
      "19/19 [==============================] - 0s 13ms/step - loss: 23.6249 - risk_loss: 23.6249 - risk_harrellsc: 0.5402 - val_loss: 22.4522 - val_risk_loss: 22.4522 - val_risk_harrellsc: 0.4914\n",
      "Epoch 60/100\n",
      "19/19 [==============================] - 0s 13ms/step - loss: 23.6208 - risk_loss: 23.6208 - risk_harrellsc: 0.5417 - val_loss: 22.4485 - val_risk_loss: 22.4485 - val_risk_harrellsc: 0.4914\n",
      "Epoch 61/100\n",
      "19/19 [==============================] - 0s 13ms/step - loss: 23.6169 - risk_loss: 23.6169 - risk_harrellsc: 0.5419 - val_loss: 22.4443 - val_risk_loss: 22.4443 - val_risk_harrellsc: 0.4914\n",
      "Epoch 62/100\n",
      "19/19 [==============================] - 0s 13ms/step - loss: 23.6129 - risk_loss: 23.6129 - risk_harrellsc: 0.5421 - val_loss: 22.4440 - val_risk_loss: 22.4440 - val_risk_harrellsc: 0.4914\n",
      "Epoch 63/100\n",
      "19/19 [==============================] - 0s 13ms/step - loss: 23.6087 - risk_loss: 23.6087 - risk_harrellsc: 0.5422 - val_loss: 22.4545 - val_risk_loss: 22.4545 - val_risk_harrellsc: 0.4922\n",
      "Epoch 64/100\n",
      "19/19 [==============================] - 0s 14ms/step - loss: 23.6048 - risk_loss: 23.6048 - risk_harrellsc: 0.5414 - val_loss: 22.4658 - val_risk_loss: 22.4658 - val_risk_harrellsc: 0.4922\n",
      "Epoch 65/100\n",
      "19/19 [==============================] - 0s 13ms/step - loss: 23.6006 - risk_loss: 23.6006 - risk_harrellsc: 0.5414 - val_loss: 22.4761 - val_risk_loss: 22.4761 - val_risk_harrellsc: 0.4922\n",
      "Epoch 66/100\n",
      "19/19 [==============================] - 0s 13ms/step - loss: 23.5968 - risk_loss: 23.5968 - risk_harrellsc: 0.5409 - val_loss: 22.4916 - val_risk_loss: 22.4916 - val_risk_harrellsc: 0.4922\n",
      "Epoch 67/100\n",
      "19/19 [==============================] - 0s 13ms/step - loss: 23.5923 - risk_loss: 23.5923 - risk_harrellsc: 0.5407 - val_loss: 22.5082 - val_risk_loss: 22.5082 - val_risk_harrellsc: 0.4922\n",
      "Epoch 68/100\n",
      "19/19 [==============================] - 0s 14ms/step - loss: 23.5879 - risk_loss: 23.5879 - risk_harrellsc: 0.5422 - val_loss: 22.5287 - val_risk_loss: 22.5287 - val_risk_harrellsc: 0.4922\n",
      "Epoch 69/100\n",
      "19/19 [==============================] - 0s 13ms/step - loss: 23.5837 - risk_loss: 23.5837 - risk_harrellsc: 0.5421 - val_loss: 22.5615 - val_risk_loss: 22.5615 - val_risk_harrellsc: 0.4922\n",
      "Epoch 70/100\n",
      "19/19 [==============================] - 0s 13ms/step - loss: 23.5789 - risk_loss: 23.5789 - risk_harrellsc: 0.5421 - val_loss: 22.5926 - val_risk_loss: 22.5926 - val_risk_harrellsc: 0.4922\n",
      "Epoch 71/100\n",
      "19/19 [==============================] - 0s 14ms/step - loss: 23.5750 - risk_loss: 23.5750 - risk_harrellsc: 0.5419 - val_loss: 22.6213 - val_risk_loss: 22.6213 - val_risk_harrellsc: 0.4922\n",
      "Epoch 72/100\n",
      "19/19 [==============================] - 0s 13ms/step - loss: 23.5710 - risk_loss: 23.5710 - risk_harrellsc: 0.5417 - val_loss: 22.6268 - val_risk_loss: 22.6268 - val_risk_harrellsc: 0.4922\n",
      "Epoch 73/100\n",
      "19/19 [==============================] - 0s 13ms/step - loss: 23.5669 - risk_loss: 23.5669 - risk_harrellsc: 0.5419 - val_loss: 22.6334 - val_risk_loss: 22.6334 - val_risk_harrellsc: 0.4922\n",
      "Epoch 74/100\n",
      "19/19 [==============================] - 0s 13ms/step - loss: 23.5633 - risk_loss: 23.5633 - risk_harrellsc: 0.5414 - val_loss: 22.6422 - val_risk_loss: 22.6422 - val_risk_harrellsc: 0.4922\n",
      "Epoch 75/100\n",
      "19/19 [==============================] - 0s 16ms/step - loss: 23.5590 - risk_loss: 23.5590 - risk_harrellsc: 0.5412 - val_loss: 22.6484 - val_risk_loss: 22.6484 - val_risk_harrellsc: 0.4922\n",
      "Epoch 76/100\n",
      "19/19 [==============================] - 0s 13ms/step - loss: 23.5557 - risk_loss: 23.5557 - risk_harrellsc: 0.5431 - val_loss: 22.6597 - val_risk_loss: 22.6597 - val_risk_harrellsc: 0.4922\n",
      "Epoch 77/100\n",
      "19/19 [==============================] - 0s 13ms/step - loss: 23.5515 - risk_loss: 23.5515 - risk_harrellsc: 0.5431 - val_loss: 22.6680 - val_risk_loss: 22.6680 - val_risk_harrellsc: 0.4914\n",
      "Epoch 78/100\n",
      "19/19 [==============================] - 0s 13ms/step - loss: 23.5475 - risk_loss: 23.5475 - risk_harrellsc: 0.5431 - val_loss: 22.6801 - val_risk_loss: 22.6801 - val_risk_harrellsc: 0.4914\n",
      "Epoch 79/100\n",
      "19/19 [==============================] - 0s 13ms/step - loss: 23.5438 - risk_loss: 23.5438 - risk_harrellsc: 0.5431 - val_loss: 22.6947 - val_risk_loss: 22.6947 - val_risk_harrellsc: 0.4914\n",
      "Epoch 80/100\n",
      "19/19 [==============================] - 0s 13ms/step - loss: 23.5393 - risk_loss: 23.5393 - risk_harrellsc: 0.5431 - val_loss: 22.7251 - val_risk_loss: 22.7251 - val_risk_harrellsc: 0.4914\n",
      "Epoch 81/100\n",
      "19/19 [==============================] - 0s 13ms/step - loss: 23.5351 - risk_loss: 23.5351 - risk_harrellsc: 0.5436 - val_loss: 22.7596 - val_risk_loss: 22.7596 - val_risk_harrellsc: 0.4914\n",
      "Epoch 82/100\n",
      "19/19 [==============================] - 0s 13ms/step - loss: 23.5306 - risk_loss: 23.5306 - risk_harrellsc: 0.5436 - val_loss: 22.7931 - val_risk_loss: 22.7931 - val_risk_harrellsc: 0.4914\n",
      "Epoch 83/100\n",
      "19/19 [==============================] - 0s 13ms/step - loss: 23.5258 - risk_loss: 23.5258 - risk_harrellsc: 0.5436 - val_loss: 22.8259 - val_risk_loss: 22.8259 - val_risk_harrellsc: 0.4905\n",
      "Epoch 84/100\n",
      "19/19 [==============================] - 0s 15ms/step - loss: 23.5220 - risk_loss: 23.5220 - risk_harrellsc: 0.5436 - val_loss: 22.8891 - val_risk_loss: 22.8891 - val_risk_harrellsc: 0.4905\n",
      "Epoch 85/100\n",
      "19/19 [==============================] - 0s 19ms/step - loss: 23.5167 - risk_loss: 23.5167 - risk_harrellsc: 0.5444 - val_loss: 22.9273 - val_risk_loss: 22.9273 - val_risk_harrellsc: 0.4905\n",
      "Epoch 86/100\n",
      "19/19 [==============================] - 0s 23ms/step - loss: 23.5111 - risk_loss: 23.5111 - risk_harrellsc: 0.5446 - val_loss: 22.9308 - val_risk_loss: 22.9308 - val_risk_harrellsc: 0.4896\n",
      "Epoch 87/100\n",
      "19/19 [==============================] - 0s 17ms/step - loss: 23.5068 - risk_loss: 23.5068 - risk_harrellsc: 0.5439 - val_loss: 22.9342 - val_risk_loss: 22.9342 - val_risk_harrellsc: 0.4896\n",
      "Epoch 88/100\n",
      "19/19 [==============================] - 0s 15ms/step - loss: 23.5022 - risk_loss: 23.5022 - risk_harrellsc: 0.5450 - val_loss: 22.9375 - val_risk_loss: 22.9375 - val_risk_harrellsc: 0.4896\n",
      "Epoch 89/100\n",
      "19/19 [==============================] - 0s 15ms/step - loss: 23.4974 - risk_loss: 23.4974 - risk_harrellsc: 0.5448 - val_loss: 22.9388 - val_risk_loss: 22.9388 - val_risk_harrellsc: 0.4896\n",
      "Epoch 90/100\n",
      "19/19 [==============================] - 0s 18ms/step - loss: 23.4935 - risk_loss: 23.4935 - risk_harrellsc: 0.5448 - val_loss: 22.9386 - val_risk_loss: 22.9386 - val_risk_harrellsc: 0.4896\n",
      "Epoch 91/100\n",
      "19/19 [==============================] - 0s 20ms/step - loss: 23.4883 - risk_loss: 23.4883 - risk_harrellsc: 0.5450 - val_loss: 22.9388 - val_risk_loss: 22.9388 - val_risk_harrellsc: 0.4896\n",
      "Epoch 92/100\n",
      "19/19 [==============================] - 0s 15ms/step - loss: 23.4840 - risk_loss: 23.4840 - risk_harrellsc: 0.5456 - val_loss: 22.9400 - val_risk_loss: 22.9400 - val_risk_harrellsc: 0.4896\n",
      "Epoch 93/100\n",
      "19/19 [==============================] - 0s 14ms/step - loss: 23.4789 - risk_loss: 23.4789 - risk_harrellsc: 0.5446 - val_loss: 22.9434 - val_risk_loss: 22.9434 - val_risk_harrellsc: 0.4896\n",
      "Epoch 94/100\n",
      "19/19 [==============================] - 0s 13ms/step - loss: 23.4749 - risk_loss: 23.4749 - risk_harrellsc: 0.5378 - val_loss: 22.9481 - val_risk_loss: 22.9481 - val_risk_harrellsc: 0.4896\n",
      "Epoch 95/100\n",
      "19/19 [==============================] - 0s 13ms/step - loss: 23.4693 - risk_loss: 23.4693 - risk_harrellsc: 0.5470 - val_loss: 22.9528 - val_risk_loss: 22.9528 - val_risk_harrellsc: 0.4896\n",
      "Epoch 96/100\n",
      "19/19 [==============================] - 0s 13ms/step - loss: 23.4663 - risk_loss: 23.4663 - risk_harrellsc: 0.5470 - val_loss: 22.9577 - val_risk_loss: 22.9577 - val_risk_harrellsc: 0.4896\n",
      "Epoch 97/100\n",
      "19/19 [==============================] - 0s 13ms/step - loss: 23.4608 - risk_loss: 23.4608 - risk_harrellsc: 0.5482 - val_loss: 22.9647 - val_risk_loss: 22.9647 - val_risk_harrellsc: 0.4922\n",
      "Epoch 98/100\n",
      "19/19 [==============================] - 0s 13ms/step - loss: 23.4553 - risk_loss: 23.4553 - risk_harrellsc: 0.5482 - val_loss: 22.9712 - val_risk_loss: 22.9712 - val_risk_harrellsc: 0.4922\n",
      "Epoch 99/100\n",
      "19/19 [==============================] - 0s 15ms/step - loss: 23.4523 - risk_loss: 23.4523 - risk_harrellsc: 0.5483 - val_loss: 22.9774 - val_risk_loss: 22.9774 - val_risk_harrellsc: 0.4922\n",
      "Epoch 100/100\n",
      "19/19 [==============================] - 0s 13ms/step - loss: 23.4467 - risk_loss: 23.4467 - risk_harrellsc: 0.5483 - val_loss: 22.9854 - val_risk_loss: 22.9854 - val_risk_harrellsc: 0.4922\n"
     ]
    },
    {
     "data": {
      "application/vnd.plotly.v1+json": {
       "config": {
        "plotlyServerURL": "https://plot.ly"
       },
       "data": [
        {
         "mode": "lines",
         "name": "Train Loss",
         "type": "scatter",
         "x": [
          1,
          2,
          3,
          4,
          5,
          6,
          7,
          8,
          9,
          10,
          11,
          12,
          13,
          14,
          15,
          16,
          17,
          18,
          19,
          20,
          21,
          22,
          23,
          24,
          25,
          26,
          27,
          28,
          29,
          30,
          31,
          32,
          33,
          34,
          35,
          36,
          37,
          38,
          39,
          40,
          41,
          42,
          43,
          44,
          45,
          46,
          47,
          48,
          49,
          50,
          51,
          52,
          53,
          54,
          55,
          56,
          57,
          58,
          59,
          60,
          61,
          62,
          63,
          64,
          65,
          66,
          67,
          68,
          69,
          70,
          71,
          72,
          73,
          74,
          75,
          76,
          77,
          78,
          79,
          80,
          81,
          82,
          83,
          84,
          85,
          86,
          87,
          88,
          89,
          90,
          91,
          92,
          93,
          94,
          95,
          96,
          97,
          98,
          99,
          100
         ],
         "xaxis": "x",
         "y": [
          31.730382919311523,
          29.356462478637695,
          27.838232040405273,
          26.55498695373535,
          25.39426040649414,
          24.572465896606445,
          24.31844711303711,
          24.221004486083984,
          24.165679931640625,
          24.127050399780273,
          24.09581756591797,
          24.069007873535156,
          24.045150756835938,
          24.02381706237793,
          24.004541397094727,
          23.986614227294922,
          23.96975326538086,
          23.95424461364746,
          23.93939971923828,
          23.92499351501465,
          23.91094207763672,
          23.89764404296875,
          23.885513305664062,
          23.873743057250977,
          23.86232566833496,
          23.851633071899414,
          23.841209411621094,
          23.831811904907227,
          23.822729110717773,
          23.813941955566406,
          23.805194854736328,
          23.79665756225586,
          23.788291931152344,
          23.78045654296875,
          23.772537231445312,
          23.76390266418457,
          23.75518226623535,
          23.746437072753906,
          23.737581253051758,
          23.728504180908203,
          23.71922492980957,
          23.709264755249023,
          23.703105926513672,
          23.697359085083008,
          23.69170570373535,
          23.68634796142578,
          23.680965423583984,
          23.675823211669922,
          23.670766830444336,
          23.665739059448242,
          23.660966873168945,
          23.65591812133789,
          23.65149688720703,
          23.646678924560547,
          23.642091751098633,
          23.63734245300293,
          23.633434295654297,
          23.628860473632812,
          23.6248836517334,
          23.62079429626465,
          23.616891860961914,
          23.612943649291992,
          23.60869789123535,
          23.604820251464844,
          23.600584030151367,
          23.596763610839844,
          23.59233856201172,
          23.587923049926758,
          23.58367347717285,
          23.57894515991211,
          23.575021743774414,
          23.571025848388672,
          23.566852569580078,
          23.563251495361328,
          23.558984756469727,
          23.55573081970215,
          23.551469802856445,
          23.547504425048828,
          23.543832778930664,
          23.539325714111328,
          23.53510284423828,
          23.530563354492188,
          23.525754928588867,
          23.522003173828125,
          23.51668930053711,
          23.511077880859375,
          23.506826400756836,
          23.502168655395508,
          23.497419357299805,
          23.493528366088867,
          23.48832130432129,
          23.484027862548828,
          23.478899002075195,
          23.474882125854492,
          23.46931266784668,
          23.466341018676758,
          23.46076774597168,
          23.455263137817383,
          23.45233917236328,
          23.446683883666992
         ],
         "yaxis": "y"
        },
        {
         "mode": "lines",
         "name": "Validation Loss",
         "type": "scatter",
         "x": [
          1,
          2,
          3,
          4,
          5,
          6,
          7,
          8,
          9,
          10,
          11,
          12,
          13,
          14,
          15,
          16,
          17,
          18,
          19,
          20,
          21,
          22,
          23,
          24,
          25,
          26,
          27,
          28,
          29,
          30,
          31,
          32,
          33,
          34,
          35,
          36,
          37,
          38,
          39,
          40,
          41,
          42,
          43,
          44,
          45,
          46,
          47,
          48,
          49,
          50,
          51,
          52,
          53,
          54,
          55,
          56,
          57,
          58,
          59,
          60,
          61,
          62,
          63,
          64,
          65,
          66,
          67,
          68,
          69,
          70,
          71,
          72,
          73,
          74,
          75,
          76,
          77,
          78,
          79,
          80,
          81,
          82,
          83,
          84,
          85,
          86,
          87,
          88,
          89,
          90,
          91,
          92,
          93,
          94,
          95,
          96,
          97,
          98,
          99,
          100
         ],
         "xaxis": "x",
         "y": [
          24.841697692871094,
          23.124650955200195,
          22.280282974243164,
          22.04719352722168,
          22.108217239379883,
          22.24320411682129,
          22.365076065063477,
          22.461669921875,
          22.52062225341797,
          22.549373626708984,
          22.560977935791016,
          22.56214141845703,
          22.551706314086914,
          22.541202545166016,
          22.53105354309082,
          22.52042007446289,
          22.5097599029541,
          22.499502182006836,
          22.48991584777832,
          22.48163604736328,
          22.47447967529297,
          22.46761703491211,
          22.459644317626953,
          22.451961517333984,
          22.444543838500977,
          22.436731338500977,
          22.42976951599121,
          22.422517776489258,
          22.412776947021484,
          22.404016494750977,
          22.39698600769043,
          22.391014099121094,
          22.385597229003906,
          22.3813419342041,
          22.380443572998047,
          22.381799697875977,
          22.385711669921875,
          22.391475677490234,
          22.400680541992188,
          22.411643981933594,
          22.425682067871094,
          22.446393966674805,
          22.44400405883789,
          22.439319610595703,
          22.43458366394043,
          22.431480407714844,
          22.431320190429688,
          22.434423446655273,
          22.433494567871094,
          22.433561325073242,
          22.43808364868164,
          22.4486141204834,
          22.44881820678711,
          22.449382781982422,
          22.451885223388672,
          22.453624725341797,
          22.45125961303711,
          22.451658248901367,
          22.452232360839844,
          22.448469161987305,
          22.44434356689453,
          22.4439697265625,
          22.454479217529297,
          22.46577262878418,
          22.476146697998047,
          22.49164581298828,
          22.508195877075195,
          22.528690338134766,
          22.561471939086914,
          22.592580795288086,
          22.621335983276367,
          22.626779556274414,
          22.6334228515625,
          22.642234802246094,
          22.648395538330078,
          22.659687042236328,
          22.668012619018555,
          22.680099487304688,
          22.694690704345703,
          22.725061416625977,
          22.759563446044922,
          22.793054580688477,
          22.82586097717285,
          22.889062881469727,
          22.927310943603516,
          22.930797576904297,
          22.9342041015625,
          22.937545776367188,
          22.938798904418945,
          22.93861961364746,
          22.938783645629883,
          22.939977645874023,
          22.943445205688477,
          22.948110580444336,
          22.952754974365234,
          22.957738876342773,
          22.964698791503906,
          22.97115135192871,
          22.97738265991211,
          22.98541831970215
         ],
         "yaxis": "y"
        },
        {
         "mode": "lines",
         "name": "Train Harrell's C",
         "type": "scatter",
         "x": [
          1,
          2,
          3,
          4,
          5,
          6,
          7,
          8,
          9,
          10,
          11,
          12,
          13,
          14,
          15,
          16,
          17,
          18,
          19,
          20,
          21,
          22,
          23,
          24,
          25,
          26,
          27,
          28,
          29,
          30,
          31,
          32,
          33,
          34,
          35,
          36,
          37,
          38,
          39,
          40,
          41,
          42,
          43,
          44,
          45,
          46,
          47,
          48,
          49,
          50,
          51,
          52,
          53,
          54,
          55,
          56,
          57,
          58,
          59,
          60,
          61,
          62,
          63,
          64,
          65,
          66,
          67,
          68,
          69,
          70,
          71,
          72,
          73,
          74,
          75,
          76,
          77,
          78,
          79,
          80,
          81,
          82,
          83,
          84,
          85,
          86,
          87,
          88,
          89,
          90,
          91,
          92,
          93,
          94,
          95,
          96,
          97,
          98,
          99,
          100
         ],
         "xaxis": "x2",
         "y": [
          0.4945716709075488,
          0.48354537743850723,
          0.4850720949957591,
          0.4872773536895674,
          0.48999151823579307,
          0.48897370653095845,
          0.4860899067005937,
          0.48405428329092454,
          0.5022052586938083,
          0.5010178117048346,
          0.5023748939779474,
          0.5106870229007634,
          0.5105173876166242,
          0.5098388464800678,
          0.508312128922816,
          0.5096692111959288,
          0.5159457167090755,
          0.5240882103477523,
          0.5230703986429177,
          0.5159457167090755,
          0.5162849872773537,
          0.518490245971162,
          0.5179813401187447,
          0.5164546225614928,
          0.5188295165394402,
          0.5259541984732824,
          0.5259541984732824,
          0.5318914334181509,
          0.5322307039864291,
          0.5307039864291773,
          0.5307039864291773,
          0.5320610687022901,
          0.5329092451229855,
          0.538676844783715,
          0.5388464800678541,
          0.5388464800678541,
          0.536810856658185,
          0.5357930449533503,
          0.5442748091603054,
          0.5430873621713317,
          0.5425784563189143,
          0.5434266327396098,
          0.5435962680237489,
          0.5430873621713317,
          0.5425784563189143,
          0.5424088210347753,
          0.5424088210347753,
          0.5427480916030535,
          0.5427480916030535,
          0.5429177268871925,
          0.5441051738761662,
          0.5441051738761662,
          0.5441051738761662,
          0.5441051738761662,
          0.5432569974554707,
          0.5420695504664971,
          0.5413910093299407,
          0.5410517387616625,
          0.5402035623409669,
          0.5417302798982189,
          0.5418999151823579,
          0.5420695504664971,
          0.5422391857506361,
          0.5413910093299407,
          0.5413910093299407,
          0.5408821034775233,
          0.5407124681933843,
          0.5422391857506361,
          0.5420695504664971,
          0.5420695504664971,
          0.5418999151823579,
          0.5417302798982189,
          0.5418999151823579,
          0.5413910093299407,
          0.5412213740458015,
          0.5430873621713317,
          0.5430873621713317,
          0.5430873621713317,
          0.5430873621713317,
          0.5430873621713317,
          0.5435962680237489,
          0.5435962680237489,
          0.5435962680237489,
          0.5435962680237489,
          0.5444444444444444,
          0.5446140797285836,
          0.5439355385920271,
          0.5449533502968618,
          0.5447837150127226,
          0.5447837150127226,
          0.5449533502968618,
          0.5456318914334182,
          0.5446140797285836,
          0.5378286683630195,
          0.546988973706531,
          0.546988973706531,
          0.5481764206955047,
          0.5481764206955047,
          0.5483460559796438,
          0.5483460559796438
         ],
         "yaxis": "y2"
        },
        {
         "mode": "lines",
         "name": "Validation Harrell's C",
         "type": "scatter",
         "x": [
          1,
          2,
          3,
          4,
          5,
          6,
          7,
          8,
          9,
          10,
          11,
          12,
          13,
          14,
          15,
          16,
          17,
          18,
          19,
          20,
          21,
          22,
          23,
          24,
          25,
          26,
          27,
          28,
          29,
          30,
          31,
          32,
          33,
          34,
          35,
          36,
          37,
          38,
          39,
          40,
          41,
          42,
          43,
          44,
          45,
          46,
          47,
          48,
          49,
          50,
          51,
          52,
          53,
          54,
          55,
          56,
          57,
          58,
          59,
          60,
          61,
          62,
          63,
          64,
          65,
          66,
          67,
          68,
          69,
          70,
          71,
          72,
          73,
          74,
          75,
          76,
          77,
          78,
          79,
          80,
          81,
          82,
          83,
          84,
          85,
          86,
          87,
          88,
          89,
          90,
          91,
          92,
          93,
          94,
          95,
          96,
          97,
          98,
          99,
          100
         ],
         "xaxis": "x2",
         "y": [
          0.46203623813632444,
          0.4810181190681622,
          0.49223468507333906,
          0.49223468507333906,
          0.4913718723037101,
          0.4844693701466782,
          0.4784296807592752,
          0.47497842968075926,
          0.4758412424503883,
          0.47066436583261434,
          0.46635030198446936,
          0.4672131147540984,
          0.46893874029335636,
          0.4741156169111303,
          0.48792062122519414,
          0.48619499568593616,
          0.48619499568593616,
          0.48619499568593616,
          0.48619499568593616,
          0.48619499568593616,
          0.48619499568593616,
          0.48619499568593616,
          0.48619499568593616,
          0.4870578084555651,
          0.4870578084555651,
          0.4870578084555651,
          0.4870578084555651,
          0.4844693701466782,
          0.4844693701466782,
          0.4715271786022433,
          0.4715271786022433,
          0.4715271786022433,
          0.4715271786022433,
          0.4715271786022433,
          0.46807592752372734,
          0.46807592752372734,
          0.502588438308887,
          0.502588438308887,
          0.502588438308887,
          0.502588438308887,
          0.497411561691113,
          0.497411561691113,
          0.497411561691113,
          0.497411561691113,
          0.497411561691113,
          0.497411561691113,
          0.498274374460742,
          0.498274374460742,
          0.495685936151855,
          0.495685936151855,
          0.495685936151855,
          0.495685936151855,
          0.495685936151855,
          0.495685936151855,
          0.495685936151855,
          0.49482312338222606,
          0.49482312338222606,
          0.4913718723037101,
          0.4913718723037101,
          0.4913718723037101,
          0.4913718723037101,
          0.4913718723037101,
          0.49223468507333906,
          0.49223468507333906,
          0.49223468507333906,
          0.49223468507333906,
          0.49223468507333906,
          0.49223468507333906,
          0.49223468507333906,
          0.49223468507333906,
          0.49223468507333906,
          0.49223468507333906,
          0.49223468507333906,
          0.49223468507333906,
          0.49223468507333906,
          0.49223468507333906,
          0.4913718723037101,
          0.4913718723037101,
          0.4913718723037101,
          0.4913718723037101,
          0.4913718723037101,
          0.4913718723037101,
          0.4905090595340811,
          0.4905090595340811,
          0.4905090595340811,
          0.4896462467644521,
          0.4896462467644521,
          0.4896462467644521,
          0.4896462467644521,
          0.4896462467644521,
          0.4896462467644521,
          0.4896462467644521,
          0.4896462467644521,
          0.4896462467644521,
          0.4896462467644521,
          0.4896462467644521,
          0.49223468507333906,
          0.49223468507333906,
          0.49223468507333906,
          0.49223468507333906
         ],
         "yaxis": "y2"
        }
       ],
       "layout": {
        "annotations": [
         {
          "font": {
           "size": 16
          },
          "showarrow": false,
          "text": "Loss",
          "x": 0.225,
          "xanchor": "center",
          "xref": "paper",
          "y": 1,
          "yanchor": "bottom",
          "yref": "paper"
         },
         {
          "font": {
           "size": 16
          },
          "showarrow": false,
          "text": "Harrell's C",
          "x": 0.775,
          "xanchor": "center",
          "xref": "paper",
          "y": 1,
          "yanchor": "bottom",
          "yref": "paper"
         }
        ],
        "template": {
         "data": {
          "bar": [
           {
            "error_x": {
             "color": "#2a3f5f"
            },
            "error_y": {
             "color": "#2a3f5f"
            },
            "marker": {
             "line": {
              "color": "#E5ECF6",
              "width": 0.5
             },
             "pattern": {
              "fillmode": "overlay",
              "size": 10,
              "solidity": 0.2
             }
            },
            "type": "bar"
           }
          ],
          "barpolar": [
           {
            "marker": {
             "line": {
              "color": "#E5ECF6",
              "width": 0.5
             },
             "pattern": {
              "fillmode": "overlay",
              "size": 10,
              "solidity": 0.2
             }
            },
            "type": "barpolar"
           }
          ],
          "carpet": [
           {
            "aaxis": {
             "endlinecolor": "#2a3f5f",
             "gridcolor": "white",
             "linecolor": "white",
             "minorgridcolor": "white",
             "startlinecolor": "#2a3f5f"
            },
            "baxis": {
             "endlinecolor": "#2a3f5f",
             "gridcolor": "white",
             "linecolor": "white",
             "minorgridcolor": "white",
             "startlinecolor": "#2a3f5f"
            },
            "type": "carpet"
           }
          ],
          "choropleth": [
           {
            "colorbar": {
             "outlinewidth": 0,
             "ticks": ""
            },
            "type": "choropleth"
           }
          ],
          "contour": [
           {
            "colorbar": {
             "outlinewidth": 0,
             "ticks": ""
            },
            "colorscale": [
             [
              0,
              "#0d0887"
             ],
             [
              0.1111111111111111,
              "#46039f"
             ],
             [
              0.2222222222222222,
              "#7201a8"
             ],
             [
              0.3333333333333333,
              "#9c179e"
             ],
             [
              0.4444444444444444,
              "#bd3786"
             ],
             [
              0.5555555555555556,
              "#d8576b"
             ],
             [
              0.6666666666666666,
              "#ed7953"
             ],
             [
              0.7777777777777778,
              "#fb9f3a"
             ],
             [
              0.8888888888888888,
              "#fdca26"
             ],
             [
              1,
              "#f0f921"
             ]
            ],
            "type": "contour"
           }
          ],
          "contourcarpet": [
           {
            "colorbar": {
             "outlinewidth": 0,
             "ticks": ""
            },
            "type": "contourcarpet"
           }
          ],
          "heatmap": [
           {
            "colorbar": {
             "outlinewidth": 0,
             "ticks": ""
            },
            "colorscale": [
             [
              0,
              "#0d0887"
             ],
             [
              0.1111111111111111,
              "#46039f"
             ],
             [
              0.2222222222222222,
              "#7201a8"
             ],
             [
              0.3333333333333333,
              "#9c179e"
             ],
             [
              0.4444444444444444,
              "#bd3786"
             ],
             [
              0.5555555555555556,
              "#d8576b"
             ],
             [
              0.6666666666666666,
              "#ed7953"
             ],
             [
              0.7777777777777778,
              "#fb9f3a"
             ],
             [
              0.8888888888888888,
              "#fdca26"
             ],
             [
              1,
              "#f0f921"
             ]
            ],
            "type": "heatmap"
           }
          ],
          "heatmapgl": [
           {
            "colorbar": {
             "outlinewidth": 0,
             "ticks": ""
            },
            "colorscale": [
             [
              0,
              "#0d0887"
             ],
             [
              0.1111111111111111,
              "#46039f"
             ],
             [
              0.2222222222222222,
              "#7201a8"
             ],
             [
              0.3333333333333333,
              "#9c179e"
             ],
             [
              0.4444444444444444,
              "#bd3786"
             ],
             [
              0.5555555555555556,
              "#d8576b"
             ],
             [
              0.6666666666666666,
              "#ed7953"
             ],
             [
              0.7777777777777778,
              "#fb9f3a"
             ],
             [
              0.8888888888888888,
              "#fdca26"
             ],
             [
              1,
              "#f0f921"
             ]
            ],
            "type": "heatmapgl"
           }
          ],
          "histogram": [
           {
            "marker": {
             "pattern": {
              "fillmode": "overlay",
              "size": 10,
              "solidity": 0.2
             }
            },
            "type": "histogram"
           }
          ],
          "histogram2d": [
           {
            "colorbar": {
             "outlinewidth": 0,
             "ticks": ""
            },
            "colorscale": [
             [
              0,
              "#0d0887"
             ],
             [
              0.1111111111111111,
              "#46039f"
             ],
             [
              0.2222222222222222,
              "#7201a8"
             ],
             [
              0.3333333333333333,
              "#9c179e"
             ],
             [
              0.4444444444444444,
              "#bd3786"
             ],
             [
              0.5555555555555556,
              "#d8576b"
             ],
             [
              0.6666666666666666,
              "#ed7953"
             ],
             [
              0.7777777777777778,
              "#fb9f3a"
             ],
             [
              0.8888888888888888,
              "#fdca26"
             ],
             [
              1,
              "#f0f921"
             ]
            ],
            "type": "histogram2d"
           }
          ],
          "histogram2dcontour": [
           {
            "colorbar": {
             "outlinewidth": 0,
             "ticks": ""
            },
            "colorscale": [
             [
              0,
              "#0d0887"
             ],
             [
              0.1111111111111111,
              "#46039f"
             ],
             [
              0.2222222222222222,
              "#7201a8"
             ],
             [
              0.3333333333333333,
              "#9c179e"
             ],
             [
              0.4444444444444444,
              "#bd3786"
             ],
             [
              0.5555555555555556,
              "#d8576b"
             ],
             [
              0.6666666666666666,
              "#ed7953"
             ],
             [
              0.7777777777777778,
              "#fb9f3a"
             ],
             [
              0.8888888888888888,
              "#fdca26"
             ],
             [
              1,
              "#f0f921"
             ]
            ],
            "type": "histogram2dcontour"
           }
          ],
          "mesh3d": [
           {
            "colorbar": {
             "outlinewidth": 0,
             "ticks": ""
            },
            "type": "mesh3d"
           }
          ],
          "parcoords": [
           {
            "line": {
             "colorbar": {
              "outlinewidth": 0,
              "ticks": ""
             }
            },
            "type": "parcoords"
           }
          ],
          "pie": [
           {
            "automargin": true,
            "type": "pie"
           }
          ],
          "scatter": [
           {
            "fillpattern": {
             "fillmode": "overlay",
             "size": 10,
             "solidity": 0.2
            },
            "type": "scatter"
           }
          ],
          "scatter3d": [
           {
            "line": {
             "colorbar": {
              "outlinewidth": 0,
              "ticks": ""
             }
            },
            "marker": {
             "colorbar": {
              "outlinewidth": 0,
              "ticks": ""
             }
            },
            "type": "scatter3d"
           }
          ],
          "scattercarpet": [
           {
            "marker": {
             "colorbar": {
              "outlinewidth": 0,
              "ticks": ""
             }
            },
            "type": "scattercarpet"
           }
          ],
          "scattergeo": [
           {
            "marker": {
             "colorbar": {
              "outlinewidth": 0,
              "ticks": ""
             }
            },
            "type": "scattergeo"
           }
          ],
          "scattergl": [
           {
            "marker": {
             "colorbar": {
              "outlinewidth": 0,
              "ticks": ""
             }
            },
            "type": "scattergl"
           }
          ],
          "scattermapbox": [
           {
            "marker": {
             "colorbar": {
              "outlinewidth": 0,
              "ticks": ""
             }
            },
            "type": "scattermapbox"
           }
          ],
          "scatterpolar": [
           {
            "marker": {
             "colorbar": {
              "outlinewidth": 0,
              "ticks": ""
             }
            },
            "type": "scatterpolar"
           }
          ],
          "scatterpolargl": [
           {
            "marker": {
             "colorbar": {
              "outlinewidth": 0,
              "ticks": ""
             }
            },
            "type": "scatterpolargl"
           }
          ],
          "scatterternary": [
           {
            "marker": {
             "colorbar": {
              "outlinewidth": 0,
              "ticks": ""
             }
            },
            "type": "scatterternary"
           }
          ],
          "surface": [
           {
            "colorbar": {
             "outlinewidth": 0,
             "ticks": ""
            },
            "colorscale": [
             [
              0,
              "#0d0887"
             ],
             [
              0.1111111111111111,
              "#46039f"
             ],
             [
              0.2222222222222222,
              "#7201a8"
             ],
             [
              0.3333333333333333,
              "#9c179e"
             ],
             [
              0.4444444444444444,
              "#bd3786"
             ],
             [
              0.5555555555555556,
              "#d8576b"
             ],
             [
              0.6666666666666666,
              "#ed7953"
             ],
             [
              0.7777777777777778,
              "#fb9f3a"
             ],
             [
              0.8888888888888888,
              "#fdca26"
             ],
             [
              1,
              "#f0f921"
             ]
            ],
            "type": "surface"
           }
          ],
          "table": [
           {
            "cells": {
             "fill": {
              "color": "#EBF0F8"
             },
             "line": {
              "color": "white"
             }
            },
            "header": {
             "fill": {
              "color": "#C8D4E3"
             },
             "line": {
              "color": "white"
             }
            },
            "type": "table"
           }
          ]
         },
         "layout": {
          "annotationdefaults": {
           "arrowcolor": "#2a3f5f",
           "arrowhead": 0,
           "arrowwidth": 1
          },
          "autotypenumbers": "strict",
          "coloraxis": {
           "colorbar": {
            "outlinewidth": 0,
            "ticks": ""
           }
          },
          "colorscale": {
           "diverging": [
            [
             0,
             "#8e0152"
            ],
            [
             0.1,
             "#c51b7d"
            ],
            [
             0.2,
             "#de77ae"
            ],
            [
             0.3,
             "#f1b6da"
            ],
            [
             0.4,
             "#fde0ef"
            ],
            [
             0.5,
             "#f7f7f7"
            ],
            [
             0.6,
             "#e6f5d0"
            ],
            [
             0.7,
             "#b8e186"
            ],
            [
             0.8,
             "#7fbc41"
            ],
            [
             0.9,
             "#4d9221"
            ],
            [
             1,
             "#276419"
            ]
           ],
           "sequential": [
            [
             0,
             "#0d0887"
            ],
            [
             0.1111111111111111,
             "#46039f"
            ],
            [
             0.2222222222222222,
             "#7201a8"
            ],
            [
             0.3333333333333333,
             "#9c179e"
            ],
            [
             0.4444444444444444,
             "#bd3786"
            ],
            [
             0.5555555555555556,
             "#d8576b"
            ],
            [
             0.6666666666666666,
             "#ed7953"
            ],
            [
             0.7777777777777778,
             "#fb9f3a"
            ],
            [
             0.8888888888888888,
             "#fdca26"
            ],
            [
             1,
             "#f0f921"
            ]
           ],
           "sequentialminus": [
            [
             0,
             "#0d0887"
            ],
            [
             0.1111111111111111,
             "#46039f"
            ],
            [
             0.2222222222222222,
             "#7201a8"
            ],
            [
             0.3333333333333333,
             "#9c179e"
            ],
            [
             0.4444444444444444,
             "#bd3786"
            ],
            [
             0.5555555555555556,
             "#d8576b"
            ],
            [
             0.6666666666666666,
             "#ed7953"
            ],
            [
             0.7777777777777778,
             "#fb9f3a"
            ],
            [
             0.8888888888888888,
             "#fdca26"
            ],
            [
             1,
             "#f0f921"
            ]
           ]
          },
          "colorway": [
           "#636efa",
           "#EF553B",
           "#00cc96",
           "#ab63fa",
           "#FFA15A",
           "#19d3f3",
           "#FF6692",
           "#B6E880",
           "#FF97FF",
           "#FECB52"
          ],
          "font": {
           "color": "#2a3f5f"
          },
          "geo": {
           "bgcolor": "white",
           "lakecolor": "white",
           "landcolor": "#E5ECF6",
           "showlakes": true,
           "showland": true,
           "subunitcolor": "white"
          },
          "hoverlabel": {
           "align": "left"
          },
          "hovermode": "closest",
          "mapbox": {
           "style": "light"
          },
          "paper_bgcolor": "white",
          "plot_bgcolor": "#E5ECF6",
          "polar": {
           "angularaxis": {
            "gridcolor": "white",
            "linecolor": "white",
            "ticks": ""
           },
           "bgcolor": "#E5ECF6",
           "radialaxis": {
            "gridcolor": "white",
            "linecolor": "white",
            "ticks": ""
           }
          },
          "scene": {
           "xaxis": {
            "backgroundcolor": "#E5ECF6",
            "gridcolor": "white",
            "gridwidth": 2,
            "linecolor": "white",
            "showbackground": true,
            "ticks": "",
            "zerolinecolor": "white"
           },
           "yaxis": {
            "backgroundcolor": "#E5ECF6",
            "gridcolor": "white",
            "gridwidth": 2,
            "linecolor": "white",
            "showbackground": true,
            "ticks": "",
            "zerolinecolor": "white"
           },
           "zaxis": {
            "backgroundcolor": "#E5ECF6",
            "gridcolor": "white",
            "gridwidth": 2,
            "linecolor": "white",
            "showbackground": true,
            "ticks": "",
            "zerolinecolor": "white"
           }
          },
          "shapedefaults": {
           "line": {
            "color": "#2a3f5f"
           }
          },
          "ternary": {
           "aaxis": {
            "gridcolor": "white",
            "linecolor": "white",
            "ticks": ""
           },
           "baxis": {
            "gridcolor": "white",
            "linecolor": "white",
            "ticks": ""
           },
           "bgcolor": "#E5ECF6",
           "caxis": {
            "gridcolor": "white",
            "linecolor": "white",
            "ticks": ""
           }
          },
          "title": {
           "x": 0.05
          },
          "xaxis": {
           "automargin": true,
           "gridcolor": "white",
           "linecolor": "white",
           "ticks": "",
           "title": {
            "standoff": 15
           },
           "zerolinecolor": "white",
           "zerolinewidth": 2
          },
          "yaxis": {
           "automargin": true,
           "gridcolor": "white",
           "linecolor": "white",
           "ticks": "",
           "title": {
            "standoff": 15
           },
           "zerolinecolor": "white",
           "zerolinewidth": 2
          }
         }
        },
        "title": {
         "text": "model_att Fold 1 Training Metrics"
        },
        "xaxis": {
         "anchor": "y",
         "domain": [
          0,
          0.45
         ],
         "title": {
          "text": "Epoch"
         }
        },
        "xaxis2": {
         "anchor": "y2",
         "domain": [
          0.55,
          1
         ],
         "title": {
          "text": "Epoch"
         }
        },
        "yaxis": {
         "anchor": "x",
         "domain": [
          0,
          1
         ],
         "title": {
          "text": "Loss"
         }
        },
        "yaxis2": {
         "anchor": "x2",
         "domain": [
          0,
          1
         ],
         "title": {
          "text": "Harrell's C"
         }
        }
       }
      }
     },
     "metadata": {},
     "output_type": "display_data"
    },
    {
     "name": "stdout",
     "output_type": "stream",
     "text": [
      "Fold 2/5\n",
      "The input shape of model is: (None, None, 49)\n",
      "The output shape of model is: [(1, 1), (None, None, 1)]\n",
      "Epoch 1/100\n"
     ]
    },
    {
     "name": "stderr",
     "output_type": "stream",
     "text": [
      "/opt/anaconda3/envs/mil/lib/python3.8/site-packages/tensorflow/python/framework/indexed_slices.py:448: UserWarning:\n",
      "\n",
      "Converting sparse IndexedSlices(IndexedSlices(indices=Tensor(\"gradient_tape/cox/cond/gradients/cox/cond/RaggedTile/GatherV2_1_grad/Reshape_1:0\", shape=(None,), dtype=int64), values=Tensor(\"gradient_tape/cox/cond/gradients/cox/cond/RaggedTile/GatherV2_1_grad/Reshape:0\", shape=(None,), dtype=float32), dense_shape=Tensor(\"gradient_tape/cox/cond/gradients/cox/cond/RaggedTile/GatherV2_1_grad/Cast:0\", shape=(1,), dtype=int32))) to a dense Tensor of unknown shape. This may consume a large amount of memory.\n",
      "\n",
      "/opt/anaconda3/envs/mil/lib/python3.8/site-packages/tensorflow/python/framework/indexed_slices.py:448: UserWarning:\n",
      "\n",
      "Converting sparse IndexedSlices(IndexedSlices(indices=Tensor(\"gradient_tape/model_1/input.to_tensor_1/RaggedToTensor/boolean_mask_1/GatherV2:0\", shape=(None,), dtype=int32), values=Tensor(\"gradient_tape/model_1/input.to_tensor_1/RaggedToTensor/boolean_mask/GatherV2:0\", shape=(None, 49), dtype=float32), dense_shape=Tensor(\"gradient_tape/model_1/input.to_tensor_1/RaggedToTensor/Shape:0\", shape=(2,), dtype=int32))) to a dense Tensor of unknown shape. This may consume a large amount of memory.\n",
      "\n",
      "/opt/anaconda3/envs/mil/lib/python3.8/site-packages/tensorflow/python/framework/indexed_slices.py:448: UserWarning:\n",
      "\n",
      "Converting sparse IndexedSlices(IndexedSlices(indices=Tensor(\"gradient_tape/model_1/tf.math.divide_no_nan_1/RaggedTile/Reshape_3:0\", shape=(None,), dtype=int64), values=Tensor(\"gradient_tape/model_1/tf.math.divide_no_nan_1/RaggedTile/Reshape_2:0\", shape=(None, 1), dtype=float32), dense_shape=Tensor(\"gradient_tape/model_1/tf.math.divide_no_nan_1/RaggedTile/Cast:0\", shape=(2,), dtype=int32))) to a dense Tensor of unknown shape. This may consume a large amount of memory.\n",
      "\n"
     ]
    },
    {
     "name": "stdout",
     "output_type": "stream",
     "text": [
      "19/19 [==============================] - 7s 118ms/step - loss: 29.6660 - risk_loss: 29.6660 - risk_harrellsc: 0.4762 - val_loss: 134.5266 - val_risk_loss: 134.5266 - val_risk_harrellsc: 0.5019\n",
      "Epoch 2/100\n",
      "19/19 [==============================] - 0s 16ms/step - loss: 28.1790 - risk_loss: 28.1790 - risk_harrellsc: 0.5415 - val_loss: 126.7411 - val_risk_loss: 126.7411 - val_risk_harrellsc: 0.4805\n",
      "Epoch 3/100\n",
      "19/19 [==============================] - 0s 14ms/step - loss: 27.1429 - risk_loss: 27.1429 - risk_harrellsc: 0.4997 - val_loss: 119.0247 - val_risk_loss: 119.0247 - val_risk_harrellsc: 0.5210\n",
      "Epoch 4/100\n",
      "19/19 [==============================] - 0s 13ms/step - loss: 26.1696 - risk_loss: 26.1696 - risk_harrellsc: 0.4475 - val_loss: 112.3907 - val_risk_loss: 112.3907 - val_risk_harrellsc: 0.4934\n",
      "Epoch 5/100\n",
      "19/19 [==============================] - 0s 13ms/step - loss: 25.3322 - risk_loss: 25.3322 - risk_harrellsc: 0.4574 - val_loss: 106.9546 - val_risk_loss: 106.9546 - val_risk_harrellsc: 0.5584\n",
      "Epoch 6/100\n",
      "19/19 [==============================] - 0s 14ms/step - loss: 24.9025 - risk_loss: 24.9025 - risk_harrellsc: 0.4967 - val_loss: 104.3805 - val_risk_loss: 104.3805 - val_risk_harrellsc: 0.4864\n",
      "Epoch 7/100\n",
      "19/19 [==============================] - 0s 13ms/step - loss: 24.7828 - risk_loss: 24.7828 - risk_harrellsc: 0.4509 - val_loss: 102.8276 - val_risk_loss: 102.8276 - val_risk_harrellsc: 0.4961\n",
      "Epoch 8/100\n",
      "19/19 [==============================] - 0s 13ms/step - loss: 24.3869 - risk_loss: 24.3869 - risk_harrellsc: 0.5026 - val_loss: 102.1987 - val_risk_loss: 102.1987 - val_risk_harrellsc: 0.4467\n",
      "Epoch 9/100\n",
      "19/19 [==============================] - 0s 14ms/step - loss: 24.3643 - risk_loss: 24.3643 - risk_harrellsc: 0.5006 - val_loss: 102.3925 - val_risk_loss: 102.3925 - val_risk_harrellsc: 0.4490\n",
      "Epoch 10/100\n",
      "19/19 [==============================] - 0s 16ms/step - loss: 24.6555 - risk_loss: 24.6555 - risk_harrellsc: 0.4615 - val_loss: 101.5488 - val_risk_loss: 101.5488 - val_risk_harrellsc: 0.4907\n",
      "Epoch 11/100\n",
      "19/19 [==============================] - 0s 14ms/step - loss: 24.5917 - risk_loss: 24.5917 - risk_harrellsc: 0.4692 - val_loss: 100.6704 - val_risk_loss: 100.6704 - val_risk_harrellsc: 0.4326\n",
      "Epoch 12/100\n",
      "19/19 [==============================] - 0s 14ms/step - loss: 24.2538 - risk_loss: 24.2538 - risk_harrellsc: 0.5626 - val_loss: 99.9248 - val_risk_loss: 99.9248 - val_risk_harrellsc: 0.5261\n",
      "Epoch 13/100\n",
      "19/19 [==============================] - 0s 14ms/step - loss: 24.2276 - risk_loss: 24.2276 - risk_harrellsc: 0.4890 - val_loss: 99.3356 - val_risk_loss: 99.3356 - val_risk_harrellsc: 0.6238\n",
      "Epoch 14/100\n",
      "19/19 [==============================] - 0s 13ms/step - loss: 24.2017 - risk_loss: 24.2017 - risk_harrellsc: 0.4666 - val_loss: 98.8882 - val_risk_loss: 98.8882 - val_risk_harrellsc: 0.5537\n",
      "Epoch 15/100\n",
      "19/19 [==============================] - 0s 13ms/step - loss: 24.1771 - risk_loss: 24.1771 - risk_harrellsc: 0.5130 - val_loss: 98.4634 - val_risk_loss: 98.4634 - val_risk_harrellsc: 0.4739\n",
      "Epoch 16/100\n",
      "19/19 [==============================] - 0s 13ms/step - loss: 24.1542 - risk_loss: 24.1542 - risk_harrellsc: 0.5045 - val_loss: 98.0660 - val_risk_loss: 98.0660 - val_risk_harrellsc: 0.4287\n",
      "Epoch 17/100\n",
      "19/19 [==============================] - 0s 15ms/step - loss: 24.1442 - risk_loss: 24.1442 - risk_harrellsc: 0.4696 - val_loss: 97.9032 - val_risk_loss: 97.9032 - val_risk_harrellsc: 0.4977\n",
      "Epoch 18/100\n",
      "19/19 [==============================] - 0s 14ms/step - loss: 24.1412 - risk_loss: 24.1412 - risk_harrellsc: 0.5285 - val_loss: 97.7430 - val_risk_loss: 97.7430 - val_risk_harrellsc: 0.4136\n",
      "Epoch 19/100\n",
      "19/19 [==============================] - 0s 14ms/step - loss: 24.1383 - risk_loss: 24.1383 - risk_harrellsc: 0.5070 - val_loss: 97.5725 - val_risk_loss: 97.5725 - val_risk_harrellsc: 0.4957\n",
      "Epoch 20/100\n",
      "19/19 [==============================] - 0s 13ms/step - loss: 24.1350 - risk_loss: 24.1350 - risk_harrellsc: 0.5070 - val_loss: 97.3769 - val_risk_loss: 97.3769 - val_risk_harrellsc: 0.6305\n",
      "Epoch 21/100\n",
      "19/19 [==============================] - 0s 13ms/step - loss: 24.1318 - risk_loss: 24.1318 - risk_harrellsc: 0.5135 - val_loss: 97.1941 - val_risk_loss: 97.1941 - val_risk_harrellsc: 0.4548\n",
      "Epoch 22/100\n",
      "19/19 [==============================] - 0s 13ms/step - loss: 24.1287 - risk_loss: 24.1287 - risk_harrellsc: 0.4873 - val_loss: 97.0248 - val_risk_loss: 97.0248 - val_risk_harrellsc: 0.4642\n",
      "Epoch 23/100\n",
      "19/19 [==============================] - 0s 13ms/step - loss: 24.1235 - risk_loss: 24.1235 - risk_harrellsc: 0.4756 - val_loss: 96.8675 - val_risk_loss: 96.8675 - val_risk_harrellsc: 0.5051\n",
      "Epoch 24/100\n",
      "19/19 [==============================] - 0s 13ms/step - loss: 24.1200 - risk_loss: 24.1200 - risk_harrellsc: 0.5017 - val_loss: 96.7242 - val_risk_loss: 96.7242 - val_risk_harrellsc: 0.4731\n",
      "Epoch 25/100\n",
      "19/19 [==============================] - 0s 15ms/step - loss: 24.1167 - risk_loss: 24.1167 - risk_harrellsc: 0.4694 - val_loss: 96.5897 - val_risk_loss: 96.5897 - val_risk_harrellsc: 0.5409\n",
      "Epoch 26/100\n",
      "19/19 [==============================] - 0s 13ms/step - loss: 24.1135 - risk_loss: 24.1135 - risk_harrellsc: 0.4912 - val_loss: 96.4641 - val_risk_loss: 96.4641 - val_risk_harrellsc: 0.4770\n",
      "Epoch 27/100\n",
      "19/19 [==============================] - 0s 13ms/step - loss: 24.1104 - risk_loss: 24.1104 - risk_harrellsc: 0.5120 - val_loss: 96.3444 - val_risk_loss: 96.3444 - val_risk_harrellsc: 0.4798\n",
      "Epoch 28/100\n",
      "19/19 [==============================] - 0s 13ms/step - loss: 24.1075 - risk_loss: 24.1075 - risk_harrellsc: 0.5174 - val_loss: 96.2325 - val_risk_loss: 96.2325 - val_risk_harrellsc: 0.5775\n",
      "Epoch 29/100\n",
      "19/19 [==============================] - 0s 13ms/step - loss: 24.1047 - risk_loss: 24.1047 - risk_harrellsc: 0.5397 - val_loss: 96.1270 - val_risk_loss: 96.1270 - val_risk_harrellsc: 0.5144\n",
      "Epoch 30/100\n",
      "19/19 [==============================] - 0s 14ms/step - loss: 24.1021 - risk_loss: 24.1021 - risk_harrellsc: 0.5014 - val_loss: 96.0292 - val_risk_loss: 96.0292 - val_risk_harrellsc: 0.5156\n",
      "Epoch 31/100\n",
      "19/19 [==============================] - 0s 14ms/step - loss: 24.0995 - risk_loss: 24.0995 - risk_harrellsc: 0.4903 - val_loss: 95.9432 - val_risk_loss: 95.9432 - val_risk_harrellsc: 0.5008\n",
      "Epoch 32/100\n",
      "19/19 [==============================] - 0s 13ms/step - loss: 24.0971 - risk_loss: 24.0971 - risk_harrellsc: 0.4706 - val_loss: 95.8651 - val_risk_loss: 95.8651 - val_risk_harrellsc: 0.5140\n",
      "Epoch 33/100\n",
      "19/19 [==============================] - 0s 15ms/step - loss: 24.0949 - risk_loss: 24.0949 - risk_harrellsc: 0.5072 - val_loss: 95.7924 - val_risk_loss: 95.7924 - val_risk_harrellsc: 0.4599\n",
      "Epoch 34/100\n",
      "19/19 [==============================] - 0s 13ms/step - loss: 24.0926 - risk_loss: 24.0926 - risk_harrellsc: 0.4968 - val_loss: 95.7088 - val_risk_loss: 95.7088 - val_risk_harrellsc: 0.4591\n",
      "Epoch 35/100\n",
      "19/19 [==============================] - 0s 13ms/step - loss: 24.0903 - risk_loss: 24.0903 - risk_harrellsc: 0.4705 - val_loss: 95.6346 - val_risk_loss: 95.6346 - val_risk_harrellsc: 0.5292\n",
      "Epoch 36/100\n",
      "19/19 [==============================] - 0s 13ms/step - loss: 24.0881 - risk_loss: 24.0881 - risk_harrellsc: 0.4693 - val_loss: 95.5808 - val_risk_loss: 95.5808 - val_risk_harrellsc: 0.4136\n",
      "Epoch 37/100\n",
      "19/19 [==============================] - 0s 13ms/step - loss: 24.0860 - risk_loss: 24.0860 - risk_harrellsc: 0.4999 - val_loss: 95.5214 - val_risk_loss: 95.5214 - val_risk_harrellsc: 0.5304\n",
      "Epoch 38/100\n",
      "19/19 [==============================] - 0s 13ms/step - loss: 24.0839 - risk_loss: 24.0839 - risk_harrellsc: 0.5054 - val_loss: 95.4819 - val_risk_loss: 95.4819 - val_risk_harrellsc: 0.5222\n",
      "Epoch 39/100\n",
      "19/19 [==============================] - 0s 13ms/step - loss: 24.0819 - risk_loss: 24.0819 - risk_harrellsc: 0.4808 - val_loss: 95.4486 - val_risk_loss: 95.4486 - val_risk_harrellsc: 0.4926\n",
      "Epoch 40/100\n",
      "19/19 [==============================] - 0s 13ms/step - loss: 24.0799 - risk_loss: 24.0799 - risk_harrellsc: 0.4726 - val_loss: 95.4148 - val_risk_loss: 95.4148 - val_risk_harrellsc: 0.4245\n",
      "Epoch 41/100\n",
      "19/19 [==============================] - 0s 15ms/step - loss: 24.0780 - risk_loss: 24.0780 - risk_harrellsc: 0.5111 - val_loss: 95.3807 - val_risk_loss: 95.3807 - val_risk_harrellsc: 0.4743\n",
      "Epoch 42/100\n",
      "19/19 [==============================] - 0s 13ms/step - loss: 24.0760 - risk_loss: 24.0760 - risk_harrellsc: 0.5455 - val_loss: 95.3774 - val_risk_loss: 95.3774 - val_risk_harrellsc: 0.4424\n",
      "Epoch 43/100\n",
      "19/19 [==============================] - 0s 13ms/step - loss: 24.0740 - risk_loss: 24.0740 - risk_harrellsc: 0.5268 - val_loss: 95.3622 - val_risk_loss: 95.3622 - val_risk_harrellsc: 0.5993\n",
      "Epoch 44/100\n",
      "19/19 [==============================] - 0s 13ms/step - loss: 24.0721 - risk_loss: 24.0721 - risk_harrellsc: 0.5158 - val_loss: 95.3491 - val_risk_loss: 95.3491 - val_risk_harrellsc: 0.5066\n",
      "Epoch 45/100\n",
      "19/19 [==============================] - 0s 13ms/step - loss: 24.0702 - risk_loss: 24.0702 - risk_harrellsc: 0.5059 - val_loss: 95.4099 - val_risk_loss: 95.4099 - val_risk_harrellsc: 0.4202\n",
      "Epoch 46/100\n",
      "19/19 [==============================] - 0s 14ms/step - loss: 24.0684 - risk_loss: 24.0684 - risk_harrellsc: 0.4518 - val_loss: 95.5533 - val_risk_loss: 95.5533 - val_risk_harrellsc: 0.4077\n",
      "Epoch 47/100\n",
      "19/19 [==============================] - 0s 13ms/step - loss: 24.0681 - risk_loss: 24.0681 - risk_harrellsc: 0.5116 - val_loss: 95.5878 - val_risk_loss: 95.5878 - val_risk_harrellsc: 0.4704\n",
      "Epoch 48/100\n",
      "19/19 [==============================] - 0s 13ms/step - loss: 24.0662 - risk_loss: 24.0662 - risk_harrellsc: 0.4825 - val_loss: 95.5540 - val_risk_loss: 95.5540 - val_risk_harrellsc: 0.5280\n",
      "Epoch 49/100\n",
      "19/19 [==============================] - 0s 15ms/step - loss: 24.0650 - risk_loss: 24.0650 - risk_harrellsc: 0.4940 - val_loss: 95.6141 - val_risk_loss: 95.6141 - val_risk_harrellsc: 0.5907\n",
      "Epoch 50/100\n",
      "19/19 [==============================] - 0s 13ms/step - loss: 24.0632 - risk_loss: 24.0632 - risk_harrellsc: 0.4961 - val_loss: 95.6422 - val_risk_loss: 95.6422 - val_risk_harrellsc: 0.4579\n",
      "Epoch 51/100\n",
      "19/19 [==============================] - 0s 13ms/step - loss: 24.0620 - risk_loss: 24.0620 - risk_harrellsc: 0.5204 - val_loss: 95.8366 - val_risk_loss: 95.8366 - val_risk_harrellsc: 0.4116\n",
      "Epoch 52/100\n",
      "19/19 [==============================] - 0s 13ms/step - loss: 24.0618 - risk_loss: 24.0618 - risk_harrellsc: 0.5390 - val_loss: 96.0376 - val_risk_loss: 96.0376 - val_risk_harrellsc: 0.4868\n",
      "Epoch 53/100\n",
      "19/19 [==============================] - 0s 13ms/step - loss: 24.0591 - risk_loss: 24.0591 - risk_harrellsc: 0.4407 - val_loss: 96.0436 - val_risk_loss: 96.0436 - val_risk_harrellsc: 0.5066\n",
      "Epoch 54/100\n",
      "19/19 [==============================] - 0s 13ms/step - loss: 24.0577 - risk_loss: 24.0577 - risk_harrellsc: 0.4970 - val_loss: 96.1823 - val_risk_loss: 96.1823 - val_risk_harrellsc: 0.5156\n",
      "Epoch 55/100\n",
      "19/19 [==============================] - 0s 13ms/step - loss: 24.0565 - risk_loss: 24.0565 - risk_harrellsc: 0.5035 - val_loss: 96.3409 - val_risk_loss: 96.3409 - val_risk_harrellsc: 0.4377\n",
      "Epoch 56/100\n",
      "19/19 [==============================] - 0s 13ms/step - loss: 24.0548 - risk_loss: 24.0548 - risk_harrellsc: 0.4793 - val_loss: 96.3975 - val_risk_loss: 96.3975 - val_risk_harrellsc: 0.4618\n",
      "Epoch 57/100\n",
      "19/19 [==============================] - 0s 13ms/step - loss: 24.0533 - risk_loss: 24.0533 - risk_harrellsc: 0.4758 - val_loss: 96.4631 - val_risk_loss: 96.4631 - val_risk_harrellsc: 0.4611\n",
      "Epoch 58/100\n",
      "19/19 [==============================] - 0s 13ms/step - loss: 24.0519 - risk_loss: 24.0519 - risk_harrellsc: 0.4973 - val_loss: 96.6591 - val_risk_loss: 96.6591 - val_risk_harrellsc: 0.4435\n",
      "Epoch 59/100\n",
      "19/19 [==============================] - 0s 13ms/step - loss: 24.0501 - risk_loss: 24.0501 - risk_harrellsc: 0.4825 - val_loss: 96.7995 - val_risk_loss: 96.7995 - val_risk_harrellsc: 0.3583\n",
      "Epoch 60/100\n",
      "19/19 [==============================] - 0s 15ms/step - loss: 24.0481 - risk_loss: 24.0481 - risk_harrellsc: 0.4845 - val_loss: 97.0178 - val_risk_loss: 97.0178 - val_risk_harrellsc: 0.4509\n",
      "Epoch 61/100\n",
      "19/19 [==============================] - 0s 13ms/step - loss: 24.0469 - risk_loss: 24.0469 - risk_harrellsc: 0.5010 - val_loss: 97.1123 - val_risk_loss: 97.1123 - val_risk_harrellsc: 0.4322\n",
      "Epoch 62/100\n",
      "19/19 [==============================] - 0s 13ms/step - loss: 24.0451 - risk_loss: 24.0451 - risk_harrellsc: 0.5117 - val_loss: 97.2113 - val_risk_loss: 97.2113 - val_risk_harrellsc: 0.4151\n",
      "Epoch 63/100\n",
      "19/19 [==============================] - 0s 13ms/step - loss: 24.0440 - risk_loss: 24.0440 - risk_harrellsc: 0.4847 - val_loss: 97.3239 - val_risk_loss: 97.3239 - val_risk_harrellsc: 0.3847\n",
      "Epoch 64/100\n",
      "19/19 [==============================] - 0s 13ms/step - loss: 24.0421 - risk_loss: 24.0421 - risk_harrellsc: 0.4964 - val_loss: 97.4700 - val_risk_loss: 97.4700 - val_risk_harrellsc: 0.4661\n",
      "Epoch 65/100\n",
      "19/19 [==============================] - 0s 13ms/step - loss: 24.0410 - risk_loss: 24.0410 - risk_harrellsc: 0.4732 - val_loss: 97.5795 - val_risk_loss: 97.5795 - val_risk_harrellsc: 0.5374\n",
      "Epoch 66/100\n",
      "19/19 [==============================] - 0s 13ms/step - loss: 24.0394 - risk_loss: 24.0394 - risk_harrellsc: 0.5117 - val_loss: 97.7868 - val_risk_loss: 97.7868 - val_risk_harrellsc: 0.3832\n",
      "Epoch 67/100\n",
      "19/19 [==============================] - 0s 13ms/step - loss: 24.0385 - risk_loss: 24.0385 - risk_harrellsc: 0.4648 - val_loss: 97.9438 - val_risk_loss: 97.9438 - val_risk_harrellsc: 0.4023\n",
      "Epoch 68/100\n",
      "19/19 [==============================] - 0s 13ms/step - loss: 24.0354 - risk_loss: 24.0354 - risk_harrellsc: 0.5176 - val_loss: 98.1099 - val_risk_loss: 98.1099 - val_risk_harrellsc: 0.4661\n",
      "Epoch 69/100\n",
      "19/19 [==============================] - 0s 13ms/step - loss: 24.0351 - risk_loss: 24.0351 - risk_harrellsc: 0.4959 - val_loss: 98.2018 - val_risk_loss: 98.2018 - val_risk_harrellsc: 0.5732\n",
      "Epoch 70/100\n",
      "19/19 [==============================] - 0s 13ms/step - loss: 24.0331 - risk_loss: 24.0331 - risk_harrellsc: 0.4727 - val_loss: 98.2960 - val_risk_loss: 98.2960 - val_risk_harrellsc: 0.5424\n",
      "Epoch 71/100\n",
      "19/19 [==============================] - 0s 16ms/step - loss: 24.0323 - risk_loss: 24.0323 - risk_harrellsc: 0.5218 - val_loss: 98.3616 - val_risk_loss: 98.3616 - val_risk_harrellsc: 0.4969\n",
      "Epoch 72/100\n",
      "19/19 [==============================] - 0s 13ms/step - loss: 24.0308 - risk_loss: 24.0308 - risk_harrellsc: 0.4594 - val_loss: 98.4931 - val_risk_loss: 98.4931 - val_risk_harrellsc: 0.4174\n",
      "Epoch 73/100\n",
      "19/19 [==============================] - 0s 13ms/step - loss: 24.0302 - risk_loss: 24.0302 - risk_harrellsc: 0.4835 - val_loss: 98.5957 - val_risk_loss: 98.5957 - val_risk_harrellsc: 0.4973\n",
      "Epoch 74/100\n",
      "19/19 [==============================] - 0s 13ms/step - loss: 24.0284 - risk_loss: 24.0284 - risk_harrellsc: 0.5048 - val_loss: 98.6062 - val_risk_loss: 98.6062 - val_risk_harrellsc: 0.4085\n",
      "Epoch 75/100\n",
      "19/19 [==============================] - 0s 13ms/step - loss: 24.0279 - risk_loss: 24.0279 - risk_harrellsc: 0.5069 - val_loss: 98.6375 - val_risk_loss: 98.6375 - val_risk_harrellsc: 0.4903\n",
      "Epoch 76/100\n",
      "19/19 [==============================] - 0s 13ms/step - loss: 24.0263 - risk_loss: 24.0263 - risk_harrellsc: 0.5075 - val_loss: 98.7150 - val_risk_loss: 98.7150 - val_risk_harrellsc: 0.4299\n",
      "Epoch 77/100\n",
      "19/19 [==============================] - 0s 13ms/step - loss: 24.0250 - risk_loss: 24.0250 - risk_harrellsc: 0.5125 - val_loss: 98.9314 - val_risk_loss: 98.9314 - val_risk_harrellsc: 0.5269\n",
      "Epoch 78/100\n",
      "19/19 [==============================] - 0s 13ms/step - loss: 24.0233 - risk_loss: 24.0233 - risk_harrellsc: 0.5671 - val_loss: 99.0382 - val_risk_loss: 99.0382 - val_risk_harrellsc: 0.5062\n",
      "Epoch 79/100\n",
      "19/19 [==============================] - 0s 15ms/step - loss: 24.0219 - risk_loss: 24.0219 - risk_harrellsc: 0.4980 - val_loss: 99.1362 - val_risk_loss: 99.1362 - val_risk_harrellsc: 0.4326\n",
      "Epoch 80/100\n",
      "19/19 [==============================] - 0s 13ms/step - loss: 24.0198 - risk_loss: 24.0198 - risk_harrellsc: 0.5137 - val_loss: 99.2823 - val_risk_loss: 99.2823 - val_risk_harrellsc: 0.4739\n",
      "Epoch 81/100\n",
      "19/19 [==============================] - 0s 13ms/step - loss: 24.0182 - risk_loss: 24.0182 - risk_harrellsc: 0.4478 - val_loss: 99.4791 - val_risk_loss: 99.4791 - val_risk_harrellsc: 0.5070\n",
      "Epoch 82/100\n",
      "19/19 [==============================] - 0s 13ms/step - loss: 24.0154 - risk_loss: 24.0154 - risk_harrellsc: 0.5106 - val_loss: 99.6620 - val_risk_loss: 99.6620 - val_risk_harrellsc: 0.3715\n",
      "Epoch 83/100\n",
      "19/19 [==============================] - 0s 13ms/step - loss: 24.1132 - risk_loss: 24.1132 - risk_harrellsc: 0.4914 - val_loss: 99.3322 - val_risk_loss: 99.3322 - val_risk_harrellsc: 0.4809\n",
      "Epoch 84/100\n",
      "19/19 [==============================] - 0s 13ms/step - loss: 24.0561 - risk_loss: 24.0561 - risk_harrellsc: 0.5025 - val_loss: 99.2532 - val_risk_loss: 99.2532 - val_risk_harrellsc: 0.4868\n",
      "Epoch 85/100\n",
      "19/19 [==============================] - 0s 13ms/step - loss: 24.0438 - risk_loss: 24.0438 - risk_harrellsc: 0.5070 - val_loss: 99.0898 - val_risk_loss: 99.0898 - val_risk_harrellsc: 0.3695\n",
      "Epoch 86/100\n",
      "19/19 [==============================] - 0s 13ms/step - loss: 24.0402 - risk_loss: 24.0402 - risk_harrellsc: 0.5275 - val_loss: 99.1454 - val_risk_loss: 99.1454 - val_risk_harrellsc: 0.5350\n",
      "Epoch 87/100\n",
      "19/19 [==============================] - 0s 13ms/step - loss: 24.0254 - risk_loss: 24.0254 - risk_harrellsc: 0.4858 - val_loss: 99.2486 - val_risk_loss: 99.2486 - val_risk_harrellsc: 0.5814\n",
      "Epoch 88/100\n",
      "19/19 [==============================] - 0s 13ms/step - loss: 24.0229 - risk_loss: 24.0229 - risk_harrellsc: 0.4629 - val_loss: 99.3744 - val_risk_loss: 99.3744 - val_risk_harrellsc: 0.4155\n",
      "Epoch 89/100\n",
      "19/19 [==============================] - 0s 15ms/step - loss: 24.0206 - risk_loss: 24.0206 - risk_harrellsc: 0.5091 - val_loss: 99.5202 - val_risk_loss: 99.5202 - val_risk_harrellsc: 0.4404\n",
      "Epoch 90/100\n",
      "19/19 [==============================] - 0s 13ms/step - loss: 24.0192 - risk_loss: 24.0192 - risk_harrellsc: 0.5047 - val_loss: 99.5740 - val_risk_loss: 99.5740 - val_risk_harrellsc: 0.4657\n",
      "Epoch 91/100\n",
      "19/19 [==============================] - 0s 13ms/step - loss: 24.0184 - risk_loss: 24.0184 - risk_harrellsc: 0.5177 - val_loss: 99.6544 - val_risk_loss: 99.6544 - val_risk_harrellsc: 0.5487\n",
      "Epoch 92/100\n",
      "19/19 [==============================] - 0s 13ms/step - loss: 24.0164 - risk_loss: 24.0164 - risk_harrellsc: 0.5452 - val_loss: 99.9717 - val_risk_loss: 99.9717 - val_risk_harrellsc: 0.3914\n",
      "Epoch 93/100\n",
      "19/19 [==============================] - 0s 14ms/step - loss: 24.0418 - risk_loss: 24.0418 - risk_harrellsc: 0.4914 - val_loss: 99.9605 - val_risk_loss: 99.9605 - val_risk_harrellsc: 0.4042\n",
      "Epoch 94/100\n",
      "19/19 [==============================] - 0s 13ms/step - loss: 24.0349 - risk_loss: 24.0349 - risk_harrellsc: 0.5057 - val_loss: 100.0133 - val_risk_loss: 100.0133 - val_risk_harrellsc: 0.4653\n",
      "Epoch 95/100\n",
      "19/19 [==============================] - 0s 13ms/step - loss: 24.0303 - risk_loss: 24.0303 - risk_harrellsc: 0.4956 - val_loss: 100.0834 - val_risk_loss: 100.0834 - val_risk_harrellsc: 0.5269\n",
      "Epoch 96/100\n",
      "19/19 [==============================] - 0s 13ms/step - loss: 24.0176 - risk_loss: 24.0176 - risk_harrellsc: 0.5100 - val_loss: 100.2234 - val_risk_loss: 100.2234 - val_risk_harrellsc: 0.5086\n",
      "Epoch 97/100\n",
      "19/19 [==============================] - 0s 14ms/step - loss: 24.0281 - risk_loss: 24.0281 - risk_harrellsc: 0.5142 - val_loss: 100.1053 - val_risk_loss: 100.1053 - val_risk_harrellsc: 0.4474\n",
      "Epoch 98/100\n",
      "19/19 [==============================] - 0s 14ms/step - loss: 24.0271 - risk_loss: 24.0271 - risk_harrellsc: 0.5456 - val_loss: 100.3346 - val_risk_loss: 100.3346 - val_risk_harrellsc: 0.4237\n",
      "Epoch 99/100\n",
      "19/19 [==============================] - 0s 13ms/step - loss: 24.0264 - risk_loss: 24.0264 - risk_harrellsc: 0.4750 - val_loss: 100.5030 - val_risk_loss: 100.5030 - val_risk_harrellsc: 0.3980\n",
      "Epoch 100/100\n",
      "19/19 [==============================] - 0s 13ms/step - loss: 24.0239 - risk_loss: 24.0239 - risk_harrellsc: 0.4877 - val_loss: 100.5478 - val_risk_loss: 100.5478 - val_risk_harrellsc: 0.4139\n"
     ]
    },
    {
     "data": {
      "application/vnd.plotly.v1+json": {
       "config": {
        "plotlyServerURL": "https://plot.ly"
       },
       "data": [
        {
         "mode": "lines",
         "name": "Train Loss",
         "type": "scatter",
         "x": [
          1,
          2,
          3,
          4,
          5,
          6,
          7,
          8,
          9,
          10,
          11,
          12,
          13,
          14,
          15,
          16,
          17,
          18,
          19,
          20,
          21,
          22,
          23,
          24,
          25,
          26,
          27,
          28,
          29,
          30,
          31,
          32,
          33,
          34,
          35,
          36,
          37,
          38,
          39,
          40,
          41,
          42,
          43,
          44,
          45,
          46,
          47,
          48,
          49,
          50,
          51,
          52,
          53,
          54,
          55,
          56,
          57,
          58,
          59,
          60,
          61,
          62,
          63,
          64,
          65,
          66,
          67,
          68,
          69,
          70,
          71,
          72,
          73,
          74,
          75,
          76,
          77,
          78,
          79,
          80,
          81,
          82,
          83,
          84,
          85,
          86,
          87,
          88,
          89,
          90,
          91,
          92,
          93,
          94,
          95,
          96,
          97,
          98,
          99,
          100
         ],
         "xaxis": "x",
         "y": [
          29.665969848632812,
          28.17896842956543,
          27.1429386138916,
          26.16963768005371,
          25.33221435546875,
          24.90250587463379,
          24.782764434814453,
          24.386871337890625,
          24.364347457885742,
          24.655452728271484,
          24.591718673706055,
          24.2537784576416,
          24.227567672729492,
          24.201698303222656,
          24.177141189575195,
          24.154178619384766,
          24.14417839050293,
          24.141185760498047,
          24.138254165649414,
          24.135042190551758,
          24.13184928894043,
          24.12873649597168,
          24.123485565185547,
          24.120033264160156,
          24.116682052612305,
          24.11346435546875,
          24.110393524169922,
          24.107463836669922,
          24.104684829711914,
          24.102052688598633,
          24.09953498840332,
          24.097139358520508,
          24.094858169555664,
          24.092615127563477,
          24.090335845947266,
          24.088130950927734,
          24.086002349853516,
          24.083913803100586,
          24.081892013549805,
          24.079919815063477,
          24.077974319458008,
          24.07600212097168,
          24.074024200439453,
          24.072063446044922,
          24.07022476196289,
          24.068431854248047,
          24.068130493164062,
          24.06615447998047,
          24.064985275268555,
          24.063156127929688,
          24.0620174407959,
          24.06178855895996,
          24.059106826782227,
          24.057727813720703,
          24.05649185180664,
          24.054752349853516,
          24.053302764892578,
          24.051860809326172,
          24.050132751464844,
          24.04814910888672,
          24.046855926513672,
          24.04513931274414,
          24.043987274169922,
          24.042072296142578,
          24.041006088256836,
          24.039365768432617,
          24.03848648071289,
          24.035402297973633,
          24.03508186340332,
          24.033056259155273,
          24.03229331970215,
          24.030771255493164,
          24.03022003173828,
          24.028352737426758,
          24.02787208557129,
          24.02627944946289,
          24.025039672851562,
          24.02326774597168,
          24.02192497253418,
          24.019771575927734,
          24.018159866333008,
          24.015363693237305,
          24.113189697265625,
          24.05608367919922,
          24.043779373168945,
          24.04020118713379,
          24.025436401367188,
          24.022930145263672,
          24.02059555053711,
          24.01921844482422,
          24.018388748168945,
          24.016416549682617,
          24.041763305664062,
          24.03488540649414,
          24.030263900756836,
          24.017576217651367,
          24.028060913085938,
          24.0270938873291,
          24.026365280151367,
          24.023887634277344
         ],
         "yaxis": "y"
        },
        {
         "mode": "lines",
         "name": "Validation Loss",
         "type": "scatter",
         "x": [
          1,
          2,
          3,
          4,
          5,
          6,
          7,
          8,
          9,
          10,
          11,
          12,
          13,
          14,
          15,
          16,
          17,
          18,
          19,
          20,
          21,
          22,
          23,
          24,
          25,
          26,
          27,
          28,
          29,
          30,
          31,
          32,
          33,
          34,
          35,
          36,
          37,
          38,
          39,
          40,
          41,
          42,
          43,
          44,
          45,
          46,
          47,
          48,
          49,
          50,
          51,
          52,
          53,
          54,
          55,
          56,
          57,
          58,
          59,
          60,
          61,
          62,
          63,
          64,
          65,
          66,
          67,
          68,
          69,
          70,
          71,
          72,
          73,
          74,
          75,
          76,
          77,
          78,
          79,
          80,
          81,
          82,
          83,
          84,
          85,
          86,
          87,
          88,
          89,
          90,
          91,
          92,
          93,
          94,
          95,
          96,
          97,
          98,
          99,
          100
         ],
         "xaxis": "x",
         "y": [
          134.52658081054688,
          126.74109649658203,
          119.02467346191406,
          112.39071655273438,
          106.95458984375,
          104.38047790527344,
          102.82758331298828,
          102.19866180419922,
          102.39247131347656,
          101.54882049560547,
          100.67035675048828,
          99.92483520507812,
          99.33562469482422,
          98.8881607055664,
          98.46337127685547,
          98.0660171508789,
          97.9032211303711,
          97.74301147460938,
          97.57250213623047,
          97.37687683105469,
          97.1941146850586,
          97.02476501464844,
          96.86750030517578,
          96.7242431640625,
          96.58966827392578,
          96.46410369873047,
          96.34444427490234,
          96.23248291015625,
          96.12699890136719,
          96.02921295166016,
          95.94319915771484,
          95.8651123046875,
          95.79236602783203,
          95.70882415771484,
          95.6346206665039,
          95.58084869384766,
          95.52137756347656,
          95.48186492919922,
          95.44859313964844,
          95.414794921875,
          95.38068389892578,
          95.37744140625,
          95.36215209960938,
          95.34906005859375,
          95.40992736816406,
          95.55331420898438,
          95.58782196044922,
          95.55403137207031,
          95.61405944824219,
          95.64220428466797,
          95.83657836914062,
          96.03758239746094,
          96.0436019897461,
          96.18234252929688,
          96.34092712402344,
          96.39754486083984,
          96.46305084228516,
          96.6590576171875,
          96.79945373535156,
          97.01776885986328,
          97.11228942871094,
          97.21125030517578,
          97.32386779785156,
          97.46998596191406,
          97.57952117919922,
          97.78680419921875,
          97.94380187988281,
          98.10990142822266,
          98.20177459716797,
          98.29602813720703,
          98.36162567138672,
          98.49313354492188,
          98.59565734863281,
          98.60618591308594,
          98.63752746582031,
          98.71504974365234,
          98.93138122558594,
          99.0382080078125,
          99.13616180419922,
          99.2823486328125,
          99.4791259765625,
          99.66201782226562,
          99.33220672607422,
          99.25321960449219,
          99.08978271484375,
          99.14543914794922,
          99.24855041503906,
          99.37437438964844,
          99.52015686035156,
          99.57401275634766,
          99.65438842773438,
          99.9716796875,
          99.96053314208984,
          100.01326751708984,
          100.08344268798828,
          100.22342681884766,
          100.10530853271484,
          100.33462524414062,
          100.50304412841797,
          100.54779052734375
         ],
         "yaxis": "y"
        },
        {
         "mode": "lines",
         "name": "Train Harrell's C",
         "type": "scatter",
         "x": [
          1,
          2,
          3,
          4,
          5,
          6,
          7,
          8,
          9,
          10,
          11,
          12,
          13,
          14,
          15,
          16,
          17,
          18,
          19,
          20,
          21,
          22,
          23,
          24,
          25,
          26,
          27,
          28,
          29,
          30,
          31,
          32,
          33,
          34,
          35,
          36,
          37,
          38,
          39,
          40,
          41,
          42,
          43,
          44,
          45,
          46,
          47,
          48,
          49,
          50,
          51,
          52,
          53,
          54,
          55,
          56,
          57,
          58,
          59,
          60,
          61,
          62,
          63,
          64,
          65,
          66,
          67,
          68,
          69,
          70,
          71,
          72,
          73,
          74,
          75,
          76,
          77,
          78,
          79,
          80,
          81,
          82,
          83,
          84,
          85,
          86,
          87,
          88,
          89,
          90,
          91,
          92,
          93,
          94,
          95,
          96,
          97,
          98,
          99,
          100
         ],
         "xaxis": "x2",
         "y": [
          0.47618636755823984,
          0.5415012942191545,
          0.4997411561691113,
          0.4474547023295945,
          0.45737704918032784,
          0.4967213114754098,
          0.45090595340811046,
          0.502588438308887,
          0.5006039689387403,
          0.46151855047454704,
          0.46919758412424506,
          0.5626402070750647,
          0.48895599654874894,
          0.46660914581535806,
          0.5130284728213977,
          0.5044866264020708,
          0.46962899050905954,
          0.5284728213977566,
          0.5069887834339948,
          0.5069887834339948,
          0.5135461604831751,
          0.4873166522864538,
          0.4755823986194996,
          0.501725625539258,
          0.46937014667817084,
          0.4911993097497843,
          0.5119930974978429,
          0.5174288179465056,
          0.5396893874029336,
          0.5013805004314064,
          0.4902502157031924,
          0.4705780845556514,
          0.5071613459879206,
          0.49680759275237274,
          0.4704918032786885,
          0.4692838654012079,
          0.4999137187230371,
          0.5054357204486626,
          0.4807592752372735,
          0.4725625539257981,
          0.511130284728214,
          0.5454702329594479,
          0.5268334771354616,
          0.5157894736842106,
          0.5058671268334771,
          0.4517687661777394,
          0.5116479723899914,
          0.4824849007765315,
          0.49404659188955996,
          0.49611734253666956,
          0.5203623813632442,
          0.5389991371872304,
          0.44072476272648836,
          0.4969801553062985,
          0.5035375323554788,
          0.47929249352890424,
          0.4758412424503883,
          0.49732528041415014,
          0.4824849007765315,
          0.4844693701466782,
          0.5010353753235548,
          0.5117342536669542,
          0.4847282139775669,
          0.49637618636755826,
          0.4731665228645384,
          0.5117342536669542,
          0.46479723899913716,
          0.5176013805004314,
          0.4959447799827437,
          0.4727351164797239,
          0.5218291630716134,
          0.4593615185504745,
          0.4835202761000863,
          0.5048317515099223,
          0.5069025021570319,
          0.5075064710957722,
          0.5125107851596203,
          0.5671268334771354,
          0.4980155306298533,
          0.513718723037101,
          0.44779982743744606,
          0.5106125970664366,
          0.4913718723037101,
          0.502502157031924,
          0.5069887834339948,
          0.5275237273511648,
          0.4857635893011217,
          0.4628990509059534,
          0.5090595340811044,
          0.5047454702329595,
          0.5176876617773943,
          0.5452113891285592,
          0.4913718723037101,
          0.5056945642795513,
          0.49559965487489216,
          0.5100086281276963,
          0.5141501294219154,
          0.5455565142364107,
          0.47497842968075926,
          0.48774805867126836
         ],
         "yaxis": "y2"
        },
        {
         "mode": "lines",
         "name": "Validation Harrell's C",
         "type": "scatter",
         "x": [
          1,
          2,
          3,
          4,
          5,
          6,
          7,
          8,
          9,
          10,
          11,
          12,
          13,
          14,
          15,
          16,
          17,
          18,
          19,
          20,
          21,
          22,
          23,
          24,
          25,
          26,
          27,
          28,
          29,
          30,
          31,
          32,
          33,
          34,
          35,
          36,
          37,
          38,
          39,
          40,
          41,
          42,
          43,
          44,
          45,
          46,
          47,
          48,
          49,
          50,
          51,
          52,
          53,
          54,
          55,
          56,
          57,
          58,
          59,
          60,
          61,
          62,
          63,
          64,
          65,
          66,
          67,
          68,
          69,
          70,
          71,
          72,
          73,
          74,
          75,
          76,
          77,
          78,
          79,
          80,
          81,
          82,
          83,
          84,
          85,
          86,
          87,
          88,
          89,
          90,
          91,
          92,
          93,
          94,
          95,
          96,
          97,
          98,
          99,
          100
         ],
         "xaxis": "x2",
         "y": [
          0.5019470404984424,
          0.48052959501557635,
          0.5210280373831776,
          0.49338006230529596,
          0.5584112149532711,
          0.4863707165109034,
          0.4961059190031153,
          0.44665109034267914,
          0.44898753894080995,
          0.49065420560747663,
          0.4326323987538941,
          0.5260903426791277,
          0.6238317757009346,
          0.5537383177570093,
          0.47390965732087226,
          0.4287383177570093,
          0.4976635514018692,
          0.4135514018691589,
          0.4957165109034268,
          0.6304517133956387,
          0.45482866043613707,
          0.46417445482866043,
          0.5050623052959502,
          0.47313084112149534,
          0.5408878504672897,
          0.47702492211838005,
          0.4797507788161994,
          0.5774922118380063,
          0.5144080996884736,
          0.5155763239875389,
          0.5007788161993769,
          0.514018691588785,
          0.4598909657320872,
          0.4591121495327103,
          0.5292056074766355,
          0.4135514018691589,
          0.530373831775701,
          0.522196261682243,
          0.492601246105919,
          0.42445482866043616,
          0.4742990654205608,
          0.4423676012461059,
          0.5992990654205608,
          0.506619937694704,
          0.42017133956386293,
          0.4077102803738318,
          0.470404984423676,
          0.5280373831775701,
          0.5907320872274143,
          0.45794392523364486,
          0.41160436137071654,
          0.4867601246105919,
          0.506619937694704,
          0.5155763239875389,
          0.43769470404984423,
          0.4618380062305296,
          0.46105919003115264,
          0.44353582554517135,
          0.3582554517133957,
          0.45093457943925236,
          0.4322429906542056,
          0.4151090342679128,
          0.3847352024922118,
          0.4661214953271028,
          0.5373831775700935,
          0.38317757009345793,
          0.4022585669781932,
          0.4661214953271028,
          0.573208722741433,
          0.5424454828660437,
          0.4968847352024922,
          0.4174454828660436,
          0.49727414330218067,
          0.40848909657320875,
          0.4902647975077882,
          0.42990654205607476,
          0.5268691588785047,
          0.5062305295950156,
          0.4326323987538941,
          0.47390965732087226,
          0.5070093457943925,
          0.37149532710280375,
          0.4809190031152648,
          0.4867601246105919,
          0.36954828660436134,
          0.5350467289719626,
          0.581386292834891,
          0.41549844236760125,
          0.44042056074766356,
          0.4657320872274143,
          0.5486760124610592,
          0.39135514018691586,
          0.40420560747663553,
          0.46534267912772587,
          0.5268691588785047,
          0.5085669781931464,
          0.44742990654205606,
          0.4236760124610592,
          0.39797507788161995,
          0.41394080996884736
         ],
         "yaxis": "y2"
        }
       ],
       "layout": {
        "annotations": [
         {
          "font": {
           "size": 16
          },
          "showarrow": false,
          "text": "Loss",
          "x": 0.225,
          "xanchor": "center",
          "xref": "paper",
          "y": 1,
          "yanchor": "bottom",
          "yref": "paper"
         },
         {
          "font": {
           "size": 16
          },
          "showarrow": false,
          "text": "Harrell's C",
          "x": 0.775,
          "xanchor": "center",
          "xref": "paper",
          "y": 1,
          "yanchor": "bottom",
          "yref": "paper"
         }
        ],
        "template": {
         "data": {
          "bar": [
           {
            "error_x": {
             "color": "#2a3f5f"
            },
            "error_y": {
             "color": "#2a3f5f"
            },
            "marker": {
             "line": {
              "color": "#E5ECF6",
              "width": 0.5
             },
             "pattern": {
              "fillmode": "overlay",
              "size": 10,
              "solidity": 0.2
             }
            },
            "type": "bar"
           }
          ],
          "barpolar": [
           {
            "marker": {
             "line": {
              "color": "#E5ECF6",
              "width": 0.5
             },
             "pattern": {
              "fillmode": "overlay",
              "size": 10,
              "solidity": 0.2
             }
            },
            "type": "barpolar"
           }
          ],
          "carpet": [
           {
            "aaxis": {
             "endlinecolor": "#2a3f5f",
             "gridcolor": "white",
             "linecolor": "white",
             "minorgridcolor": "white",
             "startlinecolor": "#2a3f5f"
            },
            "baxis": {
             "endlinecolor": "#2a3f5f",
             "gridcolor": "white",
             "linecolor": "white",
             "minorgridcolor": "white",
             "startlinecolor": "#2a3f5f"
            },
            "type": "carpet"
           }
          ],
          "choropleth": [
           {
            "colorbar": {
             "outlinewidth": 0,
             "ticks": ""
            },
            "type": "choropleth"
           }
          ],
          "contour": [
           {
            "colorbar": {
             "outlinewidth": 0,
             "ticks": ""
            },
            "colorscale": [
             [
              0,
              "#0d0887"
             ],
             [
              0.1111111111111111,
              "#46039f"
             ],
             [
              0.2222222222222222,
              "#7201a8"
             ],
             [
              0.3333333333333333,
              "#9c179e"
             ],
             [
              0.4444444444444444,
              "#bd3786"
             ],
             [
              0.5555555555555556,
              "#d8576b"
             ],
             [
              0.6666666666666666,
              "#ed7953"
             ],
             [
              0.7777777777777778,
              "#fb9f3a"
             ],
             [
              0.8888888888888888,
              "#fdca26"
             ],
             [
              1,
              "#f0f921"
             ]
            ],
            "type": "contour"
           }
          ],
          "contourcarpet": [
           {
            "colorbar": {
             "outlinewidth": 0,
             "ticks": ""
            },
            "type": "contourcarpet"
           }
          ],
          "heatmap": [
           {
            "colorbar": {
             "outlinewidth": 0,
             "ticks": ""
            },
            "colorscale": [
             [
              0,
              "#0d0887"
             ],
             [
              0.1111111111111111,
              "#46039f"
             ],
             [
              0.2222222222222222,
              "#7201a8"
             ],
             [
              0.3333333333333333,
              "#9c179e"
             ],
             [
              0.4444444444444444,
              "#bd3786"
             ],
             [
              0.5555555555555556,
              "#d8576b"
             ],
             [
              0.6666666666666666,
              "#ed7953"
             ],
             [
              0.7777777777777778,
              "#fb9f3a"
             ],
             [
              0.8888888888888888,
              "#fdca26"
             ],
             [
              1,
              "#f0f921"
             ]
            ],
            "type": "heatmap"
           }
          ],
          "heatmapgl": [
           {
            "colorbar": {
             "outlinewidth": 0,
             "ticks": ""
            },
            "colorscale": [
             [
              0,
              "#0d0887"
             ],
             [
              0.1111111111111111,
              "#46039f"
             ],
             [
              0.2222222222222222,
              "#7201a8"
             ],
             [
              0.3333333333333333,
              "#9c179e"
             ],
             [
              0.4444444444444444,
              "#bd3786"
             ],
             [
              0.5555555555555556,
              "#d8576b"
             ],
             [
              0.6666666666666666,
              "#ed7953"
             ],
             [
              0.7777777777777778,
              "#fb9f3a"
             ],
             [
              0.8888888888888888,
              "#fdca26"
             ],
             [
              1,
              "#f0f921"
             ]
            ],
            "type": "heatmapgl"
           }
          ],
          "histogram": [
           {
            "marker": {
             "pattern": {
              "fillmode": "overlay",
              "size": 10,
              "solidity": 0.2
             }
            },
            "type": "histogram"
           }
          ],
          "histogram2d": [
           {
            "colorbar": {
             "outlinewidth": 0,
             "ticks": ""
            },
            "colorscale": [
             [
              0,
              "#0d0887"
             ],
             [
              0.1111111111111111,
              "#46039f"
             ],
             [
              0.2222222222222222,
              "#7201a8"
             ],
             [
              0.3333333333333333,
              "#9c179e"
             ],
             [
              0.4444444444444444,
              "#bd3786"
             ],
             [
              0.5555555555555556,
              "#d8576b"
             ],
             [
              0.6666666666666666,
              "#ed7953"
             ],
             [
              0.7777777777777778,
              "#fb9f3a"
             ],
             [
              0.8888888888888888,
              "#fdca26"
             ],
             [
              1,
              "#f0f921"
             ]
            ],
            "type": "histogram2d"
           }
          ],
          "histogram2dcontour": [
           {
            "colorbar": {
             "outlinewidth": 0,
             "ticks": ""
            },
            "colorscale": [
             [
              0,
              "#0d0887"
             ],
             [
              0.1111111111111111,
              "#46039f"
             ],
             [
              0.2222222222222222,
              "#7201a8"
             ],
             [
              0.3333333333333333,
              "#9c179e"
             ],
             [
              0.4444444444444444,
              "#bd3786"
             ],
             [
              0.5555555555555556,
              "#d8576b"
             ],
             [
              0.6666666666666666,
              "#ed7953"
             ],
             [
              0.7777777777777778,
              "#fb9f3a"
             ],
             [
              0.8888888888888888,
              "#fdca26"
             ],
             [
              1,
              "#f0f921"
             ]
            ],
            "type": "histogram2dcontour"
           }
          ],
          "mesh3d": [
           {
            "colorbar": {
             "outlinewidth": 0,
             "ticks": ""
            },
            "type": "mesh3d"
           }
          ],
          "parcoords": [
           {
            "line": {
             "colorbar": {
              "outlinewidth": 0,
              "ticks": ""
             }
            },
            "type": "parcoords"
           }
          ],
          "pie": [
           {
            "automargin": true,
            "type": "pie"
           }
          ],
          "scatter": [
           {
            "fillpattern": {
             "fillmode": "overlay",
             "size": 10,
             "solidity": 0.2
            },
            "type": "scatter"
           }
          ],
          "scatter3d": [
           {
            "line": {
             "colorbar": {
              "outlinewidth": 0,
              "ticks": ""
             }
            },
            "marker": {
             "colorbar": {
              "outlinewidth": 0,
              "ticks": ""
             }
            },
            "type": "scatter3d"
           }
          ],
          "scattercarpet": [
           {
            "marker": {
             "colorbar": {
              "outlinewidth": 0,
              "ticks": ""
             }
            },
            "type": "scattercarpet"
           }
          ],
          "scattergeo": [
           {
            "marker": {
             "colorbar": {
              "outlinewidth": 0,
              "ticks": ""
             }
            },
            "type": "scattergeo"
           }
          ],
          "scattergl": [
           {
            "marker": {
             "colorbar": {
              "outlinewidth": 0,
              "ticks": ""
             }
            },
            "type": "scattergl"
           }
          ],
          "scattermapbox": [
           {
            "marker": {
             "colorbar": {
              "outlinewidth": 0,
              "ticks": ""
             }
            },
            "type": "scattermapbox"
           }
          ],
          "scatterpolar": [
           {
            "marker": {
             "colorbar": {
              "outlinewidth": 0,
              "ticks": ""
             }
            },
            "type": "scatterpolar"
           }
          ],
          "scatterpolargl": [
           {
            "marker": {
             "colorbar": {
              "outlinewidth": 0,
              "ticks": ""
             }
            },
            "type": "scatterpolargl"
           }
          ],
          "scatterternary": [
           {
            "marker": {
             "colorbar": {
              "outlinewidth": 0,
              "ticks": ""
             }
            },
            "type": "scatterternary"
           }
          ],
          "surface": [
           {
            "colorbar": {
             "outlinewidth": 0,
             "ticks": ""
            },
            "colorscale": [
             [
              0,
              "#0d0887"
             ],
             [
              0.1111111111111111,
              "#46039f"
             ],
             [
              0.2222222222222222,
              "#7201a8"
             ],
             [
              0.3333333333333333,
              "#9c179e"
             ],
             [
              0.4444444444444444,
              "#bd3786"
             ],
             [
              0.5555555555555556,
              "#d8576b"
             ],
             [
              0.6666666666666666,
              "#ed7953"
             ],
             [
              0.7777777777777778,
              "#fb9f3a"
             ],
             [
              0.8888888888888888,
              "#fdca26"
             ],
             [
              1,
              "#f0f921"
             ]
            ],
            "type": "surface"
           }
          ],
          "table": [
           {
            "cells": {
             "fill": {
              "color": "#EBF0F8"
             },
             "line": {
              "color": "white"
             }
            },
            "header": {
             "fill": {
              "color": "#C8D4E3"
             },
             "line": {
              "color": "white"
             }
            },
            "type": "table"
           }
          ]
         },
         "layout": {
          "annotationdefaults": {
           "arrowcolor": "#2a3f5f",
           "arrowhead": 0,
           "arrowwidth": 1
          },
          "autotypenumbers": "strict",
          "coloraxis": {
           "colorbar": {
            "outlinewidth": 0,
            "ticks": ""
           }
          },
          "colorscale": {
           "diverging": [
            [
             0,
             "#8e0152"
            ],
            [
             0.1,
             "#c51b7d"
            ],
            [
             0.2,
             "#de77ae"
            ],
            [
             0.3,
             "#f1b6da"
            ],
            [
             0.4,
             "#fde0ef"
            ],
            [
             0.5,
             "#f7f7f7"
            ],
            [
             0.6,
             "#e6f5d0"
            ],
            [
             0.7,
             "#b8e186"
            ],
            [
             0.8,
             "#7fbc41"
            ],
            [
             0.9,
             "#4d9221"
            ],
            [
             1,
             "#276419"
            ]
           ],
           "sequential": [
            [
             0,
             "#0d0887"
            ],
            [
             0.1111111111111111,
             "#46039f"
            ],
            [
             0.2222222222222222,
             "#7201a8"
            ],
            [
             0.3333333333333333,
             "#9c179e"
            ],
            [
             0.4444444444444444,
             "#bd3786"
            ],
            [
             0.5555555555555556,
             "#d8576b"
            ],
            [
             0.6666666666666666,
             "#ed7953"
            ],
            [
             0.7777777777777778,
             "#fb9f3a"
            ],
            [
             0.8888888888888888,
             "#fdca26"
            ],
            [
             1,
             "#f0f921"
            ]
           ],
           "sequentialminus": [
            [
             0,
             "#0d0887"
            ],
            [
             0.1111111111111111,
             "#46039f"
            ],
            [
             0.2222222222222222,
             "#7201a8"
            ],
            [
             0.3333333333333333,
             "#9c179e"
            ],
            [
             0.4444444444444444,
             "#bd3786"
            ],
            [
             0.5555555555555556,
             "#d8576b"
            ],
            [
             0.6666666666666666,
             "#ed7953"
            ],
            [
             0.7777777777777778,
             "#fb9f3a"
            ],
            [
             0.8888888888888888,
             "#fdca26"
            ],
            [
             1,
             "#f0f921"
            ]
           ]
          },
          "colorway": [
           "#636efa",
           "#EF553B",
           "#00cc96",
           "#ab63fa",
           "#FFA15A",
           "#19d3f3",
           "#FF6692",
           "#B6E880",
           "#FF97FF",
           "#FECB52"
          ],
          "font": {
           "color": "#2a3f5f"
          },
          "geo": {
           "bgcolor": "white",
           "lakecolor": "white",
           "landcolor": "#E5ECF6",
           "showlakes": true,
           "showland": true,
           "subunitcolor": "white"
          },
          "hoverlabel": {
           "align": "left"
          },
          "hovermode": "closest",
          "mapbox": {
           "style": "light"
          },
          "paper_bgcolor": "white",
          "plot_bgcolor": "#E5ECF6",
          "polar": {
           "angularaxis": {
            "gridcolor": "white",
            "linecolor": "white",
            "ticks": ""
           },
           "bgcolor": "#E5ECF6",
           "radialaxis": {
            "gridcolor": "white",
            "linecolor": "white",
            "ticks": ""
           }
          },
          "scene": {
           "xaxis": {
            "backgroundcolor": "#E5ECF6",
            "gridcolor": "white",
            "gridwidth": 2,
            "linecolor": "white",
            "showbackground": true,
            "ticks": "",
            "zerolinecolor": "white"
           },
           "yaxis": {
            "backgroundcolor": "#E5ECF6",
            "gridcolor": "white",
            "gridwidth": 2,
            "linecolor": "white",
            "showbackground": true,
            "ticks": "",
            "zerolinecolor": "white"
           },
           "zaxis": {
            "backgroundcolor": "#E5ECF6",
            "gridcolor": "white",
            "gridwidth": 2,
            "linecolor": "white",
            "showbackground": true,
            "ticks": "",
            "zerolinecolor": "white"
           }
          },
          "shapedefaults": {
           "line": {
            "color": "#2a3f5f"
           }
          },
          "ternary": {
           "aaxis": {
            "gridcolor": "white",
            "linecolor": "white",
            "ticks": ""
           },
           "baxis": {
            "gridcolor": "white",
            "linecolor": "white",
            "ticks": ""
           },
           "bgcolor": "#E5ECF6",
           "caxis": {
            "gridcolor": "white",
            "linecolor": "white",
            "ticks": ""
           }
          },
          "title": {
           "x": 0.05
          },
          "xaxis": {
           "automargin": true,
           "gridcolor": "white",
           "linecolor": "white",
           "ticks": "",
           "title": {
            "standoff": 15
           },
           "zerolinecolor": "white",
           "zerolinewidth": 2
          },
          "yaxis": {
           "automargin": true,
           "gridcolor": "white",
           "linecolor": "white",
           "ticks": "",
           "title": {
            "standoff": 15
           },
           "zerolinecolor": "white",
           "zerolinewidth": 2
          }
         }
        },
        "title": {
         "text": "model_att Fold 2 Training Metrics"
        },
        "xaxis": {
         "anchor": "y",
         "domain": [
          0,
          0.45
         ],
         "title": {
          "text": "Epoch"
         }
        },
        "xaxis2": {
         "anchor": "y2",
         "domain": [
          0.55,
          1
         ],
         "title": {
          "text": "Epoch"
         }
        },
        "yaxis": {
         "anchor": "x",
         "domain": [
          0,
          1
         ],
         "title": {
          "text": "Loss"
         }
        },
        "yaxis2": {
         "anchor": "x2",
         "domain": [
          0,
          1
         ],
         "title": {
          "text": "Harrell's C"
         }
        }
       }
      }
     },
     "metadata": {},
     "output_type": "display_data"
    },
    {
     "name": "stdout",
     "output_type": "stream",
     "text": [
      "Fold 3/5\n",
      "The input shape of model is: (None, None, 49)\n",
      "The output shape of model is: [(1, 1), (None, None, 1)]\n",
      "Epoch 1/100\n"
     ]
    },
    {
     "name": "stderr",
     "output_type": "stream",
     "text": [
      "/opt/anaconda3/envs/mil/lib/python3.8/site-packages/tensorflow/python/framework/indexed_slices.py:448: UserWarning:\n",
      "\n",
      "Converting sparse IndexedSlices(IndexedSlices(indices=Tensor(\"gradient_tape/model_2/input.to_tensor_2/RaggedToTensor/boolean_mask_1/GatherV2:0\", shape=(None,), dtype=int32), values=Tensor(\"gradient_tape/model_2/input.to_tensor_2/RaggedToTensor/boolean_mask/GatherV2:0\", shape=(None, 49), dtype=float32), dense_shape=Tensor(\"gradient_tape/model_2/input.to_tensor_2/RaggedToTensor/Shape:0\", shape=(2,), dtype=int32))) to a dense Tensor of unknown shape. This may consume a large amount of memory.\n",
      "\n",
      "/opt/anaconda3/envs/mil/lib/python3.8/site-packages/tensorflow/python/framework/indexed_slices.py:448: UserWarning:\n",
      "\n",
      "Converting sparse IndexedSlices(IndexedSlices(indices=Tensor(\"gradient_tape/model_2/tf.math.divide_no_nan_2/RaggedTile/Reshape_3:0\", shape=(None,), dtype=int64), values=Tensor(\"gradient_tape/model_2/tf.math.divide_no_nan_2/RaggedTile/Reshape_2:0\", shape=(None, 1), dtype=float32), dense_shape=Tensor(\"gradient_tape/model_2/tf.math.divide_no_nan_2/RaggedTile/Cast:0\", shape=(2,), dtype=int32))) to a dense Tensor of unknown shape. This may consume a large amount of memory.\n",
      "\n"
     ]
    },
    {
     "name": "stdout",
     "output_type": "stream",
     "text": [
      "19/19 [==============================] - 6s 100ms/step - loss: 103.5373 - risk_loss: 103.5373 - risk_harrellsc: 0.5487 - val_loss: 22.7878 - val_risk_loss: 22.7878 - val_risk_harrellsc: 0.5460\n",
      "Epoch 2/100\n",
      "19/19 [==============================] - 0s 13ms/step - loss: 89.0725 - risk_loss: 89.0725 - risk_harrellsc: 0.4939 - val_loss: 22.6024 - val_risk_loss: 22.6024 - val_risk_harrellsc: 0.4525\n",
      "Epoch 3/100\n",
      "19/19 [==============================] - 0s 13ms/step - loss: 77.5150 - risk_loss: 77.5150 - risk_harrellsc: 0.5278 - val_loss: 22.4735 - val_risk_loss: 22.4735 - val_risk_harrellsc: 0.4265\n",
      "Epoch 4/100\n",
      "19/19 [==============================] - 0s 13ms/step - loss: 67.4898 - risk_loss: 67.4898 - risk_harrellsc: 0.5409 - val_loss: 22.4086 - val_risk_loss: 22.4086 - val_risk_harrellsc: 0.5761\n",
      "Epoch 5/100\n",
      "19/19 [==============================] - 0s 13ms/step - loss: 58.7489 - risk_loss: 58.7489 - risk_harrellsc: 0.4745 - val_loss: 22.3849 - val_risk_loss: 22.3849 - val_risk_harrellsc: 0.3322\n",
      "Epoch 6/100\n",
      "19/19 [==============================] - 0s 12ms/step - loss: 51.2675 - risk_loss: 51.2675 - risk_harrellsc: 0.4813 - val_loss: 22.3654 - val_risk_loss: 22.3654 - val_risk_harrellsc: 0.4503\n",
      "Epoch 7/100\n",
      "19/19 [==============================] - 0s 13ms/step - loss: 44.7859 - risk_loss: 44.7859 - risk_harrellsc: 0.5217 - val_loss: 22.3576 - val_risk_loss: 22.3576 - val_risk_harrellsc: 0.3630\n",
      "Epoch 8/100\n",
      "19/19 [==============================] - 0s 13ms/step - loss: 39.1171 - risk_loss: 39.1171 - risk_harrellsc: 0.5367 - val_loss: 22.3456 - val_risk_loss: 22.3456 - val_risk_harrellsc: 0.4673\n",
      "Epoch 9/100\n",
      "19/19 [==============================] - 0s 13ms/step - loss: 34.4527 - risk_loss: 34.4527 - risk_harrellsc: 0.4962 - val_loss: 22.3597 - val_risk_loss: 22.3597 - val_risk_harrellsc: 0.4254\n",
      "Epoch 10/100\n",
      "19/19 [==============================] - 0s 16ms/step - loss: 30.7357 - risk_loss: 30.7357 - risk_harrellsc: 0.5057 - val_loss: 22.3728 - val_risk_loss: 22.3728 - val_risk_harrellsc: 0.4826\n",
      "Epoch 11/100\n",
      "19/19 [==============================] - 0s 13ms/step - loss: 27.4864 - risk_loss: 27.4864 - risk_harrellsc: 0.5044 - val_loss: 22.3750 - val_risk_loss: 22.3750 - val_risk_harrellsc: 0.5676\n",
      "Epoch 12/100\n",
      "19/19 [==============================] - 0s 13ms/step - loss: 24.5884 - risk_loss: 24.5884 - risk_harrellsc: 0.5182 - val_loss: 22.3904 - val_risk_loss: 22.3904 - val_risk_harrellsc: 0.5843\n",
      "Epoch 13/100\n",
      "19/19 [==============================] - 0s 13ms/step - loss: 24.0470 - risk_loss: 24.0470 - risk_harrellsc: 0.4817 - val_loss: 22.3908 - val_risk_loss: 22.3908 - val_risk_harrellsc: 0.5137\n",
      "Epoch 14/100\n",
      "19/19 [==============================] - 0s 13ms/step - loss: 24.0406 - risk_loss: 24.0406 - risk_harrellsc: 0.4780 - val_loss: 22.3910 - val_risk_loss: 22.3910 - val_risk_harrellsc: 0.3404\n",
      "Epoch 15/100\n",
      "19/19 [==============================] - 0s 13ms/step - loss: 24.0348 - risk_loss: 24.0348 - risk_harrellsc: 0.4842 - val_loss: 22.3913 - val_risk_loss: 22.3913 - val_risk_harrellsc: 0.5932\n",
      "Epoch 16/100\n",
      "19/19 [==============================] - 0s 13ms/step - loss: 24.0295 - risk_loss: 24.0295 - risk_harrellsc: 0.5341 - val_loss: 22.3915 - val_risk_loss: 22.3915 - val_risk_harrellsc: 0.3794\n",
      "Epoch 17/100\n",
      "19/19 [==============================] - 0s 16ms/step - loss: 24.0246 - risk_loss: 24.0246 - risk_harrellsc: 0.4896 - val_loss: 22.3918 - val_risk_loss: 22.3918 - val_risk_harrellsc: 0.4751\n",
      "Epoch 18/100\n",
      "19/19 [==============================] - 0s 13ms/step - loss: 24.0200 - risk_loss: 24.0200 - risk_harrellsc: 0.4925 - val_loss: 22.3921 - val_risk_loss: 22.3921 - val_risk_harrellsc: 0.5590\n",
      "Epoch 19/100\n",
      "19/19 [==============================] - 0s 13ms/step - loss: 24.0157 - risk_loss: 24.0157 - risk_harrellsc: 0.5253 - val_loss: 22.3924 - val_risk_loss: 22.3924 - val_risk_harrellsc: 0.4529\n",
      "Epoch 20/100\n",
      "19/19 [==============================] - 0s 13ms/step - loss: 24.0116 - risk_loss: 24.0116 - risk_harrellsc: 0.4967 - val_loss: 22.3928 - val_risk_loss: 22.3928 - val_risk_harrellsc: 0.4989\n",
      "Epoch 21/100\n",
      "19/19 [==============================] - 0s 13ms/step - loss: 24.0078 - risk_loss: 24.0078 - risk_harrellsc: 0.4844 - val_loss: 22.3931 - val_risk_loss: 22.3931 - val_risk_harrellsc: 0.6266\n",
      "Epoch 22/100\n",
      "19/19 [==============================] - 0s 13ms/step - loss: 24.0043 - risk_loss: 24.0043 - risk_harrellsc: 0.5191 - val_loss: 22.3934 - val_risk_loss: 22.3934 - val_risk_harrellsc: 0.5045\n",
      "Epoch 23/100\n",
      "19/19 [==============================] - 0s 13ms/step - loss: 24.0010 - risk_loss: 24.0010 - risk_harrellsc: 0.4893 - val_loss: 22.3938 - val_risk_loss: 22.3938 - val_risk_harrellsc: 0.4206\n",
      "Epoch 24/100\n",
      "19/19 [==============================] - 0s 15ms/step - loss: 23.9978 - risk_loss: 23.9978 - risk_harrellsc: 0.5202 - val_loss: 22.3942 - val_risk_loss: 22.3942 - val_risk_harrellsc: 0.3434\n",
      "Epoch 25/100\n",
      "19/19 [==============================] - 0s 13ms/step - loss: 23.9947 - risk_loss: 23.9947 - risk_harrellsc: 0.4901 - val_loss: 22.3945 - val_risk_loss: 22.3945 - val_risk_harrellsc: 0.5713\n",
      "Epoch 26/100\n",
      "19/19 [==============================] - 0s 13ms/step - loss: 23.9918 - risk_loss: 23.9918 - risk_harrellsc: 0.4413 - val_loss: 22.3948 - val_risk_loss: 22.3948 - val_risk_harrellsc: 0.3753\n",
      "Epoch 27/100\n",
      "19/19 [==============================] - 0s 13ms/step - loss: 23.9889 - risk_loss: 23.9889 - risk_harrellsc: 0.5111 - val_loss: 22.3952 - val_risk_loss: 22.3952 - val_risk_harrellsc: 0.3679\n",
      "Epoch 28/100\n",
      "19/19 [==============================] - 0s 13ms/step - loss: 23.9860 - risk_loss: 23.9860 - risk_harrellsc: 0.5070 - val_loss: 22.3955 - val_risk_loss: 22.3955 - val_risk_harrellsc: 0.5984\n",
      "Epoch 29/100\n",
      "19/19 [==============================] - 0s 13ms/step - loss: 23.9833 - risk_loss: 23.9833 - risk_harrellsc: 0.4722 - val_loss: 22.3958 - val_risk_loss: 22.3958 - val_risk_harrellsc: 0.6036\n",
      "Epoch 30/100\n",
      "19/19 [==============================] - 0s 13ms/step - loss: 23.9806 - risk_loss: 23.9806 - risk_harrellsc: 0.4457 - val_loss: 22.4053 - val_risk_loss: 22.4053 - val_risk_harrellsc: 0.3723\n",
      "Epoch 31/100\n",
      "19/19 [==============================] - 0s 13ms/step - loss: 23.9779 - risk_loss: 23.9779 - risk_harrellsc: 0.4372 - val_loss: 22.4056 - val_risk_loss: 22.4056 - val_risk_harrellsc: 0.4228\n",
      "Epoch 32/100\n",
      "19/19 [==============================] - 0s 13ms/step - loss: 23.9753 - risk_loss: 23.9753 - risk_harrellsc: 0.4641 - val_loss: 22.4059 - val_risk_loss: 22.4059 - val_risk_harrellsc: 0.4573\n",
      "Epoch 33/100\n",
      "19/19 [==============================] - 0s 13ms/step - loss: 23.9727 - risk_loss: 23.9727 - risk_harrellsc: 0.4864 - val_loss: 22.4062 - val_risk_loss: 22.4062 - val_risk_harrellsc: 0.4462\n",
      "Epoch 34/100\n",
      "19/19 [==============================] - 0s 13ms/step - loss: 23.9701 - risk_loss: 23.9701 - risk_harrellsc: 0.5033 - val_loss: 22.4065 - val_risk_loss: 22.4065 - val_risk_harrellsc: 0.3582\n",
      "Epoch 35/100\n",
      "19/19 [==============================] - 0s 14ms/step - loss: 23.9675 - risk_loss: 23.9675 - risk_harrellsc: 0.4932 - val_loss: 22.4067 - val_risk_loss: 22.4067 - val_risk_harrellsc: 0.5093\n",
      "Epoch 36/100\n",
      "19/19 [==============================] - 0s 15ms/step - loss: 23.9649 - risk_loss: 23.9649 - risk_harrellsc: 0.4554 - val_loss: 22.4070 - val_risk_loss: 22.4070 - val_risk_harrellsc: 0.4955\n",
      "Epoch 37/100\n",
      "19/19 [==============================] - 0s 13ms/step - loss: 23.9623 - risk_loss: 23.9623 - risk_harrellsc: 0.5504 - val_loss: 22.4073 - val_risk_loss: 22.4073 - val_risk_harrellsc: 0.4941\n",
      "Epoch 38/100\n",
      "19/19 [==============================] - 0s 13ms/step - loss: 23.9597 - risk_loss: 23.9597 - risk_harrellsc: 0.4694 - val_loss: 22.3960 - val_risk_loss: 22.3960 - val_risk_harrellsc: 0.5646\n",
      "Epoch 39/100\n",
      "19/19 [==============================] - 0s 13ms/step - loss: 23.9572 - risk_loss: 23.9572 - risk_harrellsc: 0.5124 - val_loss: 22.3965 - val_risk_loss: 22.3965 - val_risk_harrellsc: 0.4833\n",
      "Epoch 40/100\n",
      "19/19 [==============================] - 0s 13ms/step - loss: 23.9547 - risk_loss: 23.9547 - risk_harrellsc: 0.5752 - val_loss: 22.3969 - val_risk_loss: 22.3969 - val_risk_harrellsc: 0.5004\n",
      "Epoch 41/100\n",
      "19/19 [==============================] - 0s 13ms/step - loss: 23.9522 - risk_loss: 23.9522 - risk_harrellsc: 0.5011 - val_loss: 22.3974 - val_risk_loss: 22.3974 - val_risk_harrellsc: 0.5130\n",
      "Epoch 42/100\n",
      "19/19 [==============================] - 0s 15ms/step - loss: 23.9497 - risk_loss: 23.9497 - risk_harrellsc: 0.4806 - val_loss: 22.3979 - val_risk_loss: 22.3979 - val_risk_harrellsc: 0.3137\n",
      "Epoch 43/100\n",
      "19/19 [==============================] - 0s 13ms/step - loss: 23.9474 - risk_loss: 23.9474 - risk_harrellsc: 0.4661 - val_loss: 22.3988 - val_risk_loss: 22.3988 - val_risk_harrellsc: 0.3437\n",
      "Epoch 44/100\n",
      "19/19 [==============================] - 0s 13ms/step - loss: 23.9451 - risk_loss: 23.9451 - risk_harrellsc: 0.4517 - val_loss: 22.3996 - val_risk_loss: 22.3996 - val_risk_harrellsc: 0.3263\n",
      "Epoch 45/100\n",
      "19/19 [==============================] - 0s 13ms/step - loss: 23.9428 - risk_loss: 23.9428 - risk_harrellsc: 0.4714 - val_loss: 22.4004 - val_risk_loss: 22.4004 - val_risk_harrellsc: 0.4748\n",
      "Epoch 46/100\n",
      "19/19 [==============================] - 0s 13ms/step - loss: 23.9405 - risk_loss: 23.9405 - risk_harrellsc: 0.5202 - val_loss: 22.4011 - val_risk_loss: 22.4011 - val_risk_harrellsc: 0.5694\n",
      "Epoch 47/100\n",
      "19/19 [==============================] - 0s 13ms/step - loss: 23.9383 - risk_loss: 23.9383 - risk_harrellsc: 0.4689 - val_loss: 22.4019 - val_risk_loss: 22.4019 - val_risk_harrellsc: 0.3745\n",
      "Epoch 48/100\n",
      "19/19 [==============================] - 0s 13ms/step - loss: 23.9360 - risk_loss: 23.9360 - risk_harrellsc: 0.4499 - val_loss: 22.4027 - val_risk_loss: 22.4027 - val_risk_harrellsc: 0.3604\n",
      "Epoch 49/100\n",
      "19/19 [==============================] - 0s 15ms/step - loss: 23.9337 - risk_loss: 23.9337 - risk_harrellsc: 0.4942 - val_loss: 22.4034 - val_risk_loss: 22.4034 - val_risk_harrellsc: 0.6195\n",
      "Epoch 50/100\n",
      "19/19 [==============================] - 0s 13ms/step - loss: 23.9315 - risk_loss: 23.9315 - risk_harrellsc: 0.4680 - val_loss: 22.4042 - val_risk_loss: 22.4042 - val_risk_harrellsc: 0.3898\n",
      "Epoch 51/100\n",
      "19/19 [==============================] - 0s 14ms/step - loss: 23.9293 - risk_loss: 23.9293 - risk_harrellsc: 0.5186 - val_loss: 22.4050 - val_risk_loss: 22.4050 - val_risk_harrellsc: 0.6344\n",
      "Epoch 52/100\n",
      "19/19 [==============================] - 0s 14ms/step - loss: 23.9270 - risk_loss: 23.9270 - risk_harrellsc: 0.4916 - val_loss: 22.4059 - val_risk_loss: 22.4059 - val_risk_harrellsc: 0.4822\n",
      "Epoch 53/100\n",
      "19/19 [==============================] - 0s 12ms/step - loss: 23.9246 - risk_loss: 23.9246 - risk_harrellsc: 0.4465 - val_loss: 22.4067 - val_risk_loss: 22.4067 - val_risk_harrellsc: 0.3452\n",
      "Epoch 54/100\n",
      "19/19 [==============================] - 0s 13ms/step - loss: 23.9223 - risk_loss: 23.9223 - risk_harrellsc: 0.4569 - val_loss: 22.4076 - val_risk_loss: 22.4076 - val_risk_harrellsc: 0.6221\n",
      "Epoch 55/100\n",
      "19/19 [==============================] - 0s 13ms/step - loss: 23.9199 - risk_loss: 23.9199 - risk_harrellsc: 0.4543 - val_loss: 22.4085 - val_risk_loss: 22.4085 - val_risk_harrellsc: 0.5122\n",
      "Epoch 56/100\n",
      "19/19 [==============================] - 0s 13ms/step - loss: 23.9175 - risk_loss: 23.9175 - risk_harrellsc: 0.5276 - val_loss: 22.4095 - val_risk_loss: 22.4095 - val_risk_harrellsc: 0.4614\n",
      "Epoch 57/100\n",
      "19/19 [==============================] - 0s 13ms/step - loss: 23.9151 - risk_loss: 23.9151 - risk_harrellsc: 0.5329 - val_loss: 22.4102 - val_risk_loss: 22.4102 - val_risk_harrellsc: 0.4495\n",
      "Epoch 58/100\n",
      "19/19 [==============================] - 0s 15ms/step - loss: 23.9127 - risk_loss: 23.9127 - risk_harrellsc: 0.5283 - val_loss: 22.4106 - val_risk_loss: 22.4106 - val_risk_harrellsc: 0.6604\n",
      "Epoch 59/100\n",
      "19/19 [==============================] - 0s 13ms/step - loss: 23.9104 - risk_loss: 23.9104 - risk_harrellsc: 0.4540 - val_loss: 22.4111 - val_risk_loss: 22.4111 - val_risk_harrellsc: 0.5037\n",
      "Epoch 60/100\n",
      "19/19 [==============================] - 0s 13ms/step - loss: 23.9080 - risk_loss: 23.9080 - risk_harrellsc: 0.5429 - val_loss: 22.4117 - val_risk_loss: 22.4117 - val_risk_harrellsc: 0.6288\n",
      "Epoch 61/100\n",
      "19/19 [==============================] - 0s 13ms/step - loss: 23.9057 - risk_loss: 23.9057 - risk_harrellsc: 0.4922 - val_loss: 22.4122 - val_risk_loss: 22.4122 - val_risk_harrellsc: 0.5479\n",
      "Epoch 62/100\n",
      "19/19 [==============================] - 0s 13ms/step - loss: 23.9034 - risk_loss: 23.9034 - risk_harrellsc: 0.4777 - val_loss: 22.4128 - val_risk_loss: 22.4128 - val_risk_harrellsc: 0.4762\n",
      "Epoch 63/100\n",
      "19/19 [==============================] - 0s 13ms/step - loss: 23.9012 - risk_loss: 23.9012 - risk_harrellsc: 0.4733 - val_loss: 22.4134 - val_risk_loss: 22.4134 - val_risk_harrellsc: 0.4562\n",
      "Epoch 64/100\n",
      "19/19 [==============================] - 0s 14ms/step - loss: 23.8990 - risk_loss: 23.8990 - risk_harrellsc: 0.5056 - val_loss: 22.4140 - val_risk_loss: 22.4140 - val_risk_harrellsc: 0.6607\n",
      "Epoch 65/100\n",
      "19/19 [==============================] - 0s 13ms/step - loss: 23.8968 - risk_loss: 23.8968 - risk_harrellsc: 0.4577 - val_loss: 22.4146 - val_risk_loss: 22.4146 - val_risk_harrellsc: 0.4551\n",
      "Epoch 66/100\n",
      "19/19 [==============================] - 0s 13ms/step - loss: 23.8947 - risk_loss: 23.8947 - risk_harrellsc: 0.4831 - val_loss: 22.4152 - val_risk_loss: 22.4152 - val_risk_harrellsc: 0.4094\n",
      "Epoch 67/100\n",
      "19/19 [==============================] - 0s 13ms/step - loss: 23.8926 - risk_loss: 23.8926 - risk_harrellsc: 0.4858 - val_loss: 22.4159 - val_risk_loss: 22.4159 - val_risk_harrellsc: 0.3760\n",
      "Epoch 68/100\n",
      "19/19 [==============================] - 0s 13ms/step - loss: 23.8905 - risk_loss: 23.8905 - risk_harrellsc: 0.4804 - val_loss: 22.4166 - val_risk_loss: 22.4166 - val_risk_harrellsc: 0.4829\n",
      "Epoch 69/100\n",
      "19/19 [==============================] - 0s 15ms/step - loss: 23.8885 - risk_loss: 23.8885 - risk_harrellsc: 0.5005 - val_loss: 22.4173 - val_risk_loss: 22.4173 - val_risk_harrellsc: 0.6076\n",
      "Epoch 70/100\n",
      "19/19 [==============================] - 0s 13ms/step - loss: 23.8865 - risk_loss: 23.8865 - risk_harrellsc: 0.4731 - val_loss: 22.4180 - val_risk_loss: 22.4180 - val_risk_harrellsc: 0.5078\n",
      "Epoch 71/100\n",
      "19/19 [==============================] - 0s 13ms/step - loss: 23.8846 - risk_loss: 23.8846 - risk_harrellsc: 0.4917 - val_loss: 22.4187 - val_risk_loss: 22.4187 - val_risk_harrellsc: 0.6050\n",
      "Epoch 72/100\n",
      "19/19 [==============================] - 0s 13ms/step - loss: 23.8827 - risk_loss: 23.8827 - risk_harrellsc: 0.5457 - val_loss: 22.4194 - val_risk_loss: 22.4194 - val_risk_harrellsc: 0.3916\n",
      "Epoch 73/100\n",
      "19/19 [==============================] - 0s 13ms/step - loss: 23.8808 - risk_loss: 23.8808 - risk_harrellsc: 0.5444 - val_loss: 22.4201 - val_risk_loss: 22.4201 - val_risk_harrellsc: 0.5249\n",
      "Epoch 74/100\n",
      "19/19 [==============================] - 0s 14ms/step - loss: 23.8790 - risk_loss: 23.8790 - risk_harrellsc: 0.4552 - val_loss: 22.4209 - val_risk_loss: 22.4209 - val_risk_harrellsc: 0.5045\n",
      "Epoch 75/100\n",
      "19/19 [==============================] - 0s 13ms/step - loss: 23.8773 - risk_loss: 23.8773 - risk_harrellsc: 0.4667 - val_loss: 22.4216 - val_risk_loss: 22.4216 - val_risk_harrellsc: 0.5256\n",
      "Epoch 76/100\n",
      "19/19 [==============================] - 0s 13ms/step - loss: 23.8757 - risk_loss: 23.8757 - risk_harrellsc: 0.5085 - val_loss: 22.4223 - val_risk_loss: 22.4223 - val_risk_harrellsc: 0.4336\n",
      "Epoch 77/100\n",
      "19/19 [==============================] - 0s 16ms/step - loss: 23.9598 - risk_loss: 23.9598 - risk_harrellsc: 0.5064 - val_loss: 22.4380 - val_risk_loss: 22.4380 - val_risk_harrellsc: 0.5742\n",
      "Epoch 78/100\n",
      "19/19 [==============================] - 0s 13ms/step - loss: 23.9484 - risk_loss: 23.9484 - risk_harrellsc: 0.4675 - val_loss: 22.4533 - val_risk_loss: 22.4533 - val_risk_harrellsc: 0.4852\n",
      "Epoch 79/100\n",
      "19/19 [==============================] - 0s 13ms/step - loss: 23.9407 - risk_loss: 23.9407 - risk_harrellsc: 0.5223 - val_loss: 22.4641 - val_risk_loss: 22.4641 - val_risk_harrellsc: 0.4748\n",
      "Epoch 80/100\n",
      "19/19 [==============================] - 0s 13ms/step - loss: 23.9353 - risk_loss: 23.9353 - risk_harrellsc: 0.5091 - val_loss: 22.4704 - val_risk_loss: 22.4704 - val_risk_harrellsc: 0.4384\n",
      "Epoch 81/100\n",
      "19/19 [==============================] - 0s 13ms/step - loss: 23.9309 - risk_loss: 23.9309 - risk_harrellsc: 0.5107 - val_loss: 22.4738 - val_risk_loss: 22.4738 - val_risk_harrellsc: 0.4796\n",
      "Epoch 82/100\n",
      "19/19 [==============================] - 0s 13ms/step - loss: 23.9268 - risk_loss: 23.9268 - risk_harrellsc: 0.5571 - val_loss: 22.4755 - val_risk_loss: 22.4755 - val_risk_harrellsc: 0.3849\n",
      "Epoch 83/100\n",
      "19/19 [==============================] - 0s 13ms/step - loss: 23.9231 - risk_loss: 23.9231 - risk_harrellsc: 0.5131 - val_loss: 22.4764 - val_risk_loss: 22.4764 - val_risk_harrellsc: 0.5965\n",
      "Epoch 84/100\n",
      "19/19 [==============================] - 0s 13ms/step - loss: 23.9195 - risk_loss: 23.9195 - risk_harrellsc: 0.4983 - val_loss: 22.4768 - val_risk_loss: 22.4768 - val_risk_harrellsc: 0.6203\n",
      "Epoch 85/100\n",
      "19/19 [==============================] - 0s 13ms/step - loss: 23.9162 - risk_loss: 23.9162 - risk_harrellsc: 0.4853 - val_loss: 22.4770 - val_risk_loss: 22.4770 - val_risk_harrellsc: 0.4903\n",
      "Epoch 86/100\n",
      "19/19 [==============================] - 0s 13ms/step - loss: 23.9129 - risk_loss: 23.9129 - risk_harrellsc: 0.4621 - val_loss: 22.4771 - val_risk_loss: 22.4771 - val_risk_harrellsc: 0.4195\n",
      "Epoch 87/100\n",
      "19/19 [==============================] - 0s 15ms/step - loss: 23.9099 - risk_loss: 23.9099 - risk_harrellsc: 0.5072 - val_loss: 22.4771 - val_risk_loss: 22.4771 - val_risk_harrellsc: 0.5638\n",
      "Epoch 88/100\n",
      "19/19 [==============================] - 0s 13ms/step - loss: 23.9070 - risk_loss: 23.9070 - risk_harrellsc: 0.4740 - val_loss: 22.4771 - val_risk_loss: 22.4771 - val_risk_harrellsc: 0.5349\n",
      "Epoch 89/100\n",
      "19/19 [==============================] - 0s 13ms/step - loss: 23.9042 - risk_loss: 23.9042 - risk_harrellsc: 0.4962 - val_loss: 22.4770 - val_risk_loss: 22.4770 - val_risk_harrellsc: 0.3756\n",
      "Epoch 90/100\n",
      "19/19 [==============================] - 0s 13ms/step - loss: 23.9014 - risk_loss: 23.9014 - risk_harrellsc: 0.5128 - val_loss: 22.4769 - val_risk_loss: 22.4769 - val_risk_harrellsc: 0.6076\n",
      "Epoch 91/100\n",
      "19/19 [==============================] - 0s 13ms/step - loss: 23.8988 - risk_loss: 23.8988 - risk_harrellsc: 0.4228 - val_loss: 22.4768 - val_risk_loss: 22.4768 - val_risk_harrellsc: 0.3857\n",
      "Epoch 92/100\n",
      "19/19 [==============================] - 0s 14ms/step - loss: 23.8962 - risk_loss: 23.8962 - risk_harrellsc: 0.5435 - val_loss: 22.4767 - val_risk_loss: 22.4767 - val_risk_harrellsc: 0.5650\n",
      "Epoch 93/100\n",
      "19/19 [==============================] - 0s 13ms/step - loss: 23.8937 - risk_loss: 23.8937 - risk_harrellsc: 0.5132 - val_loss: 22.4765 - val_risk_loss: 22.4765 - val_risk_harrellsc: 0.6540\n",
      "Epoch 94/100\n",
      "19/19 [==============================] - 0s 13ms/step - loss: 23.8913 - risk_loss: 23.8913 - risk_harrellsc: 0.5088 - val_loss: 22.4764 - val_risk_loss: 22.4764 - val_risk_harrellsc: 0.6529\n",
      "Epoch 95/100\n",
      "19/19 [==============================] - 0s 14ms/step - loss: 23.8890 - risk_loss: 23.8890 - risk_harrellsc: 0.5093 - val_loss: 22.4763 - val_risk_loss: 22.4763 - val_risk_harrellsc: 0.3586\n",
      "Epoch 96/100\n",
      "19/19 [==============================] - 0s 13ms/step - loss: 23.8867 - risk_loss: 23.8867 - risk_harrellsc: 0.4762 - val_loss: 22.4761 - val_risk_loss: 22.4761 - val_risk_harrellsc: 0.5219\n",
      "Epoch 97/100\n",
      "19/19 [==============================] - 0s 13ms/step - loss: 23.8844 - risk_loss: 23.8844 - risk_harrellsc: 0.4594 - val_loss: 22.4760 - val_risk_loss: 22.4760 - val_risk_harrellsc: 0.3467\n",
      "Epoch 98/100\n",
      "19/19 [==============================] - 0s 13ms/step - loss: 23.8823 - risk_loss: 23.8823 - risk_harrellsc: 0.5281 - val_loss: 22.4758 - val_risk_loss: 22.4758 - val_risk_harrellsc: 0.6429\n",
      "Epoch 99/100\n",
      "19/19 [==============================] - 0s 13ms/step - loss: 23.8801 - risk_loss: 23.8801 - risk_harrellsc: 0.4433 - val_loss: 22.4757 - val_risk_loss: 22.4757 - val_risk_harrellsc: 0.6021\n",
      "Epoch 100/100\n",
      "19/19 [==============================] - 0s 13ms/step - loss: 23.8780 - risk_loss: 23.8780 - risk_harrellsc: 0.4862 - val_loss: 22.4756 - val_risk_loss: 22.4756 - val_risk_harrellsc: 0.5238\n"
     ]
    },
    {
     "data": {
      "application/vnd.plotly.v1+json": {
       "config": {
        "plotlyServerURL": "https://plot.ly"
       },
       "data": [
        {
         "mode": "lines",
         "name": "Train Loss",
         "type": "scatter",
         "x": [
          1,
          2,
          3,
          4,
          5,
          6,
          7,
          8,
          9,
          10,
          11,
          12,
          13,
          14,
          15,
          16,
          17,
          18,
          19,
          20,
          21,
          22,
          23,
          24,
          25,
          26,
          27,
          28,
          29,
          30,
          31,
          32,
          33,
          34,
          35,
          36,
          37,
          38,
          39,
          40,
          41,
          42,
          43,
          44,
          45,
          46,
          47,
          48,
          49,
          50,
          51,
          52,
          53,
          54,
          55,
          56,
          57,
          58,
          59,
          60,
          61,
          62,
          63,
          64,
          65,
          66,
          67,
          68,
          69,
          70,
          71,
          72,
          73,
          74,
          75,
          76,
          77,
          78,
          79,
          80,
          81,
          82,
          83,
          84,
          85,
          86,
          87,
          88,
          89,
          90,
          91,
          92,
          93,
          94,
          95,
          96,
          97,
          98,
          99,
          100
         ],
         "xaxis": "x",
         "y": [
          103.53730010986328,
          89.072509765625,
          77.51497650146484,
          67.48978424072266,
          58.748870849609375,
          51.267459869384766,
          44.785858154296875,
          39.117130279541016,
          34.452674865722656,
          30.735698699951172,
          27.486404418945312,
          24.58841896057129,
          24.046998977661133,
          24.040555953979492,
          24.034826278686523,
          24.029537200927734,
          24.024620056152344,
          24.02001953125,
          24.015689849853516,
          24.0115909576416,
          24.007797241210938,
          24.00429344177246,
          24.000961303710938,
          23.997774124145508,
          23.994705200195312,
          23.991750717163086,
          23.98886489868164,
          23.98604965209961,
          23.98329734802246,
          23.98058319091797,
          23.977916717529297,
          23.97530174255371,
          23.972721099853516,
          23.97013282775879,
          23.967491149902344,
          23.964862823486328,
          23.962261199951172,
          23.959707260131836,
          23.957178115844727,
          23.954673767089844,
          23.952184677124023,
          23.949718475341797,
          23.947391510009766,
          23.945117950439453,
          23.94282341003418,
          23.940542221069336,
          23.938270568847656,
          23.93600082397461,
          23.933740615844727,
          23.931503295898438,
          23.929279327392578,
          23.926977157592773,
          23.924598693847656,
          23.92230987548828,
          23.919910430908203,
          23.917491912841797,
          23.91509437561035,
          23.912715911865234,
          23.91037368774414,
          23.90803337097168,
          23.905717849731445,
          23.903430938720703,
          23.90117835998535,
          23.898954391479492,
          23.89678382873535,
          23.894655227661133,
          23.892555236816406,
          23.890478134155273,
          23.88846778869629,
          23.88652229309082,
          23.884597778320312,
          23.88269805908203,
          23.88082504272461,
          23.8790340423584,
          23.87734031677246,
          23.87567710876465,
          23.959800720214844,
          23.94843101501465,
          23.94074058532715,
          23.935333251953125,
          23.93087387084961,
          23.92681884765625,
          23.92308807373047,
          23.919536590576172,
          23.91618537902832,
          23.912946701049805,
          23.909900665283203,
          23.906984329223633,
          23.9041805267334,
          23.90144920349121,
          23.89881134033203,
          23.89621925354004,
          23.89374542236328,
          23.89128303527832,
          23.888973236083984,
          23.88665771484375,
          23.884449005126953,
          23.882261276245117,
          23.880107879638672,
          23.87803077697754
         ],
         "yaxis": "y"
        },
        {
         "mode": "lines",
         "name": "Validation Loss",
         "type": "scatter",
         "x": [
          1,
          2,
          3,
          4,
          5,
          6,
          7,
          8,
          9,
          10,
          11,
          12,
          13,
          14,
          15,
          16,
          17,
          18,
          19,
          20,
          21,
          22,
          23,
          24,
          25,
          26,
          27,
          28,
          29,
          30,
          31,
          32,
          33,
          34,
          35,
          36,
          37,
          38,
          39,
          40,
          41,
          42,
          43,
          44,
          45,
          46,
          47,
          48,
          49,
          50,
          51,
          52,
          53,
          54,
          55,
          56,
          57,
          58,
          59,
          60,
          61,
          62,
          63,
          64,
          65,
          66,
          67,
          68,
          69,
          70,
          71,
          72,
          73,
          74,
          75,
          76,
          77,
          78,
          79,
          80,
          81,
          82,
          83,
          84,
          85,
          86,
          87,
          88,
          89,
          90,
          91,
          92,
          93,
          94,
          95,
          96,
          97,
          98,
          99,
          100
         ],
         "xaxis": "x",
         "y": [
          22.78779411315918,
          22.602392196655273,
          22.473461151123047,
          22.40859603881836,
          22.384931564331055,
          22.365392684936523,
          22.357643127441406,
          22.345563888549805,
          22.3597412109375,
          22.37284278869629,
          22.374971389770508,
          22.390369415283203,
          22.390750885009766,
          22.39099884033203,
          22.391252517700195,
          22.39152717590332,
          22.39181900024414,
          22.392126083374023,
          22.392440795898438,
          22.392757415771484,
          22.393075942993164,
          22.393430709838867,
          22.39379119873047,
          22.394174575805664,
          22.3945255279541,
          22.39484214782715,
          22.395156860351562,
          22.39547348022461,
          22.395793914794922,
          22.405261993408203,
          22.40555763244629,
          22.405860900878906,
          22.406169891357422,
          22.406490325927734,
          22.40674591064453,
          22.407028198242188,
          22.40731430053711,
          22.396013259887695,
          22.396455764770508,
          22.396923065185547,
          22.39740562438965,
          22.397905349731445,
          22.398788452148438,
          22.39961051940918,
          22.40036964416504,
          22.40110206604004,
          22.401880264282227,
          22.402658462524414,
          22.403440475463867,
          22.404237747192383,
          22.405031204223633,
          22.405851364135742,
          22.406700134277344,
          22.407581329345703,
          22.40850830078125,
          22.40949821472168,
          22.410152435302734,
          22.410614013671875,
          22.41111946105957,
          22.411651611328125,
          22.412206649780273,
          22.41278076171875,
          22.413375854492188,
          22.413976669311523,
          22.414600372314453,
          22.415246963500977,
          22.415910720825195,
          22.41659164428711,
          22.417293548583984,
          22.418014526367188,
          22.418729782104492,
          22.419437408447266,
          22.420133590698242,
          22.42086410522461,
          22.42157554626465,
          22.422266006469727,
          22.438016891479492,
          22.45333480834961,
          22.464092254638672,
          22.47041893005371,
          22.47380256652832,
          22.475547790527344,
          22.476398468017578,
          22.476829528808594,
          22.476999282836914,
          22.47711181640625,
          22.477123260498047,
          22.47710609436035,
          22.47702980041504,
          22.476940155029297,
          22.476789474487305,
          22.476654052734375,
          22.47649383544922,
          22.476408004760742,
          22.476266860961914,
          22.47612953186035,
          22.475997924804688,
          22.4758243560791,
          22.475719451904297,
          22.475568771362305
         ],
         "yaxis": "y"
        },
        {
         "mode": "lines",
         "name": "Train Harrell's C",
         "type": "scatter",
         "x": [
          1,
          2,
          3,
          4,
          5,
          6,
          7,
          8,
          9,
          10,
          11,
          12,
          13,
          14,
          15,
          16,
          17,
          18,
          19,
          20,
          21,
          22,
          23,
          24,
          25,
          26,
          27,
          28,
          29,
          30,
          31,
          32,
          33,
          34,
          35,
          36,
          37,
          38,
          39,
          40,
          41,
          42,
          43,
          44,
          45,
          46,
          47,
          48,
          49,
          50,
          51,
          52,
          53,
          54,
          55,
          56,
          57,
          58,
          59,
          60,
          61,
          62,
          63,
          64,
          65,
          66,
          67,
          68,
          69,
          70,
          71,
          72,
          73,
          74,
          75,
          76,
          77,
          78,
          79,
          80,
          81,
          82,
          83,
          84,
          85,
          86,
          87,
          88,
          89,
          90,
          91,
          92,
          93,
          94,
          95,
          96,
          97,
          98,
          99,
          100
         ],
         "xaxis": "x2",
         "y": [
          0.5486869031377899,
          0.49386084583901774,
          0.5277967257844475,
          0.5409276944065484,
          0.4745054570259209,
          0.48132673942701226,
          0.5217428376534788,
          0.5366643929058663,
          0.4961630286493861,
          0.505712824010914,
          0.5044338335607094,
          0.5181616643929059,
          0.48166780354706684,
          0.4780013642564802,
          0.4842257844474761,
          0.534106412005457,
          0.48959754433833563,
          0.4924965893587995,
          0.5253240109140518,
          0.49667462482946795,
          0.4843963165075034,
          0.5190995907230559,
          0.4893417462482947,
          0.5202080491132333,
          0.4901091405184175,
          0.4413369713506139,
          0.5110845839017736,
          0.5069918144611187,
          0.4722032742155525,
          0.4456855388813097,
          0.43724420190995905,
          0.4641030013642565,
          0.4863574351978172,
          0.5033253751705321,
          0.4931787175989086,
          0.45540586630286495,
          0.5503922237380627,
          0.4693894952251023,
          0.5124488403819918,
          0.5752046384720327,
          0.5011084583901774,
          0.4805593451568895,
          0.46606412005457026,
          0.4516541609822647,
          0.47143587994542974,
          0.5202080491132333,
          0.4688778990450205,
          0.44986357435197816,
          0.4942019099590723,
          0.46802523874488405,
          0.5185879945429741,
          0.49164392905866305,
          0.4464529331514325,
          0.4569406548431105,
          0.4542974079126876,
          0.5276261937244202,
          0.532912687585266,
          0.5283083219645294,
          0.453956343792633,
          0.5428888130968622,
          0.4922407912687585,
          0.47774556616643926,
          0.4733117326057299,
          0.5056275579809004,
          0.45770804911323326,
          0.4831173260572988,
          0.4858458390177353,
          0.4803888130968622,
          0.5005115961800819,
          0.4731412005457026,
          0.4917291950886767,
          0.5457025920873124,
          0.5444236016371078,
          0.45523533424283763,
          0.4667462482946794,
          0.5085266030013642,
          0.5063949522510232,
          0.4675136425648022,
          0.5223396998635743,
          0.5091234652114598,
          0.510743519781719,
          0.5571282401091405,
          0.513130968622101,
          0.49829467939972716,
          0.4853342428376535,
          0.4621418826739427,
          0.507162346521146,
          0.473993860845839,
          0.4961630286493861,
          0.5127899045020464,
          0.4228342428376535,
          0.5434856753069577,
          0.5132162346521146,
          0.5087824010914052,
          0.509293997271487,
          0.47621077762619374,
          0.45941336971350616,
          0.528137789904502,
          0.4432980900409277,
          0.4861869031377899
         ],
         "yaxis": "y2"
        },
        {
         "mode": "lines",
         "name": "Validation Harrell's C",
         "type": "scatter",
         "x": [
          1,
          2,
          3,
          4,
          5,
          6,
          7,
          8,
          9,
          10,
          11,
          12,
          13,
          14,
          15,
          16,
          17,
          18,
          19,
          20,
          21,
          22,
          23,
          24,
          25,
          26,
          27,
          28,
          29,
          30,
          31,
          32,
          33,
          34,
          35,
          36,
          37,
          38,
          39,
          40,
          41,
          42,
          43,
          44,
          45,
          46,
          47,
          48,
          49,
          50,
          51,
          52,
          53,
          54,
          55,
          56,
          57,
          58,
          59,
          60,
          61,
          62,
          63,
          64,
          65,
          66,
          67,
          68,
          69,
          70,
          71,
          72,
          73,
          74,
          75,
          76,
          77,
          78,
          79,
          80,
          81,
          82,
          83,
          84,
          85,
          86,
          87,
          88,
          89,
          90,
          91,
          92,
          93,
          94,
          95,
          96,
          97,
          98,
          99,
          100
         ],
         "xaxis": "x2",
         "y": [
          0.5460282108389013,
          0.4524870081662955,
          0.4265033407572383,
          0.5760950259836675,
          0.3322197475872309,
          0.4502598366740906,
          0.36302895322939865,
          0.46733481811432814,
          0.42538975501113585,
          0.4825538233110616,
          0.5675575352635487,
          0.5842613214550854,
          0.5137342242019303,
          0.34038604305864884,
          0.593170007423905,
          0.3793615441722346,
          0.47512991833704527,
          0.5590200445434298,
          0.4528582034149963,
          0.49888641425389757,
          0.6265775798069785,
          0.5044543429844098,
          0.42056421677802525,
          0.34335560504825535,
          0.5712694877505567,
          0.3752783964365256,
          0.36785449146250926,
          0.5983667409057164,
          0.6035634743875279,
          0.3723088344469191,
          0.42279138827023016,
          0.4573125463994061,
          0.4461766889383816,
          0.35820341499628805,
          0.5092798812175204,
          0.4955456570155902,
          0.4940608760207869,
          0.5645879732739421,
          0.48329621380846327,
          0.5003711952487008,
          0.5129918337045286,
          0.31365998515219007,
          0.34372680029695624,
          0.3262806236080178,
          0.4747587230883445,
          0.5694135115070527,
          0.37453600593912395,
          0.3604305864884929,
          0.6195248700816629,
          0.3897550111358575,
          0.6343726800296956,
          0.4821826280623608,
          0.34521158129175944,
          0.6221232368225686,
          0.512249443207127,
          0.46139569413511505,
          0.44951744617668893,
          0.6603563474387528,
          0.5037119524870082,
          0.6288047512991833,
          0.5478841870824054,
          0.47624350408314775,
          0.4561989606533036,
          0.6607275426874536,
          0.4550853749072012,
          0.4094283593170007,
          0.37602078693392726,
          0.48292501855976244,
          0.6076466221232368,
          0.5077951002227171,
          0.6050482553823311,
          0.39161098737936156,
          0.5248700816629547,
          0.5044543429844098,
          0.5256124721603563,
          0.43355605048255386,
          0.5742390497401633,
          0.48515219005196736,
          0.4747587230883445,
          0.43838158871566446,
          0.4795842613214551,
          0.3849294729027468,
          0.5965107646622123,
          0.6202672605790646,
          0.4903489235337788,
          0.4194506310319228,
          0.5638455827765405,
          0.5348923533778768,
          0.37564959168522644,
          0.6076466221232368,
          0.3856718634001485,
          0.5649591685226429,
          0.6540460282108389,
          0.6529324424647365,
          0.3585746102449888,
          0.5219005196733482,
          0.34669636228656275,
          0.6429101707498144,
          0.6020786933927246,
          0.5237564959168522
         ],
         "yaxis": "y2"
        }
       ],
       "layout": {
        "annotations": [
         {
          "font": {
           "size": 16
          },
          "showarrow": false,
          "text": "Loss",
          "x": 0.225,
          "xanchor": "center",
          "xref": "paper",
          "y": 1,
          "yanchor": "bottom",
          "yref": "paper"
         },
         {
          "font": {
           "size": 16
          },
          "showarrow": false,
          "text": "Harrell's C",
          "x": 0.775,
          "xanchor": "center",
          "xref": "paper",
          "y": 1,
          "yanchor": "bottom",
          "yref": "paper"
         }
        ],
        "template": {
         "data": {
          "bar": [
           {
            "error_x": {
             "color": "#2a3f5f"
            },
            "error_y": {
             "color": "#2a3f5f"
            },
            "marker": {
             "line": {
              "color": "#E5ECF6",
              "width": 0.5
             },
             "pattern": {
              "fillmode": "overlay",
              "size": 10,
              "solidity": 0.2
             }
            },
            "type": "bar"
           }
          ],
          "barpolar": [
           {
            "marker": {
             "line": {
              "color": "#E5ECF6",
              "width": 0.5
             },
             "pattern": {
              "fillmode": "overlay",
              "size": 10,
              "solidity": 0.2
             }
            },
            "type": "barpolar"
           }
          ],
          "carpet": [
           {
            "aaxis": {
             "endlinecolor": "#2a3f5f",
             "gridcolor": "white",
             "linecolor": "white",
             "minorgridcolor": "white",
             "startlinecolor": "#2a3f5f"
            },
            "baxis": {
             "endlinecolor": "#2a3f5f",
             "gridcolor": "white",
             "linecolor": "white",
             "minorgridcolor": "white",
             "startlinecolor": "#2a3f5f"
            },
            "type": "carpet"
           }
          ],
          "choropleth": [
           {
            "colorbar": {
             "outlinewidth": 0,
             "ticks": ""
            },
            "type": "choropleth"
           }
          ],
          "contour": [
           {
            "colorbar": {
             "outlinewidth": 0,
             "ticks": ""
            },
            "colorscale": [
             [
              0,
              "#0d0887"
             ],
             [
              0.1111111111111111,
              "#46039f"
             ],
             [
              0.2222222222222222,
              "#7201a8"
             ],
             [
              0.3333333333333333,
              "#9c179e"
             ],
             [
              0.4444444444444444,
              "#bd3786"
             ],
             [
              0.5555555555555556,
              "#d8576b"
             ],
             [
              0.6666666666666666,
              "#ed7953"
             ],
             [
              0.7777777777777778,
              "#fb9f3a"
             ],
             [
              0.8888888888888888,
              "#fdca26"
             ],
             [
              1,
              "#f0f921"
             ]
            ],
            "type": "contour"
           }
          ],
          "contourcarpet": [
           {
            "colorbar": {
             "outlinewidth": 0,
             "ticks": ""
            },
            "type": "contourcarpet"
           }
          ],
          "heatmap": [
           {
            "colorbar": {
             "outlinewidth": 0,
             "ticks": ""
            },
            "colorscale": [
             [
              0,
              "#0d0887"
             ],
             [
              0.1111111111111111,
              "#46039f"
             ],
             [
              0.2222222222222222,
              "#7201a8"
             ],
             [
              0.3333333333333333,
              "#9c179e"
             ],
             [
              0.4444444444444444,
              "#bd3786"
             ],
             [
              0.5555555555555556,
              "#d8576b"
             ],
             [
              0.6666666666666666,
              "#ed7953"
             ],
             [
              0.7777777777777778,
              "#fb9f3a"
             ],
             [
              0.8888888888888888,
              "#fdca26"
             ],
             [
              1,
              "#f0f921"
             ]
            ],
            "type": "heatmap"
           }
          ],
          "heatmapgl": [
           {
            "colorbar": {
             "outlinewidth": 0,
             "ticks": ""
            },
            "colorscale": [
             [
              0,
              "#0d0887"
             ],
             [
              0.1111111111111111,
              "#46039f"
             ],
             [
              0.2222222222222222,
              "#7201a8"
             ],
             [
              0.3333333333333333,
              "#9c179e"
             ],
             [
              0.4444444444444444,
              "#bd3786"
             ],
             [
              0.5555555555555556,
              "#d8576b"
             ],
             [
              0.6666666666666666,
              "#ed7953"
             ],
             [
              0.7777777777777778,
              "#fb9f3a"
             ],
             [
              0.8888888888888888,
              "#fdca26"
             ],
             [
              1,
              "#f0f921"
             ]
            ],
            "type": "heatmapgl"
           }
          ],
          "histogram": [
           {
            "marker": {
             "pattern": {
              "fillmode": "overlay",
              "size": 10,
              "solidity": 0.2
             }
            },
            "type": "histogram"
           }
          ],
          "histogram2d": [
           {
            "colorbar": {
             "outlinewidth": 0,
             "ticks": ""
            },
            "colorscale": [
             [
              0,
              "#0d0887"
             ],
             [
              0.1111111111111111,
              "#46039f"
             ],
             [
              0.2222222222222222,
              "#7201a8"
             ],
             [
              0.3333333333333333,
              "#9c179e"
             ],
             [
              0.4444444444444444,
              "#bd3786"
             ],
             [
              0.5555555555555556,
              "#d8576b"
             ],
             [
              0.6666666666666666,
              "#ed7953"
             ],
             [
              0.7777777777777778,
              "#fb9f3a"
             ],
             [
              0.8888888888888888,
              "#fdca26"
             ],
             [
              1,
              "#f0f921"
             ]
            ],
            "type": "histogram2d"
           }
          ],
          "histogram2dcontour": [
           {
            "colorbar": {
             "outlinewidth": 0,
             "ticks": ""
            },
            "colorscale": [
             [
              0,
              "#0d0887"
             ],
             [
              0.1111111111111111,
              "#46039f"
             ],
             [
              0.2222222222222222,
              "#7201a8"
             ],
             [
              0.3333333333333333,
              "#9c179e"
             ],
             [
              0.4444444444444444,
              "#bd3786"
             ],
             [
              0.5555555555555556,
              "#d8576b"
             ],
             [
              0.6666666666666666,
              "#ed7953"
             ],
             [
              0.7777777777777778,
              "#fb9f3a"
             ],
             [
              0.8888888888888888,
              "#fdca26"
             ],
             [
              1,
              "#f0f921"
             ]
            ],
            "type": "histogram2dcontour"
           }
          ],
          "mesh3d": [
           {
            "colorbar": {
             "outlinewidth": 0,
             "ticks": ""
            },
            "type": "mesh3d"
           }
          ],
          "parcoords": [
           {
            "line": {
             "colorbar": {
              "outlinewidth": 0,
              "ticks": ""
             }
            },
            "type": "parcoords"
           }
          ],
          "pie": [
           {
            "automargin": true,
            "type": "pie"
           }
          ],
          "scatter": [
           {
            "fillpattern": {
             "fillmode": "overlay",
             "size": 10,
             "solidity": 0.2
            },
            "type": "scatter"
           }
          ],
          "scatter3d": [
           {
            "line": {
             "colorbar": {
              "outlinewidth": 0,
              "ticks": ""
             }
            },
            "marker": {
             "colorbar": {
              "outlinewidth": 0,
              "ticks": ""
             }
            },
            "type": "scatter3d"
           }
          ],
          "scattercarpet": [
           {
            "marker": {
             "colorbar": {
              "outlinewidth": 0,
              "ticks": ""
             }
            },
            "type": "scattercarpet"
           }
          ],
          "scattergeo": [
           {
            "marker": {
             "colorbar": {
              "outlinewidth": 0,
              "ticks": ""
             }
            },
            "type": "scattergeo"
           }
          ],
          "scattergl": [
           {
            "marker": {
             "colorbar": {
              "outlinewidth": 0,
              "ticks": ""
             }
            },
            "type": "scattergl"
           }
          ],
          "scattermapbox": [
           {
            "marker": {
             "colorbar": {
              "outlinewidth": 0,
              "ticks": ""
             }
            },
            "type": "scattermapbox"
           }
          ],
          "scatterpolar": [
           {
            "marker": {
             "colorbar": {
              "outlinewidth": 0,
              "ticks": ""
             }
            },
            "type": "scatterpolar"
           }
          ],
          "scatterpolargl": [
           {
            "marker": {
             "colorbar": {
              "outlinewidth": 0,
              "ticks": ""
             }
            },
            "type": "scatterpolargl"
           }
          ],
          "scatterternary": [
           {
            "marker": {
             "colorbar": {
              "outlinewidth": 0,
              "ticks": ""
             }
            },
            "type": "scatterternary"
           }
          ],
          "surface": [
           {
            "colorbar": {
             "outlinewidth": 0,
             "ticks": ""
            },
            "colorscale": [
             [
              0,
              "#0d0887"
             ],
             [
              0.1111111111111111,
              "#46039f"
             ],
             [
              0.2222222222222222,
              "#7201a8"
             ],
             [
              0.3333333333333333,
              "#9c179e"
             ],
             [
              0.4444444444444444,
              "#bd3786"
             ],
             [
              0.5555555555555556,
              "#d8576b"
             ],
             [
              0.6666666666666666,
              "#ed7953"
             ],
             [
              0.7777777777777778,
              "#fb9f3a"
             ],
             [
              0.8888888888888888,
              "#fdca26"
             ],
             [
              1,
              "#f0f921"
             ]
            ],
            "type": "surface"
           }
          ],
          "table": [
           {
            "cells": {
             "fill": {
              "color": "#EBF0F8"
             },
             "line": {
              "color": "white"
             }
            },
            "header": {
             "fill": {
              "color": "#C8D4E3"
             },
             "line": {
              "color": "white"
             }
            },
            "type": "table"
           }
          ]
         },
         "layout": {
          "annotationdefaults": {
           "arrowcolor": "#2a3f5f",
           "arrowhead": 0,
           "arrowwidth": 1
          },
          "autotypenumbers": "strict",
          "coloraxis": {
           "colorbar": {
            "outlinewidth": 0,
            "ticks": ""
           }
          },
          "colorscale": {
           "diverging": [
            [
             0,
             "#8e0152"
            ],
            [
             0.1,
             "#c51b7d"
            ],
            [
             0.2,
             "#de77ae"
            ],
            [
             0.3,
             "#f1b6da"
            ],
            [
             0.4,
             "#fde0ef"
            ],
            [
             0.5,
             "#f7f7f7"
            ],
            [
             0.6,
             "#e6f5d0"
            ],
            [
             0.7,
             "#b8e186"
            ],
            [
             0.8,
             "#7fbc41"
            ],
            [
             0.9,
             "#4d9221"
            ],
            [
             1,
             "#276419"
            ]
           ],
           "sequential": [
            [
             0,
             "#0d0887"
            ],
            [
             0.1111111111111111,
             "#46039f"
            ],
            [
             0.2222222222222222,
             "#7201a8"
            ],
            [
             0.3333333333333333,
             "#9c179e"
            ],
            [
             0.4444444444444444,
             "#bd3786"
            ],
            [
             0.5555555555555556,
             "#d8576b"
            ],
            [
             0.6666666666666666,
             "#ed7953"
            ],
            [
             0.7777777777777778,
             "#fb9f3a"
            ],
            [
             0.8888888888888888,
             "#fdca26"
            ],
            [
             1,
             "#f0f921"
            ]
           ],
           "sequentialminus": [
            [
             0,
             "#0d0887"
            ],
            [
             0.1111111111111111,
             "#46039f"
            ],
            [
             0.2222222222222222,
             "#7201a8"
            ],
            [
             0.3333333333333333,
             "#9c179e"
            ],
            [
             0.4444444444444444,
             "#bd3786"
            ],
            [
             0.5555555555555556,
             "#d8576b"
            ],
            [
             0.6666666666666666,
             "#ed7953"
            ],
            [
             0.7777777777777778,
             "#fb9f3a"
            ],
            [
             0.8888888888888888,
             "#fdca26"
            ],
            [
             1,
             "#f0f921"
            ]
           ]
          },
          "colorway": [
           "#636efa",
           "#EF553B",
           "#00cc96",
           "#ab63fa",
           "#FFA15A",
           "#19d3f3",
           "#FF6692",
           "#B6E880",
           "#FF97FF",
           "#FECB52"
          ],
          "font": {
           "color": "#2a3f5f"
          },
          "geo": {
           "bgcolor": "white",
           "lakecolor": "white",
           "landcolor": "#E5ECF6",
           "showlakes": true,
           "showland": true,
           "subunitcolor": "white"
          },
          "hoverlabel": {
           "align": "left"
          },
          "hovermode": "closest",
          "mapbox": {
           "style": "light"
          },
          "paper_bgcolor": "white",
          "plot_bgcolor": "#E5ECF6",
          "polar": {
           "angularaxis": {
            "gridcolor": "white",
            "linecolor": "white",
            "ticks": ""
           },
           "bgcolor": "#E5ECF6",
           "radialaxis": {
            "gridcolor": "white",
            "linecolor": "white",
            "ticks": ""
           }
          },
          "scene": {
           "xaxis": {
            "backgroundcolor": "#E5ECF6",
            "gridcolor": "white",
            "gridwidth": 2,
            "linecolor": "white",
            "showbackground": true,
            "ticks": "",
            "zerolinecolor": "white"
           },
           "yaxis": {
            "backgroundcolor": "#E5ECF6",
            "gridcolor": "white",
            "gridwidth": 2,
            "linecolor": "white",
            "showbackground": true,
            "ticks": "",
            "zerolinecolor": "white"
           },
           "zaxis": {
            "backgroundcolor": "#E5ECF6",
            "gridcolor": "white",
            "gridwidth": 2,
            "linecolor": "white",
            "showbackground": true,
            "ticks": "",
            "zerolinecolor": "white"
           }
          },
          "shapedefaults": {
           "line": {
            "color": "#2a3f5f"
           }
          },
          "ternary": {
           "aaxis": {
            "gridcolor": "white",
            "linecolor": "white",
            "ticks": ""
           },
           "baxis": {
            "gridcolor": "white",
            "linecolor": "white",
            "ticks": ""
           },
           "bgcolor": "#E5ECF6",
           "caxis": {
            "gridcolor": "white",
            "linecolor": "white",
            "ticks": ""
           }
          },
          "title": {
           "x": 0.05
          },
          "xaxis": {
           "automargin": true,
           "gridcolor": "white",
           "linecolor": "white",
           "ticks": "",
           "title": {
            "standoff": 15
           },
           "zerolinecolor": "white",
           "zerolinewidth": 2
          },
          "yaxis": {
           "automargin": true,
           "gridcolor": "white",
           "linecolor": "white",
           "ticks": "",
           "title": {
            "standoff": 15
           },
           "zerolinecolor": "white",
           "zerolinewidth": 2
          }
         }
        },
        "title": {
         "text": "model_att Fold 3 Training Metrics"
        },
        "xaxis": {
         "anchor": "y",
         "domain": [
          0,
          0.45
         ],
         "title": {
          "text": "Epoch"
         }
        },
        "xaxis2": {
         "anchor": "y2",
         "domain": [
          0.55,
          1
         ],
         "title": {
          "text": "Epoch"
         }
        },
        "yaxis": {
         "anchor": "x",
         "domain": [
          0,
          1
         ],
         "title": {
          "text": "Loss"
         }
        },
        "yaxis2": {
         "anchor": "x2",
         "domain": [
          0,
          1
         ],
         "title": {
          "text": "Harrell's C"
         }
        }
       }
      }
     },
     "metadata": {},
     "output_type": "display_data"
    },
    {
     "name": "stdout",
     "output_type": "stream",
     "text": [
      "Fold 4/5\n",
      "The input shape of model is: (None, None, 49)\n",
      "The output shape of model is: [(1, 1), (None, None, 1)]\n",
      "Epoch 1/100\n"
     ]
    },
    {
     "name": "stderr",
     "output_type": "stream",
     "text": [
      "/opt/anaconda3/envs/mil/lib/python3.8/site-packages/tensorflow/python/framework/indexed_slices.py:448: UserWarning:\n",
      "\n",
      "Converting sparse IndexedSlices(IndexedSlices(indices=Tensor(\"gradient_tape/model_3/input.to_tensor_3/RaggedToTensor/boolean_mask_1/GatherV2:0\", shape=(None,), dtype=int32), values=Tensor(\"gradient_tape/model_3/input.to_tensor_3/RaggedToTensor/boolean_mask/GatherV2:0\", shape=(None, 49), dtype=float32), dense_shape=Tensor(\"gradient_tape/model_3/input.to_tensor_3/RaggedToTensor/Shape:0\", shape=(2,), dtype=int32))) to a dense Tensor of unknown shape. This may consume a large amount of memory.\n",
      "\n",
      "/opt/anaconda3/envs/mil/lib/python3.8/site-packages/tensorflow/python/framework/indexed_slices.py:448: UserWarning:\n",
      "\n",
      "Converting sparse IndexedSlices(IndexedSlices(indices=Tensor(\"gradient_tape/model_3/tf.math.divide_no_nan_3/RaggedTile/Reshape_3:0\", shape=(None,), dtype=int64), values=Tensor(\"gradient_tape/model_3/tf.math.divide_no_nan_3/RaggedTile/Reshape_2:0\", shape=(None, 1), dtype=float32), dense_shape=Tensor(\"gradient_tape/model_3/tf.math.divide_no_nan_3/RaggedTile/Cast:0\", shape=(2,), dtype=int32))) to a dense Tensor of unknown shape. This may consume a large amount of memory.\n",
      "\n"
     ]
    },
    {
     "name": "stdout",
     "output_type": "stream",
     "text": [
      "19/19 [==============================] - 5s 100ms/step - loss: 31.5102 - risk_loss: 31.5102 - risk_harrellsc: 0.5305 - val_loss: 22.1587 - val_risk_loss: 22.1587 - val_risk_harrellsc: 0.5354\n",
      "Epoch 2/100\n",
      "19/19 [==============================] - 0s 13ms/step - loss: 29.3872 - risk_loss: 29.3872 - risk_harrellsc: 0.5588 - val_loss: 21.8552 - val_risk_loss: 21.8552 - val_risk_harrellsc: 0.3876\n",
      "Epoch 3/100\n",
      "19/19 [==============================] - 0s 13ms/step - loss: 28.0353 - risk_loss: 28.0353 - risk_harrellsc: 0.5423 - val_loss: 21.6650 - val_risk_loss: 21.6650 - val_risk_harrellsc: 0.4303\n",
      "Epoch 4/100\n",
      "19/19 [==============================] - 0s 13ms/step - loss: 26.7038 - risk_loss: 26.7038 - risk_harrellsc: 0.5415 - val_loss: 21.5673 - val_risk_loss: 21.5673 - val_risk_harrellsc: 0.3399\n",
      "Epoch 5/100\n",
      "19/19 [==============================] - 0s 13ms/step - loss: 25.3730 - risk_loss: 25.3730 - risk_harrellsc: 0.5310 - val_loss: 21.4643 - val_risk_loss: 21.4643 - val_risk_harrellsc: 0.3876\n",
      "Epoch 6/100\n",
      "19/19 [==============================] - 0s 13ms/step - loss: 24.8672 - risk_loss: 24.8672 - risk_harrellsc: 0.5020 - val_loss: 21.3860 - val_risk_loss: 21.3860 - val_risk_harrellsc: 0.5269\n",
      "Epoch 7/100\n",
      "19/19 [==============================] - 0s 13ms/step - loss: 24.8022 - risk_loss: 24.8022 - risk_harrellsc: 0.5658 - val_loss: 21.3164 - val_risk_loss: 21.3164 - val_risk_harrellsc: 0.3337\n",
      "Epoch 8/100\n",
      "19/19 [==============================] - 0s 15ms/step - loss: 24.7450 - risk_loss: 24.7450 - risk_harrellsc: 0.5085 - val_loss: 21.2716 - val_risk_loss: 21.2716 - val_risk_harrellsc: 0.3707\n",
      "Epoch 9/100\n",
      "19/19 [==============================] - 0s 13ms/step - loss: 24.6950 - risk_loss: 24.6950 - risk_harrellsc: 0.4954 - val_loss: 21.2108 - val_risk_loss: 21.2108 - val_risk_harrellsc: 0.4315\n",
      "Epoch 10/100\n",
      "19/19 [==============================] - 0s 13ms/step - loss: 24.6474 - risk_loss: 24.6474 - risk_harrellsc: 0.5063 - val_loss: 21.1546 - val_risk_loss: 21.1546 - val_risk_harrellsc: 0.3826\n",
      "Epoch 11/100\n",
      "19/19 [==============================] - 0s 13ms/step - loss: 24.6041 - risk_loss: 24.6041 - risk_harrellsc: 0.5167 - val_loss: 21.1035 - val_risk_loss: 21.1035 - val_risk_harrellsc: 0.3930\n",
      "Epoch 12/100\n",
      "19/19 [==============================] - 0s 13ms/step - loss: 24.5648 - risk_loss: 24.5648 - risk_harrellsc: 0.5280 - val_loss: 21.0567 - val_risk_loss: 21.0567 - val_risk_harrellsc: 0.5050\n",
      "Epoch 13/100\n",
      "19/19 [==============================] - 0s 13ms/step - loss: 24.5296 - risk_loss: 24.5296 - risk_harrellsc: 0.5316 - val_loss: 21.0141 - val_risk_loss: 21.0141 - val_risk_harrellsc: 0.3460\n",
      "Epoch 14/100\n",
      "19/19 [==============================] - 0s 13ms/step - loss: 24.4981 - risk_loss: 24.4981 - risk_harrellsc: 0.5275 - val_loss: 20.9757 - val_risk_loss: 20.9757 - val_risk_harrellsc: 0.4407\n",
      "Epoch 15/100\n",
      "19/19 [==============================] - 0s 13ms/step - loss: 24.4714 - risk_loss: 24.4714 - risk_harrellsc: 0.5393 - val_loss: 20.9413 - val_risk_loss: 20.9413 - val_risk_harrellsc: 0.4546\n",
      "Epoch 16/100\n",
      "19/19 [==============================] - 0s 14ms/step - loss: 24.4481 - risk_loss: 24.4481 - risk_harrellsc: 0.5169 - val_loss: 20.9103 - val_risk_loss: 20.9103 - val_risk_harrellsc: 0.5115\n",
      "Epoch 17/100\n",
      "19/19 [==============================] - 0s 14ms/step - loss: 24.4283 - risk_loss: 24.4283 - risk_harrellsc: 0.5084 - val_loss: 20.8826 - val_risk_loss: 20.8826 - val_risk_harrellsc: 0.4411\n",
      "Epoch 18/100\n",
      "19/19 [==============================] - 0s 13ms/step - loss: 24.4114 - risk_loss: 24.4114 - risk_harrellsc: 0.5327 - val_loss: 20.8589 - val_risk_loss: 20.8589 - val_risk_harrellsc: 0.5239\n",
      "Epoch 19/100\n",
      "19/19 [==============================] - 0s 14ms/step - loss: 24.3968 - risk_loss: 24.3968 - risk_harrellsc: 0.5476 - val_loss: 20.8379 - val_risk_loss: 20.8379 - val_risk_harrellsc: 0.4765\n",
      "Epoch 20/100\n",
      "19/19 [==============================] - 0s 14ms/step - loss: 24.3847 - risk_loss: 24.3847 - risk_harrellsc: 0.5771 - val_loss: 20.8200 - val_risk_loss: 20.8200 - val_risk_harrellsc: 0.5308\n",
      "Epoch 21/100\n",
      "19/19 [==============================] - 0s 14ms/step - loss: 24.3742 - risk_loss: 24.3742 - risk_harrellsc: 0.5360 - val_loss: 20.8044 - val_risk_loss: 20.8044 - val_risk_harrellsc: 0.5289\n",
      "Epoch 22/100\n",
      "19/19 [==============================] - 0s 13ms/step - loss: 24.3655 - risk_loss: 24.3655 - risk_harrellsc: 0.5501 - val_loss: 20.7920 - val_risk_loss: 20.7920 - val_risk_harrellsc: 0.3957\n",
      "Epoch 23/100\n",
      "19/19 [==============================] - 0s 13ms/step - loss: 24.3578 - risk_loss: 24.3578 - risk_harrellsc: 0.5399 - val_loss: 20.7816 - val_risk_loss: 20.7816 - val_risk_harrellsc: 0.5023\n",
      "Epoch 24/100\n",
      "19/19 [==============================] - 0s 14ms/step - loss: 24.3511 - risk_loss: 24.3511 - risk_harrellsc: 0.5599 - val_loss: 20.7725 - val_risk_loss: 20.7725 - val_risk_harrellsc: 0.4284\n",
      "Epoch 25/100\n",
      "19/19 [==============================] - 0s 14ms/step - loss: 24.3452 - risk_loss: 24.3452 - risk_harrellsc: 0.4907 - val_loss: 20.7604 - val_risk_loss: 20.7604 - val_risk_harrellsc: 0.4619\n",
      "Epoch 26/100\n",
      "19/19 [==============================] - 0s 13ms/step - loss: 24.3399 - risk_loss: 24.3399 - risk_harrellsc: 0.5368 - val_loss: 20.7550 - val_risk_loss: 20.7550 - val_risk_harrellsc: 0.5427\n",
      "Epoch 27/100\n",
      "19/19 [==============================] - 0s 14ms/step - loss: 24.3351 - risk_loss: 24.3351 - risk_harrellsc: 0.5398 - val_loss: 20.7507 - val_risk_loss: 20.7507 - val_risk_harrellsc: 0.4996\n",
      "Epoch 28/100\n",
      "19/19 [==============================] - 0s 14ms/step - loss: 24.3307 - risk_loss: 24.3307 - risk_harrellsc: 0.5140 - val_loss: 20.7480 - val_risk_loss: 20.7480 - val_risk_harrellsc: 0.4888\n",
      "Epoch 29/100\n",
      "19/19 [==============================] - 0s 13ms/step - loss: 24.3266 - risk_loss: 24.3266 - risk_harrellsc: 0.5445 - val_loss: 20.7460 - val_risk_loss: 20.7460 - val_risk_harrellsc: 0.4600\n",
      "Epoch 30/100\n",
      "19/19 [==============================] - 0s 16ms/step - loss: 24.3229 - risk_loss: 24.3229 - risk_harrellsc: 0.4978 - val_loss: 20.7449 - val_risk_loss: 20.7449 - val_risk_harrellsc: 0.4346\n",
      "Epoch 31/100\n",
      "19/19 [==============================] - 0s 14ms/step - loss: 24.3193 - risk_loss: 24.3193 - risk_harrellsc: 0.5569 - val_loss: 20.7448 - val_risk_loss: 20.7448 - val_risk_harrellsc: 0.3841\n",
      "Epoch 32/100\n",
      "19/19 [==============================] - 0s 13ms/step - loss: 24.3158 - risk_loss: 24.3158 - risk_harrellsc: 0.5347 - val_loss: 20.7450 - val_risk_loss: 20.7450 - val_risk_harrellsc: 0.4165\n",
      "Epoch 33/100\n",
      "19/19 [==============================] - 0s 13ms/step - loss: 24.3127 - risk_loss: 24.3127 - risk_harrellsc: 0.5379 - val_loss: 20.7457 - val_risk_loss: 20.7457 - val_risk_harrellsc: 0.4769\n",
      "Epoch 34/100\n",
      "19/19 [==============================] - 0s 13ms/step - loss: 24.3095 - risk_loss: 24.3095 - risk_harrellsc: 0.5203 - val_loss: 20.7477 - val_risk_loss: 20.7477 - val_risk_harrellsc: 0.4457\n",
      "Epoch 35/100\n",
      "19/19 [==============================] - 0s 14ms/step - loss: 24.3065 - risk_loss: 24.3065 - risk_harrellsc: 0.5217 - val_loss: 20.7497 - val_risk_loss: 20.7497 - val_risk_harrellsc: 0.4707\n",
      "Epoch 36/100\n",
      "19/19 [==============================] - 0s 13ms/step - loss: 24.3036 - risk_loss: 24.3036 - risk_harrellsc: 0.5014 - val_loss: 20.7521 - val_risk_loss: 20.7521 - val_risk_harrellsc: 0.4346\n",
      "Epoch 37/100\n",
      "19/19 [==============================] - 0s 13ms/step - loss: 24.3007 - risk_loss: 24.3007 - risk_harrellsc: 0.5356 - val_loss: 20.7548 - val_risk_loss: 20.7548 - val_risk_harrellsc: 0.4719\n",
      "Epoch 38/100\n",
      "19/19 [==============================] - 0s 15ms/step - loss: 24.2977 - risk_loss: 24.2977 - risk_harrellsc: 0.5160 - val_loss: 20.7583 - val_risk_loss: 20.7583 - val_risk_harrellsc: 0.4342\n",
      "Epoch 39/100\n",
      "19/19 [==============================] - 0s 15ms/step - loss: 24.2947 - risk_loss: 24.2947 - risk_harrellsc: 0.4896 - val_loss: 20.7623 - val_risk_loss: 20.7623 - val_risk_harrellsc: 0.4469\n",
      "Epoch 40/100\n",
      "19/19 [==============================] - 0s 13ms/step - loss: 24.2918 - risk_loss: 24.2918 - risk_harrellsc: 0.5049 - val_loss: 20.7660 - val_risk_loss: 20.7660 - val_risk_harrellsc: 0.5312\n",
      "Epoch 41/100\n",
      "19/19 [==============================] - 0s 13ms/step - loss: 24.2890 - risk_loss: 24.2890 - risk_harrellsc: 0.5401 - val_loss: 20.7708 - val_risk_loss: 20.7708 - val_risk_harrellsc: 0.4746\n",
      "Epoch 42/100\n",
      "19/19 [==============================] - 0s 13ms/step - loss: 24.2861 - risk_loss: 24.2861 - risk_harrellsc: 0.5313 - val_loss: 20.7753 - val_risk_loss: 20.7753 - val_risk_harrellsc: 0.5404\n",
      "Epoch 43/100\n",
      "19/19 [==============================] - 0s 13ms/step - loss: 24.2786 - risk_loss: 24.2786 - risk_harrellsc: 0.5609 - val_loss: 20.7824 - val_risk_loss: 20.7824 - val_risk_harrellsc: 0.3714\n",
      "Epoch 44/100\n",
      "19/19 [==============================] - 0s 13ms/step - loss: 24.2756 - risk_loss: 24.2756 - risk_harrellsc: 0.5620 - val_loss: 20.7881 - val_risk_loss: 20.7881 - val_risk_harrellsc: 0.5300\n",
      "Epoch 45/100\n",
      "19/19 [==============================] - 0s 14ms/step - loss: 24.2730 - risk_loss: 24.2730 - risk_harrellsc: 0.5503 - val_loss: 20.7934 - val_risk_loss: 20.7934 - val_risk_harrellsc: 0.4819\n",
      "Epoch 46/100\n",
      "19/19 [==============================] - 0s 13ms/step - loss: 24.2704 - risk_loss: 24.2704 - risk_harrellsc: 0.5086 - val_loss: 20.7986 - val_risk_loss: 20.7986 - val_risk_harrellsc: 0.4938\n",
      "Epoch 47/100\n",
      "19/19 [==============================] - 0s 15ms/step - loss: 24.2678 - risk_loss: 24.2678 - risk_harrellsc: 0.5534 - val_loss: 20.8034 - val_risk_loss: 20.8034 - val_risk_harrellsc: 0.5523\n",
      "Epoch 48/100\n",
      "19/19 [==============================] - 0s 13ms/step - loss: 24.2652 - risk_loss: 24.2652 - risk_harrellsc: 0.5599 - val_loss: 20.8082 - val_risk_loss: 20.8082 - val_risk_harrellsc: 0.4288\n",
      "Epoch 49/100\n",
      "19/19 [==============================] - 0s 14ms/step - loss: 24.2626 - risk_loss: 24.2626 - risk_harrellsc: 0.5624 - val_loss: 20.8136 - val_risk_loss: 20.8136 - val_risk_harrellsc: 0.3741\n",
      "Epoch 50/100\n",
      "19/19 [==============================] - 0s 15ms/step - loss: 24.2611 - risk_loss: 24.2611 - risk_harrellsc: 0.5554 - val_loss: 20.8227 - val_risk_loss: 20.8227 - val_risk_harrellsc: 0.4323\n",
      "Epoch 51/100\n",
      "19/19 [==============================] - 0s 13ms/step - loss: 24.2584 - risk_loss: 24.2584 - risk_harrellsc: 0.5414 - val_loss: 20.8301 - val_risk_loss: 20.8301 - val_risk_harrellsc: 0.3976\n",
      "Epoch 52/100\n",
      "19/19 [==============================] - 0s 13ms/step - loss: 24.2559 - risk_loss: 24.2559 - risk_harrellsc: 0.5792 - val_loss: 20.8364 - val_risk_loss: 20.8364 - val_risk_harrellsc: 0.4692\n",
      "Epoch 53/100\n",
      "19/19 [==============================] - 0s 13ms/step - loss: 24.2534 - risk_loss: 24.2534 - risk_harrellsc: 0.5466 - val_loss: 20.8420 - val_risk_loss: 20.8420 - val_risk_harrellsc: 0.4353\n",
      "Epoch 54/100\n",
      "19/19 [==============================] - 0s 13ms/step - loss: 24.2510 - risk_loss: 24.2510 - risk_harrellsc: 0.5681 - val_loss: 20.8475 - val_risk_loss: 20.8475 - val_risk_harrellsc: 0.4973\n",
      "Epoch 55/100\n",
      "19/19 [==============================] - 0s 13ms/step - loss: 24.2485 - risk_loss: 24.2485 - risk_harrellsc: 0.5423 - val_loss: 20.8527 - val_risk_loss: 20.8527 - val_risk_harrellsc: 0.4842\n",
      "Epoch 56/100\n",
      "19/19 [==============================] - 0s 13ms/step - loss: 24.2469 - risk_loss: 24.2469 - risk_harrellsc: 0.5365 - val_loss: 20.8627 - val_risk_loss: 20.8627 - val_risk_harrellsc: 0.4142\n",
      "Epoch 57/100\n",
      "19/19 [==============================] - 0s 15ms/step - loss: 24.2445 - risk_loss: 24.2445 - risk_harrellsc: 0.5277 - val_loss: 20.8699 - val_risk_loss: 20.8699 - val_risk_harrellsc: 0.4484\n",
      "Epoch 58/100\n",
      "19/19 [==============================] - 0s 13ms/step - loss: 24.2418 - risk_loss: 24.2418 - risk_harrellsc: 0.5601 - val_loss: 20.8755 - val_risk_loss: 20.8755 - val_risk_harrellsc: 0.4823\n",
      "Epoch 59/100\n",
      "19/19 [==============================] - 0s 13ms/step - loss: 24.2391 - risk_loss: 24.2391 - risk_harrellsc: 0.5790 - val_loss: 20.8807 - val_risk_loss: 20.8807 - val_risk_harrellsc: 0.4315\n",
      "Epoch 60/100\n",
      "19/19 [==============================] - 0s 13ms/step - loss: 24.2365 - risk_loss: 24.2365 - risk_harrellsc: 0.5398 - val_loss: 20.8861 - val_risk_loss: 20.8861 - val_risk_harrellsc: 0.3776\n",
      "Epoch 61/100\n",
      "19/19 [==============================] - 0s 13ms/step - loss: 24.2336 - risk_loss: 24.2336 - risk_harrellsc: 0.5676 - val_loss: 20.8911 - val_risk_loss: 20.8911 - val_risk_harrellsc: 0.4823\n",
      "Epoch 62/100\n",
      "19/19 [==============================] - 0s 14ms/step - loss: 24.2316 - risk_loss: 24.2316 - risk_harrellsc: 0.5391 - val_loss: 20.8947 - val_risk_loss: 20.8947 - val_risk_harrellsc: 0.4434\n",
      "Epoch 63/100\n",
      "19/19 [==============================] - 0s 14ms/step - loss: 24.2295 - risk_loss: 24.2295 - risk_harrellsc: 0.5432 - val_loss: 20.9006 - val_risk_loss: 20.9006 - val_risk_harrellsc: 0.4623\n",
      "Epoch 64/100\n",
      "19/19 [==============================] - 0s 13ms/step - loss: 24.2274 - risk_loss: 24.2274 - risk_harrellsc: 0.5641 - val_loss: 20.9043 - val_risk_loss: 20.9043 - val_risk_harrellsc: 0.4092\n",
      "Epoch 65/100\n",
      "19/19 [==============================] - 0s 13ms/step - loss: 24.2249 - risk_loss: 24.2249 - risk_harrellsc: 0.5453 - val_loss: 20.9079 - val_risk_loss: 20.9079 - val_risk_harrellsc: 0.5589\n",
      "Epoch 66/100\n",
      "19/19 [==============================] - 0s 13ms/step - loss: 24.2224 - risk_loss: 24.2224 - risk_harrellsc: 0.5642 - val_loss: 21.2643 - val_risk_loss: 21.2643 - val_risk_harrellsc: 0.4477\n",
      "Epoch 67/100\n",
      "19/19 [==============================] - 0s 16ms/step - loss: 24.2199 - risk_loss: 24.2199 - risk_harrellsc: 0.5605 - val_loss: 21.2721 - val_risk_loss: 21.2721 - val_risk_harrellsc: 0.3634\n",
      "Epoch 68/100\n",
      "19/19 [==============================] - 0s 14ms/step - loss: 24.2187 - risk_loss: 24.2187 - risk_harrellsc: 0.5555 - val_loss: 21.2852 - val_risk_loss: 21.2852 - val_risk_harrellsc: 0.3645\n",
      "Epoch 69/100\n",
      "19/19 [==============================] - 0s 13ms/step - loss: 24.2159 - risk_loss: 24.2159 - risk_harrellsc: 0.5451 - val_loss: 21.2949 - val_risk_loss: 21.2949 - val_risk_harrellsc: 0.4627\n",
      "Epoch 70/100\n",
      "19/19 [==============================] - 0s 13ms/step - loss: 24.2133 - risk_loss: 24.2133 - risk_harrellsc: 0.5611 - val_loss: 21.3017 - val_risk_loss: 21.3017 - val_risk_harrellsc: 0.4627\n",
      "Epoch 71/100\n",
      "19/19 [==============================] - 0s 13ms/step - loss: 24.2106 - risk_loss: 24.2106 - risk_harrellsc: 0.5119 - val_loss: 21.3072 - val_risk_loss: 21.3072 - val_risk_harrellsc: 0.5231\n",
      "Epoch 72/100\n",
      "19/19 [==============================] - 0s 13ms/step - loss: 24.2079 - risk_loss: 24.2079 - risk_harrellsc: 0.5201 - val_loss: 21.3112 - val_risk_loss: 21.3112 - val_risk_harrellsc: 0.5724\n",
      "Epoch 73/100\n",
      "19/19 [==============================] - 0s 13ms/step - loss: 24.2052 - risk_loss: 24.2052 - risk_harrellsc: 0.5771 - val_loss: 21.3136 - val_risk_loss: 21.3136 - val_risk_harrellsc: 0.4773\n",
      "Epoch 74/100\n",
      "19/19 [==============================] - 0s 13ms/step - loss: 24.2042 - risk_loss: 24.2042 - risk_harrellsc: 0.5591 - val_loss: 21.3168 - val_risk_loss: 21.3168 - val_risk_harrellsc: 0.4496\n",
      "Epoch 75/100\n",
      "19/19 [==============================] - 0s 15ms/step - loss: 24.2004 - risk_loss: 24.2004 - risk_harrellsc: 0.5376 - val_loss: 21.3210 - val_risk_loss: 21.3210 - val_risk_harrellsc: 0.4373\n",
      "Epoch 76/100\n",
      "19/19 [==============================] - 0s 14ms/step - loss: 24.1974 - risk_loss: 24.1974 - risk_harrellsc: 0.5362 - val_loss: 21.3233 - val_risk_loss: 21.3233 - val_risk_harrellsc: 0.5289\n",
      "Epoch 77/100\n",
      "19/19 [==============================] - 0s 14ms/step - loss: 24.1944 - risk_loss: 24.1944 - risk_harrellsc: 0.5547 - val_loss: 21.3231 - val_risk_loss: 21.3231 - val_risk_harrellsc: 0.5216\n",
      "Epoch 78/100\n",
      "19/19 [==============================] - 0s 13ms/step - loss: 24.1908 - risk_loss: 24.1908 - risk_harrellsc: 0.5768 - val_loss: 21.3196 - val_risk_loss: 21.3196 - val_risk_harrellsc: 0.5142\n",
      "Epoch 79/100\n",
      "19/19 [==============================] - 0s 15ms/step - loss: 24.1894 - risk_loss: 24.1894 - risk_harrellsc: 0.5559 - val_loss: 21.3192 - val_risk_loss: 21.3192 - val_risk_harrellsc: 0.4361\n",
      "Epoch 80/100\n",
      "19/19 [==============================] - 0s 14ms/step - loss: 24.1852 - risk_loss: 24.1852 - risk_harrellsc: 0.5281 - val_loss: 21.3178 - val_risk_loss: 21.3178 - val_risk_harrellsc: 0.3753\n",
      "Epoch 81/100\n",
      "19/19 [==============================] - 0s 14ms/step - loss: 24.1786 - risk_loss: 24.1786 - risk_harrellsc: 0.5791 - val_loss: 21.3029 - val_risk_loss: 21.3029 - val_risk_harrellsc: 0.4950\n",
      "Epoch 82/100\n",
      "19/19 [==============================] - 0s 13ms/step - loss: 24.1742 - risk_loss: 24.1742 - risk_harrellsc: 0.5471 - val_loss: 21.2880 - val_risk_loss: 21.2880 - val_risk_harrellsc: 0.5127\n",
      "Epoch 83/100\n",
      "19/19 [==============================] - 0s 14ms/step - loss: 24.1718 - risk_loss: 24.1718 - risk_harrellsc: 0.5226 - val_loss: 21.2812 - val_risk_loss: 21.2812 - val_risk_harrellsc: 0.5674\n",
      "Epoch 84/100\n",
      "19/19 [==============================] - 0s 13ms/step - loss: 24.1677 - risk_loss: 24.1677 - risk_harrellsc: 0.5328 - val_loss: 21.2743 - val_risk_loss: 21.2743 - val_risk_harrellsc: 0.3764\n",
      "Epoch 85/100\n",
      "19/19 [==============================] - 0s 15ms/step - loss: 24.1637 - risk_loss: 24.1637 - risk_harrellsc: 0.5322 - val_loss: 21.2666 - val_risk_loss: 21.2666 - val_risk_harrellsc: 0.5035\n",
      "Epoch 86/100\n",
      "19/19 [==============================] - 0s 13ms/step - loss: 24.1596 - risk_loss: 24.1596 - risk_harrellsc: 0.5335 - val_loss: 21.2571 - val_risk_loss: 21.2571 - val_risk_harrellsc: 0.5993\n",
      "Epoch 87/100\n",
      "19/19 [==============================] - 0s 14ms/step - loss: 24.1633 - risk_loss: 24.1633 - risk_harrellsc: 0.5682 - val_loss: 21.2510 - val_risk_loss: 21.2510 - val_risk_harrellsc: 0.5223\n",
      "Epoch 88/100\n",
      "19/19 [==============================] - 0s 14ms/step - loss: 24.1586 - risk_loss: 24.1586 - risk_harrellsc: 0.5345 - val_loss: 21.2427 - val_risk_loss: 21.2427 - val_risk_harrellsc: 0.5647\n",
      "Epoch 89/100\n",
      "19/19 [==============================] - 0s 13ms/step - loss: 24.1545 - risk_loss: 24.1545 - risk_harrellsc: 0.5293 - val_loss: 21.2325 - val_risk_loss: 21.2325 - val_risk_harrellsc: 0.5358\n",
      "Epoch 90/100\n",
      "19/19 [==============================] - 0s 14ms/step - loss: 24.1502 - risk_loss: 24.1502 - risk_harrellsc: 0.5651 - val_loss: 21.2201 - val_risk_loss: 21.2201 - val_risk_harrellsc: 0.4561\n",
      "Epoch 91/100\n",
      "19/19 [==============================] - 0s 13ms/step - loss: 24.1482 - risk_loss: 24.1482 - risk_harrellsc: 0.5421 - val_loss: 21.2101 - val_risk_loss: 21.2101 - val_risk_harrellsc: 0.3626\n",
      "Epoch 92/100\n",
      "19/19 [==============================] - 0s 14ms/step - loss: 24.1433 - risk_loss: 24.1433 - risk_harrellsc: 0.5657 - val_loss: 21.2025 - val_risk_loss: 21.2025 - val_risk_harrellsc: 0.4969\n",
      "Epoch 93/100\n",
      "19/19 [==============================] - 0s 16ms/step - loss: 24.1383 - risk_loss: 24.1383 - risk_harrellsc: 0.5294 - val_loss: 21.1924 - val_risk_loss: 21.1924 - val_risk_harrellsc: 0.4627\n",
      "Epoch 94/100\n",
      "19/19 [==============================] - 0s 13ms/step - loss: 24.1351 - risk_loss: 24.1351 - risk_harrellsc: 0.5593 - val_loss: 21.1869 - val_risk_loss: 21.1869 - val_risk_harrellsc: 0.4554\n",
      "Epoch 95/100\n",
      "19/19 [==============================] - 0s 14ms/step - loss: 24.1304 - risk_loss: 24.1304 - risk_harrellsc: 0.5481 - val_loss: 21.1778 - val_risk_loss: 21.1778 - val_risk_harrellsc: 0.4469\n",
      "Epoch 96/100\n",
      "19/19 [==============================] - 0s 14ms/step - loss: 24.1261 - risk_loss: 24.1261 - risk_harrellsc: 0.5823 - val_loss: 21.1663 - val_risk_loss: 21.1663 - val_risk_harrellsc: 0.4577\n",
      "Epoch 97/100\n",
      "19/19 [==============================] - 0s 15ms/step - loss: 24.1231 - risk_loss: 24.1231 - risk_harrellsc: 0.5619 - val_loss: 21.1599 - val_risk_loss: 21.1599 - val_risk_harrellsc: 0.5000\n",
      "Epoch 98/100\n",
      "19/19 [==============================] - 0s 14ms/step - loss: 24.1183 - risk_loss: 24.1183 - risk_harrellsc: 0.5403 - val_loss: 21.1487 - val_risk_loss: 21.1487 - val_risk_harrellsc: 0.5227\n",
      "Epoch 99/100\n",
      "19/19 [==============================] - 0s 14ms/step - loss: 24.1145 - risk_loss: 24.1145 - risk_harrellsc: 0.5697 - val_loss: 21.1360 - val_risk_loss: 21.1360 - val_risk_harrellsc: 0.4222\n",
      "Epoch 100/100\n",
      "19/19 [==============================] - 0s 14ms/step - loss: 24.1116 - risk_loss: 24.1116 - risk_harrellsc: 0.5408 - val_loss: 21.1268 - val_risk_loss: 21.1268 - val_risk_harrellsc: 0.4888\n"
     ]
    },
    {
     "data": {
      "application/vnd.plotly.v1+json": {
       "config": {
        "plotlyServerURL": "https://plot.ly"
       },
       "data": [
        {
         "mode": "lines",
         "name": "Train Loss",
         "type": "scatter",
         "x": [
          1,
          2,
          3,
          4,
          5,
          6,
          7,
          8,
          9,
          10,
          11,
          12,
          13,
          14,
          15,
          16,
          17,
          18,
          19,
          20,
          21,
          22,
          23,
          24,
          25,
          26,
          27,
          28,
          29,
          30,
          31,
          32,
          33,
          34,
          35,
          36,
          37,
          38,
          39,
          40,
          41,
          42,
          43,
          44,
          45,
          46,
          47,
          48,
          49,
          50,
          51,
          52,
          53,
          54,
          55,
          56,
          57,
          58,
          59,
          60,
          61,
          62,
          63,
          64,
          65,
          66,
          67,
          68,
          69,
          70,
          71,
          72,
          73,
          74,
          75,
          76,
          77,
          78,
          79,
          80,
          81,
          82,
          83,
          84,
          85,
          86,
          87,
          88,
          89,
          90,
          91,
          92,
          93,
          94,
          95,
          96,
          97,
          98,
          99,
          100
         ],
         "xaxis": "x",
         "y": [
          31.510160446166992,
          29.387239456176758,
          28.035324096679688,
          26.703750610351562,
          25.37300682067871,
          24.86724090576172,
          24.802242279052734,
          24.745014190673828,
          24.69501304626465,
          24.647445678710938,
          24.60413360595703,
          24.564794540405273,
          24.529565811157227,
          24.498064041137695,
          24.471376419067383,
          24.448118209838867,
          24.428255081176758,
          24.411434173583984,
          24.396793365478516,
          24.384662628173828,
          24.374197006225586,
          24.365520477294922,
          24.357826232910156,
          24.35107421875,
          24.345216751098633,
          24.339872360229492,
          24.335060119628906,
          24.3306884765625,
          24.32657241821289,
          24.322856903076172,
          24.319278717041016,
          24.31584358215332,
          24.312667846679688,
          24.309545516967773,
          24.306522369384766,
          24.30359649658203,
          24.300655364990234,
          24.297698974609375,
          24.29473304748535,
          24.291793823242188,
          24.28898048400879,
          24.286121368408203,
          24.27861213684082,
          24.275577545166016,
          24.272991180419922,
          24.27042579650879,
          24.26776885986328,
          24.265195846557617,
          24.26263999938965,
          24.261110305786133,
          24.258407592773438,
          24.25591278076172,
          24.25343894958496,
          24.251022338867188,
          24.248531341552734,
          24.24692726135254,
          24.244461059570312,
          24.241769790649414,
          24.239105224609375,
          24.236494064331055,
          24.23360824584961,
          24.23164939880371,
          24.2294864654541,
          24.22736358642578,
          24.224924087524414,
          24.222444534301758,
          24.21989631652832,
          24.21872901916504,
          24.215940475463867,
          24.213285446166992,
          24.21063232421875,
          24.207914352416992,
          24.20517349243164,
          24.20416259765625,
          24.200441360473633,
          24.19741439819336,
          24.194440841674805,
          24.19076156616211,
          24.189407348632812,
          24.185216903686523,
          24.178640365600586,
          24.17418098449707,
          24.171768188476562,
          24.16766929626465,
          24.16373634338379,
          24.159635543823242,
          24.16334342956543,
          24.15856170654297,
          24.15450096130371,
          24.1501522064209,
          24.148197174072266,
          24.143251419067383,
          24.138343811035156,
          24.135128021240234,
          24.130399703979492,
          24.12611961364746,
          24.12305450439453,
          24.11833953857422,
          24.11452293395996,
          24.111614227294922
         ],
         "yaxis": "y"
        },
        {
         "mode": "lines",
         "name": "Validation Loss",
         "type": "scatter",
         "x": [
          1,
          2,
          3,
          4,
          5,
          6,
          7,
          8,
          9,
          10,
          11,
          12,
          13,
          14,
          15,
          16,
          17,
          18,
          19,
          20,
          21,
          22,
          23,
          24,
          25,
          26,
          27,
          28,
          29,
          30,
          31,
          32,
          33,
          34,
          35,
          36,
          37,
          38,
          39,
          40,
          41,
          42,
          43,
          44,
          45,
          46,
          47,
          48,
          49,
          50,
          51,
          52,
          53,
          54,
          55,
          56,
          57,
          58,
          59,
          60,
          61,
          62,
          63,
          64,
          65,
          66,
          67,
          68,
          69,
          70,
          71,
          72,
          73,
          74,
          75,
          76,
          77,
          78,
          79,
          80,
          81,
          82,
          83,
          84,
          85,
          86,
          87,
          88,
          89,
          90,
          91,
          92,
          93,
          94,
          95,
          96,
          97,
          98,
          99,
          100
         ],
         "xaxis": "x",
         "y": [
          22.158689498901367,
          21.855175018310547,
          21.66499900817871,
          21.567256927490234,
          21.464263916015625,
          21.386009216308594,
          21.31637954711914,
          21.2716064453125,
          21.21076011657715,
          21.154647827148438,
          21.10354232788086,
          21.056730270385742,
          21.014129638671875,
          20.97572898864746,
          20.941293716430664,
          20.91034507751465,
          20.8825626373291,
          20.85892105102539,
          20.837902069091797,
          20.82000160217285,
          20.804443359375,
          20.791950225830078,
          20.781612396240234,
          20.77245330810547,
          20.76043701171875,
          20.754961013793945,
          20.75067138671875,
          20.748044967651367,
          20.746049880981445,
          20.744937896728516,
          20.74476432800293,
          20.745025634765625,
          20.745708465576172,
          20.747678756713867,
          20.749731063842773,
          20.752090454101562,
          20.75479507446289,
          20.758312225341797,
          20.76226806640625,
          20.766016006469727,
          20.770769119262695,
          20.77528953552246,
          20.782350540161133,
          20.788129806518555,
          20.793373107910156,
          20.79857063293457,
          20.803417205810547,
          20.808246612548828,
          20.813594818115234,
          20.822677612304688,
          20.830081939697266,
          20.83637046813965,
          20.842044830322266,
          20.847457885742188,
          20.85272216796875,
          20.86270523071289,
          20.869901657104492,
          20.875471115112305,
          20.880657196044922,
          20.88606071472168,
          20.891098022460938,
          20.894651412963867,
          20.900550842285156,
          20.904293060302734,
          20.90787124633789,
          21.264270782470703,
          21.272144317626953,
          21.285221099853516,
          21.294912338256836,
          21.301715850830078,
          21.30722999572754,
          21.31121826171875,
          21.313566207885742,
          21.316801071166992,
          21.321008682250977,
          21.323326110839844,
          21.323078155517578,
          21.319644927978516,
          21.3192138671875,
          21.317842483520508,
          21.302949905395508,
          21.287988662719727,
          21.28123664855957,
          21.27432632446289,
          21.266584396362305,
          21.257116317749023,
          21.251033782958984,
          21.242692947387695,
          21.2325439453125,
          21.22008514404297,
          21.210147857666016,
          21.202497482299805,
          21.192392349243164,
          21.186874389648438,
          21.17779541015625,
          21.166296005249023,
          21.159868240356445,
          21.148740768432617,
          21.136005401611328,
          21.126806259155273
         ],
         "yaxis": "y"
        },
        {
         "mode": "lines",
         "name": "Train Harrell's C",
         "type": "scatter",
         "x": [
          1,
          2,
          3,
          4,
          5,
          6,
          7,
          8,
          9,
          10,
          11,
          12,
          13,
          14,
          15,
          16,
          17,
          18,
          19,
          20,
          21,
          22,
          23,
          24,
          25,
          26,
          27,
          28,
          29,
          30,
          31,
          32,
          33,
          34,
          35,
          36,
          37,
          38,
          39,
          40,
          41,
          42,
          43,
          44,
          45,
          46,
          47,
          48,
          49,
          50,
          51,
          52,
          53,
          54,
          55,
          56,
          57,
          58,
          59,
          60,
          61,
          62,
          63,
          64,
          65,
          66,
          67,
          68,
          69,
          70,
          71,
          72,
          73,
          74,
          75,
          76,
          77,
          78,
          79,
          80,
          81,
          82,
          83,
          84,
          85,
          86,
          87,
          88,
          89,
          90,
          91,
          92,
          93,
          94,
          95,
          96,
          97,
          98,
          99,
          100
         ],
         "xaxis": "x2",
         "y": [
          0.5305304451645915,
          0.5588435954289612,
          0.5422991642503837,
          0.5415316390926147,
          0.5310421286031042,
          0.5019614531809654,
          0.5657513218488828,
          0.5085280573085451,
          0.49539484905338566,
          0.5063107624083234,
          0.5167149923247484,
          0.527972027972028,
          0.5316390926147023,
          0.5275456251066007,
          0.539314344192393,
          0.5168855534709194,
          0.5084427767354597,
          0.5326624594917277,
          0.5475865597816817,
          0.5770936380692478,
          0.5359884018420604,
          0.5500596964011598,
          0.5399113082039911,
          0.5598669623059866,
          0.4907044175336858,
          0.5367559269998294,
          0.5398260276309057,
          0.513986013986014,
          0.5445164591506055,
          0.4977827050997783,
          0.5568821422479959,
          0.5347091932457786,
          0.5379498550230257,
          0.5202967763943374,
          0.5216612655637046,
          0.5014497697424527,
          0.5355619989766331,
          0.5160327477400648,
          0.48959577008357497,
          0.5048609926658707,
          0.540081869350162,
          0.5312979703223606,
          0.5608903291830121,
          0.5619989766331229,
          0.5503155381204161,
          0.5086133378816305,
          0.5533856387514924,
          0.5598669623059866,
          0.5624253794985502,
          0.5554323725055432,
          0.5413610779464438,
          0.5792256523963841,
          0.5466484734777418,
          0.56805389732219,
          0.5422991642503837,
          0.5365000852805731,
          0.5277161862527716,
          0.5601228040252431,
          0.5789698106771277,
          0.5398260276309057,
          0.5676274944567627,
          0.539143783046222,
          0.5432372505543237,
          0.5641309909602592,
          0.5452839843083745,
          0.5642162715333447,
          0.5604639263175849,
          0.5555176530786287,
          0.5451134231622037,
          0.561060890329183,
          0.5119392802319631,
          0.5201262152481665,
          0.5770936380692478,
          0.5590994371482176,
          0.537608732730684,
          0.5362442435613167,
          0.5546648473477742,
          0.5768377963499914,
          0.5559440559440559,
          0.5281425891181989,
          0.5791403718232987,
          0.547074876343169,
          0.5225993518676445,
          0.5328330206378987,
          0.5322360566263006,
          0.5335152652225823,
          0.5682244584683609,
          0.5344533515265223,
          0.5293365171413952,
          0.5650690772641992,
          0.5421286031042128,
          0.5656660412757973,
          0.5294217977144806,
          0.5592699982943885,
          0.5480982432201944,
          0.5822957530274604,
          0.5619136960600375,
          0.5403377110694184,
          0.5696742282108136,
          0.5407641139348457
         ],
         "yaxis": "y2"
        },
        {
         "mode": "lines",
         "name": "Validation Harrell's C",
         "type": "scatter",
         "x": [
          1,
          2,
          3,
          4,
          5,
          6,
          7,
          8,
          9,
          10,
          11,
          12,
          13,
          14,
          15,
          16,
          17,
          18,
          19,
          20,
          21,
          22,
          23,
          24,
          25,
          26,
          27,
          28,
          29,
          30,
          31,
          32,
          33,
          34,
          35,
          36,
          37,
          38,
          39,
          40,
          41,
          42,
          43,
          44,
          45,
          46,
          47,
          48,
          49,
          50,
          51,
          52,
          53,
          54,
          55,
          56,
          57,
          58,
          59,
          60,
          61,
          62,
          63,
          64,
          65,
          66,
          67,
          68,
          69,
          70,
          71,
          72,
          73,
          74,
          75,
          76,
          77,
          78,
          79,
          80,
          81,
          82,
          83,
          84,
          85,
          86,
          87,
          88,
          89,
          90,
          91,
          92,
          93,
          94,
          95,
          96,
          97,
          98,
          99,
          100
         ],
         "xaxis": "x2",
         "y": [
          0.5354118552732872,
          0.3876058506543495,
          0.43033102386451116,
          0.3398768283294842,
          0.3876058506543495,
          0.5269438029253272,
          0.33371824480369516,
          0.37066974595842955,
          0.4314857582755966,
          0.38260200153964585,
          0.3929946112394149,
          0.5050038491147036,
          0.3460354118552733,
          0.44072363356428024,
          0.4545804464973056,
          0.5115473441108545,
          0.44110854503464203,
          0.5238645111624326,
          0.4765204003079292,
          0.5307929176289453,
          0.5288683602771362,
          0.39568899153194764,
          0.5023094688221709,
          0.4284064665127021,
          0.4618937644341801,
          0.5427251732101617,
          0.4996150885296382,
          0.48883756735950734,
          0.45996920708237105,
          0.43456505003849116,
          0.38414164742109314,
          0.41647421093148573,
          0.476905311778291,
          0.4457274826789838,
          0.4707467282525019,
          0.43456505003849116,
          0.47190146266358735,
          0.4341801385681293,
          0.44688221709006926,
          0.5311778290993071,
          0.4745958429561201,
          0.5404157043879908,
          0.3714395688991532,
          0.5300230946882217,
          0.4819091608929946,
          0.4938414164742109,
          0.552347959969207,
          0.4287913779830639,
          0.3741339491916859,
          0.43225558121632024,
          0.3976135488837567,
          0.4692070823710547,
          0.4353348729792148,
          0.4973056197074673,
          0.4842186297151655,
          0.41416474210931487,
          0.44842186297151654,
          0.4822940723633564,
          0.4314857582755966,
          0.37759815242494227,
          0.4822940723633564,
          0.44341801385681295,
          0.46227867590454197,
          0.4091608929946112,
          0.558891454965358,
          0.4476520400307929,
          0.36335642802155504,
          0.3645111624326405,
          0.46266358737490376,
          0.46266358737490376,
          0.523094688221709,
          0.5723633564280215,
          0.47729022324865283,
          0.44957659738260203,
          0.4372594303310239,
          0.5288683602771362,
          0.5215550423402617,
          0.5142417244033872,
          0.4361046959199384,
          0.37528868360277134,
          0.49499615088529636,
          0.5127020785219399,
          0.567359507313318,
          0.37644341801385683,
          0.5034642032332564,
          0.5993071593533488,
          0.5223248652809853,
          0.5646651270207852,
          0.535796766743649,
          0.4561200923787529,
          0.3625866050808314,
          0.4969207082371055,
          0.46266358737490376,
          0.45535026943802925,
          0.44688221709006926,
          0.4576597382602002,
          0.5,
          0.5227097767513472,
          0.422247882986913,
          0.48883756735950734
         ],
         "yaxis": "y2"
        }
       ],
       "layout": {
        "annotations": [
         {
          "font": {
           "size": 16
          },
          "showarrow": false,
          "text": "Loss",
          "x": 0.225,
          "xanchor": "center",
          "xref": "paper",
          "y": 1,
          "yanchor": "bottom",
          "yref": "paper"
         },
         {
          "font": {
           "size": 16
          },
          "showarrow": false,
          "text": "Harrell's C",
          "x": 0.775,
          "xanchor": "center",
          "xref": "paper",
          "y": 1,
          "yanchor": "bottom",
          "yref": "paper"
         }
        ],
        "template": {
         "data": {
          "bar": [
           {
            "error_x": {
             "color": "#2a3f5f"
            },
            "error_y": {
             "color": "#2a3f5f"
            },
            "marker": {
             "line": {
              "color": "#E5ECF6",
              "width": 0.5
             },
             "pattern": {
              "fillmode": "overlay",
              "size": 10,
              "solidity": 0.2
             }
            },
            "type": "bar"
           }
          ],
          "barpolar": [
           {
            "marker": {
             "line": {
              "color": "#E5ECF6",
              "width": 0.5
             },
             "pattern": {
              "fillmode": "overlay",
              "size": 10,
              "solidity": 0.2
             }
            },
            "type": "barpolar"
           }
          ],
          "carpet": [
           {
            "aaxis": {
             "endlinecolor": "#2a3f5f",
             "gridcolor": "white",
             "linecolor": "white",
             "minorgridcolor": "white",
             "startlinecolor": "#2a3f5f"
            },
            "baxis": {
             "endlinecolor": "#2a3f5f",
             "gridcolor": "white",
             "linecolor": "white",
             "minorgridcolor": "white",
             "startlinecolor": "#2a3f5f"
            },
            "type": "carpet"
           }
          ],
          "choropleth": [
           {
            "colorbar": {
             "outlinewidth": 0,
             "ticks": ""
            },
            "type": "choropleth"
           }
          ],
          "contour": [
           {
            "colorbar": {
             "outlinewidth": 0,
             "ticks": ""
            },
            "colorscale": [
             [
              0,
              "#0d0887"
             ],
             [
              0.1111111111111111,
              "#46039f"
             ],
             [
              0.2222222222222222,
              "#7201a8"
             ],
             [
              0.3333333333333333,
              "#9c179e"
             ],
             [
              0.4444444444444444,
              "#bd3786"
             ],
             [
              0.5555555555555556,
              "#d8576b"
             ],
             [
              0.6666666666666666,
              "#ed7953"
             ],
             [
              0.7777777777777778,
              "#fb9f3a"
             ],
             [
              0.8888888888888888,
              "#fdca26"
             ],
             [
              1,
              "#f0f921"
             ]
            ],
            "type": "contour"
           }
          ],
          "contourcarpet": [
           {
            "colorbar": {
             "outlinewidth": 0,
             "ticks": ""
            },
            "type": "contourcarpet"
           }
          ],
          "heatmap": [
           {
            "colorbar": {
             "outlinewidth": 0,
             "ticks": ""
            },
            "colorscale": [
             [
              0,
              "#0d0887"
             ],
             [
              0.1111111111111111,
              "#46039f"
             ],
             [
              0.2222222222222222,
              "#7201a8"
             ],
             [
              0.3333333333333333,
              "#9c179e"
             ],
             [
              0.4444444444444444,
              "#bd3786"
             ],
             [
              0.5555555555555556,
              "#d8576b"
             ],
             [
              0.6666666666666666,
              "#ed7953"
             ],
             [
              0.7777777777777778,
              "#fb9f3a"
             ],
             [
              0.8888888888888888,
              "#fdca26"
             ],
             [
              1,
              "#f0f921"
             ]
            ],
            "type": "heatmap"
           }
          ],
          "heatmapgl": [
           {
            "colorbar": {
             "outlinewidth": 0,
             "ticks": ""
            },
            "colorscale": [
             [
              0,
              "#0d0887"
             ],
             [
              0.1111111111111111,
              "#46039f"
             ],
             [
              0.2222222222222222,
              "#7201a8"
             ],
             [
              0.3333333333333333,
              "#9c179e"
             ],
             [
              0.4444444444444444,
              "#bd3786"
             ],
             [
              0.5555555555555556,
              "#d8576b"
             ],
             [
              0.6666666666666666,
              "#ed7953"
             ],
             [
              0.7777777777777778,
              "#fb9f3a"
             ],
             [
              0.8888888888888888,
              "#fdca26"
             ],
             [
              1,
              "#f0f921"
             ]
            ],
            "type": "heatmapgl"
           }
          ],
          "histogram": [
           {
            "marker": {
             "pattern": {
              "fillmode": "overlay",
              "size": 10,
              "solidity": 0.2
             }
            },
            "type": "histogram"
           }
          ],
          "histogram2d": [
           {
            "colorbar": {
             "outlinewidth": 0,
             "ticks": ""
            },
            "colorscale": [
             [
              0,
              "#0d0887"
             ],
             [
              0.1111111111111111,
              "#46039f"
             ],
             [
              0.2222222222222222,
              "#7201a8"
             ],
             [
              0.3333333333333333,
              "#9c179e"
             ],
             [
              0.4444444444444444,
              "#bd3786"
             ],
             [
              0.5555555555555556,
              "#d8576b"
             ],
             [
              0.6666666666666666,
              "#ed7953"
             ],
             [
              0.7777777777777778,
              "#fb9f3a"
             ],
             [
              0.8888888888888888,
              "#fdca26"
             ],
             [
              1,
              "#f0f921"
             ]
            ],
            "type": "histogram2d"
           }
          ],
          "histogram2dcontour": [
           {
            "colorbar": {
             "outlinewidth": 0,
             "ticks": ""
            },
            "colorscale": [
             [
              0,
              "#0d0887"
             ],
             [
              0.1111111111111111,
              "#46039f"
             ],
             [
              0.2222222222222222,
              "#7201a8"
             ],
             [
              0.3333333333333333,
              "#9c179e"
             ],
             [
              0.4444444444444444,
              "#bd3786"
             ],
             [
              0.5555555555555556,
              "#d8576b"
             ],
             [
              0.6666666666666666,
              "#ed7953"
             ],
             [
              0.7777777777777778,
              "#fb9f3a"
             ],
             [
              0.8888888888888888,
              "#fdca26"
             ],
             [
              1,
              "#f0f921"
             ]
            ],
            "type": "histogram2dcontour"
           }
          ],
          "mesh3d": [
           {
            "colorbar": {
             "outlinewidth": 0,
             "ticks": ""
            },
            "type": "mesh3d"
           }
          ],
          "parcoords": [
           {
            "line": {
             "colorbar": {
              "outlinewidth": 0,
              "ticks": ""
             }
            },
            "type": "parcoords"
           }
          ],
          "pie": [
           {
            "automargin": true,
            "type": "pie"
           }
          ],
          "scatter": [
           {
            "fillpattern": {
             "fillmode": "overlay",
             "size": 10,
             "solidity": 0.2
            },
            "type": "scatter"
           }
          ],
          "scatter3d": [
           {
            "line": {
             "colorbar": {
              "outlinewidth": 0,
              "ticks": ""
             }
            },
            "marker": {
             "colorbar": {
              "outlinewidth": 0,
              "ticks": ""
             }
            },
            "type": "scatter3d"
           }
          ],
          "scattercarpet": [
           {
            "marker": {
             "colorbar": {
              "outlinewidth": 0,
              "ticks": ""
             }
            },
            "type": "scattercarpet"
           }
          ],
          "scattergeo": [
           {
            "marker": {
             "colorbar": {
              "outlinewidth": 0,
              "ticks": ""
             }
            },
            "type": "scattergeo"
           }
          ],
          "scattergl": [
           {
            "marker": {
             "colorbar": {
              "outlinewidth": 0,
              "ticks": ""
             }
            },
            "type": "scattergl"
           }
          ],
          "scattermapbox": [
           {
            "marker": {
             "colorbar": {
              "outlinewidth": 0,
              "ticks": ""
             }
            },
            "type": "scattermapbox"
           }
          ],
          "scatterpolar": [
           {
            "marker": {
             "colorbar": {
              "outlinewidth": 0,
              "ticks": ""
             }
            },
            "type": "scatterpolar"
           }
          ],
          "scatterpolargl": [
           {
            "marker": {
             "colorbar": {
              "outlinewidth": 0,
              "ticks": ""
             }
            },
            "type": "scatterpolargl"
           }
          ],
          "scatterternary": [
           {
            "marker": {
             "colorbar": {
              "outlinewidth": 0,
              "ticks": ""
             }
            },
            "type": "scatterternary"
           }
          ],
          "surface": [
           {
            "colorbar": {
             "outlinewidth": 0,
             "ticks": ""
            },
            "colorscale": [
             [
              0,
              "#0d0887"
             ],
             [
              0.1111111111111111,
              "#46039f"
             ],
             [
              0.2222222222222222,
              "#7201a8"
             ],
             [
              0.3333333333333333,
              "#9c179e"
             ],
             [
              0.4444444444444444,
              "#bd3786"
             ],
             [
              0.5555555555555556,
              "#d8576b"
             ],
             [
              0.6666666666666666,
              "#ed7953"
             ],
             [
              0.7777777777777778,
              "#fb9f3a"
             ],
             [
              0.8888888888888888,
              "#fdca26"
             ],
             [
              1,
              "#f0f921"
             ]
            ],
            "type": "surface"
           }
          ],
          "table": [
           {
            "cells": {
             "fill": {
              "color": "#EBF0F8"
             },
             "line": {
              "color": "white"
             }
            },
            "header": {
             "fill": {
              "color": "#C8D4E3"
             },
             "line": {
              "color": "white"
             }
            },
            "type": "table"
           }
          ]
         },
         "layout": {
          "annotationdefaults": {
           "arrowcolor": "#2a3f5f",
           "arrowhead": 0,
           "arrowwidth": 1
          },
          "autotypenumbers": "strict",
          "coloraxis": {
           "colorbar": {
            "outlinewidth": 0,
            "ticks": ""
           }
          },
          "colorscale": {
           "diverging": [
            [
             0,
             "#8e0152"
            ],
            [
             0.1,
             "#c51b7d"
            ],
            [
             0.2,
             "#de77ae"
            ],
            [
             0.3,
             "#f1b6da"
            ],
            [
             0.4,
             "#fde0ef"
            ],
            [
             0.5,
             "#f7f7f7"
            ],
            [
             0.6,
             "#e6f5d0"
            ],
            [
             0.7,
             "#b8e186"
            ],
            [
             0.8,
             "#7fbc41"
            ],
            [
             0.9,
             "#4d9221"
            ],
            [
             1,
             "#276419"
            ]
           ],
           "sequential": [
            [
             0,
             "#0d0887"
            ],
            [
             0.1111111111111111,
             "#46039f"
            ],
            [
             0.2222222222222222,
             "#7201a8"
            ],
            [
             0.3333333333333333,
             "#9c179e"
            ],
            [
             0.4444444444444444,
             "#bd3786"
            ],
            [
             0.5555555555555556,
             "#d8576b"
            ],
            [
             0.6666666666666666,
             "#ed7953"
            ],
            [
             0.7777777777777778,
             "#fb9f3a"
            ],
            [
             0.8888888888888888,
             "#fdca26"
            ],
            [
             1,
             "#f0f921"
            ]
           ],
           "sequentialminus": [
            [
             0,
             "#0d0887"
            ],
            [
             0.1111111111111111,
             "#46039f"
            ],
            [
             0.2222222222222222,
             "#7201a8"
            ],
            [
             0.3333333333333333,
             "#9c179e"
            ],
            [
             0.4444444444444444,
             "#bd3786"
            ],
            [
             0.5555555555555556,
             "#d8576b"
            ],
            [
             0.6666666666666666,
             "#ed7953"
            ],
            [
             0.7777777777777778,
             "#fb9f3a"
            ],
            [
             0.8888888888888888,
             "#fdca26"
            ],
            [
             1,
             "#f0f921"
            ]
           ]
          },
          "colorway": [
           "#636efa",
           "#EF553B",
           "#00cc96",
           "#ab63fa",
           "#FFA15A",
           "#19d3f3",
           "#FF6692",
           "#B6E880",
           "#FF97FF",
           "#FECB52"
          ],
          "font": {
           "color": "#2a3f5f"
          },
          "geo": {
           "bgcolor": "white",
           "lakecolor": "white",
           "landcolor": "#E5ECF6",
           "showlakes": true,
           "showland": true,
           "subunitcolor": "white"
          },
          "hoverlabel": {
           "align": "left"
          },
          "hovermode": "closest",
          "mapbox": {
           "style": "light"
          },
          "paper_bgcolor": "white",
          "plot_bgcolor": "#E5ECF6",
          "polar": {
           "angularaxis": {
            "gridcolor": "white",
            "linecolor": "white",
            "ticks": ""
           },
           "bgcolor": "#E5ECF6",
           "radialaxis": {
            "gridcolor": "white",
            "linecolor": "white",
            "ticks": ""
           }
          },
          "scene": {
           "xaxis": {
            "backgroundcolor": "#E5ECF6",
            "gridcolor": "white",
            "gridwidth": 2,
            "linecolor": "white",
            "showbackground": true,
            "ticks": "",
            "zerolinecolor": "white"
           },
           "yaxis": {
            "backgroundcolor": "#E5ECF6",
            "gridcolor": "white",
            "gridwidth": 2,
            "linecolor": "white",
            "showbackground": true,
            "ticks": "",
            "zerolinecolor": "white"
           },
           "zaxis": {
            "backgroundcolor": "#E5ECF6",
            "gridcolor": "white",
            "gridwidth": 2,
            "linecolor": "white",
            "showbackground": true,
            "ticks": "",
            "zerolinecolor": "white"
           }
          },
          "shapedefaults": {
           "line": {
            "color": "#2a3f5f"
           }
          },
          "ternary": {
           "aaxis": {
            "gridcolor": "white",
            "linecolor": "white",
            "ticks": ""
           },
           "baxis": {
            "gridcolor": "white",
            "linecolor": "white",
            "ticks": ""
           },
           "bgcolor": "#E5ECF6",
           "caxis": {
            "gridcolor": "white",
            "linecolor": "white",
            "ticks": ""
           }
          },
          "title": {
           "x": 0.05
          },
          "xaxis": {
           "automargin": true,
           "gridcolor": "white",
           "linecolor": "white",
           "ticks": "",
           "title": {
            "standoff": 15
           },
           "zerolinecolor": "white",
           "zerolinewidth": 2
          },
          "yaxis": {
           "automargin": true,
           "gridcolor": "white",
           "linecolor": "white",
           "ticks": "",
           "title": {
            "standoff": 15
           },
           "zerolinecolor": "white",
           "zerolinewidth": 2
          }
         }
        },
        "title": {
         "text": "model_att Fold 4 Training Metrics"
        },
        "xaxis": {
         "anchor": "y",
         "domain": [
          0,
          0.45
         ],
         "title": {
          "text": "Epoch"
         }
        },
        "xaxis2": {
         "anchor": "y2",
         "domain": [
          0.55,
          1
         ],
         "title": {
          "text": "Epoch"
         }
        },
        "yaxis": {
         "anchor": "x",
         "domain": [
          0,
          1
         ],
         "title": {
          "text": "Loss"
         }
        },
        "yaxis2": {
         "anchor": "x2",
         "domain": [
          0,
          1
         ],
         "title": {
          "text": "Harrell's C"
         }
        }
       }
      }
     },
     "metadata": {},
     "output_type": "display_data"
    },
    {
     "name": "stdout",
     "output_type": "stream",
     "text": [
      "Fold 5/5\n",
      "The input shape of model is: (None, None, 49)\n",
      "The output shape of model is: [(1, 1), (None, None, 1)]\n",
      "Epoch 1/100\n"
     ]
    },
    {
     "name": "stderr",
     "output_type": "stream",
     "text": [
      "/opt/anaconda3/envs/mil/lib/python3.8/site-packages/tensorflow/python/framework/indexed_slices.py:448: UserWarning:\n",
      "\n",
      "Converting sparse IndexedSlices(IndexedSlices(indices=Tensor(\"gradient_tape/model_4/input.to_tensor_4/RaggedToTensor/boolean_mask_1/GatherV2:0\", shape=(None,), dtype=int32), values=Tensor(\"gradient_tape/model_4/input.to_tensor_4/RaggedToTensor/boolean_mask/GatherV2:0\", shape=(None, 49), dtype=float32), dense_shape=Tensor(\"gradient_tape/model_4/input.to_tensor_4/RaggedToTensor/Shape:0\", shape=(2,), dtype=int32))) to a dense Tensor of unknown shape. This may consume a large amount of memory.\n",
      "\n",
      "/opt/anaconda3/envs/mil/lib/python3.8/site-packages/tensorflow/python/framework/indexed_slices.py:448: UserWarning:\n",
      "\n",
      "Converting sparse IndexedSlices(IndexedSlices(indices=Tensor(\"gradient_tape/model_4/tf.math.divide_no_nan_4/RaggedTile/Reshape_3:0\", shape=(None,), dtype=int64), values=Tensor(\"gradient_tape/model_4/tf.math.divide_no_nan_4/RaggedTile/Reshape_2:0\", shape=(None, 1), dtype=float32), dense_shape=Tensor(\"gradient_tape/model_4/tf.math.divide_no_nan_4/RaggedTile/Cast:0\", shape=(2,), dtype=int32))) to a dense Tensor of unknown shape. This may consume a large amount of memory.\n",
      "\n"
     ]
    },
    {
     "name": "stdout",
     "output_type": "stream",
     "text": [
      "19/19 [==============================] - 7s 101ms/step - loss: 25.9977 - risk_loss: 25.9977 - risk_harrellsc: 0.5280 - val_loss: 32.0133 - val_risk_loss: 32.0133 - val_risk_harrellsc: 0.4619\n",
      "Epoch 2/100\n",
      "19/19 [==============================] - 0s 13ms/step - loss: 25.0797 - risk_loss: 25.0797 - risk_harrellsc: 0.5303 - val_loss: 31.8003 - val_risk_loss: 31.8003 - val_risk_harrellsc: 0.4608\n",
      "Epoch 3/100\n",
      "19/19 [==============================] - 0s 16ms/step - loss: 24.4665 - risk_loss: 24.4665 - risk_harrellsc: 0.5324 - val_loss: 31.6195 - val_risk_loss: 31.6195 - val_risk_harrellsc: 0.4647\n",
      "Epoch 4/100\n",
      "19/19 [==============================] - 0s 13ms/step - loss: 24.0562 - risk_loss: 24.0562 - risk_harrellsc: 0.5336 - val_loss: 31.8857 - val_risk_loss: 31.8857 - val_risk_harrellsc: 0.4486\n",
      "Epoch 5/100\n",
      "19/19 [==============================] - 0s 13ms/step - loss: 23.7305 - risk_loss: 23.7305 - risk_harrellsc: 0.5332 - val_loss: 31.7909 - val_risk_loss: 31.7909 - val_risk_harrellsc: 0.4474\n",
      "Epoch 6/100\n",
      "19/19 [==============================] - 0s 13ms/step - loss: 23.4769 - risk_loss: 23.4769 - risk_harrellsc: 0.5338 - val_loss: 31.6864 - val_risk_loss: 31.6864 - val_risk_harrellsc: 0.4435\n",
      "Epoch 7/100\n",
      "19/19 [==============================] - 0s 13ms/step - loss: 23.2747 - risk_loss: 23.2747 - risk_harrellsc: 0.5328 - val_loss: 31.6011 - val_risk_loss: 31.6011 - val_risk_harrellsc: 0.4385\n",
      "Epoch 8/100\n",
      "19/19 [==============================] - 0s 12ms/step - loss: 23.1104 - risk_loss: 23.1104 - risk_harrellsc: 0.5326 - val_loss: 31.5261 - val_risk_loss: 31.5261 - val_risk_harrellsc: 0.4463\n",
      "Epoch 9/100\n",
      "19/19 [==============================] - 0s 13ms/step - loss: 22.9757 - risk_loss: 22.9757 - risk_harrellsc: 0.5323 - val_loss: 31.4650 - val_risk_loss: 31.4650 - val_risk_harrellsc: 0.4463\n",
      "Epoch 10/100\n",
      "19/19 [==============================] - 0s 13ms/step - loss: 22.8634 - risk_loss: 22.8634 - risk_harrellsc: 0.5323 - val_loss: 31.4196 - val_risk_loss: 31.4196 - val_risk_harrellsc: 0.4469\n",
      "Epoch 11/100\n",
      "19/19 [==============================] - 0s 14ms/step - loss: 22.7690 - risk_loss: 22.7690 - risk_harrellsc: 0.5308 - val_loss: 31.3846 - val_risk_loss: 31.3846 - val_risk_harrellsc: 0.4435\n",
      "Epoch 12/100\n",
      "19/19 [==============================] - 0s 13ms/step - loss: 22.6901 - risk_loss: 22.6901 - risk_harrellsc: 0.5338 - val_loss: 31.3535 - val_risk_loss: 31.3535 - val_risk_harrellsc: 0.4435\n",
      "Epoch 13/100\n",
      "19/19 [==============================] - 0s 12ms/step - loss: 22.6263 - risk_loss: 22.6263 - risk_harrellsc: 0.5339 - val_loss: 31.3262 - val_risk_loss: 31.3262 - val_risk_harrellsc: 0.4435\n",
      "Epoch 14/100\n",
      "19/19 [==============================] - 0s 13ms/step - loss: 22.5784 - risk_loss: 22.5784 - risk_harrellsc: 0.5330 - val_loss: 31.3022 - val_risk_loss: 31.3022 - val_risk_harrellsc: 0.4435\n",
      "Epoch 15/100\n",
      "19/19 [==============================] - 0s 13ms/step - loss: 22.5432 - risk_loss: 22.5432 - risk_harrellsc: 0.5336 - val_loss: 31.2806 - val_risk_loss: 31.2806 - val_risk_harrellsc: 0.4435\n",
      "Epoch 16/100\n",
      "19/19 [==============================] - 0s 13ms/step - loss: 22.5143 - risk_loss: 22.5143 - risk_harrellsc: 0.5326 - val_loss: 31.2597 - val_risk_loss: 31.2597 - val_risk_harrellsc: 0.4435\n",
      "Epoch 17/100\n",
      "19/19 [==============================] - 0s 13ms/step - loss: 22.4884 - risk_loss: 22.4884 - risk_harrellsc: 0.5326 - val_loss: 31.2384 - val_risk_loss: 31.2384 - val_risk_harrellsc: 0.4402\n",
      "Epoch 18/100\n",
      "19/19 [==============================] - 0s 14ms/step - loss: 22.4642 - risk_loss: 22.4642 - risk_harrellsc: 0.5330 - val_loss: 31.2167 - val_risk_loss: 31.2167 - val_risk_harrellsc: 0.4402\n",
      "Epoch 19/100\n",
      "19/19 [==============================] - 0s 16ms/step - loss: 22.4412 - risk_loss: 22.4412 - risk_harrellsc: 0.5330 - val_loss: 31.1952 - val_risk_loss: 31.1952 - val_risk_harrellsc: 0.4402\n",
      "Epoch 20/100\n",
      "19/19 [==============================] - 0s 13ms/step - loss: 22.4192 - risk_loss: 22.4192 - risk_harrellsc: 0.5304 - val_loss: 31.1740 - val_risk_loss: 31.1740 - val_risk_harrellsc: 0.4402\n",
      "Epoch 21/100\n",
      "19/19 [==============================] - 0s 12ms/step - loss: 22.3983 - risk_loss: 22.3983 - risk_harrellsc: 0.5304 - val_loss: 31.1530 - val_risk_loss: 31.1530 - val_risk_harrellsc: 0.4402\n",
      "Epoch 22/100\n",
      "19/19 [==============================] - 0s 13ms/step - loss: 22.3783 - risk_loss: 22.3783 - risk_harrellsc: 0.5306 - val_loss: 31.1324 - val_risk_loss: 31.1324 - val_risk_harrellsc: 0.4402\n",
      "Epoch 23/100\n",
      "19/19 [==============================] - 0s 12ms/step - loss: 22.3592 - risk_loss: 22.3592 - risk_harrellsc: 0.5308 - val_loss: 31.1121 - val_risk_loss: 31.1121 - val_risk_harrellsc: 0.4397\n",
      "Epoch 24/100\n",
      "19/19 [==============================] - 0s 13ms/step - loss: 22.3411 - risk_loss: 22.3411 - risk_harrellsc: 0.5293 - val_loss: 31.0923 - val_risk_loss: 31.0923 - val_risk_harrellsc: 0.4430\n",
      "Epoch 25/100\n",
      "19/19 [==============================] - 0s 13ms/step - loss: 22.3237 - risk_loss: 22.3237 - risk_harrellsc: 0.5295 - val_loss: 31.0728 - val_risk_loss: 31.0728 - val_risk_harrellsc: 0.4430\n",
      "Epoch 26/100\n",
      "19/19 [==============================] - 0s 15ms/step - loss: 22.3072 - risk_loss: 22.3072 - risk_harrellsc: 0.5297 - val_loss: 31.0538 - val_risk_loss: 31.0538 - val_risk_harrellsc: 0.4430\n",
      "Epoch 27/100\n",
      "19/19 [==============================] - 0s 12ms/step - loss: 22.2916 - risk_loss: 22.2916 - risk_harrellsc: 0.5319 - val_loss: 31.0353 - val_risk_loss: 31.0353 - val_risk_harrellsc: 0.4430\n",
      "Epoch 28/100\n",
      "19/19 [==============================] - 0s 13ms/step - loss: 22.2766 - risk_loss: 22.2766 - risk_harrellsc: 0.5319 - val_loss: 31.0171 - val_risk_loss: 31.0171 - val_risk_harrellsc: 0.4430\n",
      "Epoch 29/100\n",
      "19/19 [==============================] - 0s 13ms/step - loss: 22.2623 - risk_loss: 22.2623 - risk_harrellsc: 0.5319 - val_loss: 30.9995 - val_risk_loss: 30.9995 - val_risk_harrellsc: 0.4430\n",
      "Epoch 30/100\n",
      "19/19 [==============================] - 0s 13ms/step - loss: 22.2486 - risk_loss: 22.2486 - risk_harrellsc: 0.5321 - val_loss: 30.9822 - val_risk_loss: 30.9822 - val_risk_harrellsc: 0.4430\n",
      "Epoch 31/100\n",
      "19/19 [==============================] - 0s 13ms/step - loss: 22.2355 - risk_loss: 22.2355 - risk_harrellsc: 0.5321 - val_loss: 30.9653 - val_risk_loss: 30.9653 - val_risk_harrellsc: 0.4430\n",
      "Epoch 32/100\n",
      "19/19 [==============================] - 0s 14ms/step - loss: 22.2230 - risk_loss: 22.2230 - risk_harrellsc: 0.5323 - val_loss: 30.9489 - val_risk_loss: 30.9489 - val_risk_harrellsc: 0.4430\n",
      "Epoch 33/100\n",
      "19/19 [==============================] - 0s 15ms/step - loss: 22.2109 - risk_loss: 22.2109 - risk_harrellsc: 0.5321 - val_loss: 30.9329 - val_risk_loss: 30.9329 - val_risk_harrellsc: 0.4424\n",
      "Epoch 34/100\n",
      "19/19 [==============================] - 0s 13ms/step - loss: 22.1994 - risk_loss: 22.1994 - risk_harrellsc: 0.5371 - val_loss: 30.9174 - val_risk_loss: 30.9174 - val_risk_harrellsc: 0.4424\n",
      "Epoch 35/100\n",
      "19/19 [==============================] - 0s 13ms/step - loss: 22.1883 - risk_loss: 22.1883 - risk_harrellsc: 0.5371 - val_loss: 30.9024 - val_risk_loss: 30.9024 - val_risk_harrellsc: 0.4419\n",
      "Epoch 36/100\n",
      "19/19 [==============================] - 0s 13ms/step - loss: 22.1777 - risk_loss: 22.1777 - risk_harrellsc: 0.5371 - val_loss: 30.8877 - val_risk_loss: 30.8877 - val_risk_harrellsc: 0.4419\n",
      "Epoch 37/100\n",
      "19/19 [==============================] - 0s 13ms/step - loss: 22.1675 - risk_loss: 22.1675 - risk_harrellsc: 0.5371 - val_loss: 30.8736 - val_risk_loss: 30.8736 - val_risk_harrellsc: 0.4419\n",
      "Epoch 38/100\n",
      "19/19 [==============================] - 0s 13ms/step - loss: 22.1577 - risk_loss: 22.1577 - risk_harrellsc: 0.5371 - val_loss: 30.8599 - val_risk_loss: 30.8599 - val_risk_harrellsc: 0.4391\n",
      "Epoch 39/100\n",
      "19/19 [==============================] - 0s 13ms/step - loss: 22.1483 - risk_loss: 22.1483 - risk_harrellsc: 0.5373 - val_loss: 30.8467 - val_risk_loss: 30.8467 - val_risk_harrellsc: 0.4391\n",
      "Epoch 40/100\n",
      "19/19 [==============================] - 0s 13ms/step - loss: 22.1393 - risk_loss: 22.1393 - risk_harrellsc: 0.5453 - val_loss: 30.8341 - val_risk_loss: 30.8341 - val_risk_harrellsc: 0.4397\n",
      "Epoch 41/100\n",
      "19/19 [==============================] - 0s 16ms/step - loss: 22.1306 - risk_loss: 22.1306 - risk_harrellsc: 0.5453 - val_loss: 30.8219 - val_risk_loss: 30.8219 - val_risk_harrellsc: 0.4391\n",
      "Epoch 42/100\n",
      "19/19 [==============================] - 0s 14ms/step - loss: 22.1222 - risk_loss: 22.1222 - risk_harrellsc: 0.5451 - val_loss: 30.8103 - val_risk_loss: 30.8103 - val_risk_harrellsc: 0.4430\n",
      "Epoch 43/100\n",
      "19/19 [==============================] - 0s 14ms/step - loss: 22.1141 - risk_loss: 22.1141 - risk_harrellsc: 0.5486 - val_loss: 30.7993 - val_risk_loss: 30.7993 - val_risk_harrellsc: 0.4435\n",
      "Epoch 44/100\n",
      "19/19 [==============================] - 0s 13ms/step - loss: 22.1064 - risk_loss: 22.1064 - risk_harrellsc: 0.5488 - val_loss: 30.7887 - val_risk_loss: 30.7887 - val_risk_harrellsc: 0.4435\n",
      "Epoch 45/100\n",
      "19/19 [==============================] - 0s 17ms/step - loss: 22.0988 - risk_loss: 22.0988 - risk_harrellsc: 0.5488 - val_loss: 30.7789 - val_risk_loss: 30.7789 - val_risk_harrellsc: 0.4435\n",
      "Epoch 46/100\n",
      "19/19 [==============================] - 0s 14ms/step - loss: 22.0916 - risk_loss: 22.0916 - risk_harrellsc: 0.5481 - val_loss: 30.7694 - val_risk_loss: 30.7694 - val_risk_harrellsc: 0.4435\n",
      "Epoch 47/100\n",
      "19/19 [==============================] - 0s 20ms/step - loss: 22.0847 - risk_loss: 22.0847 - risk_harrellsc: 0.5466 - val_loss: 30.7603 - val_risk_loss: 30.7603 - val_risk_harrellsc: 0.4447\n",
      "Epoch 48/100\n",
      "19/19 [==============================] - 0s 17ms/step - loss: 22.0779 - risk_loss: 22.0779 - risk_harrellsc: 0.5470 - val_loss: 30.7518 - val_risk_loss: 30.7518 - val_risk_harrellsc: 0.4447\n",
      "Epoch 49/100\n",
      "19/19 [==============================] - 0s 27ms/step - loss: 22.0714 - risk_loss: 22.0714 - risk_harrellsc: 0.5473 - val_loss: 30.7439 - val_risk_loss: 30.7439 - val_risk_harrellsc: 0.4447\n",
      "Epoch 50/100\n",
      "19/19 [==============================] - 0s 22ms/step - loss: 22.0651 - risk_loss: 22.0651 - risk_harrellsc: 0.5477 - val_loss: 30.7365 - val_risk_loss: 30.7365 - val_risk_harrellsc: 0.4480\n",
      "Epoch 51/100\n",
      "19/19 [==============================] - 0s 17ms/step - loss: 22.0590 - risk_loss: 22.0590 - risk_harrellsc: 0.5559 - val_loss: 30.7296 - val_risk_loss: 30.7296 - val_risk_harrellsc: 0.4480\n",
      "Epoch 52/100\n",
      "19/19 [==============================] - 0s 17ms/step - loss: 22.0531 - risk_loss: 22.0531 - risk_harrellsc: 0.5548 - val_loss: 30.7232 - val_risk_loss: 30.7232 - val_risk_harrellsc: 0.4480\n",
      "Epoch 53/100\n",
      "19/19 [==============================] - 0s 18ms/step - loss: 22.0474 - risk_loss: 22.0474 - risk_harrellsc: 0.5548 - val_loss: 30.7174 - val_risk_loss: 30.7174 - val_risk_harrellsc: 0.4480\n",
      "Epoch 54/100\n",
      "19/19 [==============================] - 0s 16ms/step - loss: 22.0419 - risk_loss: 22.0419 - risk_harrellsc: 0.5548 - val_loss: 30.7122 - val_risk_loss: 30.7122 - val_risk_harrellsc: 0.4480\n",
      "Epoch 55/100\n",
      "19/19 [==============================] - 0s 15ms/step - loss: 22.0365 - risk_loss: 22.0365 - risk_harrellsc: 0.5550 - val_loss: 30.7075 - val_risk_loss: 30.7075 - val_risk_harrellsc: 0.4480\n",
      "Epoch 56/100\n",
      "19/19 [==============================] - 0s 18ms/step - loss: 22.0313 - risk_loss: 22.0313 - risk_harrellsc: 0.5550 - val_loss: 30.7033 - val_risk_loss: 30.7033 - val_risk_harrellsc: 0.4480\n",
      "Epoch 57/100\n",
      "19/19 [==============================] - 0s 15ms/step - loss: 22.0263 - risk_loss: 22.0263 - risk_harrellsc: 0.5546 - val_loss: 30.6998 - val_risk_loss: 30.6998 - val_risk_harrellsc: 0.4753\n",
      "Epoch 58/100\n",
      "19/19 [==============================] - 0s 22ms/step - loss: 22.0214 - risk_loss: 22.0214 - risk_harrellsc: 0.5550 - val_loss: 30.6968 - val_risk_loss: 30.6968 - val_risk_harrellsc: 0.4758\n",
      "Epoch 59/100\n",
      "19/19 [==============================] - 0s 15ms/step - loss: 22.0168 - risk_loss: 22.0168 - risk_harrellsc: 0.5550 - val_loss: 30.6944 - val_risk_loss: 30.6944 - val_risk_harrellsc: 0.4758\n",
      "Epoch 60/100\n",
      "19/19 [==============================] - 0s 15ms/step - loss: 22.0124 - risk_loss: 22.0124 - risk_harrellsc: 0.5550 - val_loss: 30.6926 - val_risk_loss: 30.6926 - val_risk_harrellsc: 0.4758\n",
      "Epoch 61/100\n",
      "19/19 [==============================] - 0s 17ms/step - loss: 22.0081 - risk_loss: 22.0081 - risk_harrellsc: 0.5535 - val_loss: 30.6913 - val_risk_loss: 30.6913 - val_risk_harrellsc: 0.4758\n",
      "Epoch 62/100\n",
      "19/19 [==============================] - 0s 17ms/step - loss: 22.0039 - risk_loss: 22.0039 - risk_harrellsc: 0.5533 - val_loss: 30.6905 - val_risk_loss: 30.6905 - val_risk_harrellsc: 0.4791\n",
      "Epoch 63/100\n",
      "19/19 [==============================] - 0s 14ms/step - loss: 21.9998 - risk_loss: 21.9998 - risk_harrellsc: 0.5529 - val_loss: 30.6903 - val_risk_loss: 30.6903 - val_risk_harrellsc: 0.4791\n",
      "Epoch 64/100\n",
      "19/19 [==============================] - 0s 17ms/step - loss: 21.9959 - risk_loss: 21.9959 - risk_harrellsc: 0.5529 - val_loss: 30.6905 - val_risk_loss: 30.6905 - val_risk_harrellsc: 0.4791\n",
      "Epoch 65/100\n",
      "19/19 [==============================] - 0s 14ms/step - loss: 21.9921 - risk_loss: 21.9921 - risk_harrellsc: 0.5537 - val_loss: 30.6915 - val_risk_loss: 30.6915 - val_risk_harrellsc: 0.4791\n",
      "Epoch 66/100\n",
      "19/19 [==============================] - 0s 14ms/step - loss: 21.9887 - risk_loss: 21.9887 - risk_harrellsc: 0.5537 - val_loss: 30.6935 - val_risk_loss: 30.6935 - val_risk_harrellsc: 0.4791\n",
      "Epoch 67/100\n",
      "19/19 [==============================] - 0s 15ms/step - loss: 21.9854 - risk_loss: 21.9854 - risk_harrellsc: 0.5624 - val_loss: 30.6961 - val_risk_loss: 30.6961 - val_risk_harrellsc: 0.4786\n",
      "Epoch 68/100\n",
      "19/19 [==============================] - 0s 14ms/step - loss: 21.9823 - risk_loss: 21.9823 - risk_harrellsc: 0.5622 - val_loss: 30.6991 - val_risk_loss: 30.6991 - val_risk_harrellsc: 0.4786\n",
      "Epoch 69/100\n",
      "19/19 [==============================] - 0s 14ms/step - loss: 21.9792 - risk_loss: 21.9792 - risk_harrellsc: 0.5615 - val_loss: 30.7026 - val_risk_loss: 30.7026 - val_risk_harrellsc: 0.4786\n",
      "Epoch 70/100\n",
      "19/19 [==============================] - 0s 15ms/step - loss: 21.9763 - risk_loss: 21.9763 - risk_harrellsc: 0.5613 - val_loss: 30.7065 - val_risk_loss: 30.7065 - val_risk_harrellsc: 0.4786\n",
      "Epoch 71/100\n",
      "19/19 [==============================] - 0s 17ms/step - loss: 21.9735 - risk_loss: 21.9735 - risk_harrellsc: 0.5615 - val_loss: 30.7109 - val_risk_loss: 30.7109 - val_risk_harrellsc: 0.4786\n",
      "Epoch 72/100\n",
      "19/19 [==============================] - 0s 14ms/step - loss: 21.9707 - risk_loss: 21.9707 - risk_harrellsc: 0.5615 - val_loss: 30.7156 - val_risk_loss: 30.7156 - val_risk_harrellsc: 0.4786\n",
      "Epoch 73/100\n",
      "19/19 [==============================] - 0s 14ms/step - loss: 21.9680 - risk_loss: 21.9680 - risk_harrellsc: 0.5617 - val_loss: 30.7206 - val_risk_loss: 30.7206 - val_risk_harrellsc: 0.4786\n",
      "Epoch 74/100\n",
      "19/19 [==============================] - 0s 15ms/step - loss: 21.9653 - risk_loss: 21.9653 - risk_harrellsc: 0.5618 - val_loss: 30.7260 - val_risk_loss: 30.7260 - val_risk_harrellsc: 0.4786\n",
      "Epoch 75/100\n",
      "19/19 [==============================] - 0s 15ms/step - loss: 21.9628 - risk_loss: 21.9628 - risk_harrellsc: 0.5618 - val_loss: 30.7318 - val_risk_loss: 30.7318 - val_risk_harrellsc: 0.4791\n",
      "Epoch 76/100\n",
      "19/19 [==============================] - 0s 15ms/step - loss: 21.9603 - risk_loss: 21.9603 - risk_harrellsc: 0.5617 - val_loss: 30.7380 - val_risk_loss: 30.7380 - val_risk_harrellsc: 0.4791\n",
      "Epoch 77/100\n",
      "19/19 [==============================] - 0s 14ms/step - loss: 21.9579 - risk_loss: 21.9579 - risk_harrellsc: 0.5618 - val_loss: 30.7444 - val_risk_loss: 30.7444 - val_risk_harrellsc: 0.4791\n",
      "Epoch 78/100\n",
      "19/19 [==============================] - 0s 15ms/step - loss: 21.9555 - risk_loss: 21.9555 - risk_harrellsc: 0.5609 - val_loss: 30.7509 - val_risk_loss: 30.7509 - val_risk_harrellsc: 0.4791\n",
      "Epoch 79/100\n",
      "19/19 [==============================] - 0s 16ms/step - loss: 21.9531 - risk_loss: 21.9531 - risk_harrellsc: 0.5607 - val_loss: 30.7577 - val_risk_loss: 30.7577 - val_risk_harrellsc: 0.4825\n",
      "Epoch 80/100\n",
      "19/19 [==============================] - 0s 14ms/step - loss: 21.9506 - risk_loss: 21.9506 - risk_harrellsc: 0.5609 - val_loss: 30.7646 - val_risk_loss: 30.7646 - val_risk_harrellsc: 0.4825\n",
      "Epoch 81/100\n",
      "19/19 [==============================] - 0s 14ms/step - loss: 21.9482 - risk_loss: 21.9482 - risk_harrellsc: 0.5609 - val_loss: 30.7717 - val_risk_loss: 30.7717 - val_risk_harrellsc: 0.4825\n",
      "Epoch 82/100\n",
      "19/19 [==============================] - 0s 14ms/step - loss: 21.9458 - risk_loss: 21.9458 - risk_harrellsc: 0.5602 - val_loss: 30.7789 - val_risk_loss: 30.7789 - val_risk_harrellsc: 0.4825\n",
      "Epoch 83/100\n",
      "19/19 [==============================] - 0s 14ms/step - loss: 21.9434 - risk_loss: 21.9434 - risk_harrellsc: 0.5602 - val_loss: 30.7862 - val_risk_loss: 30.7862 - val_risk_harrellsc: 0.4830\n",
      "Epoch 84/100\n",
      "19/19 [==============================] - 0s 15ms/step - loss: 21.9410 - risk_loss: 21.9410 - risk_harrellsc: 0.5607 - val_loss: 30.7935 - val_risk_loss: 30.7935 - val_risk_harrellsc: 0.4830\n",
      "Epoch 85/100\n",
      "19/19 [==============================] - 0s 14ms/step - loss: 21.9387 - risk_loss: 21.9387 - risk_harrellsc: 0.5607 - val_loss: 30.8009 - val_risk_loss: 30.8009 - val_risk_harrellsc: 0.4830\n",
      "Epoch 86/100\n",
      "19/19 [==============================] - 0s 14ms/step - loss: 21.9362 - risk_loss: 21.9362 - risk_harrellsc: 0.5609 - val_loss: 30.8084 - val_risk_loss: 30.8084 - val_risk_harrellsc: 0.4830\n",
      "Epoch 87/100\n",
      "19/19 [==============================] - 0s 14ms/step - loss: 21.9336 - risk_loss: 21.9336 - risk_harrellsc: 0.5609 - val_loss: 30.8161 - val_risk_loss: 30.8161 - val_risk_harrellsc: 0.4830\n",
      "Epoch 88/100\n",
      "19/19 [==============================] - 0s 18ms/step - loss: 21.9288 - risk_loss: 21.9288 - risk_harrellsc: 0.5612 - val_loss: 30.8241 - val_risk_loss: 30.8241 - val_risk_harrellsc: 0.4797\n",
      "Epoch 89/100\n",
      "19/19 [==============================] - 0s 14ms/step - loss: 21.9261 - risk_loss: 21.9261 - risk_harrellsc: 0.5612 - val_loss: 30.8326 - val_risk_loss: 30.8326 - val_risk_harrellsc: 0.4797\n",
      "Epoch 90/100\n",
      "19/19 [==============================] - 0s 15ms/step - loss: 21.9238 - risk_loss: 21.9238 - risk_harrellsc: 0.5601 - val_loss: 30.8417 - val_risk_loss: 30.8417 - val_risk_harrellsc: 0.4830\n",
      "Epoch 91/100\n",
      "19/19 [==============================] - 0s 15ms/step - loss: 21.9215 - risk_loss: 21.9215 - risk_harrellsc: 0.5599 - val_loss: 30.8508 - val_risk_loss: 30.8508 - val_risk_harrellsc: 0.4830\n",
      "Epoch 92/100\n",
      "19/19 [==============================] - 0s 18ms/step - loss: 21.9192 - risk_loss: 21.9192 - risk_harrellsc: 0.5588 - val_loss: 30.8600 - val_risk_loss: 30.8600 - val_risk_harrellsc: 0.4830\n",
      "Epoch 93/100\n",
      "19/19 [==============================] - 0s 14ms/step - loss: 21.9169 - risk_loss: 21.9169 - risk_harrellsc: 0.5588 - val_loss: 30.8688 - val_risk_loss: 30.8688 - val_risk_harrellsc: 0.4830\n",
      "Epoch 94/100\n",
      "19/19 [==============================] - 0s 16ms/step - loss: 21.9146 - risk_loss: 21.9146 - risk_harrellsc: 0.5588 - val_loss: 30.8776 - val_risk_loss: 30.8776 - val_risk_harrellsc: 0.4830\n",
      "Epoch 95/100\n",
      "19/19 [==============================] - 0s 14ms/step - loss: 21.9125 - risk_loss: 21.9125 - risk_harrellsc: 0.5588 - val_loss: 30.8860 - val_risk_loss: 30.8860 - val_risk_harrellsc: 0.4830\n",
      "Epoch 96/100\n",
      "19/19 [==============================] - 0s 16ms/step - loss: 21.9104 - risk_loss: 21.9104 - risk_harrellsc: 0.5588 - val_loss: 30.8942 - val_risk_loss: 30.8942 - val_risk_harrellsc: 0.4830\n",
      "Epoch 97/100\n",
      "19/19 [==============================] - 0s 14ms/step - loss: 21.9083 - risk_loss: 21.9083 - risk_harrellsc: 0.5590 - val_loss: 30.9025 - val_risk_loss: 30.9025 - val_risk_harrellsc: 0.4830\n",
      "Epoch 98/100\n",
      "19/19 [==============================] - 0s 14ms/step - loss: 21.9063 - risk_loss: 21.9063 - risk_harrellsc: 0.5590 - val_loss: 30.9110 - val_risk_loss: 30.9110 - val_risk_harrellsc: 0.4830\n",
      "Epoch 99/100\n",
      "19/19 [==============================] - 0s 14ms/step - loss: 21.9042 - risk_loss: 21.9042 - risk_harrellsc: 0.5575 - val_loss: 30.9193 - val_risk_loss: 30.9193 - val_risk_harrellsc: 0.4830\n",
      "Epoch 100/100\n",
      "19/19 [==============================] - 0s 15ms/step - loss: 21.9022 - risk_loss: 21.9022 - risk_harrellsc: 0.5575 - val_loss: 30.9275 - val_risk_loss: 30.9275 - val_risk_harrellsc: 0.4830\n"
     ]
    },
    {
     "data": {
      "application/vnd.plotly.v1+json": {
       "config": {
        "plotlyServerURL": "https://plot.ly"
       },
       "data": [
        {
         "mode": "lines",
         "name": "Train Loss",
         "type": "scatter",
         "x": [
          1,
          2,
          3,
          4,
          5,
          6,
          7,
          8,
          9,
          10,
          11,
          12,
          13,
          14,
          15,
          16,
          17,
          18,
          19,
          20,
          21,
          22,
          23,
          24,
          25,
          26,
          27,
          28,
          29,
          30,
          31,
          32,
          33,
          34,
          35,
          36,
          37,
          38,
          39,
          40,
          41,
          42,
          43,
          44,
          45,
          46,
          47,
          48,
          49,
          50,
          51,
          52,
          53,
          54,
          55,
          56,
          57,
          58,
          59,
          60,
          61,
          62,
          63,
          64,
          65,
          66,
          67,
          68,
          69,
          70,
          71,
          72,
          73,
          74,
          75,
          76,
          77,
          78,
          79,
          80,
          81,
          82,
          83,
          84,
          85,
          86,
          87,
          88,
          89,
          90,
          91,
          92,
          93,
          94,
          95,
          96,
          97,
          98,
          99,
          100
         ],
         "xaxis": "x",
         "y": [
          25.99772071838379,
          25.079673767089844,
          24.46649742126465,
          24.056224822998047,
          23.73051643371582,
          23.476930618286133,
          23.274723052978516,
          23.110403060913086,
          22.97573471069336,
          22.86341094970703,
          22.76900291442871,
          22.6900577545166,
          22.626264572143555,
          22.578414916992188,
          22.543174743652344,
          22.514284133911133,
          22.4884033203125,
          22.46419334411621,
          22.441165924072266,
          22.419212341308594,
          22.398273468017578,
          22.378280639648438,
          22.359201431274414,
          22.341054916381836,
          22.323741912841797,
          22.307231903076172,
          22.29155921936035,
          22.276592254638672,
          22.262298583984375,
          22.24861717224121,
          22.235525131225586,
          22.222959518432617,
          22.210912704467773,
          22.19938087463379,
          22.188322067260742,
          22.177717208862305,
          22.16750717163086,
          22.157703399658203,
          22.14830207824707,
          22.13926124572754,
          22.130556106567383,
          22.122180938720703,
          22.114124298095703,
          22.106359481811523,
          22.09880828857422,
          22.091636657714844,
          22.084657669067383,
          22.077909469604492,
          22.071388244628906,
          22.06509780883789,
          22.05902099609375,
          22.05312156677246,
          22.047399520874023,
          22.04186248779297,
          22.03650665283203,
          22.03133201599121,
          22.026308059692383,
          22.021448135375977,
          22.01682472229004,
          22.012365341186523,
          22.0080509185791,
          22.003881454467773,
          21.999847412109375,
          21.99592399597168,
          21.99214744567871,
          21.988710403442383,
          21.985435485839844,
          21.982284545898438,
          21.979246139526367,
          21.976299285888672,
          21.97345733642578,
          21.970685958862305,
          21.96798324584961,
          21.965349197387695,
          21.962814331054688,
          21.96034049987793,
          21.957897186279297,
          21.955480575561523,
          21.95307159423828,
          21.950637817382812,
          21.948219299316406,
          21.94580841064453,
          21.943405151367188,
          21.941001892089844,
          21.93865394592285,
          21.9361629486084,
          21.9335880279541,
          21.92879295349121,
          21.92612648010254,
          21.92378807067871,
          21.92148208618164,
          21.91920280456543,
          21.916902542114258,
          21.914596557617188,
          21.912494659423828,
          21.910381317138672,
          21.908323287963867,
          21.90628433227539,
          21.90423583984375,
          21.902225494384766
         ],
         "yaxis": "y"
        },
        {
         "mode": "lines",
         "name": "Validation Loss",
         "type": "scatter",
         "x": [
          1,
          2,
          3,
          4,
          5,
          6,
          7,
          8,
          9,
          10,
          11,
          12,
          13,
          14,
          15,
          16,
          17,
          18,
          19,
          20,
          21,
          22,
          23,
          24,
          25,
          26,
          27,
          28,
          29,
          30,
          31,
          32,
          33,
          34,
          35,
          36,
          37,
          38,
          39,
          40,
          41,
          42,
          43,
          44,
          45,
          46,
          47,
          48,
          49,
          50,
          51,
          52,
          53,
          54,
          55,
          56,
          57,
          58,
          59,
          60,
          61,
          62,
          63,
          64,
          65,
          66,
          67,
          68,
          69,
          70,
          71,
          72,
          73,
          74,
          75,
          76,
          77,
          78,
          79,
          80,
          81,
          82,
          83,
          84,
          85,
          86,
          87,
          88,
          89,
          90,
          91,
          92,
          93,
          94,
          95,
          96,
          97,
          98,
          99,
          100
         ],
         "xaxis": "x",
         "y": [
          32.01334762573242,
          31.800317764282227,
          31.61949920654297,
          31.885738372802734,
          31.79092025756836,
          31.686372756958008,
          31.60114097595215,
          31.526103973388672,
          31.465017318725586,
          31.419567108154297,
          31.384592056274414,
          31.353498458862305,
          31.326162338256836,
          31.30217170715332,
          31.28057289123535,
          31.259719848632812,
          31.238357543945312,
          31.216720581054688,
          31.195226669311523,
          31.173992156982422,
          31.153034210205078,
          31.13239097595215,
          31.112133026123047,
          31.09227752685547,
          31.072834014892578,
          31.053823471069336,
          31.03525733947754,
          31.017141342163086,
          30.99945831298828,
          30.982181549072266,
          30.965314865112305,
          30.94889259338379,
          30.93292999267578,
          30.917409896850586,
          30.902353286743164,
          30.887718200683594,
          30.873550415039062,
          30.859901428222656,
          30.84673309326172,
          30.83405303955078,
          30.82193374633789,
          30.81034278869629,
          30.799264907836914,
          30.788686752319336,
          30.778860092163086,
          30.769371032714844,
          30.76034164428711,
          30.751840591430664,
          30.743894577026367,
          30.736486434936523,
          30.729623794555664,
          30.723247528076172,
          30.717422485351562,
          30.712158203125,
          30.70746612548828,
          30.70332908630371,
          30.699750900268555,
          30.6967830657959,
          30.694400787353516,
          30.69257354736328,
          30.691287994384766,
          30.690521240234375,
          30.690265655517578,
          30.69046974182129,
          30.69145965576172,
          30.693500518798828,
          30.696094512939453,
          30.699140548706055,
          30.702638626098633,
          30.706541061401367,
          30.710878372192383,
          30.715576171875,
          30.720613479614258,
          30.725984573364258,
          30.731843948364258,
          30.737995147705078,
          30.74435806274414,
          30.750904083251953,
          30.75766372680664,
          30.764583587646484,
          30.771724700927734,
          30.7789249420166,
          30.78620147705078,
          30.79346466064453,
          30.800931930541992,
          30.80840301513672,
          30.816055297851562,
          30.824058532714844,
          30.832630157470703,
          30.841655731201172,
          30.850770950317383,
          30.85995101928711,
          30.868776321411133,
          30.877601623535156,
          30.886001586914062,
          30.89420509338379,
          30.902544021606445,
          30.910978317260742,
          30.919294357299805,
          30.92751693725586
         ],
         "yaxis": "y"
        },
        {
         "mode": "lines",
         "name": "Train Harrell's C",
         "type": "scatter",
         "x": [
          1,
          2,
          3,
          4,
          5,
          6,
          7,
          8,
          9,
          10,
          11,
          12,
          13,
          14,
          15,
          16,
          17,
          18,
          19,
          20,
          21,
          22,
          23,
          24,
          25,
          26,
          27,
          28,
          29,
          30,
          31,
          32,
          33,
          34,
          35,
          36,
          37,
          38,
          39,
          40,
          41,
          42,
          43,
          44,
          45,
          46,
          47,
          48,
          49,
          50,
          51,
          52,
          53,
          54,
          55,
          56,
          57,
          58,
          59,
          60,
          61,
          62,
          63,
          64,
          65,
          66,
          67,
          68,
          69,
          70,
          71,
          72,
          73,
          74,
          75,
          76,
          77,
          78,
          79,
          80,
          81,
          82,
          83,
          84,
          85,
          86,
          87,
          88,
          89,
          90,
          91,
          92,
          93,
          94,
          95,
          96,
          97,
          98,
          99,
          100
         ],
         "xaxis": "x2",
         "y": [
          0.527989585270597,
          0.5303143016551981,
          0.532360052073647,
          0.5335689045936396,
          0.5331969499721034,
          0.5337548819044077,
          0.5328249953505673,
          0.5326390180397992,
          0.532267063418263,
          0.532267063418263,
          0.5307792449321183,
          0.5337548819044077,
          0.5339408592151758,
          0.5330109726613353,
          0.5335689045936396,
          0.5326390180397992,
          0.5326390180397992,
          0.5330109726613353,
          0.5330109726613353,
          0.5304072903105821,
          0.5304072903105821,
          0.5305932676213502,
          0.5307792449321183,
          0.5292914264459736,
          0.5294774037567417,
          0.5296633810675098,
          0.5318951087967267,
          0.5318951087967267,
          0.5318951087967267,
          0.5320810861074949,
          0.5320810861074949,
          0.532267063418263,
          0.5320810861074949,
          0.5371024734982333,
          0.5371024734982333,
          0.5371024734982333,
          0.5371024734982333,
          0.5371024734982333,
          0.5372884508090013,
          0.545285475172029,
          0.545285475172029,
          0.5450994978612609,
          0.5486330667658545,
          0.5488190440766226,
          0.5488190440766226,
          0.5480751348335503,
          0.5465873163474056,
          0.5469592709689418,
          0.547331225590478,
          0.5477031802120141,
          0.55588618188581,
          0.5547703180212014,
          0.5547703180212014,
          0.5547703180212014,
          0.5549562953319696,
          0.5549562953319696,
          0.5545843407104333,
          0.5549562953319696,
          0.5549562953319696,
          0.5549562953319696,
          0.5534684768458248,
          0.5532824995350567,
          0.5529105449135205,
          0.5529105449135205,
          0.5536544541565929,
          0.5536544541565929,
          0.5623953877626929,
          0.5622094104519249,
          0.5614655012088525,
          0.5612795238980844,
          0.5614655012088525,
          0.5614655012088525,
          0.5616514785196206,
          0.5618374558303887,
          0.5618374558303887,
          0.5616514785196206,
          0.5618374558303887,
          0.5609075692765483,
          0.5607215919657802,
          0.5609075692765483,
          0.5609075692765483,
          0.560163660033476,
          0.560163660033476,
          0.5607215919657802,
          0.5607215919657802,
          0.5609075692765483,
          0.5609075692765483,
          0.5611865352427003,
          0.5611865352427003,
          0.5600706713780919,
          0.5598846940673238,
          0.5587688302027153,
          0.5587688302027153,
          0.5587688302027153,
          0.5587688302027153,
          0.5587688302027153,
          0.5589548075134834,
          0.5589548075134834,
          0.5574669890273387,
          0.5574669890273387
         ],
         "yaxis": "y2"
        },
        {
         "mode": "lines",
         "name": "Validation Harrell's C",
         "type": "scatter",
         "x": [
          1,
          2,
          3,
          4,
          5,
          6,
          7,
          8,
          9,
          10,
          11,
          12,
          13,
          14,
          15,
          16,
          17,
          18,
          19,
          20,
          21,
          22,
          23,
          24,
          25,
          26,
          27,
          28,
          29,
          30,
          31,
          32,
          33,
          34,
          35,
          36,
          37,
          38,
          39,
          40,
          41,
          42,
          43,
          44,
          45,
          46,
          47,
          48,
          49,
          50,
          51,
          52,
          53,
          54,
          55,
          56,
          57,
          58,
          59,
          60,
          61,
          62,
          63,
          64,
          65,
          66,
          67,
          68,
          69,
          70,
          71,
          72,
          73,
          74,
          75,
          76,
          77,
          78,
          79,
          80,
          81,
          82,
          83,
          84,
          85,
          86,
          87,
          88,
          89,
          90,
          91,
          92,
          93,
          94,
          95,
          96,
          97,
          98,
          99,
          100
         ],
         "xaxis": "x2",
         "y": [
          0.46190211345939935,
          0.460789766407119,
          0.4646829810901001,
          0.4485539488320356,
          0.4474416017797553,
          0.4435483870967742,
          0.4385428253615128,
          0.446329254727475,
          0.446329254727475,
          0.4468854282536151,
          0.4435483870967742,
          0.4435483870967742,
          0.4435483870967742,
          0.4435483870967742,
          0.4435483870967742,
          0.4435483870967742,
          0.4402113459399333,
          0.4402113459399333,
          0.4402113459399333,
          0.4402113459399333,
          0.4402113459399333,
          0.4402113459399333,
          0.4396551724137931,
          0.442992213570634,
          0.442992213570634,
          0.442992213570634,
          0.442992213570634,
          0.442992213570634,
          0.442992213570634,
          0.442992213570634,
          0.442992213570634,
          0.442992213570634,
          0.4424360400444939,
          0.4424360400444939,
          0.4418798665183537,
          0.4418798665183537,
          0.4418798665183537,
          0.43909899888765297,
          0.43909899888765297,
          0.4396551724137931,
          0.43909899888765297,
          0.442992213570634,
          0.4435483870967742,
          0.4435483870967742,
          0.4435483870967742,
          0.4435483870967742,
          0.4446607341490545,
          0.4446607341490545,
          0.4446607341490545,
          0.44799777530589546,
          0.44799777530589546,
          0.44799777530589546,
          0.44799777530589546,
          0.44799777530589546,
          0.44799777530589546,
          0.44799777530589546,
          0.47525027808676307,
          0.47580645161290325,
          0.47580645161290325,
          0.47580645161290325,
          0.47580645161290325,
          0.47914349276974416,
          0.47914349276974416,
          0.47914349276974416,
          0.47914349276974416,
          0.47914349276974416,
          0.478587319243604,
          0.478587319243604,
          0.478587319243604,
          0.478587319243604,
          0.478587319243604,
          0.478587319243604,
          0.478587319243604,
          0.478587319243604,
          0.47914349276974416,
          0.47914349276974416,
          0.47914349276974416,
          0.47914349276974416,
          0.4824805339265851,
          0.4824805339265851,
          0.4824805339265851,
          0.4824805339265851,
          0.48303670745272526,
          0.48303670745272526,
          0.48303670745272526,
          0.48303670745272526,
          0.48303670745272526,
          0.47969966629588434,
          0.47969966629588434,
          0.48303670745272526,
          0.48303670745272526,
          0.48303670745272526,
          0.48303670745272526,
          0.48303670745272526,
          0.48303670745272526,
          0.48303670745272526,
          0.48303670745272526,
          0.48303670745272526,
          0.48303670745272526,
          0.48303670745272526
         ],
         "yaxis": "y2"
        }
       ],
       "layout": {
        "annotations": [
         {
          "font": {
           "size": 16
          },
          "showarrow": false,
          "text": "Loss",
          "x": 0.225,
          "xanchor": "center",
          "xref": "paper",
          "y": 1,
          "yanchor": "bottom",
          "yref": "paper"
         },
         {
          "font": {
           "size": 16
          },
          "showarrow": false,
          "text": "Harrell's C",
          "x": 0.775,
          "xanchor": "center",
          "xref": "paper",
          "y": 1,
          "yanchor": "bottom",
          "yref": "paper"
         }
        ],
        "template": {
         "data": {
          "bar": [
           {
            "error_x": {
             "color": "#2a3f5f"
            },
            "error_y": {
             "color": "#2a3f5f"
            },
            "marker": {
             "line": {
              "color": "#E5ECF6",
              "width": 0.5
             },
             "pattern": {
              "fillmode": "overlay",
              "size": 10,
              "solidity": 0.2
             }
            },
            "type": "bar"
           }
          ],
          "barpolar": [
           {
            "marker": {
             "line": {
              "color": "#E5ECF6",
              "width": 0.5
             },
             "pattern": {
              "fillmode": "overlay",
              "size": 10,
              "solidity": 0.2
             }
            },
            "type": "barpolar"
           }
          ],
          "carpet": [
           {
            "aaxis": {
             "endlinecolor": "#2a3f5f",
             "gridcolor": "white",
             "linecolor": "white",
             "minorgridcolor": "white",
             "startlinecolor": "#2a3f5f"
            },
            "baxis": {
             "endlinecolor": "#2a3f5f",
             "gridcolor": "white",
             "linecolor": "white",
             "minorgridcolor": "white",
             "startlinecolor": "#2a3f5f"
            },
            "type": "carpet"
           }
          ],
          "choropleth": [
           {
            "colorbar": {
             "outlinewidth": 0,
             "ticks": ""
            },
            "type": "choropleth"
           }
          ],
          "contour": [
           {
            "colorbar": {
             "outlinewidth": 0,
             "ticks": ""
            },
            "colorscale": [
             [
              0,
              "#0d0887"
             ],
             [
              0.1111111111111111,
              "#46039f"
             ],
             [
              0.2222222222222222,
              "#7201a8"
             ],
             [
              0.3333333333333333,
              "#9c179e"
             ],
             [
              0.4444444444444444,
              "#bd3786"
             ],
             [
              0.5555555555555556,
              "#d8576b"
             ],
             [
              0.6666666666666666,
              "#ed7953"
             ],
             [
              0.7777777777777778,
              "#fb9f3a"
             ],
             [
              0.8888888888888888,
              "#fdca26"
             ],
             [
              1,
              "#f0f921"
             ]
            ],
            "type": "contour"
           }
          ],
          "contourcarpet": [
           {
            "colorbar": {
             "outlinewidth": 0,
             "ticks": ""
            },
            "type": "contourcarpet"
           }
          ],
          "heatmap": [
           {
            "colorbar": {
             "outlinewidth": 0,
             "ticks": ""
            },
            "colorscale": [
             [
              0,
              "#0d0887"
             ],
             [
              0.1111111111111111,
              "#46039f"
             ],
             [
              0.2222222222222222,
              "#7201a8"
             ],
             [
              0.3333333333333333,
              "#9c179e"
             ],
             [
              0.4444444444444444,
              "#bd3786"
             ],
             [
              0.5555555555555556,
              "#d8576b"
             ],
             [
              0.6666666666666666,
              "#ed7953"
             ],
             [
              0.7777777777777778,
              "#fb9f3a"
             ],
             [
              0.8888888888888888,
              "#fdca26"
             ],
             [
              1,
              "#f0f921"
             ]
            ],
            "type": "heatmap"
           }
          ],
          "heatmapgl": [
           {
            "colorbar": {
             "outlinewidth": 0,
             "ticks": ""
            },
            "colorscale": [
             [
              0,
              "#0d0887"
             ],
             [
              0.1111111111111111,
              "#46039f"
             ],
             [
              0.2222222222222222,
              "#7201a8"
             ],
             [
              0.3333333333333333,
              "#9c179e"
             ],
             [
              0.4444444444444444,
              "#bd3786"
             ],
             [
              0.5555555555555556,
              "#d8576b"
             ],
             [
              0.6666666666666666,
              "#ed7953"
             ],
             [
              0.7777777777777778,
              "#fb9f3a"
             ],
             [
              0.8888888888888888,
              "#fdca26"
             ],
             [
              1,
              "#f0f921"
             ]
            ],
            "type": "heatmapgl"
           }
          ],
          "histogram": [
           {
            "marker": {
             "pattern": {
              "fillmode": "overlay",
              "size": 10,
              "solidity": 0.2
             }
            },
            "type": "histogram"
           }
          ],
          "histogram2d": [
           {
            "colorbar": {
             "outlinewidth": 0,
             "ticks": ""
            },
            "colorscale": [
             [
              0,
              "#0d0887"
             ],
             [
              0.1111111111111111,
              "#46039f"
             ],
             [
              0.2222222222222222,
              "#7201a8"
             ],
             [
              0.3333333333333333,
              "#9c179e"
             ],
             [
              0.4444444444444444,
              "#bd3786"
             ],
             [
              0.5555555555555556,
              "#d8576b"
             ],
             [
              0.6666666666666666,
              "#ed7953"
             ],
             [
              0.7777777777777778,
              "#fb9f3a"
             ],
             [
              0.8888888888888888,
              "#fdca26"
             ],
             [
              1,
              "#f0f921"
             ]
            ],
            "type": "histogram2d"
           }
          ],
          "histogram2dcontour": [
           {
            "colorbar": {
             "outlinewidth": 0,
             "ticks": ""
            },
            "colorscale": [
             [
              0,
              "#0d0887"
             ],
             [
              0.1111111111111111,
              "#46039f"
             ],
             [
              0.2222222222222222,
              "#7201a8"
             ],
             [
              0.3333333333333333,
              "#9c179e"
             ],
             [
              0.4444444444444444,
              "#bd3786"
             ],
             [
              0.5555555555555556,
              "#d8576b"
             ],
             [
              0.6666666666666666,
              "#ed7953"
             ],
             [
              0.7777777777777778,
              "#fb9f3a"
             ],
             [
              0.8888888888888888,
              "#fdca26"
             ],
             [
              1,
              "#f0f921"
             ]
            ],
            "type": "histogram2dcontour"
           }
          ],
          "mesh3d": [
           {
            "colorbar": {
             "outlinewidth": 0,
             "ticks": ""
            },
            "type": "mesh3d"
           }
          ],
          "parcoords": [
           {
            "line": {
             "colorbar": {
              "outlinewidth": 0,
              "ticks": ""
             }
            },
            "type": "parcoords"
           }
          ],
          "pie": [
           {
            "automargin": true,
            "type": "pie"
           }
          ],
          "scatter": [
           {
            "fillpattern": {
             "fillmode": "overlay",
             "size": 10,
             "solidity": 0.2
            },
            "type": "scatter"
           }
          ],
          "scatter3d": [
           {
            "line": {
             "colorbar": {
              "outlinewidth": 0,
              "ticks": ""
             }
            },
            "marker": {
             "colorbar": {
              "outlinewidth": 0,
              "ticks": ""
             }
            },
            "type": "scatter3d"
           }
          ],
          "scattercarpet": [
           {
            "marker": {
             "colorbar": {
              "outlinewidth": 0,
              "ticks": ""
             }
            },
            "type": "scattercarpet"
           }
          ],
          "scattergeo": [
           {
            "marker": {
             "colorbar": {
              "outlinewidth": 0,
              "ticks": ""
             }
            },
            "type": "scattergeo"
           }
          ],
          "scattergl": [
           {
            "marker": {
             "colorbar": {
              "outlinewidth": 0,
              "ticks": ""
             }
            },
            "type": "scattergl"
           }
          ],
          "scattermapbox": [
           {
            "marker": {
             "colorbar": {
              "outlinewidth": 0,
              "ticks": ""
             }
            },
            "type": "scattermapbox"
           }
          ],
          "scatterpolar": [
           {
            "marker": {
             "colorbar": {
              "outlinewidth": 0,
              "ticks": ""
             }
            },
            "type": "scatterpolar"
           }
          ],
          "scatterpolargl": [
           {
            "marker": {
             "colorbar": {
              "outlinewidth": 0,
              "ticks": ""
             }
            },
            "type": "scatterpolargl"
           }
          ],
          "scatterternary": [
           {
            "marker": {
             "colorbar": {
              "outlinewidth": 0,
              "ticks": ""
             }
            },
            "type": "scatterternary"
           }
          ],
          "surface": [
           {
            "colorbar": {
             "outlinewidth": 0,
             "ticks": ""
            },
            "colorscale": [
             [
              0,
              "#0d0887"
             ],
             [
              0.1111111111111111,
              "#46039f"
             ],
             [
              0.2222222222222222,
              "#7201a8"
             ],
             [
              0.3333333333333333,
              "#9c179e"
             ],
             [
              0.4444444444444444,
              "#bd3786"
             ],
             [
              0.5555555555555556,
              "#d8576b"
             ],
             [
              0.6666666666666666,
              "#ed7953"
             ],
             [
              0.7777777777777778,
              "#fb9f3a"
             ],
             [
              0.8888888888888888,
              "#fdca26"
             ],
             [
              1,
              "#f0f921"
             ]
            ],
            "type": "surface"
           }
          ],
          "table": [
           {
            "cells": {
             "fill": {
              "color": "#EBF0F8"
             },
             "line": {
              "color": "white"
             }
            },
            "header": {
             "fill": {
              "color": "#C8D4E3"
             },
             "line": {
              "color": "white"
             }
            },
            "type": "table"
           }
          ]
         },
         "layout": {
          "annotationdefaults": {
           "arrowcolor": "#2a3f5f",
           "arrowhead": 0,
           "arrowwidth": 1
          },
          "autotypenumbers": "strict",
          "coloraxis": {
           "colorbar": {
            "outlinewidth": 0,
            "ticks": ""
           }
          },
          "colorscale": {
           "diverging": [
            [
             0,
             "#8e0152"
            ],
            [
             0.1,
             "#c51b7d"
            ],
            [
             0.2,
             "#de77ae"
            ],
            [
             0.3,
             "#f1b6da"
            ],
            [
             0.4,
             "#fde0ef"
            ],
            [
             0.5,
             "#f7f7f7"
            ],
            [
             0.6,
             "#e6f5d0"
            ],
            [
             0.7,
             "#b8e186"
            ],
            [
             0.8,
             "#7fbc41"
            ],
            [
             0.9,
             "#4d9221"
            ],
            [
             1,
             "#276419"
            ]
           ],
           "sequential": [
            [
             0,
             "#0d0887"
            ],
            [
             0.1111111111111111,
             "#46039f"
            ],
            [
             0.2222222222222222,
             "#7201a8"
            ],
            [
             0.3333333333333333,
             "#9c179e"
            ],
            [
             0.4444444444444444,
             "#bd3786"
            ],
            [
             0.5555555555555556,
             "#d8576b"
            ],
            [
             0.6666666666666666,
             "#ed7953"
            ],
            [
             0.7777777777777778,
             "#fb9f3a"
            ],
            [
             0.8888888888888888,
             "#fdca26"
            ],
            [
             1,
             "#f0f921"
            ]
           ],
           "sequentialminus": [
            [
             0,
             "#0d0887"
            ],
            [
             0.1111111111111111,
             "#46039f"
            ],
            [
             0.2222222222222222,
             "#7201a8"
            ],
            [
             0.3333333333333333,
             "#9c179e"
            ],
            [
             0.4444444444444444,
             "#bd3786"
            ],
            [
             0.5555555555555556,
             "#d8576b"
            ],
            [
             0.6666666666666666,
             "#ed7953"
            ],
            [
             0.7777777777777778,
             "#fb9f3a"
            ],
            [
             0.8888888888888888,
             "#fdca26"
            ],
            [
             1,
             "#f0f921"
            ]
           ]
          },
          "colorway": [
           "#636efa",
           "#EF553B",
           "#00cc96",
           "#ab63fa",
           "#FFA15A",
           "#19d3f3",
           "#FF6692",
           "#B6E880",
           "#FF97FF",
           "#FECB52"
          ],
          "font": {
           "color": "#2a3f5f"
          },
          "geo": {
           "bgcolor": "white",
           "lakecolor": "white",
           "landcolor": "#E5ECF6",
           "showlakes": true,
           "showland": true,
           "subunitcolor": "white"
          },
          "hoverlabel": {
           "align": "left"
          },
          "hovermode": "closest",
          "mapbox": {
           "style": "light"
          },
          "paper_bgcolor": "white",
          "plot_bgcolor": "#E5ECF6",
          "polar": {
           "angularaxis": {
            "gridcolor": "white",
            "linecolor": "white",
            "ticks": ""
           },
           "bgcolor": "#E5ECF6",
           "radialaxis": {
            "gridcolor": "white",
            "linecolor": "white",
            "ticks": ""
           }
          },
          "scene": {
           "xaxis": {
            "backgroundcolor": "#E5ECF6",
            "gridcolor": "white",
            "gridwidth": 2,
            "linecolor": "white",
            "showbackground": true,
            "ticks": "",
            "zerolinecolor": "white"
           },
           "yaxis": {
            "backgroundcolor": "#E5ECF6",
            "gridcolor": "white",
            "gridwidth": 2,
            "linecolor": "white",
            "showbackground": true,
            "ticks": "",
            "zerolinecolor": "white"
           },
           "zaxis": {
            "backgroundcolor": "#E5ECF6",
            "gridcolor": "white",
            "gridwidth": 2,
            "linecolor": "white",
            "showbackground": true,
            "ticks": "",
            "zerolinecolor": "white"
           }
          },
          "shapedefaults": {
           "line": {
            "color": "#2a3f5f"
           }
          },
          "ternary": {
           "aaxis": {
            "gridcolor": "white",
            "linecolor": "white",
            "ticks": ""
           },
           "baxis": {
            "gridcolor": "white",
            "linecolor": "white",
            "ticks": ""
           },
           "bgcolor": "#E5ECF6",
           "caxis": {
            "gridcolor": "white",
            "linecolor": "white",
            "ticks": ""
           }
          },
          "title": {
           "x": 0.05
          },
          "xaxis": {
           "automargin": true,
           "gridcolor": "white",
           "linecolor": "white",
           "ticks": "",
           "title": {
            "standoff": 15
           },
           "zerolinecolor": "white",
           "zerolinewidth": 2
          },
          "yaxis": {
           "automargin": true,
           "gridcolor": "white",
           "linecolor": "white",
           "ticks": "",
           "title": {
            "standoff": 15
           },
           "zerolinecolor": "white",
           "zerolinewidth": 2
          }
         }
        },
        "title": {
         "text": "model_att Fold 5 Training Metrics"
        },
        "xaxis": {
         "anchor": "y",
         "domain": [
          0,
          0.45
         ],
         "title": {
          "text": "Epoch"
         }
        },
        "xaxis2": {
         "anchor": "y2",
         "domain": [
          0.55,
          1
         ],
         "title": {
          "text": "Epoch"
         }
        },
        "yaxis": {
         "anchor": "x",
         "domain": [
          0,
          1
         ],
         "title": {
          "text": "Loss"
         }
        },
        "yaxis2": {
         "anchor": "x2",
         "domain": [
          0,
          1
         ],
         "title": {
          "text": "Harrell's C"
         }
        }
       }
      }
     },
     "metadata": {},
     "output_type": "display_data"
    }
   ],
   "source": [
    "# Split the data into train (80%), val (10%) and test (10%) sets\n",
    "data_size = data.shape[0]\n",
    "train_size = int(data_size * 0.9)\n",
    "indices = np.random.permutation(data_size)\n",
    "train_indices, test_indices = indices[:train_size], indices[train_size:]\n",
    "\n",
    "train_data = tf.gather(data, train_indices, axis=0)\n",
    "test_data = tf.gather(data, test_indices, axis=0)\n",
    "train_labels = tf.gather(labels, train_indices, axis=0)\n",
    "test_labels = tf.gather(labels, test_indices, axis=0)\n",
    "\n",
    "# Use KFold cross-validation on the train set\n",
    "perform_k_fold_cross_validation(train_data, train_labels, batch_size=64, n_splits=5, model_name='model_att')  # For model_att\n",
    "# perform_k_fold_cross_validation(train_data, train_labels, model_avg, n_splits=5, model_name='model_avg')  # For model_avg"
   ]
  },
  {
   "attachments": {},
   "cell_type": "markdown",
   "metadata": {},
   "source": [
    "### Evaluation ###"
   ]
  },
  {
   "cell_type": "code",
   "execution_count": 11,
   "metadata": {},
   "outputs": [
    {
     "ename": "NameError",
     "evalue": "name 'model' is not defined",
     "output_type": "error",
     "traceback": [
      "\u001b[0;31m---------------------------------------------------------------------------\u001b[0m",
      "\u001b[0;31mNameError\u001b[0m                                 Traceback (most recent call last)",
      "Cell \u001b[0;32mIn[11], line 22\u001b[0m\n\u001b[1;32m     13\u001b[0m     km_plot(\n\u001b[1;32m     14\u001b[0m         np\u001b[39m.\u001b[39marray(test_labels),\n\u001b[1;32m     15\u001b[0m         groups\u001b[39m=\u001b[39mrisk_groups,\n\u001b[0;32m   (...)\u001b[0m\n\u001b[1;32m     18\u001b[0m         legend\u001b[39m=\u001b[39m[\u001b[39m\"\u001b[39m\u001b[39mpredicted low risk\u001b[39m\u001b[39m\"\u001b[39m, \u001b[39m\"\u001b[39m\u001b[39mpredicted high risk\u001b[39m\u001b[39m\"\u001b[39m],\n\u001b[1;32m     19\u001b[0m     )\n\u001b[1;32m     21\u001b[0m \u001b[39m# Evaluate and plot Kaplan-Meier curve for model_att\u001b[39;00m\n\u001b[0;32m---> 22\u001b[0m evaluate_and_plot_kaplan_meier(model, test_data, test_labels, model_name\u001b[39m=\u001b[39m\u001b[39m'\u001b[39m\u001b[39mmodel_att\u001b[39m\u001b[39m'\u001b[39m)\n",
      "\u001b[0;31mNameError\u001b[0m: name 'model' is not defined"
     ]
    }
   ],
   "source": [
    "def evaluate_and_plot_kaplan_meier(model, test_data, test_labels, model_name):\n",
    "    if model_name == 'model_att':\n",
    "        risks, _ = model.predict(test_data)\n",
    "    elif model_name == 'model_avg':\n",
    "        risks = model.predict(test_data)\n",
    "    else:\n",
    "        raise ValueError(\"Invalid model_name. Choose from 'model_att' and 'model_avg'.\")\n",
    "\n",
    "    cindex = HarrellsC()\n",
    "    print(f\"{model_name} Testing c-index: {cindex(test_labels, risks):.3f}\")\n",
    "\n",
    "    risk_groups = np.squeeze(np.array(risks > np.median(risks), int)) + 1\n",
    "    km_plot(\n",
    "        np.array(test_labels),\n",
    "        groups=risk_groups,\n",
    "        xlabel=\"Time\",\n",
    "        ylabel=\"Survival probability\",\n",
    "        legend=[\"predicted low risk\", \"predicted high risk\"],\n",
    "    )\n",
    "\n",
    "# Evaluate and plot Kaplan-Meier curve for model_att\n",
    "evaluate_and_plot_kaplan_meier(model=, test_data, test_labels, model_name='model_att')\n",
    "\n",
    "# Evaluate and plot Kaplan-Meier curve for model_avg\n",
    "# evaluate_and_plot_kaplan_meier(model_avg, test_data, test_labels, model_name='model_avg')\n"
   ]
  }
 ],
 "metadata": {
  "colab": {
   "provenance": []
  },
  "kernelspec": {
   "display_name": "Python 3 (ipykernel)",
   "language": "python",
   "name": "python3"
  },
  "language_info": {
   "codemirror_mode": {
    "name": "ipython",
    "version": 3
   },
   "file_extension": ".py",
   "mimetype": "text/x-python",
   "name": "python",
   "nbconvert_exporter": "python",
   "pygments_lexer": "ipython3",
   "version": "3.8.16"
  }
 },
 "nbformat": 4,
 "nbformat_minor": 4
}
